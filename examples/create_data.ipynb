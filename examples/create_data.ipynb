{
 "cells": [
  {
   "cell_type": "code",
   "execution_count": 1,
   "metadata": {},
   "outputs": [],
   "source": [
    "%load_ext autoreload\n",
    "%autoreload 2"
   ]
  },
  {
   "cell_type": "code",
   "execution_count": 4,
   "metadata": {},
   "outputs": [],
   "source": [
    "from datasets import load_dataset, load_from_disk, Features, Value, ClassLabel, Sequence, Dataset\n",
    "from energizer.datastores.pandas import PandasDataStoreForSequenceClassification\n",
    "\n",
    "from transformers import AutoTokenizer\n",
    "from sentence_transformers import SentenceTransformer\n",
    "import srsly\n",
    "from pathlib import Path\n",
    "\n",
    "from energizer.datastores.pandas import sample\n",
    "from sklearn.utils import check_random_state\n",
    "from sklearn.manifold import TSNE, MDS\n",
    "import numpy as np\n",
    "import seaborn as sns\n",
    "\n",
    "data_dir = Path(\"../data\")"
   ]
  },
  {
   "cell_type": "markdown",
   "metadata": {},
   "source": [
    "---\n",
    "AGNEWS"
   ]
  },
  {
   "cell_type": "code",
   "execution_count": null,
   "metadata": {},
   "outputs": [],
   "source": [
    "dataset_dict = (\n",
    "    load_dataset(\"ag_news\")\n",
    "    .rename_columns({\"label\": \"labels\"})\n",
    "    .map(lambda ex: {\"embedding\": embedder.encode(ex[\"text\"], device=\"cuda\", batch_size=512)}, batched=True, batch_size=1024)\n",
    ")\n",
    "\n",
    "data_path = data_dir / \"processed\" / \"agnews\"\n",
    "dataset_dict.save_to_disk(data_path)\n",
    "srsly.write_json(data_path / \"index_metadata.json\", meta)"
   ]
  },
  {
   "cell_type": "code",
   "execution_count": null,
   "metadata": {},
   "outputs": [],
   "source": [
    "model_name = \"google/bert_uncased_L-2_H-128_A-2\"\n",
    "tokenizer = AutoTokenizer.from_pretrained(model_name)\n",
    "\n",
    "dataset_dict = load_from_disk(data_path).map(lambda ex: tokenizer(ex[\"text\"], return_token_type_ids=False), batched=True)\n",
    "\n",
    "data_path = data_dir / \"prepared\" / \"agnews_bert_tiny\"\n",
    "dataset_dict.save_to_disk(data_path)\n",
    "srsly.write_json(data_path / \"metadata.json\", {\"name_or_path\": model_name})"
   ]
  },
  {
   "cell_type": "code",
   "execution_count": 5,
   "metadata": {},
   "outputs": [
    {
     "name": "stderr",
     "output_type": "stream",
     "text": [
      "Loading cached processed dataset at /home/pl487/allset/data/processed/agnews/train/cache-9144a554b5bf98f0.arrow\n",
      "Loading cached processed dataset at /home/pl487/allset/data/processed/agnews/test/cache-ea336ed6e6612afe.arrow\n"
     ]
    },
    {
     "data": {
      "application/vnd.jupyter.widget-view+json": {
       "model_id": "973d1b6568de44bfafa3639af0bcbd04",
       "version_major": 2,
       "version_minor": 0
      },
      "text/plain": [
       "Saving the dataset (0/1 shards):   0%|          | 0/96000 [00:00<?, ? examples/s]"
      ]
     },
     "metadata": {},
     "output_type": "display_data"
    },
    {
     "data": {
      "application/vnd.jupyter.widget-view+json": {
       "model_id": "3fefa55304d64f498fdfe0686527b239",
       "version_major": 2,
       "version_minor": 0
      },
      "text/plain": [
       "Saving the dataset (0/1 shards):   0%|          | 0/7600 [00:00<?, ? examples/s]"
      ]
     },
     "metadata": {},
     "output_type": "display_data"
    }
   ],
   "source": [
    "features = Features(\n",
    "    {\n",
    "        'text': Value(dtype='string'),\n",
    "        'original_labels': ClassLabel(names=['World', 'Sports', 'Business', 'Sci/Tech']),\n",
    "        'embedding': Sequence(feature=Value(dtype='float32'), length=-1),\n",
    "        'labels': ClassLabel(names=['Others', 'World']),\n",
    "    }\n",
    ")\n",
    "\n",
    "data_path = data_dir / \"processed\" / \"agnews\"\n",
    "\n",
    "ds_dict = (\n",
    "    load_from_disk(data_path)\n",
    "    .rename_columns({\"labels\": \"original_labels\"})\n",
    "    .map(lambda ex: {\"labels\": [int(i == 0) for i in ex[\"original_labels\"]]}, batched=True, features=features)\n",
    ")\n",
    "\n",
    "# downsample the minority class\n",
    "df = ds_dict[\"train\"].to_pandas()\n",
    "rng = check_random_state(42)\n",
    "\n",
    "df[\"sampled\"] = False\n",
    "ids = df.loc[df[\"original_labels\"] == 0].sample(int(0.05 * len(df)), random_state=rng).index\n",
    "df.loc[df.index.isin(ids), \"sampled\"] = True\n",
    "new_df = df.loc[(df[\"labels\"] == 0) | (df[\"sampled\"] == True)].drop(columns=[\"sampled\"])\n",
    "\n",
    "ds_dict[\"train\"] = Dataset.from_pandas(new_df, features=features, preserve_index=False)\n",
    "ds_dict.save_to_disk(\"../data/processed/agnews_binarised\")"
   ]
  },
  {
   "cell_type": "code",
   "execution_count": 11,
   "metadata": {},
   "outputs": [
    {
     "data": {
      "application/vnd.jupyter.widget-view+json": {
       "model_id": "02bc867735c04f6e9949bb509d51e78d",
       "version_major": 2,
       "version_minor": 0
      },
      "text/plain": [
       "Map:   0%|          | 0/96000 [00:00<?, ? examples/s]"
      ]
     },
     "metadata": {},
     "output_type": "display_data"
    },
    {
     "name": "stderr",
     "output_type": "stream",
     "text": [
      "Loading cached processed dataset at /home/pl487/allset/data/processed/agnews/test/cache-33ea29df3c931399.arrow\n"
     ]
    },
    {
     "data": {
      "application/vnd.jupyter.widget-view+json": {
       "model_id": "c7aeb315181b445d9f903350c69d1478",
       "version_major": 2,
       "version_minor": 0
      },
      "text/plain": [
       "Saving the dataset (0/1 shards):   0%|          | 0/96000 [00:00<?, ? examples/s]"
      ]
     },
     "metadata": {},
     "output_type": "display_data"
    },
    {
     "data": {
      "application/vnd.jupyter.widget-view+json": {
       "model_id": "59b2f897936a4b4cb0cbd64f852ec11b",
       "version_major": 2,
       "version_minor": 0
      },
      "text/plain": [
       "Saving the dataset (0/1 shards):   0%|          | 0/7600 [00:00<?, ? examples/s]"
      ]
     },
     "metadata": {},
     "output_type": "display_data"
    }
   ],
   "source": [
    "model_name = \"google/bert_uncased_L-2_H-128_A-2\"\n",
    "tokenizer = AutoTokenizer.from_pretrained(model_name)\n",
    "\n",
    "ds_dict = ds_dict.map(lambda ex: tokenizer(ex[\"text\"], return_token_type_ids=False), batched=True)\n",
    "\n",
    "datastore = PandasDataStoreForSequenceClassification()\n",
    "datastore.from_dataset_dict(ds_dict, input_names=[\"input_ids\", \"attention_mask\"], target_name=\"labels\", tokenizer=tokenizer)\n",
    "datastore.add_index(\"embedding\", metric=\"l2\")\n",
    "datastore.save(data_dir / \"prepared\" / \"agnews_binarised_bert-tiny\")"
   ]
  },
  {
   "cell_type": "code",
   "execution_count": null,
   "metadata": {},
   "outputs": [],
   "source": [
    "ds = PandasDataStoreForSequenceClassification.load(data_dir / \"prepared\" / \"agnews_bert-tiny\")"
   ]
  },
  {
   "cell_type": "code",
   "execution_count": null,
   "metadata": {},
   "outputs": [],
   "source": [
    "query = ds.data.iloc[200]\n",
    "ids, _ = ds.search(query.embedding, 100)"
   ]
  },
  {
   "cell_type": "code",
   "execution_count": null,
   "metadata": {},
   "outputs": [],
   "source": [
    "print(f\"query:\\n   [{ds.id2label[query.labels]}] {query.text}\\nresults:\")\n",
    "print(\"   \" + \"\\n   \".join(ds.get_by_ids(ids[0])[[\"labels\", \"text\"]].apply(lambda ex: f\"[{ds.id2label[ex['labels']]}] {ex['text']}\", axis=1)))"
   ]
  },
  {
   "cell_type": "code",
   "execution_count": null,
   "metadata": {},
   "outputs": [],
   "source": [
    "ds = PandasDataStoreForSequenceClassification.load(\"./agnews_datastore\")"
   ]
  },
  {
   "cell_type": "code",
   "execution_count": null,
   "metadata": {},
   "outputs": [],
   "source": [
    "ds.input_names, ds.target_name, ds.on_cpu"
   ]
  },
  {
   "cell_type": "code",
   "execution_count": null,
   "metadata": {},
   "outputs": [],
   "source": [
    "datastore.input_names, datastore.target_name, datastore.on_cpu, datastore._features"
   ]
  },
  {
   "cell_type": "code",
   "execution_count": null,
   "metadata": {},
   "outputs": [],
   "source": [
    "ds.input_names, ds.target_name, ds.on_cpu, ds._features"
   ]
  },
  {
   "cell_type": "code",
   "execution_count": null,
   "metadata": {},
   "outputs": [],
   "source": [
    "datastore.label_distribution(), ds.label_distribution()"
   ]
  },
  {
   "cell_type": "code",
   "execution_count": null,
   "metadata": {},
   "outputs": [],
   "source": [
    "query = datastore.data.iloc[0]\n",
    "ids, dists = datastore.search(query[\"embedding\"], 10, query_in_set=True)\n",
    "\n",
    "print(f\"query: {query.text}\\nresults:\")\n",
    "print(\"  - \" + \"\\n  - \".join(datastore.get_by_ids(ids[0]).text))"
   ]
  },
  {
   "cell_type": "code",
   "execution_count": null,
   "metadata": {},
   "outputs": [],
   "source": [
    "query = ds.data.iloc[0]\n",
    "ids, dists = ds.search(query[\"embedding\"], 10, query_in_set=True)\n",
    "\n",
    "print(f\"query: {query.text}\\nresults:\")\n",
    "print(\"  - \" + \"\\n  - \".join(ds.get_by_ids(ids[0]).text))"
   ]
  },
  {
   "cell_type": "code",
   "execution_count": null,
   "metadata": {},
   "outputs": [],
   "source": [
    "datastore.labels, ds.labels"
   ]
  },
  {
   "cell_type": "code",
   "execution_count": null,
   "metadata": {},
   "outputs": [],
   "source": [
    "datastore.label2id, ds.label2id"
   ]
  },
  {
   "cell_type": "code",
   "execution_count": null,
   "metadata": {},
   "outputs": [],
   "source": [
    "datastore.train_dataset(), ds.train_dataset()"
   ]
  },
  {
   "cell_type": "code",
   "execution_count": null,
   "metadata": {},
   "outputs": [],
   "source": [
    "datastore.label(indices=[0, 1], round=1, validation_perc=0.5)\n",
    "ds.label(indices=[0, 1], round=1, validation_perc=0.5)"
   ]
  },
  {
   "cell_type": "code",
   "execution_count": null,
   "metadata": {},
   "outputs": [],
   "source": [
    "datastore.train_dataset(), datastore.train_dataset(0), ds.train_dataset(), ds.train_dataset(0)"
   ]
  },
  {
   "cell_type": "code",
   "execution_count": null,
   "metadata": {},
   "outputs": [],
   "source": [
    "datastore.pool_dataset(), datastore.pool_dataset(0), ds.pool_dataset(), ds.pool_dataset(0)"
   ]
  },
  {
   "cell_type": "code",
   "execution_count": null,
   "metadata": {},
   "outputs": [],
   "source": [
    "datastore.validation_dataset(), datastore.validation_dataset(0), ds.validation_dataset(), ds.validation_dataset(0)"
   ]
  },
  {
   "cell_type": "code",
   "execution_count": null,
   "metadata": {},
   "outputs": [],
   "source": [
    "datastore.test_dataset(), ds.test_dataset()"
   ]
  },
  {
   "cell_type": "code",
   "execution_count": null,
   "metadata": {},
   "outputs": [],
   "source": [
    "datastore.prepare_for_loading(), ds.prepare_for_loading()"
   ]
  },
  {
   "cell_type": "code",
   "execution_count": null,
   "metadata": {},
   "outputs": [],
   "source": [
    "datastore.show_batch(), ds.show_batch()"
   ]
  },
  {
   "cell_type": "code",
   "execution_count": null,
   "metadata": {},
   "outputs": [],
   "source": []
  }
 ],
 "metadata": {
  "kernelspec": {
   "display_name": "energizer",
   "language": "python",
   "name": "python3"
  },
  "language_info": {
   "codemirror_mode": {
    "name": "ipython",
    "version": 3
   },
   "file_extension": ".py",
   "mimetype": "text/x-python",
   "name": "python",
   "nbconvert_exporter": "python",
   "pygments_lexer": "ipython3",
   "version": "3.9.16"
  },
  "orig_nbformat": 4
 },
 "nbformat": 4,
 "nbformat_minor": 2
}
