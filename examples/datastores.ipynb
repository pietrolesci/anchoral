{
 "cells": [
  {
   "cell_type": "code",
   "execution_count": null,
   "metadata": {},
   "outputs": [],
   "source": [
    "tweet_eval\n",
    "amazon_us_reviews\n",
    "amazon_polarity\n",
    "yelp_review_full\n",
    "dbpedia_14\n",
    "quora\n",
    "jigsaw_toxicity_pred\n",
    "carblacac/twitter-sentiment-analysis\n",
    "OxAISH-AL-LLM/wiki_toxic\n",
    "tals/vitaminc\n",
    "https://github.com/Franck-Dernoncourt/pubmed-rct"
   ]
  },
  {
   "cell_type": "code",
   "execution_count": null,
   "metadata": {},
   "outputs": [],
   "source": [
    "categories = {\n",
    "    \"books\": [\"Books_v1_02\", \"Digital_Ebook_Purchase_v1_01\"],\n",
    "    \"movie/tv\": [\"Video\", \"Video DVD\", \"Digital_Video_Download\"]\n",
    "}\n"
   ]
  },
  {
   "cell_type": "code",
   "execution_count": null,
   "metadata": {},
   "outputs": [],
   "source": []
  },
  {
   "cell_type": "code",
   "execution_count": null,
   "metadata": {},
   "outputs": [],
   "source": [
    "a = load_dataset(\"amazon_polarity\")"
   ]
  },
  {
   "cell_type": "code",
   "execution_count": null,
   "metadata": {},
   "outputs": [],
   "source": []
  },
  {
   "cell_type": "code",
   "execution_count": null,
   "metadata": {},
   "outputs": [],
   "source": []
  },
  {
   "cell_type": "code",
   "execution_count": 1,
   "metadata": {},
   "outputs": [],
   "source": [
    "%load_ext autoreload\n",
    "%autoreload 2"
   ]
  },
  {
   "cell_type": "code",
   "execution_count": 2,
   "metadata": {},
   "outputs": [],
   "source": [
    "from datasets import load_dataset, load_from_disk\n",
    "from energizer.datastores.pandas import PandasDataStoreForSequenceClassification\n",
    "\n",
    "from transformers import AutoTokenizer\n",
    "from sentence_transformers import SentenceTransformer\n",
    "import srsly\n",
    "from pathlib import Path\n",
    "\n",
    "from energizer.datastores.pandas import sample\n",
    "from sklearn.utils import check_random_state\n",
    "from sklearn.manifold import TSNE, MDS\n",
    "import numpy as np\n",
    "import seaborn as sns"
   ]
  },
  {
   "cell_type": "code",
   "execution_count": null,
   "metadata": {},
   "outputs": [],
   "source": [
    "ds = load_dataset(\"civil_comments\")"
   ]
  },
  {
   "cell_type": "code",
   "execution_count": null,
   "metadata": {},
   "outputs": [],
   "source": [
    "df = ds[\"train\"].to_pandas()"
   ]
  },
  {
   "cell_type": "code",
   "execution_count": null,
   "metadata": {},
   "outputs": [],
   "source": [
    "l = df[\"text\"].str.len()"
   ]
  },
  {
   "cell_type": "code",
   "execution_count": null,
   "metadata": {},
   "outputs": [],
   "source": [
    "df.loc[(l < 10)]"
   ]
  },
  {
   "cell_type": "code",
   "execution_count": null,
   "metadata": {},
   "outputs": [],
   "source": [
    "df[\"labels\"] = (df[\"toxicity\"] > 0.5).astype(\"int\")"
   ]
  },
  {
   "cell_type": "code",
   "execution_count": null,
   "metadata": {},
   "outputs": [],
   "source": [
    "df.loc[l > 10, \"labels\"].value_counts(normalize=True)"
   ]
  },
  {
   "cell_type": "code",
   "execution_count": null,
   "metadata": {},
   "outputs": [],
   "source": []
  },
  {
   "cell_type": "code",
   "execution_count": null,
   "metadata": {},
   "outputs": [],
   "source": [
    "test_df = ds[\"test\"].to_pandas()\n",
    "test_df[\"labels\"] = (test_df[\"toxicity\"] > 0.5).astype(\"int\")"
   ]
  },
  {
   "cell_type": "code",
   "execution_count": null,
   "metadata": {},
   "outputs": [],
   "source": [
    "test_df[\"labels\"].value_counts()"
   ]
  },
  {
   "cell_type": "code",
   "execution_count": null,
   "metadata": {},
   "outputs": [],
   "source": [
    "test_df[\"text\"].str.len().hist()"
   ]
  },
  {
   "cell_type": "code",
   "execution_count": null,
   "metadata": {},
   "outputs": [],
   "source": []
  },
  {
   "cell_type": "code",
   "execution_count": null,
   "metadata": {},
   "outputs": [],
   "source": []
  },
  {
   "cell_type": "code",
   "execution_count": null,
   "metadata": {},
   "outputs": [],
   "source": [
    "dataset_dict = load_from_disk(\"../data/processed/agnews/\")\n",
    "df = dataset_dict[\"train\"].to_pandas()"
   ]
  },
  {
   "cell_type": "code",
   "execution_count": null,
   "metadata": {},
   "outputs": [],
   "source": [
    "rng = check_random_state(42)\n",
    "ids = sample(indices=df.index.tolist(), size=10_000, random_state=rng, labels=df[\"labels\"].tolist(), sampling=\"stratified\")\n",
    "samples = df.loc[df.index.isin(ids), [\"labels\", \"embedding\"]]"
   ]
  },
  {
   "cell_type": "code",
   "execution_count": null,
   "metadata": {},
   "outputs": [],
   "source": [
    "import umap\n",
    "umap = umap.UMAP(\n",
    "    n_neighbors=30,\n",
    "    min_dist=0.3,\n",
    "    metric='euclidean',\n",
    "    random_state=rng,\n",
    ")\n",
    "mapper = umap.fit(np.stack(samples.embedding.values))"
   ]
  },
  {
   "cell_type": "code",
   "execution_count": null,
   "metadata": {},
   "outputs": [],
   "source": [
    "umap_proj = umap.transform(np.stack(df.embedding.values))"
   ]
  },
  {
   "cell_type": "code",
   "execution_count": null,
   "metadata": {},
   "outputs": [],
   "source": [
    "sns.scatterplot(x=umap_proj[:, 0], y=umap_proj[:, 1], hue=df.labels)"
   ]
  },
  {
   "cell_type": "code",
   "execution_count": null,
   "metadata": {},
   "outputs": [],
   "source": []
  },
  {
   "cell_type": "code",
   "execution_count": null,
   "metadata": {},
   "outputs": [],
   "source": [
    "model_name = \"all-mpnet-base-v2\"\n",
    "embedder = SentenceTransformer(model_name)\n",
    "\n",
    "meta = {\n",
    "    \"embedding_model\": model_name,\n",
    "    \"embedding_dimension\": embedder.get_sentence_embedding_dimension(),\n",
    "}\n",
    "\n",
    "data_dir = Path(\"../data\")"
   ]
  },
  {
   "attachments": {},
   "cell_type": "markdown",
   "metadata": {},
   "source": [
    "---\n",
    "AGNEWS"
   ]
  },
  {
   "cell_type": "code",
   "execution_count": null,
   "metadata": {},
   "outputs": [],
   "source": [
    "dataset_dict = (\n",
    "    load_dataset(\"ag_news\")\n",
    "    .rename_columns({\"label\": \"labels\"})\n",
    "    .map(lambda ex: {\"embedding\": embedder.encode(ex[\"text\"], device=\"cuda\", batch_size=512)}, batched=True, batch_size=1024)\n",
    ")\n",
    "\n",
    "data_path = data_dir / \"processed\" / \"agnews\"\n",
    "dataset_dict.save_to_disk(data_path)\n",
    "srsly.write_json(data_path / \"index_metadata.json\", meta)"
   ]
  },
  {
   "cell_type": "code",
   "execution_count": null,
   "metadata": {},
   "outputs": [],
   "source": [
    "model_name = \"google/bert_uncased_L-2_H-128_A-2\"\n",
    "tokenizer = AutoTokenizer.from_pretrained(model_name)\n",
    "\n",
    "dataset_dict = load_from_disk(data_path).map(lambda ex: tokenizer(ex[\"text\"], return_token_type_ids=False), batched=True)\n",
    "\n",
    "data_path = data_dir / \"prepared\" / \"agnews_bert_tiny\"\n",
    "dataset_dict.save_to_disk(data_path)\n",
    "srsly.write_json(data_path / \"metadata.json\", {\"name_or_path\": model_name})"
   ]
  },
  {
   "cell_type": "code",
   "execution_count": null,
   "metadata": {},
   "outputs": [],
   "source": [
    "load_from_disk"
   ]
  },
  {
   "cell_type": "code",
   "execution_count": null,
   "metadata": {},
   "outputs": [],
   "source": []
  },
  {
   "cell_type": "code",
   "execution_count": null,
   "metadata": {},
   "outputs": [],
   "source": [
    "datastore = PandasDataStoreForSequenceClassification()\n",
    "datastore.from_dataset_dict(dataset_dict, input_names=[\"input_ids\", \"attention_mask\"], target_name=\"labels\", tokenizer=tokenizer)\n",
    "datastore.add_index(\"embedding\", metric=\"l2\")\n",
    "datastore.save(data_dir / \"prepared\" / \"agnews_bert-tiny\")"
   ]
  },
  {
   "cell_type": "code",
   "execution_count": null,
   "metadata": {},
   "outputs": [],
   "source": [
    "ds = PandasDataStoreForSequenceClassification.load(data_dir / \"prepared\" / \"agnews_bert-tiny\")"
   ]
  },
  {
   "cell_type": "code",
   "execution_count": null,
   "metadata": {},
   "outputs": [],
   "source": [
    "query = ds.data.iloc[200]\n",
    "ids, _ = ds.search(query.embedding, 100)"
   ]
  },
  {
   "cell_type": "code",
   "execution_count": null,
   "metadata": {},
   "outputs": [],
   "source": [
    "print(f\"query:\\n   [{ds.id2label[query.labels]}] {query.text}\\nresults:\")\n",
    "print(\"   \" + \"\\n   \".join(ds.get_by_ids(ids[0])[[\"labels\", \"text\"]].apply(lambda ex: f\"[{ds.id2label[ex['labels']]}] {ex['text']}\", axis=1)))"
   ]
  },
  {
   "cell_type": "code",
   "execution_count": null,
   "metadata": {},
   "outputs": [],
   "source": [
    "ds = PandasDataStoreForSequenceClassification.load(\"./agnews_datastore\")"
   ]
  },
  {
   "cell_type": "code",
   "execution_count": null,
   "metadata": {},
   "outputs": [],
   "source": [
    "ds.input_names, ds.target_name, ds.on_cpu"
   ]
  },
  {
   "cell_type": "code",
   "execution_count": null,
   "metadata": {},
   "outputs": [],
   "source": [
    "datastore.input_names, datastore.target_name, datastore.on_cpu, datastore._features"
   ]
  },
  {
   "cell_type": "code",
   "execution_count": null,
   "metadata": {},
   "outputs": [],
   "source": [
    "ds.input_names, ds.target_name, ds.on_cpu, ds._features"
   ]
  },
  {
   "cell_type": "code",
   "execution_count": null,
   "metadata": {},
   "outputs": [],
   "source": [
    "datastore.label_distribution(), ds.label_distribution()"
   ]
  },
  {
   "cell_type": "code",
   "execution_count": null,
   "metadata": {},
   "outputs": [],
   "source": [
    "query = datastore.data.iloc[0]\n",
    "ids, dists = datastore.search(query[\"embedding\"], 10, query_in_set=True)\n",
    "\n",
    "print(f\"query: {query.text}\\nresults:\")\n",
    "print(\"  - \" + \"\\n  - \".join(datastore.get_by_ids(ids[0]).text))"
   ]
  },
  {
   "cell_type": "code",
   "execution_count": null,
   "metadata": {},
   "outputs": [],
   "source": [
    "query = ds.data.iloc[0]\n",
    "ids, dists = ds.search(query[\"embedding\"], 10, query_in_set=True)\n",
    "\n",
    "print(f\"query: {query.text}\\nresults:\")\n",
    "print(\"  - \" + \"\\n  - \".join(ds.get_by_ids(ids[0]).text))"
   ]
  },
  {
   "cell_type": "code",
   "execution_count": null,
   "metadata": {},
   "outputs": [],
   "source": [
    "datastore.labels, ds.labels"
   ]
  },
  {
   "cell_type": "code",
   "execution_count": null,
   "metadata": {},
   "outputs": [],
   "source": [
    "datastore.label2id, ds.label2id"
   ]
  },
  {
   "cell_type": "code",
   "execution_count": null,
   "metadata": {},
   "outputs": [],
   "source": [
    "datastore.train_dataset(), ds.train_dataset()"
   ]
  },
  {
   "cell_type": "code",
   "execution_count": null,
   "metadata": {},
   "outputs": [],
   "source": [
    "datastore.label(indices=[0, 1], round=1, validation_perc=0.5)\n",
    "ds.label(indices=[0, 1], round=1, validation_perc=0.5)"
   ]
  },
  {
   "cell_type": "code",
   "execution_count": null,
   "metadata": {},
   "outputs": [],
   "source": [
    "datastore.train_dataset(), datastore.train_dataset(0), ds.train_dataset(), ds.train_dataset(0)"
   ]
  },
  {
   "cell_type": "code",
   "execution_count": null,
   "metadata": {},
   "outputs": [],
   "source": [
    "datastore.pool_dataset(), datastore.pool_dataset(0), ds.pool_dataset(), ds.pool_dataset(0)"
   ]
  },
  {
   "cell_type": "code",
   "execution_count": null,
   "metadata": {},
   "outputs": [],
   "source": [
    "datastore.validation_dataset(), datastore.validation_dataset(0), ds.validation_dataset(), ds.validation_dataset(0)"
   ]
  },
  {
   "cell_type": "code",
   "execution_count": null,
   "metadata": {},
   "outputs": [],
   "source": [
    "datastore.test_dataset(), ds.test_dataset()"
   ]
  },
  {
   "cell_type": "code",
   "execution_count": null,
   "metadata": {},
   "outputs": [],
   "source": [
    "datastore.prepare_for_loading(), ds.prepare_for_loading()"
   ]
  },
  {
   "cell_type": "code",
   "execution_count": null,
   "metadata": {},
   "outputs": [],
   "source": [
    "datastore.show_batch(), ds.show_batch()"
   ]
  },
  {
   "cell_type": "code",
   "execution_count": null,
   "metadata": {},
   "outputs": [],
   "source": []
  }
 ],
 "metadata": {
  "kernelspec": {
   "display_name": "energizer",
   "language": "python",
   "name": "python3"
  },
  "language_info": {
   "codemirror_mode": {
    "name": "ipython",
    "version": 3
   },
   "file_extension": ".py",
   "mimetype": "text/x-python",
   "name": "python",
   "nbconvert_exporter": "python",
   "pygments_lexer": "ipython3",
   "version": "3.9.16"
  },
  "orig_nbformat": 4
 },
 "nbformat": 4,
 "nbformat_minor": 2
}
