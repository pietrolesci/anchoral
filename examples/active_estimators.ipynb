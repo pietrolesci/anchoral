{
 "cells": [
  {
   "cell_type": "code",
   "execution_count": 1,
   "metadata": {},
   "outputs": [],
   "source": [
    "%load_ext autoreload\n",
    "%autoreload 2"
   ]
  },
  {
   "cell_type": "code",
   "execution_count": 2,
   "metadata": {},
   "outputs": [],
   "source": [
    "from energizer.datastores import PandasDataStoreForSequenceClassification\n",
    "from energizer.estimators.estimator import Estimator\n",
    "from transformers import AutoModelForSequenceClassification\n",
    "from typing import Dict, List\n",
    "import torch\n",
    "from torchmetrics import MetricCollection\n",
    "from torchmetrics.classification import Accuracy, F1Score, Precision, Recall\n",
    "from transformers import AutoModelForSequenceClassification\n",
    "from energizer.enums import InputKeys, OutputKeys, RunningStage\n",
    "import numpy as np\n",
    "from energizer.utilities import move_to_cpu\n",
    "from lightning.fabric.loggers import TensorBoardLogger\n",
    "from lightning.fabric import seed_everything\n",
    "from energizer.callbacks import GradNorm, PytorchTensorboardProfiler, EarlyStopping, ModelCheckpoint\n",
    "from energizer.strategies import RandomStrategy, UncertaintyBasedStrategy\n",
    "from energizer.strategies.random import RandomStrategySEALS\n",
    "from energizer.strategies.uncertainty import UncertaintyBasedStrategySEALS"
   ]
  },
  {
   "cell_type": "code",
   "execution_count": 3,
   "metadata": {},
   "outputs": [
    {
     "data": {
      "text/plain": [
       "{'input_ids': tensor([[  101, 10069,  2005,  1056,  1050, 11550,  2044,  7566,  9209,  5052,\n",
       "           3667,  2012,  6769,  2047,  8095,  2360,  2027,  2024,  1005,  9364,\n",
       "           1005,  2044,  7566,  2007, 16654,  6687,  3813,  2976,  9587, 24848,\n",
       "           1012,   102]]),\n",
       " 'attention_mask': tensor([[1, 1, 1, 1, 1, 1, 1, 1, 1, 1, 1, 1, 1, 1, 1, 1, 1, 1, 1, 1, 1, 1, 1, 1,\n",
       "          1, 1, 1, 1, 1, 1, 1, 1]]),\n",
       " 'labels': tensor([0]),\n",
       " <InputKeys.ON_CPU: 'on_cpu'>: {}}"
      ]
     },
     "execution_count": 3,
     "metadata": {},
     "output_type": "execute_result"
    }
   ],
   "source": [
    "ds = PandasDataStoreForSequenceClassification.load(\"../data/prepared/agnews_binarised_bert-tiny/\")\n",
    "ds.show_batch(\"test\")"
   ]
  },
  {
   "cell_type": "code",
   "execution_count": 4,
   "metadata": {},
   "outputs": [],
   "source": [
    "class EstimatorForSequenceClassification(Estimator):\n",
    "\n",
    "    def train_step(self, model, batch, batch_idx, loss_fn, metrics: MetricCollection) -> Dict:\n",
    "        return self.step(model, batch, metrics, RunningStage.TRAIN)\n",
    "\n",
    "    def validation_step(self, model, batch, batch_idx, loss_fn, metrics: MetricCollection) -> Dict:\n",
    "        return self.step(model, batch, metrics, RunningStage.VALIDATION)\n",
    "\n",
    "    def test_step(self, model, batch, batch_idx, loss_fn, metrics: MetricCollection) -> Dict:\n",
    "        return self.step(model, batch, metrics, RunningStage.TEST)\n",
    "    \n",
    "    def train_epoch_end(self, output: List[np.ndarray], metrics: MetricCollection) -> Dict:\n",
    "        return self.epoch_end(output, metrics, RunningStage.TRAIN)\n",
    "\n",
    "    def validation_epoch_end(self, output: List[np.ndarray], metrics: MetricCollection) -> Dict:\n",
    "        return self.epoch_end(output, metrics, RunningStage.VALIDATION)\n",
    "\n",
    "    def test_epoch_end(self, output: List[np.ndarray], metrics: MetricCollection) -> Dict:\n",
    "        return self.epoch_end(output, metrics, RunningStage.TEST)\n",
    "\n",
    "    def step(self, model, batch: Dict, metrics: MetricCollection, stage: RunningStage) -> torch.Tensor:\n",
    "        _ = batch.pop(InputKeys.ON_CPU, None)\n",
    "\n",
    "        out = model(**batch)\n",
    "        out_metrics = metrics(out.logits, batch[InputKeys.TARGET])\n",
    "\n",
    "        if stage == RunningStage.TRAIN:\n",
    "            logs = {OutputKeys.LOSS: out.loss, **out_metrics}\n",
    "            self.log_dict({f\"{stage}/{k}\": v for k, v in logs.items()}, step=self.progress_tracker.global_batch)\n",
    "\n",
    "        return out.loss\n",
    "    \n",
    "    def epoch_end(self, output: List[np.ndarray], metrics: MetricCollection, stage: RunningStage) -> float:\n",
    "        aggregated_metrics = move_to_cpu(metrics.compute())  # NOTE: metrics are still on device\n",
    "        aggregated_loss = round(np.mean(output).item(), 6)\n",
    "        \n",
    "        logs = {OutputKeys.LOSS: aggregated_loss, **aggregated_metrics}\n",
    "        self.log_dict({f\"{stage}_end/{k}\": v for k, v in logs.items()}, step=self.progress_tracker.safe_global_epoch)\n",
    "\n",
    "        return aggregated_metrics\n",
    "\n",
    "    def configure_metrics(self, *_) -> MetricCollection:\n",
    "        num_classes = self.model.num_labels\n",
    "        task = \"multiclass\"\n",
    "        # NOTE: you are in charge of moving it to the correct device\n",
    "        return MetricCollection(\n",
    "            {\n",
    "                \"accuracy\": Accuracy(task, num_classes=num_classes),\n",
    "                \"f1_macro\": F1Score(task, num_classes=num_classes, average=\"macro\"),\n",
    "                \"precision_macro\": Precision(task, num_classes=num_classes, average=\"macro\"),\n",
    "                \"recall_macro\": Recall(task, num_classes=num_classes, average=\"macro\"),\n",
    "                \"f1_micro\": F1Score(task, num_classes=num_classes, average=\"micro\"),\n",
    "                \"precision_micro\": Precision(task, num_classes=num_classes, average=\"micro\"),\n",
    "                \"recall_micro\": Recall(task, num_classes=num_classes, average=\"micro\"),\n",
    "            }\n",
    "        ).to(self.device)"
   ]
  },
  {
   "attachments": {},
   "cell_type": "markdown",
   "metadata": {},
   "source": [
    "---\n",
    "### Random strategy"
   ]
  },
  {
   "cell_type": "code",
   "execution_count": null,
   "metadata": {},
   "outputs": [],
   "source": [
    "class RandomStrategySEALSForSequenceClassification(EstimatorForSequenceClassification, RandomStrategySEALS):\n",
    "    ...\n",
    "\n",
    "\n",
    "seed_everything(42)\n",
    "model = AutoModelForSequenceClassification.from_pretrained(\n",
    "    ds.tokenizer.name_or_path,\n",
    "    id2label=ds.id2label,\n",
    "    label2id=ds.label2id,\n",
    "    num_labels=len(ds.labels),\n",
    ")\n",
    "\n",
    "estimator = RandomStrategySEALSForSequenceClassification(\n",
    "    model, \n",
    "    accelerator=\"gpu\", \n",
    "    loggers=[TensorBoardLogger(\"./\", name=\"tb_logs\")],\n",
    "    callbacks=[\n",
    "        GradNorm(2), \n",
    "        ModelCheckpoint(\"./checkpoints\", monitor=\"f1_macro\", stage=\"train\", mode=\"max\"),\n",
    "        EarlyStopping(monitor=\"f1_macro\", stage=\"train\", interval=\"epoch\", mode=\"max\"),\n",
    "    ],\n",
    "    seed=42,\n",
    "    num_neighbours=100,\n",
    ")"
   ]
  },
  {
   "cell_type": "code",
   "execution_count": null,
   "metadata": {},
   "outputs": [],
   "source": [
    "ds.prepare_for_loading()\n",
    "results = estimator.active_fit(\n",
    "    datastore=ds, \n",
    "    query_size=50,\n",
    "    max_rounds=20, \n",
    "    min_steps=50,\n",
    "    reinit_model=True,\n",
    "    # limit_pool_batches=10, \n",
    "    # limit_test_batches=1,\n",
    ")"
   ]
  },
  {
   "cell_type": "code",
   "execution_count": null,
   "metadata": {},
   "outputs": [],
   "source": [
    "class RandomStrategyForSequenceClassification(EstimatorForSequenceClassification, RandomStrategy):\n",
    "    ...\n",
    "\n",
    "\n",
    "seed_everything(42)\n",
    "model = AutoModelForSequenceClassification.from_pretrained(\n",
    "    ds.tokenizer.name_or_path,\n",
    "    id2label=ds.id2label,\n",
    "    label2id=ds.label2id,\n",
    "    num_labels=len(ds.labels),\n",
    ")\n",
    "\n",
    "estimator = RandomStrategyForSequenceClassification(\n",
    "    model, \n",
    "    accelerator=\"gpu\", \n",
    "    loggers=[TensorBoardLogger(\"./\", name=\"tb_logs\")],\n",
    "    callbacks=[\n",
    "        GradNorm(2), \n",
    "        ModelCheckpoint(\"./checkpoints\", monitor=\"f1_macro\", stage=\"train\", mode=\"max\"),\n",
    "        EarlyStopping(monitor=\"f1_macro\", stage=\"train\", interval=\"epoch\", mode=\"max\"),\n",
    "    ],\n",
    "    seed=42,\n",
    ")"
   ]
  },
  {
   "cell_type": "code",
   "execution_count": null,
   "metadata": {},
   "outputs": [],
   "source": [
    "ds.prepare_for_loading()\n",
    "results = estimator.active_fit(\n",
    "    datastore=ds, \n",
    "    query_size=50,\n",
    "    max_rounds=20, \n",
    "    min_steps=50,\n",
    "    reinit_model=True,\n",
    "    # limit_pool_batches=10, \n",
    "    # limit_test_batches=10,\n",
    ")"
   ]
  },
  {
   "attachments": {},
   "cell_type": "markdown",
   "metadata": {},
   "source": [
    "---\n",
    "### Entropy SEALS strategy"
   ]
  },
  {
   "cell_type": "code",
   "execution_count": 5,
   "metadata": {},
   "outputs": [],
   "source": [
    "ds = PandasDataStoreForSequenceClassification.load(\"../data/prepared/agnews_binarised_bert-tiny/\")"
   ]
  },
  {
   "cell_type": "code",
   "execution_count": 6,
   "metadata": {},
   "outputs": [
    {
     "data": {
      "text/plain": [
       "100"
      ]
     },
     "execution_count": 6,
     "metadata": {},
     "output_type": "execute_result"
    }
   ],
   "source": [
    "ids = ds.sample_from_pool(size=100, mode=\"stratified\", random_state=42)\n",
    "ds.label(ids, -1)"
   ]
  },
  {
   "cell_type": "code",
   "execution_count": 7,
   "metadata": {},
   "outputs": [
    {
     "name": "stderr",
     "output_type": "stream",
     "text": [
      "Global seed set to 42\n",
      "Some weights of the model checkpoint at google/bert_uncased_L-2_H-128_A-2 were not used when initializing BertForSequenceClassification: ['cls.predictions.transform.LayerNorm.weight', 'cls.predictions.decoder.bias', 'cls.predictions.decoder.weight', 'cls.predictions.transform.LayerNorm.bias', 'cls.seq_relationship.bias', 'cls.predictions.bias', 'cls.predictions.transform.dense.weight', 'cls.predictions.transform.dense.bias', 'cls.seq_relationship.weight']\n",
      "- This IS expected if you are initializing BertForSequenceClassification from the checkpoint of a model trained on another task or with another architecture (e.g. initializing a BertForSequenceClassification model from a BertForPreTraining model).\n",
      "- This IS NOT expected if you are initializing BertForSequenceClassification from the checkpoint of a model that you expect to be exactly identical (initializing a BertForSequenceClassification model from a BertForSequenceClassification model).\n",
      "Some weights of BertForSequenceClassification were not initialized from the model checkpoint at google/bert_uncased_L-2_H-128_A-2 and are newly initialized: ['classifier.bias', 'classifier.weight']\n",
      "You should probably TRAIN this model on a down-stream task to be able to use it for predictions and inference.\n"
     ]
    }
   ],
   "source": [
    "class UncertaintyBasedStrategySEALSForSequenceClassification(EstimatorForSequenceClassification, UncertaintyBasedStrategySEALS):\n",
    "    def pool_step( self, model, batch: Dict, batch_idx: int, metrics: MetricCollection) -> Dict:\n",
    "        _ = batch.pop(InputKeys.ON_CPU)  # this is already handled in the `evaluation_step`\n",
    "        logits = model(**batch).logits\n",
    "        return self.score_fn(logits)\n",
    "\n",
    "seed_everything(42)\n",
    "model = AutoModelForSequenceClassification.from_pretrained(\n",
    "    ds.tokenizer.name_or_path,\n",
    "    id2label=ds.id2label,\n",
    "    label2id=ds.label2id,\n",
    "    num_labels=len(ds.labels),\n",
    ")\n",
    "\n",
    "estimator = UncertaintyBasedStrategySEALSForSequenceClassification(\n",
    "    score_fn=\"entropy\",\n",
    "    model=model, \n",
    "    accelerator=\"gpu\", \n",
    "    loggers=[TensorBoardLogger(\"./\", name=\"tb_logs\")],\n",
    "    callbacks=[\n",
    "        GradNorm(2), \n",
    "        ModelCheckpoint(\"./checkpoints\", monitor=\"f1_macro\", stage=\"train\", mode=\"max\"),\n",
    "        EarlyStopping(monitor=\"f1_macro\", stage=\"train\", interval=\"epoch\", mode=\"max\"),\n",
    "    ],\n",
    "    num_neighbours=100,\n",
    ")"
   ]
  },
  {
   "cell_type": "code",
   "execution_count": 8,
   "metadata": {},
   "outputs": [
    {
     "data": {
      "application/vnd.jupyter.widget-view+json": {
       "model_id": "ac9235d187854523a1bd082153ff71f8",
       "version_major": 2,
       "version_minor": 0
      },
      "text/plain": [
       "Completed rounds:   0%|          | 0/21 [00:00<?, ?it/s]"
      ]
     },
     "metadata": {},
     "output_type": "display_data"
    },
    {
     "data": {
      "application/vnd.jupyter.widget-view+json": {
       "model_id": "be8c65c7a3724de8bd9fd4a48df00b34",
       "version_major": 2,
       "version_minor": 0
      },
      "text/plain": [
       "Completed epochs: 0it [00:00, ?it/s]"
      ]
     },
     "metadata": {},
     "output_type": "display_data"
    },
    {
     "data": {
      "application/vnd.jupyter.widget-view+json": {
       "model_id": "c647136dd0b54eb0a6715786f6b1dbbc",
       "version_major": 2,
       "version_minor": 0
      },
      "text/plain": [
       "Epoch 0: 0it [00:00, ?it/s]"
      ]
     },
     "metadata": {},
     "output_type": "display_data"
    },
    {
     "data": {
      "application/vnd.jupyter.widget-view+json": {
       "model_id": "e5dc9942cc0f455092fafb9c1b907bb0",
       "version_major": 2,
       "version_minor": 0
      },
      "text/plain": [
       "Test: 0it [00:00, ?it/s]"
      ]
     },
     "metadata": {},
     "output_type": "display_data"
    },
    {
     "data": {
      "application/vnd.jupyter.widget-view+json": {
       "model_id": "5925dd5a1cdd40dc9129ef76a8ca6947",
       "version_major": 2,
       "version_minor": 0
      },
      "text/plain": [
       "Pool: 0it [00:00, ?it/s]"
      ]
     },
     "metadata": {},
     "output_type": "display_data"
    }
   ],
   "source": [
    "ds.prepare_for_loading()\n",
    "results = estimator.active_fit(\n",
    "    datastore=ds, \n",
    "    query_size=50,\n",
    "    max_rounds=20, \n",
    "    min_steps=50,\n",
    ")"
   ]
  },
  {
   "attachments": {},
   "cell_type": "markdown",
   "metadata": {},
   "source": [
    "### Entropy"
   ]
  },
  {
   "cell_type": "code",
   "execution_count": null,
   "metadata": {},
   "outputs": [],
   "source": [
    "class UncertaintyBasedStrategyForSequenceClassification(EstimatorForSequenceClassification, UncertaintyBasedStrategy):\n",
    "    def pool_step( self, model, batch: Dict, batch_idx: int, metrics: MetricCollection) -> Dict:\n",
    "        _ = batch.pop(InputKeys.ON_CPU)  # this is already handled in the `evaluation_step`\n",
    "        logits = model(**batch).logits\n",
    "        return self.score_fn(logits)\n",
    "\n",
    "seed_everything(42)\n",
    "model = AutoModelForSequenceClassification.from_pretrained(\n",
    "    ds.tokenizer.name_or_path,\n",
    "    id2label=ds.id2label,\n",
    "    label2id=ds.label2id,\n",
    "    num_labels=len(ds.labels),\n",
    ")\n",
    "\n",
    "estimator = UncertaintyBasedStrategyForSequenceClassification(\n",
    "    score_fn=\"entropy\",\n",
    "    model=model, \n",
    "    accelerator=\"gpu\", \n",
    "    loggers=[TensorBoardLogger(\"./\", name=\"tb_logs\")],\n",
    "    callbacks=[\n",
    "        GradNorm(2), \n",
    "        ModelCheckpoint(\"./checkpoints\", monitor=\"f1_macro\", stage=\"train\", mode=\"max\"),\n",
    "        EarlyStopping(monitor=\"f1_macro\", stage=\"train\", interval=\"epoch\", mode=\"max\"),\n",
    "    ],\n",
    ")"
   ]
  },
  {
   "cell_type": "code",
   "execution_count": null,
   "metadata": {},
   "outputs": [],
   "source": [
    "ds.prepare_for_loading()\n",
    "results = estimator.active_fit(\n",
    "    datastore=ds, \n",
    "    query_size=50,\n",
    "    max_rounds=20, \n",
    "    min_steps=50,\n",
    ")"
   ]
  },
  {
   "cell_type": "code",
   "execution_count": null,
   "metadata": {},
   "outputs": [],
   "source": []
  }
 ],
 "metadata": {
  "kernelspec": {
   "display_name": "energizer",
   "language": "python",
   "name": "python3"
  },
  "language_info": {
   "codemirror_mode": {
    "name": "ipython",
    "version": 3
   },
   "file_extension": ".py",
   "mimetype": "text/x-python",
   "name": "python",
   "nbconvert_exporter": "python",
   "pygments_lexer": "ipython3",
   "version": "3.9.16"
  },
  "orig_nbformat": 4
 },
 "nbformat": 4,
 "nbformat_minor": 2
}
