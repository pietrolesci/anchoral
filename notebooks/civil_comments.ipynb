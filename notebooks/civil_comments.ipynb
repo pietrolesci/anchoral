{
 "cells": [
  {
   "cell_type": "code",
   "execution_count": 1,
   "metadata": {},
   "outputs": [],
   "source": [
    "import pandas as pd\n",
    "from pathlib import Path\n",
    "from datasets import load_from_disk\n",
    "from sentence_transformers import SentenceTransformer\n",
    "import numpy as np\n",
    "import srsly\n",
    "import hnswlib as hb"
   ]
  },
  {
   "cell_type": "code",
   "execution_count": null,
   "metadata": {},
   "outputs": [],
   "source": [
    "model_name = \"all-mpnet-base-v2\" # \"all-MiniLM-L6-v2\"\n",
    "sentence_encoder = SentenceTransformer(model_name)"
   ]
  },
  {
   "cell_type": "code",
   "execution_count": 2,
   "metadata": {},
   "outputs": [
    {
     "name": "stderr",
     "output_type": "stream",
     "text": [
      "/home/pl487/.conda/envs/allset/lib/python3.9/site-packages/datasets/dataset_dict.py:1241: FutureWarning: 'fs' was is deprecated in favor of 'storage_options' in version 2.8.0 and will be removed in 3.0.0.\n",
      "You can remove this warning by passing 'storage_options=fs.storage_options' instead.\n",
      "  warnings.warn(\n"
     ]
    }
   ],
   "source": [
    "ds_dict = load_from_disk(\"../data/processed/civil_comments/\")\n",
    "train_ds = ds_dict[\"train\"] #.select(range(1000))\n",
    "train_df = train_ds.to_pandas()"
   ]
  },
  {
   "cell_type": "code",
   "execution_count": null,
   "metadata": {},
   "outputs": [],
   "source": [
    "embeddings = sentence_encoder.encode(train_df[\"text\"].tolist(), show_progress_bar=True, batch_size=512, device=\"cuda\")"
   ]
  },
  {
   "cell_type": "code",
   "execution_count": null,
   "metadata": {},
   "outputs": [],
   "source": [
    "np.save(\"../data/processed/civil_comments/civil_comments_index.npy\", embeddings, fix_imports=False)"
   ]
  },
  {
   "cell_type": "code",
   "execution_count": null,
   "metadata": {},
   "outputs": [],
   "source": [
    "meta = srsly.read_yaml(\"../data/processed/civil_comments/metadata.yaml\")"
   ]
  },
  {
   "cell_type": "code",
   "execution_count": null,
   "metadata": {},
   "outputs": [],
   "source": [
    "meta[\"embedding_model\"] = model_name"
   ]
  },
  {
   "cell_type": "code",
   "execution_count": null,
   "metadata": {},
   "outputs": [],
   "source": [
    "srsly.write_yaml(\"../data/processed/civil_comments/metadata.yaml\", meta)"
   ]
  },
  {
   "cell_type": "code",
   "execution_count": 3,
   "metadata": {},
   "outputs": [],
   "source": [
    "embeddings = np.load(\"../data/processed/civil_comments/civil_comments_index.npy\")"
   ]
  },
  {
   "cell_type": "code",
   "execution_count": null,
   "metadata": {},
   "outputs": [],
   "source": [
    "p = hb.Index(space=\"cosine\", dim=embeddings.shape[1])\n",
    "p.set_ef(200)\n",
    "p.init_index(max_elements=embeddings.shape[0], M=64, ef_construction=200)\n",
    "p.add_items(embeddings, np.arange(embeddings.shape[0]))"
   ]
  },
  {
   "cell_type": "code",
   "execution_count": null,
   "metadata": {},
   "outputs": [],
   "source": [
    "p.save_index(\"../data/processed/civil_comments/civil_comments_index.bin\")"
   ]
  },
  {
   "cell_type": "code",
   "execution_count": 4,
   "metadata": {},
   "outputs": [],
   "source": [
    "p = hb.Index(space=\"cosine\", dim=embeddings.shape[1])\n",
    "p.load_index(\"../data/processed/civil_comments/civil_comments_index.bin\")"
   ]
  },
  {
   "cell_type": "code",
   "execution_count": 5,
   "metadata": {},
   "outputs": [],
   "source": [
    "ids, distances = p.knn_query(embeddings[100, :], k=10)"
   ]
  },
  {
   "cell_type": "code",
   "execution_count": 9,
   "metadata": {},
   "outputs": [
    {
     "data": {
      "text/plain": [
       "['Stop stereotyping.',\n",
       " 'Wow - stereotypes much!',\n",
       " 'over generalize much?',\n",
       " 'Holy generalization, Batman.',\n",
       " 'What are you basing your generalizations on?',\n",
       " 'Unfortunately actions like these just reinforce stereotypes.',\n",
       " 'People that make such huge assumptions about others are just clueless.',\n",
       " 'This is a ridiculous stereotype....Give it s break. You then wonder who so many on the other side label you are \"fake news\" and liars.',\n",
       " \"I'm not sure this is a stereotype so much as a segment of voters.  Of course the vast majority of these folks (speller checker put in fools, funny) vote Republican...there would not GOP without these voters. But there are well-meaning conservatives that do not see themselves in the current Democratic Party either and that's our mistake. We should allow what Keilor thinks of conservatives advise us too. And really be inclusive. Of course thoughtful discourse must past the smell test...and Trump doesn't.\"]"
      ]
     },
     "execution_count": 9,
     "metadata": {},
     "output_type": "execute_result"
    }
   ],
   "source": [
    "train_df.loc[\n",
    "    train_df[\"unique_id\"].isin(ids[0, 1:]), \n",
    "    \"text\"\n",
    "].tolist()"
   ]
  },
  {
   "cell_type": "code",
   "execution_count": null,
   "metadata": {},
   "outputs": [],
   "source": [
    "from src.data.datamodule import DataModule"
   ]
  },
  {
   "cell_type": "code",
   "execution_count": null,
   "metadata": {},
   "outputs": [],
   "source": [
    "dm = DataModule.from_dataset_dict(ds_dict)"
   ]
  },
  {
   "cell_type": "code",
   "execution_count": null,
   "metadata": {},
   "outputs": [],
   "source": []
  }
 ],
 "metadata": {
  "kernelspec": {
   "display_name": "allset",
   "language": "python",
   "name": "python3"
  },
  "language_info": {
   "codemirror_mode": {
    "name": "ipython",
    "version": 3
   },
   "file_extension": ".py",
   "mimetype": "text/x-python",
   "name": "python",
   "nbconvert_exporter": "python",
   "pygments_lexer": "ipython3",
   "version": "3.9.16"
  },
  "orig_nbformat": 4,
  "vscode": {
   "interpreter": {
    "hash": "e53e394f14fe34c9aaf890e1aef4b8dd57ac2a780afaa542e758e0a4ed635da0"
   }
  }
 },
 "nbformat": 4,
 "nbformat_minor": 2
}
