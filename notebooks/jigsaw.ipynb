{
 "cells": [
  {
   "cell_type": "code",
   "execution_count": 1,
   "metadata": {},
   "outputs": [],
   "source": [
    "import pandas as pd\n",
    "from pathlib import Path\n",
    "from datasets import load_from_disk"
   ]
  },
  {
   "cell_type": "code",
   "execution_count": 2,
   "metadata": {},
   "outputs": [],
   "source": [
    "df = pd.read_csv(Path(\"../data/raw/jigsaw-unintended-bias-in-toxicity-classification/\") / \"all_data.csv\")\n",
    "\n",
    "# rename columns\n",
    "df = df.rename(columns={\"comment_text\": \"text\"})\n",
    "\n",
    "# select columns\n",
    "cols = [\"split\", \"id\", \"text\", \"labels\", \"toxicity\"]\n",
    "df = df[cols].copy()\n",
    "\n",
    "# drop null values\n",
    "df = df.dropna(subset=[\"text\", \"labels\"])"
   ]
  },
  {
   "cell_type": "code",
   "execution_count": 3,
   "metadata": {},
   "outputs": [
    {
     "name": "stdout",
     "output_type": "stream",
     "text": [
      "1999516\n",
      "1999515\n"
     ]
    }
   ],
   "source": []
  },
  {
   "cell_type": "code",
   "execution_count": 4,
   "metadata": {},
   "outputs": [],
   "source": [
    "# compute unique texts exact\n",
    "df[\"unique_id\"] = df.groupby(\"text\").ngroup().astype(int)\n",
    "\n",
    "# compute average toxicity across equal texts\n",
    "df[\"avg_toxicity\"] = df.groupby(\"unique_id\")[\"toxicity\"].transform(\"mean\")\n",
    "\n",
    "# remove duplicates within split\n",
    "df = df.drop_duplicates(subset=[\"split\", \"text\"])\n",
    "\n",
    "# remove duplicates across splits\n",
    "ddf = df.sort_values([\"unique_id\", \"split\"]).drop_duplicates(subset=[\"unique_id\"])\n",
    "\n",
    "# check that duplicates are removed from training rather than testing\n",
    "assert df[\"split\"].value_counts()[\"test\"] == ddf[\"split\"].value_counts()[\"test\"]\n",
    "\n",
    "# select columns\n",
    "ddf = ddf.drop(columns=[\"toxicity\", \"unique_id\"])\n",
    "\n",
    "# binarize labels\n",
    "ddf[\"labels\"] = (df[\"avg_toxicity\"] >= 0.5).astype(int)\n"
   ]
  },
  {
   "cell_type": "code",
   "execution_count": 26,
   "metadata": {},
   "outputs": [
    {
     "data": {
      "text/html": [
       "<div>\n",
       "<style scoped>\n",
       "    .dataframe tbody tr th:only-of-type {\n",
       "        vertical-align: middle;\n",
       "    }\n",
       "\n",
       "    .dataframe tbody tr th {\n",
       "        vertical-align: top;\n",
       "    }\n",
       "\n",
       "    .dataframe thead th {\n",
       "        text-align: right;\n",
       "    }\n",
       "</style>\n",
       "<table border=\"1\" class=\"dataframe\">\n",
       "  <thead>\n",
       "    <tr style=\"text-align: right;\">\n",
       "      <th></th>\n",
       "      <th>split</th>\n",
       "      <th>id</th>\n",
       "      <th>text</th>\n",
       "      <th>labels</th>\n",
       "      <th>toxicity</th>\n",
       "      <th>unique_id</th>\n",
       "      <th>avg_toxicity</th>\n",
       "    </tr>\n",
       "  </thead>\n",
       "  <tbody>\n",
       "    <tr>\n",
       "      <th>452728</th>\n",
       "      <td>train</td>\n",
       "      <td>5705108</td>\n",
       "      <td>\u0010Canada is north of the USA border,  its colde...</td>\n",
       "      <td>0</td>\n",
       "      <td>0.0</td>\n",
       "      <td>0</td>\n",
       "      <td>0.0</td>\n",
       "    </tr>\n",
       "    <tr>\n",
       "      <th>1578639</th>\n",
       "      <td>train</td>\n",
       "      <td>6123823</td>\n",
       "      <td>\u0010Gary, well said.  Somehow many people think K...</td>\n",
       "      <td>1</td>\n",
       "      <td>0.5</td>\n",
       "      <td>1</td>\n",
       "      <td>0.5</td>\n",
       "    </tr>\n",
       "    <tr>\n",
       "      <th>126551</th>\n",
       "      <td>train</td>\n",
       "      <td>6277865</td>\n",
       "      <td>\u0010Um, it's not their definition of \"terrorist\"....</td>\n",
       "      <td>0</td>\n",
       "      <td>0.0</td>\n",
       "      <td>2</td>\n",
       "      <td>0.0</td>\n",
       "    </tr>\n",
       "    <tr>\n",
       "      <th>1744767</th>\n",
       "      <td>train</td>\n",
       "      <td>818414</td>\n",
       "      <td>! save it commy,, china is evil, repressive an...</td>\n",
       "      <td>1</td>\n",
       "      <td>0.5</td>\n",
       "      <td>3</td>\n",
       "      <td>0.5</td>\n",
       "    </tr>\n",
       "    <tr>\n",
       "      <th>287987</th>\n",
       "      <td>train</td>\n",
       "      <td>5244549</td>\n",
       "      <td>! think there are medications for bladder prob...</td>\n",
       "      <td>0</td>\n",
       "      <td>0.0</td>\n",
       "      <td>4</td>\n",
       "      <td>0.0</td>\n",
       "    </tr>\n",
       "    <tr>\n",
       "      <th>...</th>\n",
       "      <td>...</td>\n",
       "      <td>...</td>\n",
       "      <td>...</td>\n",
       "      <td>...</td>\n",
       "      <td>...</td>\n",
       "      <td>...</td>\n",
       "      <td>...</td>\n",
       "    </tr>\n",
       "    <tr>\n",
       "      <th>1716189</th>\n",
       "      <td>train</td>\n",
       "      <td>765333</td>\n",
       "      <td>🤡🤡 the MQ &amp; MA are a couple clowns 😂,,, I supp...</td>\n",
       "      <td>0</td>\n",
       "      <td>0.4</td>\n",
       "      <td>1971910</td>\n",
       "      <td>0.4</td>\n",
       "    </tr>\n",
       "    <tr>\n",
       "      <th>764735</th>\n",
       "      <td>train</td>\n",
       "      <td>807680</td>\n",
       "      <td>🤢</td>\n",
       "      <td>0</td>\n",
       "      <td>0.0</td>\n",
       "      <td>1971911</td>\n",
       "      <td>0.0</td>\n",
       "    </tr>\n",
       "    <tr>\n",
       "      <th>1958914</th>\n",
       "      <td>train</td>\n",
       "      <td>5905987</td>\n",
       "      <td>🤣</td>\n",
       "      <td>0</td>\n",
       "      <td>0.1</td>\n",
       "      <td>1971912</td>\n",
       "      <td>0.1</td>\n",
       "    </tr>\n",
       "    <tr>\n",
       "      <th>281657</th>\n",
       "      <td>train</td>\n",
       "      <td>6097312</td>\n",
       "      <td>🤣......... another round of huge duties looks ...</td>\n",
       "      <td>0</td>\n",
       "      <td>0.0</td>\n",
       "      <td>1971913</td>\n",
       "      <td>0.0</td>\n",
       "    </tr>\n",
       "    <tr>\n",
       "      <th>966758</th>\n",
       "      <td>train</td>\n",
       "      <td>5770286</td>\n",
       "      <td>🤣gotta love it!</td>\n",
       "      <td>0</td>\n",
       "      <td>0.0</td>\n",
       "      <td>1971914</td>\n",
       "      <td>0.0</td>\n",
       "    </tr>\n",
       "  </tbody>\n",
       "</table>\n",
       "<p>1971915 rows × 7 columns</p>\n",
       "</div>"
      ],
      "text/plain": [
       "         split       id                                               text  \\\n",
       "452728   train  5705108  \u0010Canada is north of the USA border,  its colde...   \n",
       "1578639  train  6123823  \u0010Gary, well said.  Somehow many people think K...   \n",
       "126551   train  6277865  \u0010Um, it's not their definition of \"terrorist\"....   \n",
       "1744767  train   818414  ! save it commy,, china is evil, repressive an...   \n",
       "287987   train  5244549  ! think there are medications for bladder prob...   \n",
       "...        ...      ...                                                ...   \n",
       "1716189  train   765333  🤡🤡 the MQ & MA are a couple clowns 😂,,, I supp...   \n",
       "764735   train   807680                                                  🤢   \n",
       "1958914  train  5905987                                                  🤣   \n",
       "281657   train  6097312  🤣......... another round of huge duties looks ...   \n",
       "966758   train  5770286                                    🤣gotta love it!   \n",
       "\n",
       "         labels  toxicity  unique_id  avg_toxicity  \n",
       "452728        0       0.0          0           0.0  \n",
       "1578639       1       0.5          1           0.5  \n",
       "126551        0       0.0          2           0.0  \n",
       "1744767       1       0.5          3           0.5  \n",
       "287987        0       0.0          4           0.0  \n",
       "...         ...       ...        ...           ...  \n",
       "1716189       0       0.4    1971910           0.4  \n",
       "764735        0       0.0    1971911           0.0  \n",
       "1958914       0       0.1    1971912           0.1  \n",
       "281657        0       0.0    1971913           0.0  \n",
       "966758        0       0.0    1971914           0.0  \n",
       "\n",
       "[1971915 rows x 7 columns]"
      ]
     },
     "execution_count": 26,
     "metadata": {},
     "output_type": "execute_result"
    }
   ],
   "source": []
  },
  {
   "cell_type": "code",
   "execution_count": null,
   "metadata": {},
   "outputs": [],
   "source": []
  },
  {
   "cell_type": "code",
   "execution_count": null,
   "metadata": {},
   "outputs": [],
   "source": []
  },
  {
   "cell_type": "code",
   "execution_count": null,
   "metadata": {},
   "outputs": [],
   "source": [
    "ds_dict = load_from_disk(\"../data/processed/civil_comments/\")"
   ]
  },
  {
   "cell_type": "code",
   "execution_count": null,
   "metadata": {},
   "outputs": [],
   "source": [
    "train_df = ds_dict[\"train\"].to_pandas()\n",
    "test_df = ds_dict[\"test\"].to_pandas()\n"
   ]
  },
  {
   "cell_type": "code",
   "execution_count": null,
   "metadata": {},
   "outputs": [],
   "source": [
    "train_df.drop_duplicates(subset=[\"text\"])"
   ]
  },
  {
   "cell_type": "code",
   "execution_count": null,
   "metadata": {},
   "outputs": [],
   "source": [
    "df = pd.concat([test_df.assign(split=\"test\"), train_df.assign(split=\"train\")])"
   ]
  },
  {
   "cell_type": "code",
   "execution_count": null,
   "metadata": {},
   "outputs": [],
   "source": [
    "pd.merge(test_df, train_df, on=\"text\", how=\"inner\")"
   ]
  },
  {
   "cell_type": "code",
   "execution_count": 20,
   "metadata": {},
   "outputs": [],
   "source": [
    "a = ddf.groupby(\"text\").agg({\"split\": [\"nunique\", \"count\", \"size\"], \"labels\": [\"nunique\"]})"
   ]
  },
  {
   "cell_type": "code",
   "execution_count": 22,
   "metadata": {},
   "outputs": [
    {
     "data": {
      "text/html": [
       "<div>\n",
       "<style scoped>\n",
       "    .dataframe tbody tr th:only-of-type {\n",
       "        vertical-align: middle;\n",
       "    }\n",
       "\n",
       "    .dataframe tbody tr th {\n",
       "        vertical-align: top;\n",
       "    }\n",
       "\n",
       "    .dataframe thead tr th {\n",
       "        text-align: left;\n",
       "    }\n",
       "\n",
       "    .dataframe thead tr:last-of-type th {\n",
       "        text-align: right;\n",
       "    }\n",
       "</style>\n",
       "<table border=\"1\" class=\"dataframe\">\n",
       "  <thead>\n",
       "    <tr>\n",
       "      <th></th>\n",
       "      <th colspan=\"3\" halign=\"left\">split</th>\n",
       "      <th>labels</th>\n",
       "    </tr>\n",
       "    <tr>\n",
       "      <th></th>\n",
       "      <th>nunique</th>\n",
       "      <th>count</th>\n",
       "      <th>size</th>\n",
       "      <th>nunique</th>\n",
       "    </tr>\n",
       "    <tr>\n",
       "      <th>text</th>\n",
       "      <th></th>\n",
       "      <th></th>\n",
       "      <th></th>\n",
       "      <th></th>\n",
       "    </tr>\n",
       "  </thead>\n",
       "  <tbody>\n",
       "  </tbody>\n",
       "</table>\n",
       "</div>"
      ],
      "text/plain": [
       "Empty DataFrame\n",
       "Columns: [(split, nunique), (split, count), (split, size), (labels, nunique)]\n",
       "Index: []"
      ]
     },
     "execution_count": 22,
     "metadata": {},
     "output_type": "execute_result"
    }
   ],
   "source": []
  },
  {
   "cell_type": "code",
   "execution_count": null,
   "metadata": {},
   "outputs": [],
   "source": []
  },
  {
   "cell_type": "code",
   "execution_count": null,
   "metadata": {},
   "outputs": [],
   "source": [
    "a.loc[a[('labels', 'nunique')] > 1]"
   ]
  },
  {
   "cell_type": "code",
   "execution_count": null,
   "metadata": {},
   "outputs": [],
   "source": [
    "df.loc[df[\"text\"] == \"you have all the character and credibility of a skid mark.\"]"
   ]
  },
  {
   "cell_type": "code",
   "execution_count": null,
   "metadata": {},
   "outputs": [],
   "source": []
  },
  {
   "cell_type": "code",
   "execution_count": null,
   "metadata": {},
   "outputs": [],
   "source": []
  },
  {
   "cell_type": "code",
   "execution_count": null,
   "metadata": {},
   "outputs": [],
   "source": [
    "data_path = Path(\"../data/raw/jigsaw-unintended-bias-in-toxicity-classification\")"
   ]
  },
  {
   "cell_type": "code",
   "execution_count": null,
   "metadata": {},
   "outputs": [],
   "source": [
    "test = pd.read_csv(data_path / \"test.csv\")\n",
    "test_private_expanded = pd.read_csv(data_path / \"test_private_expanded.csv\")\n",
    "test_public_expanded = pd.read_csv(data_path / \"test_public_expanded.csv\")"
   ]
  },
  {
   "cell_type": "code",
   "execution_count": null,
   "metadata": {},
   "outputs": [],
   "source": [
    "test.shape"
   ]
  },
  {
   "cell_type": "code",
   "execution_count": null,
   "metadata": {},
   "outputs": [],
   "source": [
    "test_private_expanded.shape"
   ]
  },
  {
   "cell_type": "code",
   "execution_count": null,
   "metadata": {},
   "outputs": [],
   "source": [
    "test_public_expanded.shape"
   ]
  },
  {
   "cell_type": "code",
   "execution_count": null,
   "metadata": {},
   "outputs": [],
   "source": [
    "pd.merge(test, test_public_expanded, on=\"id\", how=\"inner\")"
   ]
  },
  {
   "cell_type": "code",
   "execution_count": null,
   "metadata": {},
   "outputs": [],
   "source": [
    "test_private_expanded.columns"
   ]
  },
  {
   "cell_type": "code",
   "execution_count": null,
   "metadata": {},
   "outputs": [],
   "source": [
    "test_private_expanded[\"obscene\"]"
   ]
  },
  {
   "cell_type": "code",
   "execution_count": null,
   "metadata": {},
   "outputs": [],
   "source": [
    "test_public_expanded.columns"
   ]
  },
  {
   "cell_type": "code",
   "execution_count": null,
   "metadata": {},
   "outputs": [],
   "source": [
    "df = pd.read_csv(data_path / \"all_data.csv\")"
   ]
  },
  {
   "cell_type": "code",
   "execution_count": null,
   "metadata": {},
   "outputs": [],
   "source": [
    "df[\"split\"].value_counts()"
   ]
  },
  {
   "cell_type": "code",
   "execution_count": null,
   "metadata": {},
   "outputs": [],
   "source": [
    "cols = [\n",
    "\n",
    "    \"toxicity\",\n",
    "    \"severe_toxicity\",\n",
    "    \"obscene\",\n",
    "    \"threat\",\n",
    "    \"insult\",\n",
    "    \"identity_attack\",\n",
    "    \"sexual_explicit\",\n",
    "]"
   ]
  },
  {
   "cell_type": "code",
   "execution_count": null,
   "metadata": {},
   "outputs": [],
   "source": [
    "df.loc[\n",
    "    (df[\"toxicity\"] < 0.5)\n",
    "    & (df[\"severe_toxicity\"] >= 0.5)\n",
    "]"
   ]
  },
  {
   "cell_type": "code",
   "execution_count": null,
   "metadata": {},
   "outputs": [],
   "source": [
    "df[\"target\"] = (df[\"toxicity\"] >= 0.5).astype(int)"
   ]
  },
  {
   "cell_type": "code",
   "execution_count": null,
   "metadata": {},
   "outputs": [],
   "source": [
    "cols = [\"id\", \"comment_text\", \"split\", \"target\"]\n",
    "df = df[cols]"
   ]
  },
  {
   "cell_type": "code",
   "execution_count": null,
   "metadata": {},
   "outputs": [],
   "source": [
    "df[cols].sample(10).values"
   ]
  },
  {
   "cell_type": "code",
   "execution_count": null,
   "metadata": {},
   "outputs": [],
   "source": [
    "df[\"split\"].value_counts()"
   ]
  },
  {
   "cell_type": "code",
   "execution_count": null,
   "metadata": {},
   "outputs": [],
   "source": [
    "df[\"target\"]"
   ]
  },
  {
   "cell_type": "code",
   "execution_count": null,
   "metadata": {},
   "outputs": [],
   "source": []
  }
 ],
 "metadata": {
  "kernelspec": {
   "display_name": "fila",
   "language": "python",
   "name": "python3"
  },
  "language_info": {
   "codemirror_mode": {
    "name": "ipython",
    "version": 3
   },
   "file_extension": ".py",
   "mimetype": "text/x-python",
   "name": "python",
   "nbconvert_exporter": "python",
   "pygments_lexer": "ipython3",
   "version": "3.8.16"
  },
  "orig_nbformat": 4,
  "vscode": {
   "interpreter": {
    "hash": "18f018a05b60842b447663006bc1b1abdc29591bcb5587a187adcd2609d23576"
   }
  }
 },
 "nbformat": 4,
 "nbformat_minor": 2
}
