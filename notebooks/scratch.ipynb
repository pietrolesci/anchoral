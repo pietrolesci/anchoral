{
 "cells": [
  {
   "cell_type": "code",
   "execution_count": 68,
   "metadata": {},
   "outputs": [],
   "source": [
    "from datasets import load_from_disk"
   ]
  },
  {
   "cell_type": "code",
   "execution_count": 69,
   "metadata": {},
   "outputs": [],
   "source": [
    "ds = load_from_disk(\"/home/pl487/anchoral/data/prepared/agnews_original_bert-tiny\")"
   ]
  },
  {
   "cell_type": "code",
   "execution_count": 70,
   "metadata": {},
   "outputs": [
    {
     "data": {
      "text/plain": [
       "DatasetDict({\n",
       "    train: Dataset({\n",
       "        features: ['uid', 'labels', 'text', 'input_ids', 'attention_mask'],\n",
       "        num_rows: 120000\n",
       "    })\n",
       "    test: Dataset({\n",
       "        features: ['uid', 'labels', 'text', 'input_ids', 'attention_mask'],\n",
       "        num_rows: 7600\n",
       "    })\n",
       "})"
      ]
     },
     "execution_count": 70,
     "metadata": {},
     "output_type": "execute_result"
    }
   ],
   "source": [
    "ds"
   ]
  },
  {
   "cell_type": "code",
   "execution_count": null,
   "metadata": {},
   "outputs": [],
   "source": []
  },
  {
   "cell_type": "code",
   "execution_count": 59,
   "metadata": {},
   "outputs": [],
   "source": [
    "from pprint import pprint\n",
    "\n",
    "import torch\n",
    "from torchmetrics import MeanMetric, MetricCollection\n",
    "from torchmetrics.classification import (\n",
    "    AUROC,\n",
    "    Accuracy,\n",
    "    AveragePrecision,\n",
    "    F1Score,\n",
    "    MulticlassAccuracy,\n",
    "    MulticlassF1Score,\n",
    "    Precision,\n",
    "    Recall,\n",
    "    Specificity,\n",
    ")\n",
    "from torchmetrics.wrappers import BootStrapper, ClasswiseWrapper\n",
    "\n",
    "_ = torch.manual_seed(42)\n",
    "preds = torch.randn(10, 3).softmax(dim=-1)\n",
    "target = torch.randint(3, (10,))\n",
    "loss = torch.tensor([0.0])\n",
    "\n",
    "# # classwise = ClasswiseWrapper(base_metric, prefix=\"acc-\")\n",
    "\n",
    "# bootstrap_acc = BootStrapper(MulticlassAccuracy(num_classes=3, average=None), num_bootstraps=20)\n",
    "# bootstrap_f1 = BootStrapper(MulticlassF1Score(num_classes=3, average=None), num_bootstraps=20)\n",
    "\n",
    "\n",
    "# # metrics_list = MetricCollection([bootstrap_acc, bootstrap_f1])  # same as MetricCollection(bootstrap_acc, bootstrap_f1)\n",
    "# metrics_dict = MetricCollection({\"acc\": bootstrap_acc, \"f1\": bootstrap_f1})\n",
    "# # metrics = MetricCollection([MetricCollection(bootstrap_acc), MetricCollection(bootstrap_f1)])\n",
    "\n",
    "\n",
    "# bootstrap_f1(preds, target)"
   ]
  },
  {
   "cell_type": "code",
   "execution_count": 63,
   "metadata": {},
   "outputs": [],
   "source": [
    "def get_metrics(task: str, num_classes: int, average: str):\n",
    "    suffix = \"perclass\" if average == \"none\" else average\n",
    "    return {\n",
    "        f\"accuracy_{suffix}\": Accuracy(task, num_classes=num_classes, average=average),\n",
    "        f\"f1_{suffix}\": F1Score(task, num_classes=num_classes, average=average),\n",
    "        f\"precision_{suffix}\": Precision(task, num_classes=num_classes, average=average),\n",
    "        f\"recall_{suffix}\": Recall(task, num_classes=num_classes, average=average),\n",
    "        f\"specificity_{suffix}\": Specificity(task, num_classes=num_classes, average=average),\n",
    "    }\n",
    "\n",
    "\n",
    "stage = \"train\"\n",
    "task = \"multiclass\"\n",
    "num_classes = 3\n",
    "metrics = MetricCollection(\n",
    "    {\n",
    "        **get_metrics(task, num_classes, \"none\"),\n",
    "        **get_metrics(task, num_classes, \"micro\"),\n",
    "        \"auprc_perclass\": AveragePrecision(\n",
    "            task, num_classes=num_classes, average=\"none\", thresholds=None\n",
    "        ),\n",
    "        \"auroc_perclass\": AUROC(task, num_classes=num_classes, average=\"none\", thresholds=None),\n",
    "        \"bootstrapped_f1_p\": BootStrapper(\n",
    "            F1Score(task, num_classes=num_classes, average=\"none\"), num_bootstraps=200\n",
    "        ),\n",
    "        \"bootstrapped_f1\": BootStrapper(\n",
    "            F1Score(task, num_classes=num_classes, average=\"none\"), num_bootstraps=200\n",
    "        ),\n",
    "        # \"loss\": MeanMetric(),\n",
    "        # don't need macro as it is a simple average of the per-class scores\n",
    "        # **get_metrics(num_classes, \"macro\"),\n",
    "    },\n",
    "    prefix=f\"{stage}/\",\n",
    ")"
   ]
  },
  {
   "cell_type": "code",
   "execution_count": 66,
   "metadata": {},
   "outputs": [],
   "source": [
    "b = MetricCollection(\n",
    "    {\n",
    "        \"a\": BootStrapper(\n",
    "            F1Score(task, num_classes=num_classes, average=\"none\"), num_bootstraps=200\n",
    "        ),\n",
    "        \"b\": F1Score(task, num_classes=num_classes, average=\"none\"),\n",
    "        # \"c\": BootStrapper(F1Score(task, num_classes=num_classes, average=\"none\"), num_bootstraps=200),\n",
    "        **get_metrics(task, num_classes, \"micro\"),\n",
    "        **get_metrics(task, num_classes, \"none\"),\n",
    "        \"auroc_perclass\": AUROC(task, num_classes=num_classes, average=\"none\", thresholds=None),\n",
    "        \"auprc_perclass\": AveragePrecision(\n",
    "            task, num_classes=num_classes, average=\"none\", thresholds=None\n",
    "        ),\n",
    "    }\n",
    ")"
   ]
  },
  {
   "cell_type": "code",
   "execution_count": 65,
   "metadata": {},
   "outputs": [
    {
     "data": {
      "text/plain": [
       "{'train/accuracy_micro': tensor(0.5000),\n",
       " 'train/accuracy_perclass': tensor([0.5000, 0.7500, 0.0000]),\n",
       " 'train/auprc_perclass': tensor([0.6083, 0.8500, 0.2000]),\n",
       " 'train/auroc_perclass': tensor([0.7500, 0.7500, 0.2500]),\n",
       " 'train/mean': tensor([0.4961, 0.7458, 0.0000]),\n",
       " 'train/std': tensor([0.1072, 0.0823, 0.0000]),\n",
       " 'train/f1_micro': tensor(0.5000),\n",
       " 'train/f1_perclass': tensor([0.5000, 0.7500, 0.0000]),\n",
       " 'train/precision_micro': tensor(0.5000),\n",
       " 'train/precision_perclass': tensor([0.5000, 0.7500, 0.0000]),\n",
       " 'train/recall_micro': tensor(0.5000),\n",
       " 'train/recall_perclass': tensor([0.5000, 0.7500, 0.0000]),\n",
       " 'train/specificity_micro': tensor(0.7500),\n",
       " 'train/specificity_perclass': tensor([0.6667, 0.8333, 0.7500])}"
      ]
     },
     "execution_count": 65,
     "metadata": {},
     "output_type": "execute_result"
    }
   ],
   "source": [
    "metrics(preds, target)"
   ]
  },
  {
   "cell_type": "code",
   "execution_count": 67,
   "metadata": {},
   "outputs": [
    {
     "data": {
      "text/plain": [
       "{'mean': tensor([0.4939, 0.7287, 0.0000]),\n",
       " 'std': tensor([0.1622, 0.1454, 0.0000]),\n",
       " 'accuracy_micro': tensor(0.5000),\n",
       " 'accuracy_perclass': tensor([0.5000, 0.7500, 0.0000]),\n",
       " 'auprc_perclass': tensor([0.6083, 0.8500, 0.2000]),\n",
       " 'auroc_perclass': tensor([0.7500, 0.7500, 0.2500]),\n",
       " 'b': tensor([0.5000, 0.7500, 0.0000]),\n",
       " 'f1_micro': tensor(0.5000),\n",
       " 'f1_perclass': tensor([0.5000, 0.7500, 0.0000]),\n",
       " 'precision_micro': tensor(0.5000),\n",
       " 'precision_perclass': tensor([0.5000, 0.7500, 0.0000]),\n",
       " 'recall_micro': tensor(0.5000),\n",
       " 'recall_perclass': tensor([0.5000, 0.7500, 0.0000]),\n",
       " 'specificity_micro': tensor(0.7500),\n",
       " 'specificity_perclass': tensor([0.6667, 0.8333, 0.7500])}"
      ]
     },
     "execution_count": 67,
     "metadata": {},
     "output_type": "execute_result"
    }
   ],
   "source": [
    "b(preds, target)"
   ]
  },
  {
   "cell_type": "code",
   "execution_count": null,
   "metadata": {},
   "outputs": [],
   "source": []
  },
  {
   "cell_type": "code",
   "execution_count": 22,
   "metadata": {},
   "outputs": [
    {
     "ename": "TypeError",
     "evalue": "torch.Size() takes an iterable of 'int' (item 0 is 'str')",
     "output_type": "error",
     "traceback": [
      "\u001b[0;31m---------------------------------------------------------------------------\u001b[0m",
      "\u001b[0;31mTypeError\u001b[0m                                 Traceback (most recent call last)",
      "Cell \u001b[0;32mIn[22], line 1\u001b[0m\n\u001b[0;32m----> 1\u001b[0m metrics(preds\u001b[39m=\u001b[39;49mpreds, target\u001b[39m=\u001b[39;49mtarget)\n",
      "File \u001b[0;32m~/.conda/envs/anchoral/lib/python3.9/site-packages/torch/nn/modules/module.py:1501\u001b[0m, in \u001b[0;36mModule._call_impl\u001b[0;34m(self, *args, **kwargs)\u001b[0m\n\u001b[1;32m   1496\u001b[0m \u001b[39m# If we don't have any hooks, we want to skip the rest of the logic in\u001b[39;00m\n\u001b[1;32m   1497\u001b[0m \u001b[39m# this function, and just call forward.\u001b[39;00m\n\u001b[1;32m   1498\u001b[0m \u001b[39mif\u001b[39;00m \u001b[39mnot\u001b[39;00m (\u001b[39mself\u001b[39m\u001b[39m.\u001b[39m_backward_hooks \u001b[39mor\u001b[39;00m \u001b[39mself\u001b[39m\u001b[39m.\u001b[39m_backward_pre_hooks \u001b[39mor\u001b[39;00m \u001b[39mself\u001b[39m\u001b[39m.\u001b[39m_forward_hooks \u001b[39mor\u001b[39;00m \u001b[39mself\u001b[39m\u001b[39m.\u001b[39m_forward_pre_hooks\n\u001b[1;32m   1499\u001b[0m         \u001b[39mor\u001b[39;00m _global_backward_pre_hooks \u001b[39mor\u001b[39;00m _global_backward_hooks\n\u001b[1;32m   1500\u001b[0m         \u001b[39mor\u001b[39;00m _global_forward_hooks \u001b[39mor\u001b[39;00m _global_forward_pre_hooks):\n\u001b[0;32m-> 1501\u001b[0m     \u001b[39mreturn\u001b[39;00m forward_call(\u001b[39m*\u001b[39;49margs, \u001b[39m*\u001b[39;49m\u001b[39m*\u001b[39;49mkwargs)\n\u001b[1;32m   1502\u001b[0m \u001b[39m# Do not call functions when jit is used\u001b[39;00m\n\u001b[1;32m   1503\u001b[0m full_backward_hooks, non_full_backward_hooks \u001b[39m=\u001b[39m [], []\n",
      "File \u001b[0;32m~/.conda/envs/anchoral/lib/python3.9/site-packages/torchmetrics/collections.py:198\u001b[0m, in \u001b[0;36mMetricCollection.forward\u001b[0;34m(self, *args, **kwargs)\u001b[0m\n\u001b[1;32m    190\u001b[0m \u001b[39m@torch\u001b[39m\u001b[39m.\u001b[39mjit\u001b[39m.\u001b[39munused\n\u001b[1;32m    191\u001b[0m \u001b[39mdef\u001b[39;00m \u001b[39mforward\u001b[39m(\u001b[39mself\u001b[39m, \u001b[39m*\u001b[39margs: Any, \u001b[39m*\u001b[39m\u001b[39m*\u001b[39mkwargs: Any) \u001b[39m-\u001b[39m\u001b[39m>\u001b[39m Dict[\u001b[39mstr\u001b[39m, Any]:\n\u001b[1;32m    192\u001b[0m \u001b[39m    \u001b[39m\u001b[39m\"\"\"Call forward for each metric sequentially.\u001b[39;00m\n\u001b[1;32m    193\u001b[0m \n\u001b[1;32m    194\u001b[0m \u001b[39m    Positional arguments (args) will be passed to every metric in the collection, while keyword arguments (kwargs)\u001b[39;00m\n\u001b[1;32m    195\u001b[0m \u001b[39m    will be filtered based on the signature of the individual metric.\u001b[39;00m\n\u001b[1;32m    196\u001b[0m \n\u001b[1;32m    197\u001b[0m \u001b[39m    \"\"\"\u001b[39;00m\n\u001b[0;32m--> 198\u001b[0m     \u001b[39mreturn\u001b[39;00m \u001b[39mself\u001b[39;49m\u001b[39m.\u001b[39;49m_compute_and_reduce(\u001b[39m\"\u001b[39;49m\u001b[39mforward\u001b[39;49m\u001b[39m\"\u001b[39;49m, \u001b[39m*\u001b[39;49margs, \u001b[39m*\u001b[39;49m\u001b[39m*\u001b[39;49mkwargs)\n",
      "File \u001b[0;32m~/.conda/envs/anchoral/lib/python3.9/site-packages/torchmetrics/collections.py:334\u001b[0m, in \u001b[0;36mMetricCollection._compute_and_reduce\u001b[0;34m(self, method_name, *args, **kwargs)\u001b[0m\n\u001b[1;32m    332\u001b[0m     res \u001b[39m=\u001b[39m m\u001b[39m.\u001b[39mcompute()\n\u001b[1;32m    333\u001b[0m \u001b[39melif\u001b[39;00m method_name \u001b[39m==\u001b[39m \u001b[39m\"\u001b[39m\u001b[39mforward\u001b[39m\u001b[39m\"\u001b[39m:\n\u001b[0;32m--> 334\u001b[0m     res \u001b[39m=\u001b[39m m(\u001b[39m*\u001b[39;49margs, \u001b[39m*\u001b[39;49m\u001b[39m*\u001b[39;49mm\u001b[39m.\u001b[39;49m_filter_kwargs(\u001b[39m*\u001b[39;49m\u001b[39m*\u001b[39;49mkwargs))\n\u001b[1;32m    335\u001b[0m \u001b[39melse\u001b[39;00m:\n\u001b[1;32m    336\u001b[0m     \u001b[39mraise\u001b[39;00m \u001b[39mValueError\u001b[39;00m(\u001b[39m\"\u001b[39m\u001b[39mmethod_name should be either \u001b[39m\u001b[39m'\u001b[39m\u001b[39mcompute\u001b[39m\u001b[39m'\u001b[39m\u001b[39m or \u001b[39m\u001b[39m'\u001b[39m\u001b[39mforward\u001b[39m\u001b[39m'\u001b[39m\u001b[39m, but got \u001b[39m\u001b[39m{method_name}\u001b[39;00m\u001b[39m\"\u001b[39m)\n",
      "File \u001b[0;32m~/.conda/envs/anchoral/lib/python3.9/site-packages/torch/nn/modules/module.py:1501\u001b[0m, in \u001b[0;36mModule._call_impl\u001b[0;34m(self, *args, **kwargs)\u001b[0m\n\u001b[1;32m   1496\u001b[0m \u001b[39m# If we don't have any hooks, we want to skip the rest of the logic in\u001b[39;00m\n\u001b[1;32m   1497\u001b[0m \u001b[39m# this function, and just call forward.\u001b[39;00m\n\u001b[1;32m   1498\u001b[0m \u001b[39mif\u001b[39;00m \u001b[39mnot\u001b[39;00m (\u001b[39mself\u001b[39m\u001b[39m.\u001b[39m_backward_hooks \u001b[39mor\u001b[39;00m \u001b[39mself\u001b[39m\u001b[39m.\u001b[39m_backward_pre_hooks \u001b[39mor\u001b[39;00m \u001b[39mself\u001b[39m\u001b[39m.\u001b[39m_forward_hooks \u001b[39mor\u001b[39;00m \u001b[39mself\u001b[39m\u001b[39m.\u001b[39m_forward_pre_hooks\n\u001b[1;32m   1499\u001b[0m         \u001b[39mor\u001b[39;00m _global_backward_pre_hooks \u001b[39mor\u001b[39;00m _global_backward_hooks\n\u001b[1;32m   1500\u001b[0m         \u001b[39mor\u001b[39;00m _global_forward_hooks \u001b[39mor\u001b[39;00m _global_forward_pre_hooks):\n\u001b[0;32m-> 1501\u001b[0m     \u001b[39mreturn\u001b[39;00m forward_call(\u001b[39m*\u001b[39;49margs, \u001b[39m*\u001b[39;49m\u001b[39m*\u001b[39;49mkwargs)\n\u001b[1;32m   1502\u001b[0m \u001b[39m# Do not call functions when jit is used\u001b[39;00m\n\u001b[1;32m   1503\u001b[0m full_backward_hooks, non_full_backward_hooks \u001b[39m=\u001b[39m [], []\n",
      "File \u001b[0;32m~/.conda/envs/anchoral/lib/python3.9/site-packages/torchmetrics/wrappers/bootstrapping.py:168\u001b[0m, in \u001b[0;36mBootStrapper.forward\u001b[0;34m(self, *args, **kwargs)\u001b[0m\n\u001b[1;32m    166\u001b[0m \u001b[39mdef\u001b[39;00m \u001b[39mforward\u001b[39m(\u001b[39mself\u001b[39m, \u001b[39m*\u001b[39margs: Any, \u001b[39m*\u001b[39m\u001b[39m*\u001b[39mkwargs: Any) \u001b[39m-\u001b[39m\u001b[39m>\u001b[39m Any:\n\u001b[1;32m    167\u001b[0m \u001b[39m    \u001b[39m\u001b[39m\"\"\"Use the original forward method of the base metric class.\"\"\"\u001b[39;00m\n\u001b[0;32m--> 168\u001b[0m     \u001b[39mreturn\u001b[39;00m \u001b[39msuper\u001b[39;49m(WrapperMetric, \u001b[39mself\u001b[39;49m)\u001b[39m.\u001b[39;49mforward(\u001b[39m*\u001b[39;49margs, \u001b[39m*\u001b[39;49m\u001b[39m*\u001b[39;49mkwargs)\n",
      "File \u001b[0;32m~/.conda/envs/anchoral/lib/python3.9/site-packages/torchmetrics/metric.py:296\u001b[0m, in \u001b[0;36mMetric.forward\u001b[0;34m(self, *args, **kwargs)\u001b[0m\n\u001b[1;32m    290\u001b[0m     \u001b[39mraise\u001b[39;00m TorchMetricsUserError(\n\u001b[1;32m    291\u001b[0m         \u001b[39m\"\u001b[39m\u001b[39mThe Metric shouldn\u001b[39m\u001b[39m'\u001b[39m\u001b[39mt be synced when performing ``forward``. \u001b[39m\u001b[39m\"\u001b[39m\n\u001b[1;32m    292\u001b[0m         \u001b[39m\"\u001b[39m\u001b[39mHINT: Did you forget to call ``unsync`` ?.\u001b[39m\u001b[39m\"\u001b[39m\n\u001b[1;32m    293\u001b[0m     )\n\u001b[1;32m    295\u001b[0m \u001b[39mif\u001b[39;00m \u001b[39mself\u001b[39m\u001b[39m.\u001b[39mfull_state_update \u001b[39mor\u001b[39;00m \u001b[39mself\u001b[39m\u001b[39m.\u001b[39mfull_state_update \u001b[39mis\u001b[39;00m \u001b[39mNone\u001b[39;00m \u001b[39mor\u001b[39;00m \u001b[39mself\u001b[39m\u001b[39m.\u001b[39mdist_sync_on_step:\n\u001b[0;32m--> 296\u001b[0m     \u001b[39mself\u001b[39m\u001b[39m.\u001b[39m_forward_cache \u001b[39m=\u001b[39m \u001b[39mself\u001b[39;49m\u001b[39m.\u001b[39;49m_forward_full_state_update(\u001b[39m*\u001b[39;49margs, \u001b[39m*\u001b[39;49m\u001b[39m*\u001b[39;49mkwargs)\n\u001b[1;32m    297\u001b[0m \u001b[39melse\u001b[39;00m:\n\u001b[1;32m    298\u001b[0m     \u001b[39mself\u001b[39m\u001b[39m.\u001b[39m_forward_cache \u001b[39m=\u001b[39m \u001b[39mself\u001b[39m\u001b[39m.\u001b[39m_forward_reduce_state_update(\u001b[39m*\u001b[39margs, \u001b[39m*\u001b[39m\u001b[39m*\u001b[39mkwargs)\n",
      "File \u001b[0;32m~/.conda/envs/anchoral/lib/python3.9/site-packages/torchmetrics/metric.py:311\u001b[0m, in \u001b[0;36mMetric._forward_full_state_update\u001b[0;34m(self, *args, **kwargs)\u001b[0m\n\u001b[1;32m    303\u001b[0m \u001b[39m\u001b[39m\u001b[39m\"\"\"Forward computation using two calls to `update`.\u001b[39;00m\n\u001b[1;32m    304\u001b[0m \n\u001b[1;32m    305\u001b[0m \u001b[39mDoing this secures that metrics that need access to the full metric state during `update` works as expected.\u001b[39;00m\n\u001b[0;32m   (...)\u001b[0m\n\u001b[1;32m    308\u001b[0m \n\u001b[1;32m    309\u001b[0m \u001b[39m\"\"\"\u001b[39;00m\n\u001b[1;32m    310\u001b[0m \u001b[39m# global accumulation\u001b[39;00m\n\u001b[0;32m--> 311\u001b[0m \u001b[39mself\u001b[39;49m\u001b[39m.\u001b[39;49mupdate(\u001b[39m*\u001b[39;49margs, \u001b[39m*\u001b[39;49m\u001b[39m*\u001b[39;49mkwargs)\n\u001b[1;32m    312\u001b[0m _update_count \u001b[39m=\u001b[39m \u001b[39mself\u001b[39m\u001b[39m.\u001b[39m_update_count\n\u001b[1;32m    314\u001b[0m \u001b[39mself\u001b[39m\u001b[39m.\u001b[39m_to_sync \u001b[39m=\u001b[39m \u001b[39mself\u001b[39m\u001b[39m.\u001b[39mdist_sync_on_step\n",
      "File \u001b[0;32m~/.conda/envs/anchoral/lib/python3.9/site-packages/torchmetrics/wrappers/bootstrapping.py:140\u001b[0m, in \u001b[0;36mBootStrapper.update\u001b[0;34m(self, *args, **kwargs)\u001b[0m\n\u001b[1;32m    137\u001b[0m     \u001b[39mraise\u001b[39;00m \u001b[39mValueError\u001b[39;00m(\u001b[39m\"\u001b[39m\u001b[39mNone of the input contained tensors, so could not determine the sampling size\u001b[39m\u001b[39m\"\u001b[39m)\n\u001b[1;32m    139\u001b[0m \u001b[39mfor\u001b[39;00m idx \u001b[39min\u001b[39;00m \u001b[39mrange\u001b[39m(\u001b[39mself\u001b[39m\u001b[39m.\u001b[39mnum_bootstraps):\n\u001b[0;32m--> 140\u001b[0m     sample_idx \u001b[39m=\u001b[39m _bootstrap_sampler(size, sampling_strategy\u001b[39m=\u001b[39;49m\u001b[39mself\u001b[39;49m\u001b[39m.\u001b[39;49msampling_strategy)\u001b[39m.\u001b[39mto(\u001b[39mself\u001b[39m\u001b[39m.\u001b[39mdevice)\n\u001b[1;32m    141\u001b[0m     \u001b[39mif\u001b[39;00m sample_idx\u001b[39m.\u001b[39mnumel() \u001b[39m==\u001b[39m \u001b[39m0\u001b[39m:\n\u001b[1;32m    142\u001b[0m         \u001b[39mcontinue\u001b[39;00m\n",
      "File \u001b[0;32m~/.conda/envs/anchoral/lib/python3.9/site-packages/torchmetrics/wrappers/bootstrapping.py:47\u001b[0m, in \u001b[0;36m_bootstrap_sampler\u001b[0;34m(size, sampling_strategy)\u001b[0m\n\u001b[1;32m     45\u001b[0m \u001b[39mif\u001b[39;00m sampling_strategy \u001b[39m==\u001b[39m \u001b[39m\"\u001b[39m\u001b[39mpoisson\u001b[39m\u001b[39m\"\u001b[39m:\n\u001b[1;32m     46\u001b[0m     p \u001b[39m=\u001b[39m torch\u001b[39m.\u001b[39mdistributions\u001b[39m.\u001b[39mPoisson(\u001b[39m1\u001b[39m)\n\u001b[0;32m---> 47\u001b[0m     n \u001b[39m=\u001b[39m p\u001b[39m.\u001b[39;49msample((size,))\n\u001b[1;32m     48\u001b[0m     \u001b[39mreturn\u001b[39;00m torch\u001b[39m.\u001b[39marange(size)\u001b[39m.\u001b[39mrepeat_interleave(n\u001b[39m.\u001b[39mlong(), dim\u001b[39m=\u001b[39m\u001b[39m0\u001b[39m)\n\u001b[1;32m     49\u001b[0m \u001b[39mif\u001b[39;00m sampling_strategy \u001b[39m==\u001b[39m \u001b[39m\"\u001b[39m\u001b[39mmultinomial\u001b[39m\u001b[39m\"\u001b[39m:\n",
      "File \u001b[0;32m~/.conda/envs/anchoral/lib/python3.9/site-packages/torch/distributions/poisson.py:61\u001b[0m, in \u001b[0;36mPoisson.sample\u001b[0;34m(self, sample_shape)\u001b[0m\n\u001b[1;32m     60\u001b[0m \u001b[39mdef\u001b[39;00m \u001b[39msample\u001b[39m(\u001b[39mself\u001b[39m, sample_shape\u001b[39m=\u001b[39mtorch\u001b[39m.\u001b[39mSize()):\n\u001b[0;32m---> 61\u001b[0m     shape \u001b[39m=\u001b[39m \u001b[39mself\u001b[39;49m\u001b[39m.\u001b[39;49m_extended_shape(sample_shape)\n\u001b[1;32m     62\u001b[0m     \u001b[39mwith\u001b[39;00m torch\u001b[39m.\u001b[39mno_grad():\n\u001b[1;32m     63\u001b[0m         \u001b[39mreturn\u001b[39;00m torch\u001b[39m.\u001b[39mpoisson(\u001b[39mself\u001b[39m\u001b[39m.\u001b[39mrate\u001b[39m.\u001b[39mexpand(shape))\n",
      "File \u001b[0;32m~/.conda/envs/anchoral/lib/python3.9/site-packages/torch/distributions/distribution.py:259\u001b[0m, in \u001b[0;36mDistribution._extended_shape\u001b[0;34m(self, sample_shape)\u001b[0m\n\u001b[1;32m    249\u001b[0m \u001b[39m\u001b[39m\u001b[39m\"\"\"\u001b[39;00m\n\u001b[1;32m    250\u001b[0m \u001b[39mReturns the size of the sample returned by the distribution, given\u001b[39;00m\n\u001b[1;32m    251\u001b[0m \u001b[39ma `sample_shape`. Note, that the batch and event shapes of a distribution\u001b[39;00m\n\u001b[0;32m   (...)\u001b[0m\n\u001b[1;32m    256\u001b[0m \u001b[39m    sample_shape (torch.Size): the size of the sample to be drawn.\u001b[39;00m\n\u001b[1;32m    257\u001b[0m \u001b[39m\"\"\"\u001b[39;00m\n\u001b[1;32m    258\u001b[0m \u001b[39mif\u001b[39;00m \u001b[39mnot\u001b[39;00m \u001b[39misinstance\u001b[39m(sample_shape, torch\u001b[39m.\u001b[39mSize):\n\u001b[0;32m--> 259\u001b[0m     sample_shape \u001b[39m=\u001b[39m torch\u001b[39m.\u001b[39;49mSize(sample_shape)\n\u001b[1;32m    260\u001b[0m \u001b[39mreturn\u001b[39;00m torch\u001b[39m.\u001b[39mSize(sample_shape \u001b[39m+\u001b[39m \u001b[39mself\u001b[39m\u001b[39m.\u001b[39m_batch_shape \u001b[39m+\u001b[39m \u001b[39mself\u001b[39m\u001b[39m.\u001b[39m_event_shape)\n",
      "\u001b[0;31mTypeError\u001b[0m: torch.Size() takes an iterable of 'int' (item 0 is 'str')"
     ]
    }
   ],
   "source": [
    "metrics(preds=preds, target=target)"
   ]
  },
  {
   "cell_type": "code",
   "execution_count": null,
   "metadata": {},
   "outputs": [],
   "source": []
  },
  {
   "cell_type": "code",
   "execution_count": null,
   "metadata": {},
   "outputs": [],
   "source": []
  },
  {
   "cell_type": "code",
   "execution_count": 93,
   "metadata": {},
   "outputs": [
    {
     "data": {
      "text/plain": [
       "{'class0': tensor(0.5000), 'class1': tensor(0.7500), 'class2': tensor(0.)}"
      ]
     },
     "execution_count": 93,
     "metadata": {},
     "output_type": "execute_result"
    }
   ],
   "source": [
    "classwise = ClasswiseWrapper(MulticlassAccuracy(num_classes=3, average=None), prefix=\"class\")\n",
    "classwise(preds, target)"
   ]
  },
  {
   "cell_type": "code",
   "execution_count": 132,
   "metadata": {},
   "outputs": [
    {
     "ename": "RuntimeError",
     "evalue": "cannot reshape tensor of 0 elements into shape [0, -1] because the unspecified dimension size -1 can be any value and is ambiguous",
     "output_type": "error",
     "traceback": [
      "\u001b[0;31m---------------------------------------------------------------------------\u001b[0m",
      "\u001b[0;31mRuntimeError\u001b[0m                              Traceback (most recent call last)",
      "Cell \u001b[0;32mIn[132], line 6\u001b[0m\n\u001b[1;32m      3\u001b[0m a \u001b[39m=\u001b[39m preds[:\u001b[39m3\u001b[39m]\n\u001b[1;32m      4\u001b[0m b \u001b[39m=\u001b[39m torch\u001b[39m.\u001b[39mLongTensor([\u001b[39m0\u001b[39m, \u001b[39m0\u001b[39m, \u001b[39m0\u001b[39m])\n\u001b[0;32m----> 6\u001b[0m f1_score(a, b), bootstrap_f1(a, b)\n",
      "File \u001b[0;32m~/.conda/envs/anchoral/lib/python3.9/site-packages/torch/nn/modules/module.py:1501\u001b[0m, in \u001b[0;36mModule._call_impl\u001b[0;34m(self, *args, **kwargs)\u001b[0m\n\u001b[1;32m   1496\u001b[0m \u001b[39m# If we don't have any hooks, we want to skip the rest of the logic in\u001b[39;00m\n\u001b[1;32m   1497\u001b[0m \u001b[39m# this function, and just call forward.\u001b[39;00m\n\u001b[1;32m   1498\u001b[0m \u001b[39mif\u001b[39;00m \u001b[39mnot\u001b[39;00m (\u001b[39mself\u001b[39m\u001b[39m.\u001b[39m_backward_hooks \u001b[39mor\u001b[39;00m \u001b[39mself\u001b[39m\u001b[39m.\u001b[39m_backward_pre_hooks \u001b[39mor\u001b[39;00m \u001b[39mself\u001b[39m\u001b[39m.\u001b[39m_forward_hooks \u001b[39mor\u001b[39;00m \u001b[39mself\u001b[39m\u001b[39m.\u001b[39m_forward_pre_hooks\n\u001b[1;32m   1499\u001b[0m         \u001b[39mor\u001b[39;00m _global_backward_pre_hooks \u001b[39mor\u001b[39;00m _global_backward_hooks\n\u001b[1;32m   1500\u001b[0m         \u001b[39mor\u001b[39;00m _global_forward_hooks \u001b[39mor\u001b[39;00m _global_forward_pre_hooks):\n\u001b[0;32m-> 1501\u001b[0m     \u001b[39mreturn\u001b[39;00m forward_call(\u001b[39m*\u001b[39;49margs, \u001b[39m*\u001b[39;49m\u001b[39m*\u001b[39;49mkwargs)\n\u001b[1;32m   1502\u001b[0m \u001b[39m# Do not call functions when jit is used\u001b[39;00m\n\u001b[1;32m   1503\u001b[0m full_backward_hooks, non_full_backward_hooks \u001b[39m=\u001b[39m [], []\n",
      "File \u001b[0;32m~/.conda/envs/anchoral/lib/python3.9/site-packages/torchmetrics/wrappers/bootstrapping.py:165\u001b[0m, in \u001b[0;36mBootStrapper.forward\u001b[0;34m(self, *args, **kwargs)\u001b[0m\n\u001b[1;32m    163\u001b[0m \u001b[39mdef\u001b[39;00m \u001b[39mforward\u001b[39m(\u001b[39mself\u001b[39m, \u001b[39m*\u001b[39margs: Any, \u001b[39m*\u001b[39m\u001b[39m*\u001b[39mkwargs: Any) \u001b[39m-\u001b[39m\u001b[39m>\u001b[39m Any:\n\u001b[1;32m    164\u001b[0m \u001b[39m    \u001b[39m\u001b[39m\"\"\"Use the original forward method of the base metric class.\"\"\"\u001b[39;00m\n\u001b[0;32m--> 165\u001b[0m     \u001b[39mreturn\u001b[39;00m \u001b[39msuper\u001b[39;49m(WrapperMetric, \u001b[39mself\u001b[39;49m)\u001b[39m.\u001b[39;49mforward(\u001b[39m*\u001b[39;49margs, \u001b[39m*\u001b[39;49m\u001b[39m*\u001b[39;49mkwargs)\n",
      "File \u001b[0;32m~/.conda/envs/anchoral/lib/python3.9/site-packages/torchmetrics/metric.py:296\u001b[0m, in \u001b[0;36mMetric.forward\u001b[0;34m(self, *args, **kwargs)\u001b[0m\n\u001b[1;32m    290\u001b[0m     \u001b[39mraise\u001b[39;00m TorchMetricsUserError(\n\u001b[1;32m    291\u001b[0m         \u001b[39m\"\u001b[39m\u001b[39mThe Metric shouldn\u001b[39m\u001b[39m'\u001b[39m\u001b[39mt be synced when performing ``forward``. \u001b[39m\u001b[39m\"\u001b[39m\n\u001b[1;32m    292\u001b[0m         \u001b[39m\"\u001b[39m\u001b[39mHINT: Did you forget to call ``unsync`` ?.\u001b[39m\u001b[39m\"\u001b[39m\n\u001b[1;32m    293\u001b[0m     )\n\u001b[1;32m    295\u001b[0m \u001b[39mif\u001b[39;00m \u001b[39mself\u001b[39m\u001b[39m.\u001b[39mfull_state_update \u001b[39mor\u001b[39;00m \u001b[39mself\u001b[39m\u001b[39m.\u001b[39mfull_state_update \u001b[39mis\u001b[39;00m \u001b[39mNone\u001b[39;00m \u001b[39mor\u001b[39;00m \u001b[39mself\u001b[39m\u001b[39m.\u001b[39mdist_sync_on_step:\n\u001b[0;32m--> 296\u001b[0m     \u001b[39mself\u001b[39m\u001b[39m.\u001b[39m_forward_cache \u001b[39m=\u001b[39m \u001b[39mself\u001b[39;49m\u001b[39m.\u001b[39;49m_forward_full_state_update(\u001b[39m*\u001b[39;49margs, \u001b[39m*\u001b[39;49m\u001b[39m*\u001b[39;49mkwargs)\n\u001b[1;32m    297\u001b[0m \u001b[39melse\u001b[39;00m:\n\u001b[1;32m    298\u001b[0m     \u001b[39mself\u001b[39m\u001b[39m.\u001b[39m_forward_cache \u001b[39m=\u001b[39m \u001b[39mself\u001b[39m\u001b[39m.\u001b[39m_forward_reduce_state_update(\u001b[39m*\u001b[39margs, \u001b[39m*\u001b[39m\u001b[39m*\u001b[39mkwargs)\n",
      "File \u001b[0;32m~/.conda/envs/anchoral/lib/python3.9/site-packages/torchmetrics/metric.py:311\u001b[0m, in \u001b[0;36mMetric._forward_full_state_update\u001b[0;34m(self, *args, **kwargs)\u001b[0m\n\u001b[1;32m    303\u001b[0m \u001b[39m\u001b[39m\u001b[39m\"\"\"Forward computation using two calls to `update`.\u001b[39;00m\n\u001b[1;32m    304\u001b[0m \n\u001b[1;32m    305\u001b[0m \u001b[39mDoing this secures that metrics that need access to the full metric state during `update` works as expected.\u001b[39;00m\n\u001b[0;32m   (...)\u001b[0m\n\u001b[1;32m    308\u001b[0m \n\u001b[1;32m    309\u001b[0m \u001b[39m\"\"\"\u001b[39;00m\n\u001b[1;32m    310\u001b[0m \u001b[39m# global accumulation\u001b[39;00m\n\u001b[0;32m--> 311\u001b[0m \u001b[39mself\u001b[39;49m\u001b[39m.\u001b[39;49mupdate(\u001b[39m*\u001b[39;49margs, \u001b[39m*\u001b[39;49m\u001b[39m*\u001b[39;49mkwargs)\n\u001b[1;32m    312\u001b[0m _update_count \u001b[39m=\u001b[39m \u001b[39mself\u001b[39m\u001b[39m.\u001b[39m_update_count\n\u001b[1;32m    314\u001b[0m \u001b[39mself\u001b[39m\u001b[39m.\u001b[39m_to_sync \u001b[39m=\u001b[39m \u001b[39mself\u001b[39m\u001b[39m.\u001b[39mdist_sync_on_step\n",
      "File \u001b[0;32m~/.conda/envs/anchoral/lib/python3.9/site-packages/torchmetrics/wrappers/bootstrapping.py:142\u001b[0m, in \u001b[0;36mBootStrapper.update\u001b[0;34m(self, *args, **kwargs)\u001b[0m\n\u001b[1;32m    140\u001b[0m new_args \u001b[39m=\u001b[39m apply_to_collection(args, Tensor, torch\u001b[39m.\u001b[39mindex_select, dim\u001b[39m=\u001b[39m\u001b[39m0\u001b[39m, index\u001b[39m=\u001b[39msample_idx)\n\u001b[1;32m    141\u001b[0m new_kwargs \u001b[39m=\u001b[39m apply_to_collection(kwargs, Tensor, torch\u001b[39m.\u001b[39mindex_select, dim\u001b[39m=\u001b[39m\u001b[39m0\u001b[39m, index\u001b[39m=\u001b[39msample_idx)\n\u001b[0;32m--> 142\u001b[0m \u001b[39mself\u001b[39;49m\u001b[39m.\u001b[39;49mmetrics[idx]\u001b[39m.\u001b[39;49mupdate(\u001b[39m*\u001b[39;49mnew_args, \u001b[39m*\u001b[39;49m\u001b[39m*\u001b[39;49mnew_kwargs)\n",
      "File \u001b[0;32m~/.conda/envs/anchoral/lib/python3.9/site-packages/torchmetrics/metric.py:467\u001b[0m, in \u001b[0;36mMetric._wrap_update.<locals>.wrapped_func\u001b[0;34m(*args, **kwargs)\u001b[0m\n\u001b[1;32m    459\u001b[0m         \u001b[39mif\u001b[39;00m \u001b[39m\"\u001b[39m\u001b[39mExpected all tensors to be on\u001b[39m\u001b[39m\"\u001b[39m \u001b[39min\u001b[39;00m \u001b[39mstr\u001b[39m(err):\n\u001b[1;32m    460\u001b[0m             \u001b[39mraise\u001b[39;00m \u001b[39mRuntimeError\u001b[39;00m(\n\u001b[1;32m    461\u001b[0m                 \u001b[39m\"\u001b[39m\u001b[39mEncountered different devices in metric calculation (see stacktrace for details).\u001b[39m\u001b[39m\"\u001b[39m\n\u001b[1;32m    462\u001b[0m                 \u001b[39m\"\u001b[39m\u001b[39m This could be due to the metric class not being on the same device as input.\u001b[39m\u001b[39m\"\u001b[39m\n\u001b[0;32m   (...)\u001b[0m\n\u001b[1;32m    465\u001b[0m                 \u001b[39m\"\u001b[39m\u001b[39m device corresponds to the device of the input.\u001b[39m\u001b[39m\"\u001b[39m\n\u001b[1;32m    466\u001b[0m             ) \u001b[39mfrom\u001b[39;00m \u001b[39merr\u001b[39;00m\n\u001b[0;32m--> 467\u001b[0m         \u001b[39mraise\u001b[39;00m err\n\u001b[1;32m    469\u001b[0m \u001b[39mif\u001b[39;00m \u001b[39mself\u001b[39m\u001b[39m.\u001b[39mcompute_on_cpu:\n\u001b[1;32m    470\u001b[0m     \u001b[39mself\u001b[39m\u001b[39m.\u001b[39m_move_list_states_to_cpu()\n",
      "File \u001b[0;32m~/.conda/envs/anchoral/lib/python3.9/site-packages/torchmetrics/metric.py:457\u001b[0m, in \u001b[0;36mMetric._wrap_update.<locals>.wrapped_func\u001b[0;34m(*args, **kwargs)\u001b[0m\n\u001b[1;32m    455\u001b[0m \u001b[39mwith\u001b[39;00m torch\u001b[39m.\u001b[39mset_grad_enabled(\u001b[39mself\u001b[39m\u001b[39m.\u001b[39m_enable_grad):\n\u001b[1;32m    456\u001b[0m     \u001b[39mtry\u001b[39;00m:\n\u001b[0;32m--> 457\u001b[0m         update(\u001b[39m*\u001b[39;49margs, \u001b[39m*\u001b[39;49m\u001b[39m*\u001b[39;49mkwargs)\n\u001b[1;32m    458\u001b[0m     \u001b[39mexcept\u001b[39;00m \u001b[39mRuntimeError\u001b[39;00m \u001b[39mas\u001b[39;00m err:\n\u001b[1;32m    459\u001b[0m         \u001b[39mif\u001b[39;00m \u001b[39m\"\u001b[39m\u001b[39mExpected all tensors to be on\u001b[39m\u001b[39m\"\u001b[39m \u001b[39min\u001b[39;00m \u001b[39mstr\u001b[39m(err):\n",
      "File \u001b[0;32m~/.conda/envs/anchoral/lib/python3.9/site-packages/torchmetrics/classification/stat_scores.py:325\u001b[0m, in \u001b[0;36mMulticlassStatScores.update\u001b[0;34m(self, preds, target)\u001b[0m\n\u001b[1;32m    321\u001b[0m \u001b[39mif\u001b[39;00m \u001b[39mself\u001b[39m\u001b[39m.\u001b[39mvalidate_args:\n\u001b[1;32m    322\u001b[0m     _multiclass_stat_scores_tensor_validation(\n\u001b[1;32m    323\u001b[0m         preds, target, \u001b[39mself\u001b[39m\u001b[39m.\u001b[39mnum_classes, \u001b[39mself\u001b[39m\u001b[39m.\u001b[39mmultidim_average, \u001b[39mself\u001b[39m\u001b[39m.\u001b[39mignore_index\n\u001b[1;32m    324\u001b[0m     )\n\u001b[0;32m--> 325\u001b[0m preds, target \u001b[39m=\u001b[39m _multiclass_stat_scores_format(preds, target, \u001b[39mself\u001b[39;49m\u001b[39m.\u001b[39;49mtop_k)\n\u001b[1;32m    326\u001b[0m tp, fp, tn, fn \u001b[39m=\u001b[39m _multiclass_stat_scores_update(\n\u001b[1;32m    327\u001b[0m     preds, target, \u001b[39mself\u001b[39m\u001b[39m.\u001b[39mnum_classes, \u001b[39mself\u001b[39m\u001b[39m.\u001b[39mtop_k, \u001b[39mself\u001b[39m\u001b[39m.\u001b[39maverage, \u001b[39mself\u001b[39m\u001b[39m.\u001b[39mmultidim_average, \u001b[39mself\u001b[39m\u001b[39m.\u001b[39mignore_index\n\u001b[1;32m    328\u001b[0m )\n\u001b[1;32m    329\u001b[0m \u001b[39mself\u001b[39m\u001b[39m.\u001b[39m_update_state(tp, fp, tn, fn)\n",
      "File \u001b[0;32m~/.conda/envs/anchoral/lib/python3.9/site-packages/torchmetrics/functional/classification/stat_scores.py:339\u001b[0m, in \u001b[0;36m_multiclass_stat_scores_format\u001b[0;34m(preds, target, top_k)\u001b[0m\n\u001b[1;32m    337\u001b[0m \u001b[39mif\u001b[39;00m preds\u001b[39m.\u001b[39mndim \u001b[39m==\u001b[39m target\u001b[39m.\u001b[39mndim \u001b[39m+\u001b[39m \u001b[39m1\u001b[39m \u001b[39mand\u001b[39;00m top_k \u001b[39m==\u001b[39m \u001b[39m1\u001b[39m:\n\u001b[1;32m    338\u001b[0m     preds \u001b[39m=\u001b[39m preds\u001b[39m.\u001b[39margmax(dim\u001b[39m=\u001b[39m\u001b[39m1\u001b[39m)\n\u001b[0;32m--> 339\u001b[0m preds \u001b[39m=\u001b[39m preds\u001b[39m.\u001b[39mreshape(\u001b[39m*\u001b[39mpreds\u001b[39m.\u001b[39mshape[:\u001b[39m2\u001b[39m], \u001b[39m-\u001b[39m\u001b[39m1\u001b[39m) \u001b[39mif\u001b[39;00m top_k \u001b[39m!=\u001b[39m \u001b[39m1\u001b[39m \u001b[39melse\u001b[39;00m preds\u001b[39m.\u001b[39;49mreshape(preds\u001b[39m.\u001b[39;49mshape[\u001b[39m0\u001b[39;49m], \u001b[39m-\u001b[39;49m\u001b[39m1\u001b[39;49m)\n\u001b[1;32m    340\u001b[0m target \u001b[39m=\u001b[39m target\u001b[39m.\u001b[39mreshape(target\u001b[39m.\u001b[39mshape[\u001b[39m0\u001b[39m], \u001b[39m-\u001b[39m\u001b[39m1\u001b[39m)\n\u001b[1;32m    341\u001b[0m \u001b[39mreturn\u001b[39;00m preds, target\n",
      "\u001b[0;31mRuntimeError\u001b[0m: cannot reshape tensor of 0 elements into shape [0, -1] because the unspecified dimension size -1 can be any value and is ambiguous"
     ]
    }
   ],
   "source": [
    "f1_score = MulticlassF1Score(num_classes=3, average=None)\n",
    "\n",
    "a = preds[:3]\n",
    "b = torch.LongTensor([0, 0, 0])\n",
    "\n",
    "f1_score(a, b), bootstrap_f1(a, b)"
   ]
  },
  {
   "cell_type": "code",
   "execution_count": null,
   "metadata": {},
   "outputs": [],
   "source": []
  },
  {
   "cell_type": "code",
   "execution_count": null,
   "metadata": {},
   "outputs": [],
   "source": []
  },
  {
   "cell_type": "code",
   "execution_count": 121,
   "metadata": {},
   "outputs": [
    {
     "data": {
      "text/plain": [
       "{'mean': tensor([0.4976, 0.7697, 0.0000]),\n",
       " 'std': tensor([0.0989, 0.0920, 0.0000])}"
      ]
     },
     "execution_count": 121,
     "metadata": {},
     "output_type": "execute_result"
    }
   ],
   "source": [
    "bootstrap_f1(preds, target)"
   ]
  },
  {
   "cell_type": "code",
   "execution_count": null,
   "metadata": {},
   "outputs": [],
   "source": []
  },
  {
   "cell_type": "code",
   "execution_count": 118,
   "metadata": {},
   "outputs": [],
   "source": [
    "num_classes = 3\n",
    "task = \"multiclass\"\n",
    "metrics = MetricCollection(\n",
    "    {\n",
    "        # class-wise\n",
    "        \"accuracy_class\": Accuracy(task, num_classes=num_classes, average=\"none\"),\n",
    "        \"f1_class\": F1Score(task, num_classes=num_classes, average=\"none\"),\n",
    "        \"precision_class\": Precision(task, num_classes=num_classes, average=\"none\"),\n",
    "        \"recall_class\": Recall(task, num_classes=num_classes, average=\"none\"),\n",
    "        # micro\n",
    "        \"accuracy_micro\": Accuracy(task, num_classes=num_classes, average=\"micro\"),\n",
    "        \"f1_micro\": F1Score(task, num_classes=num_classes, average=\"micro\"),\n",
    "        \"precision_micro\": Precision(task, num_classes=num_classes, average=\"micro\"),\n",
    "        \"recall_micro\": Recall(task, num_classes=num_classes, average=\"micro\"),\n",
    "        # macro\n",
    "        \"accuracy_macro\": Accuracy(task, num_classes=num_classes, average=\"macro\"),\n",
    "        \"f1_macro\": F1Score(task, num_classes=num_classes, average=\"macro\"),\n",
    "        \"precision_macro\": Precision(task, num_classes=num_classes, average=\"macro\"),\n",
    "        \"recall_macro\": Recall(task, num_classes=num_classes, average=\"macro\"),\n",
    "        # loss\n",
    "        \"loss\": MeanMetric(),\n",
    "    }\n",
    ")"
   ]
  },
  {
   "cell_type": "code",
   "execution_count": 120,
   "metadata": {},
   "outputs": [
    {
     "data": {
      "text/plain": [
       "{'accuracy_class': tensor([0.5000, 0.7500, 0.0000]),\n",
       " 'accuracy_macro': tensor(0.4167),\n",
       " 'accuracy_micro': tensor(0.5000),\n",
       " 'f1_class': tensor([0.5000, 0.7500, 0.0000]),\n",
       " 'f1_macro': tensor(0.4167),\n",
       " 'f1_micro': tensor(0.5000),\n",
       " 'loss': tensor(0.),\n",
       " 'precision_class': tensor([0.5000, 0.7500, 0.0000]),\n",
       " 'precision_macro': tensor(0.4167),\n",
       " 'precision_micro': tensor(0.5000),\n",
       " 'recall_class': tensor([0.5000, 0.7500, 0.0000]),\n",
       " 'recall_macro': tensor(0.4167),\n",
       " 'recall_micro': tensor(0.5000)}"
      ]
     },
     "execution_count": 120,
     "metadata": {},
     "output_type": "execute_result"
    }
   ],
   "source": [
    "# boot = BootStrapper(F1Score(task, num_classes=num_classes, average=\"none\"), num_bootstraps=20)\n",
    "\n",
    "metrics(preds=preds, target=target, value=torch.tensor(0.0))  # , boot(preds, target)"
   ]
  },
  {
   "cell_type": "code",
   "execution_count": null,
   "metadata": {},
   "outputs": [],
   "source": []
  },
  {
   "cell_type": "code",
   "execution_count": null,
   "metadata": {},
   "outputs": [],
   "source": []
  },
  {
   "cell_type": "code",
   "execution_count": null,
   "metadata": {},
   "outputs": [],
   "source": []
  },
  {
   "cell_type": "code",
   "execution_count": 88,
   "metadata": {},
   "outputs": [
    {
     "data": {
      "text/plain": [
       "{'mean': tensor([0.4591, 0.7782, 0.0000]),\n",
       " 'std': tensor([0.1795, 0.1072, 0.0000])}"
      ]
     },
     "execution_count": 88,
     "metadata": {},
     "output_type": "execute_result"
    }
   ],
   "source": [
    "bootstrap_f1.compute()"
   ]
  },
  {
   "cell_type": "code",
   "execution_count": 67,
   "metadata": {},
   "outputs": [
    {
     "data": {
      "text/plain": [
       "(<Figure size 640x480 with 1 Axes>,\n",
       " <Axes: xlabel='Step', ylabel='BootStrapper'>)"
      ]
     },
     "execution_count": 67,
     "metadata": {},
     "output_type": "execute_result"
    },
    {
     "data": {
      "image/png": "[encoded data removed]",
      "text/plain": [
       "<Figure size 640x480 with 1 Axes>"
      ]
     },
     "metadata": {},
     "output_type": "display_data"
    }
   ],
   "source": [
    "coll[\"d\"]."
   ]
  },
  {
   "cell_type": "code",
   "execution_count": 42,
   "metadata": {},
   "outputs": [
    {
     "data": {
      "text/plain": [
       "(<Figure size 640x480 with 1 Axes>,\n",
       " <Axes: xlabel='Step', ylabel='BootStrapper'>)"
      ]
     },
     "execution_count": 42,
     "metadata": {},
     "output_type": "execute_result"
    },
    {
     "data": {
      "image/png": "[encoded data removed]",
      "text/plain": [
       "<Figure size 640x480 with 1 Axes>"
      ]
     },
     "metadata": {},
     "output_type": "display_data"
    }
   ],
   "source": [
    "bootstrap.plot()"
   ]
  },
  {
   "cell_type": "code",
   "execution_count": 51,
   "metadata": {},
   "outputs": [
    {
     "data": {
      "text/plain": [
       "(<Figure size 640x480 with 1 Axes>, <Axes: ylabel='ClasswiseWrapper'>)"
      ]
     },
     "execution_count": 51,
     "metadata": {},
     "output_type": "execute_result"
    },
    {
     "data": {
      "image/png": "[encoded data removed]",
      "text/plain": [
       "<Figure size 640x480 with 1 Axes>"
      ]
     },
     "metadata": {},
     "output_type": "display_data"
    }
   ],
   "source": [
    "classwise.plot()"
   ]
  },
  {
   "cell_type": "code",
   "execution_count": null,
   "metadata": {},
   "outputs": [],
   "source": []
  },
  {
   "cell_type": "code",
   "execution_count": null,
   "metadata": {},
   "outputs": [],
   "source": [
    "from torchmetrics.wrappers import \n",
    "from torchmetrics.classification import MulticlassAccuracy\n",
    "_ = torch.manual_seed(123)\n",
    "base_metric = MulticlassAccuracy(num_classes=5, average='micro')\n",
    "bootstrap = BootStrapper(base_metric, num_bootstraps=20)\n",
    "bootstrap.update(torch.randint(5, (20,)), torch.randint(5, (20,)))\n",
    "output = bootstrap.compute()\n",
    "pprint(output)"
   ]
  },
  {
   "cell_type": "code",
   "execution_count": null,
   "metadata": {},
   "outputs": [],
   "source": []
  },
  {
   "cell_type": "code",
   "execution_count": 1,
   "metadata": {},
   "outputs": [],
   "source": [
    "import pandas as pd"
   ]
  },
  {
   "cell_type": "code",
   "execution_count": 2,
   "metadata": {},
   "outputs": [],
   "source": [
    "df = pd.read_parquet(\n",
    "    \"/home/pl487/anchoral/outputs/dry_run/agnews/random_2023-08-30T12-39-29/tb_logs.parquet\"\n",
    ")"
   ]
  },
  {
   "cell_type": "code",
   "execution_count": 25,
   "metadata": {},
   "outputs": [],
   "source": [
    "import torch\n",
    "from torch.utils.data import DataLoader, RandomSampler\n",
    "\n",
    "seed = 0\n",
    "g = torch.Generator()\n",
    "\n",
    "dataset = list(range(10))\n",
    "\n",
    "g.manual_seed(seed)\n",
    "\n",
    "sampler = RandomSampler(dataset, generator=g)\n",
    "\n",
    "dl = DataLoader(dataset, batch_size=1, sampler=sampler)\n",
    "a = list(dl)\n",
    "\n",
    "g.manual_seed(seed)\n",
    "b = DataLoader(dataset, batch_size=1, sampler=sampler)"
   ]
  },
  {
   "cell_type": "code",
   "execution_count": 31,
   "metadata": {},
   "outputs": [
    {
     "data": {
      "text/plain": [
       "[(tensor([3]), tensor([2]), tensor([8])),\n",
       " (tensor([4]), tensor([0]), tensor([3])),\n",
       " (tensor([8]), tensor([3]), tensor([5])),\n",
       " (tensor([9]), tensor([8]), tensor([9])),\n",
       " (tensor([0]), tensor([9]), tensor([6])),\n",
       " (tensor([2]), tensor([7]), tensor([0])),\n",
       " (tensor([5]), tensor([1]), tensor([4])),\n",
       " (tensor([1]), tensor([5]), tensor([2])),\n",
       " (tensor([6]), tensor([4]), tensor([1])),\n",
       " (tensor([7]), tensor([6]), tensor([7]))]"
      ]
     },
     "execution_count": 31,
     "metadata": {},
     "output_type": "execute_result"
    }
   ],
   "source": [
    "dl = DataLoader(dataset, batch_size=1, shuffle=True)\n",
    "dl2 = DataLoader(dataset, batch_size=1, shuffle=True)\n",
    "\n",
    "a = list(dl)\n",
    "b = list(dl2)\n",
    "c = list(dl)\n",
    "\n",
    "list(zip(a, b, c))"
   ]
  },
  {
   "cell_type": "code",
   "execution_count": null,
   "metadata": {},
   "outputs": [],
   "source": []
  }
 ],
 "metadata": {
  "kernelspec": {
   "display_name": "anchoral",
   "language": "python",
   "name": "python3"
  },
  "language_info": {
   "codemirror_mode": {
    "name": "ipython",
    "version": 3
   },
   "file_extension": ".py",
   "mimetype": "text/x-python",
   "name": "python",
   "nbconvert_exporter": "python",
   "pygments_lexer": "ipython3",
   "version": "3.9.16"
  },
  "orig_nbformat": 4
 },
 "nbformat": 4,
 "nbformat_minor": 2
}
