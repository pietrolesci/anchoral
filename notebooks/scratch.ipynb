{
 "cells": [
  {
   "cell_type": "code",
   "execution_count": 1,
   "metadata": {},
   "outputs": [],
   "source": [
    "import pandas as pd"
   ]
  },
  {
   "cell_type": "code",
   "execution_count": 2,
   "metadata": {},
   "outputs": [],
   "source": [
    "df = pd.read_parquet(\n",
    "    \"/home/pl487/anchoral/outputs/dry_run/agnews/random_2023-08-30T12-39-29/tb_logs.parquet\"\n",
    ")"
   ]
  },
  {
   "cell_type": "code",
   "execution_count": 25,
   "metadata": {},
   "outputs": [],
   "source": [
    "import torch\n",
    "from torch.utils.data import DataLoader, RandomSampler\n",
    "\n",
    "seed = 0\n",
    "g = torch.Generator()\n",
    "\n",
    "dataset = list(range(10))\n",
    "\n",
    "g.manual_seed(seed)\n",
    "\n",
    "sampler = RandomSampler(dataset, generator=g)\n",
    "\n",
    "dl = DataLoader(dataset, batch_size=1, sampler=sampler)\n",
    "a = list(dl)\n",
    "\n",
    "g.manual_seed(seed)\n",
    "b = DataLoader(dataset, batch_size=1, sampler=sampler)"
   ]
  },
  {
   "cell_type": "code",
   "execution_count": 31,
   "metadata": {},
   "outputs": [
    {
     "data": {
      "text/plain": [
       "[(tensor([3]), tensor([2]), tensor([8])),\n",
       " (tensor([4]), tensor([0]), tensor([3])),\n",
       " (tensor([8]), tensor([3]), tensor([5])),\n",
       " (tensor([9]), tensor([8]), tensor([9])),\n",
       " (tensor([0]), tensor([9]), tensor([6])),\n",
       " (tensor([2]), tensor([7]), tensor([0])),\n",
       " (tensor([5]), tensor([1]), tensor([4])),\n",
       " (tensor([1]), tensor([5]), tensor([2])),\n",
       " (tensor([6]), tensor([4]), tensor([1])),\n",
       " (tensor([7]), tensor([6]), tensor([7]))]"
      ]
     },
     "execution_count": 31,
     "metadata": {},
     "output_type": "execute_result"
    }
   ],
   "source": [
    "dl = DataLoader(dataset, batch_size=1, shuffle=True)\n",
    "dl2 = DataLoader(dataset, batch_size=1, shuffle=True)\n",
    "\n",
    "a = list(dl)\n",
    "b = list(dl2)\n",
    "c = list(dl)\n",
    "\n",
    "list(zip(a, b, c))"
   ]
  },
  {
   "cell_type": "code",
   "execution_count": null,
   "metadata": {},
   "outputs": [],
   "source": []
  }
 ],
 "metadata": {
  "kernelspec": {
   "display_name": "anchoral",
   "language": "python",
   "name": "python3"
  },
  "language_info": {
   "codemirror_mode": {
    "name": "ipython",
    "version": 3
   },
   "file_extension": ".py",
   "mimetype": "text/x-python",
   "name": "python",
   "nbconvert_exporter": "python",
   "pygments_lexer": "ipython3",
   "version": "3.9.16"
  },
  "orig_nbformat": 4
 },
 "nbformat": 4,
 "nbformat_minor": 2
}
