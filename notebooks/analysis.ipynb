{
 "cells": [
  {
   "cell_type": "code",
   "execution_count": 1,
   "metadata": {},
   "outputs": [],
   "source": [
    "from pathlib import Path\n",
    "\n",
    "import matplotlib.pyplot as plt\n",
    "import numpy as np\n",
    "import pandas as pd\n",
    "import seaborn as sns\n",
    "import srsly\n",
    "from datasets import load_from_disk\n",
    "from matplotlib import ticker\n",
    "from scipy.special import entr, softmax\n",
    "from sklearn.manifold import TSNE\n",
    "from sklearn.metrics import jaccard_score\n",
    "from sklearn.metrics.pairwise import cosine_distances, cosine_similarity\n",
    "from tqdm.auto import tqdm"
   ]
  },
  {
   "cell_type": "code",
   "execution_count": null,
   "metadata": {},
   "outputs": [],
   "source": [
    "path_to_experiment = Path(\"../outputs/multirun/reinit_study\")\n",
    "path_to_experiment"
   ]
  },
  {
   "cell_type": "markdown",
   "metadata": {},
   "source": [
    "---\n",
    "### Pool uncertainty"
   ]
  },
  {
   "cell_type": "code",
   "execution_count": null,
   "metadata": {},
   "outputs": [],
   "source": [
    "dataset = \"agnews\"\n",
    "strategy = \"entropy\""
   ]
  },
  {
   "cell_type": "code",
   "execution_count": null,
   "metadata": {},
   "outputs": [],
   "source": [
    "original_df = load_from_disk(f\"../data/processed/{dataset}/\")[\"train\"].to_pandas()"
   ]
  },
  {
   "cell_type": "code",
   "execution_count": null,
   "metadata": {},
   "outputs": [],
   "source": [
    "paths = list((path_to_experiment / dataset).iterdir())\n",
    "paths"
   ]
  },
  {
   "cell_type": "code",
   "execution_count": null,
   "metadata": {},
   "outputs": [],
   "source": [
    "data = []\n",
    "stage = \"pool\"\n",
    "\n",
    "list_df = []\n",
    "for dataset in tqdm(list(path_to_experiment.iterdir())):\n",
    "    if dataset.name == \"imdb\":\n",
    "        continue\n",
    "    original_df = load_from_disk(f\"../data/processed/{dataset.name}/\")[\n",
    "        \"train\"\n",
    "    ].to_pandas()\n",
    "    for strategy in tqdm(list(dataset.iterdir())):\n",
    "        if strategy.name == \"random\":\n",
    "            continue\n",
    "        for reinit in tqdm(list(strategy.iterdir())):\n",
    "            for run in tqdm(list(reinit.iterdir())):\n",
    "                data_seed, model_seed = run.name.split(\"_\")\n",
    "\n",
    "                df = pd.concat(\n",
    "                    [\n",
    "                        pd.read_csv(i).assign(stage=stage)\n",
    "                        for i in (run / \"logs\" / stage).glob(\"*csv\")\n",
    "                    ]\n",
    "                )\n",
    "\n",
    "                # add labels\n",
    "                df = pd.merge(\n",
    "                    df,\n",
    "                    original_df[[\"unique_id\", \"labels\"]],\n",
    "                    on=\"unique_id\",\n",
    "                    how=\"left\",\n",
    "                )\n",
    "\n",
    "                # add logits and margin\n",
    "                logits = df.iloc[:, df.columns.str.startswith(\"logit\")].values\n",
    "                probs = softmax(logits, axis=1)\n",
    "                sorted_probs = np.take_along_axis(probs, probs.argsort(-1), axis=1)\n",
    "                df = df.assign(\n",
    "                    entropy=entr(probs).sum(-1),\n",
    "                    margin=sorted_probs[:, -1] - sorted_probs[:, -2],\n",
    "                    preds=probs.argmax(-1),\n",
    "                    prob_pred=probs.max(-1),\n",
    "                    prob_true=lambda df_: np.take_along_axis(\n",
    "                        probs, df_[\"labels\"].values.reshape(-1, 1), axis=1\n",
    "                    ),\n",
    "                )\n",
    "\n",
    "                # aggregate\n",
    "                df_agg = (\n",
    "                    df.groupby(\"round\")[\n",
    "                        [\"entropy\", \"margin\", \"prob_pred\", \"prob_true\"]\n",
    "                    ]\n",
    "                    .agg([\"mean\", \"max\", \"min\", \"std\", \"size\"])\n",
    "                    .assign(\n",
    "                        data_seed=int(data_seed.split(\"=\")[1]),\n",
    "                        model_seed=int(model_seed.split(\"=\")[1]),\n",
    "                        dataset=dataset.name,\n",
    "                        strategy=strategy.name,\n",
    "                        reinit=eval(str(reinit.name).split(\"=\")[-1]),\n",
    "                    )\n",
    "                )\n",
    "\n",
    "                list_df.append(df_agg)"
   ]
  },
  {
   "cell_type": "code",
   "execution_count": null,
   "metadata": {},
   "outputs": [],
   "source": [
    "agnews = pd.concat(list_df).reset_index()\n",
    "agnews"
   ]
  },
  {
   "cell_type": "code",
   "execution_count": null,
   "metadata": {},
   "outputs": [],
   "source": [
    "plot_data = (\n",
    "    agnews.set_index([\"round\", \"strategy\", \"reinit\"])\n",
    "    .drop(columns=[\"data_seed\", \"model_seed\", \"dataset\"])\n",
    "    .stack(0)\n",
    "    .reset_index()\n",
    "    .rename(columns={\"level_3\": \"metric\", \"reinit\": \"re-initialise\"})\n",
    "    .rename(columns={})\n",
    "    .sort_values(\"strategy\")\n",
    ")"
   ]
  },
  {
   "cell_type": "code",
   "execution_count": null,
   "metadata": {},
   "outputs": [],
   "source": [
    "plot_data"
   ]
  },
  {
   "cell_type": "code",
   "execution_count": null,
   "metadata": {},
   "outputs": [],
   "source": [
    "sns.diverging_palette(250, 30, l=65, center=\"dark\", n=3)"
   ]
  },
  {
   "cell_type": "code",
   "execution_count": null,
   "metadata": {},
   "outputs": [],
   "source": [
    "def plot(plot_data, dpi, ymin, title, metric, y):\n",
    "    colors = sns.diverging_palette(250, 30, l=65, center=\"dark\", n=3)\n",
    "\n",
    "    plt.style.use(\"bmh\")\n",
    "    sns.set_context(\"paper\")\n",
    "\n",
    "    # plot\n",
    "    fig, ax = plt.subplots()\n",
    "    fig.dpi = dpi\n",
    "\n",
    "    sns.lineplot(\n",
    "        data=plot_data.loc[(plot_data[\"metric\"] == metric)],\n",
    "        x=\"round\",\n",
    "        y=y,\n",
    "        hue=\"strategy\",\n",
    "        style=\"re-initialise\",\n",
    "        ax=ax,\n",
    "        palette=colors,\n",
    "    )\n",
    "\n",
    "    ax.yaxis.set_minor_locator(ticker.MultipleLocator(0.1))\n",
    "    ax.xaxis.set_minor_locator(ticker.MultipleLocator(5))\n",
    "    # ax.set_xlim(0, 100)\n",
    "    ax.set_ylim(ymin)\n",
    "\n",
    "    fig.suptitle(title)\n",
    "    ax.set_title(\n",
    "        f\"average {y} {metric} on the entire pool across rounds\", fontsize=10\n",
    "    )\n",
    "    ax.set_ylabel(metric)\n",
    "    ax.set_xlabel(\"Labelling round\")\n",
    "    ax.legend(fontsize=10, bbox_to_anchor=(1, 1))\n",
    "\n",
    "    sns.despine()\n",
    "    plt.show()"
   ]
  },
  {
   "cell_type": "code",
   "execution_count": null,
   "metadata": {},
   "outputs": [],
   "source": [
    "plot(plot_data, dpi=800, ymin=0.2, title=\"AGNEWS\", metric=\"margin\", y=\"mean\")"
   ]
  },
  {
   "cell_type": "markdown",
   "metadata": {},
   "source": [
    "---\n",
    "### Similarity between selected subsets"
   ]
  },
  {
   "cell_type": "code",
   "execution_count": null,
   "metadata": {},
   "outputs": [],
   "source": [
    "path_to_experiment"
   ]
  },
  {
   "cell_type": "code",
   "execution_count": null,
   "metadata": {},
   "outputs": [],
   "source": [
    "list_dfs = []\n",
    "for strategy in (path_to_experiment / \"agnews\").iterdir():\n",
    "    for reinit in strategy.iterdir():\n",
    "        for run in reinit.iterdir():\n",
    "            data_seed, model_seed = run.name.split(\"_\")\n",
    "            df = pd.read_parquet(run / \"logs\" / \"labelled_dataset.parquet\").assign(\n",
    "                reinit=eval(reinit.name.split(\"=\")[1]),\n",
    "                strategy=strategy.name,\n",
    "                experiment=run.name,\n",
    "                data_seed=int(data_seed.split(\"=\")[1]),\n",
    "                model_seed=int(model_seed.split(\"=\")[1]),\n",
    "            )\n",
    "            list_dfs.append(df)"
   ]
  },
  {
   "cell_type": "code",
   "execution_count": null,
   "metadata": {},
   "outputs": [],
   "source": [
    "df = pd.concat(list_dfs).reset_index(drop=True)"
   ]
  },
  {
   "cell_type": "code",
   "execution_count": null,
   "metadata": {},
   "outputs": [],
   "source": [
    "def jaccard_similarity(A, B):\n",
    "    # Find intersection of two sets\n",
    "    nominator = A.intersection(B)\n",
    "\n",
    "    # Find union of two sets\n",
    "    denominator = A.union(B)\n",
    "\n",
    "    # Take the ratio of sizes\n",
    "    similarity = len(nominator) / len(denominator)\n",
    "\n",
    "    return similarity\n",
    "\n",
    "\n",
    "def compute_jaccard(df, a, b):\n",
    "    A = set(df.loc[df[\"strategy\"] == a, \"unique_id\"].unique())\n",
    "    B = set(df.loc[df[\"strategy\"] == b, \"unique_id\"].unique())\n",
    "\n",
    "    return jaccard_similarity(A, B)\n",
    "\n",
    "\n",
    "# def compute_jaccard(df, a, b):\n",
    "#     A = df.loc[df[\"strategy\"] == a, \"unique_id\"].unique()\n",
    "#     B = df.loc[df[\"strategy\"] == b, \"unique_id\"].unique()\n",
    "\n",
    "#     return jaccard_score(A, B)"
   ]
  },
  {
   "cell_type": "code",
   "execution_count": null,
   "metadata": {},
   "outputs": [],
   "source": [
    "a = (\n",
    "    df.groupby([\"experiment\", \"reinit\"])\n",
    "    .apply(lambda df_: compute_jaccard(df_, \"entropy\", \"margin_confidence\"))\n",
    "    .to_frame(\"jaccard\")\n",
    ")\n",
    "b = (\n",
    "    df.groupby([\"experiment\", \"reinit\"])\n",
    "    .apply(lambda df_: compute_jaccard(df_, \"entropy\", \"random\"))\n",
    "    .to_frame(\"jaccard\")\n",
    ")\n",
    "c = (\n",
    "    df.groupby([\"experiment\", \"reinit\"])\n",
    "    .apply(lambda df_: compute_jaccard(df_, \"margin_confidence\", \"random\"))\n",
    "    .to_frame(\"jaccard\")\n",
    ")\n",
    "dd = (\n",
    "    a.join(b, rsuffix=\"_er\")\n",
    "    .join(c, rsuffix=\"_mr\")\n",
    "    .rename(columns={\"jaccard\": \"jaccard_em\"})\n",
    "    .reset_index()\n",
    ")\n",
    "dd"
   ]
  },
  {
   "cell_type": "code",
   "execution_count": null,
   "metadata": {},
   "outputs": [],
   "source": [
    "def compute_jaccard_strategy(df):\n",
    "    A = set(df.loc[df[\"reinit\"] == True, \"unique_id\"].unique())\n",
    "    B = set(df.loc[df[\"reinit\"] == False, \"unique_id\"].unique())\n",
    "\n",
    "    return jaccard_similarity(A, B)\n",
    "\n",
    "\n",
    "def compute_cosine(df):\n",
    "    A = (\n",
    "        embeddings[df.loc[df[\"reinit\"] == True, \"unique_id\"].unique()]\n",
    "        .mean(0)\n",
    "        .reshape(1, -1)\n",
    "    )\n",
    "    B = (\n",
    "        embeddings[df.loc[df[\"reinit\"] == False, \"unique_id\"].unique()]\n",
    "        .mean(0)\n",
    "        .reshape(1, -1)\n",
    "    )\n",
    "\n",
    "    return cosine_similarity(A, B).item()"
   ]
  },
  {
   "cell_type": "code",
   "execution_count": null,
   "metadata": {},
   "outputs": [],
   "source": [
    "m = {}\n",
    "for strategy in df[\"strategy\"].unique():\n",
    "    m[strategy] = (\n",
    "        df.loc[df[\"strategy\"] == strategy]\n",
    "        .groupby(\"experiment\")\n",
    "        .apply(compute_cosine)\n",
    "        .agg([\"mean\", \"std\"])\n",
    "    )\n",
    "\n",
    "print(pd.DataFrame(m).T.to_markdown())"
   ]
  },
  {
   "cell_type": "code",
   "execution_count": null,
   "metadata": {},
   "outputs": [],
   "source": [
    "a = (\n",
    "    df.groupby([\"labelling_round\", \"experiment\", \"reinit\"])\n",
    "    .apply(lambda df_: compute_jaccard(df_, \"entropy\", \"margin_confidence\"))\n",
    "    .to_frame(\"jaccard\")\n",
    ")\n",
    "b = (\n",
    "    df.groupby([\"labelling_round\", \"experiment\", \"reinit\"])\n",
    "    .apply(lambda df_: compute_jaccard(df_, \"entropy\", \"random\"))\n",
    "    .to_frame(\"jaccard\")\n",
    ")\n",
    "c = (\n",
    "    df.groupby([\"labelling_round\", \"experiment\", \"reinit\"])\n",
    "    .apply(lambda df_: compute_jaccard(df_, \"margin_confidence\", \"random\"))\n",
    "    .to_frame(\"jaccard\")\n",
    ")\n",
    "dd = (\n",
    "    a.join(b, rsuffix=\"_er\")\n",
    "    .join(c, rsuffix=\"_mr\")\n",
    "    .rename(columns={\"jaccard\": \"jaccard_em\"})\n",
    "    .reset_index()\n",
    ")\n",
    "dd = dd.melt(id_vars=[\"labelling_round\", \"experiment\", \"reinit\"])\n",
    "dd = dd.rename(columns={\"reinit\": \"re-initialise\", \"variable\": \"pairs\"})\n",
    "dd[\"pairs\"] = dd[\"pairs\"].map(\n",
    "    {\n",
    "        \"jaccard_em\": \"margin-entropy\",\n",
    "        \"jaccard_mr\": \"margin-random\",\n",
    "        \"jaccard_er\": \"entropy-random\",\n",
    "    }\n",
    ")\n",
    "dd"
   ]
  },
  {
   "cell_type": "code",
   "execution_count": null,
   "metadata": {},
   "outputs": [],
   "source": [
    "sns.diverging_palette(150, 40, l=65, center=\"dark\", n=3)"
   ]
  },
  {
   "cell_type": "code",
   "execution_count": null,
   "metadata": {},
   "outputs": [],
   "source": [
    "a = df.loc[\n",
    "    (df[\"experiment\"] == \"data.seed=0_model.seed=0\")\n",
    "    & (df[\"strategy\"] == \"entropy\")\n",
    "    & (df[\"labelling_round\"] == 1)\n",
    "]"
   ]
  },
  {
   "cell_type": "code",
   "execution_count": null,
   "metadata": {},
   "outputs": [],
   "source": [
    "b = a.loc[a[\"reinit\"] == False, \"unique_id\"]\n",
    "c = a.loc[a[\"reinit\"] == True, \"unique_id\"]"
   ]
  },
  {
   "cell_type": "code",
   "execution_count": null,
   "metadata": {},
   "outputs": [],
   "source": [
    "embeddings = np.load(\"../data/processed/agnews/ag_news_index.npy\")"
   ]
  },
  {
   "cell_type": "code",
   "execution_count": null,
   "metadata": {},
   "outputs": [],
   "source": [
    "b.values"
   ]
  },
  {
   "cell_type": "code",
   "execution_count": null,
   "metadata": {},
   "outputs": [],
   "source": [
    "cosine_similarity(\n",
    "    embeddings[b].mean(0).reshape(1, -1), embeddings[c].mean(0).reshape(1, -1)\n",
    ")"
   ]
  },
  {
   "cell_type": "code",
   "execution_count": null,
   "metadata": {},
   "outputs": [],
   "source": [
    "def compute_cosine(df)"
   ]
  },
  {
   "cell_type": "code",
   "execution_count": null,
   "metadata": {},
   "outputs": [],
   "source": [
    "a = (\n",
    "    df.groupby([\"labelling_round\", \"experiment\", \"reinit\"])\n",
    "    .apply(lambda df_: compute_jaccard(df_, \"entropy\", \"margin_confidence\"))\n",
    "    .to_frame(\"jaccard\")\n",
    ")\n",
    "b = (\n",
    "    df.groupby([\"labelling_round\", \"experiment\", \"reinit\"])\n",
    "    .apply(lambda df_: compute_jaccard(df_, \"entropy\", \"random\"))\n",
    "    .to_frame(\"jaccard\")\n",
    ")\n",
    "c = (\n",
    "    df.groupby([\"labelling_round\", \"experiment\", \"reinit\"])\n",
    "    .apply(lambda df_: compute_jaccard(df_, \"margin_confidence\", \"random\"))\n",
    "    .to_frame(\"jaccard\")\n",
    ")\n",
    "dd = (\n",
    "    a.join(b, rsuffix=\"_er\")\n",
    "    .join(c, rsuffix=\"_mr\")\n",
    "    .rename(columns={\"jaccard\": \"jaccard_em\"})\n",
    "    .reset_index()\n",
    ")\n",
    "dd = dd.melt(id_vars=[\"labelling_round\", \"experiment\", \"reinit\"])\n",
    "dd = dd.rename(columns={\"reinit\": \"re-initialise\", \"variable\": \"pairs\"})\n",
    "dd[\"pairs\"] = dd[\"pairs\"].map(\n",
    "    {\n",
    "        \"jaccard_em\": \"margin-entropy\",\n",
    "        \"jaccard_mr\": \"margin-random\",\n",
    "        \"jaccard_er\": \"entropy-random\",\n",
    "    }\n",
    ")\n",
    "dd"
   ]
  },
  {
   "cell_type": "code",
   "execution_count": null,
   "metadata": {},
   "outputs": [],
   "source": [
    "plt.style.use(\"bmh\")\n",
    "sns.set_context(\"paper\")\n",
    "palette = sns.diverging_palette(150, 40, l=60, center=\"dark\", n=3)\n",
    "\n",
    "fig, ax = plt.subplots()\n",
    "\n",
    "sns.lineplot(\n",
    "    data=dd,\n",
    "    x=\"labelling_round\",\n",
    "    y=\"value\",\n",
    "    hue=\"pairs\",\n",
    "    style=\"re-initialise\",\n",
    "    ax=ax,\n",
    "    palette=palette,\n",
    ")\n",
    "fig.dpi = 800\n",
    "fig.suptitle(\"AGNEWS\")\n",
    "ax.set_title(\"pair-wise similarity between queried sets\")\n",
    "ax.set_ylabel(\"jaccard similarity\")\n",
    "ax.set_xlabel(\"labelling round\")\n",
    "ax.set_ylim(0.0, 0.025)\n",
    "ax.xaxis.set_minor_locator(ticker.MultipleLocator(5))\n",
    "sns.move_legend(ax, \"upper left\", bbox_to_anchor=(1, 1), fontsize=10)\n",
    "# ax.legend(fontsize=10, bbox_to_anchor=(1, 1))\n",
    "sns.despine()\n",
    "plt.show()"
   ]
  },
  {
   "cell_type": "code",
   "execution_count": null,
   "metadata": {},
   "outputs": [],
   "source": []
  }
 ],
 "metadata": {
  "kernelspec": {
   "display_name": "allset",
   "language": "python",
   "name": "python3"
  },
  "language_info": {
   "codemirror_mode": {
    "name": "ipython",
    "version": 3
   },
   "file_extension": ".py",
   "mimetype": "text/x-python",
   "name": "python",
   "nbconvert_exporter": "python",
   "pygments_lexer": "ipython3",
   "version": "3.9.16"
  },
  "orig_nbformat": 4,
  "vscode": {
   "interpreter": {
    "hash": "e53e394f14fe34c9aaf890e1aef4b8dd57ac2a780afaa542e758e0a4ed635da0"
   }
  }
 },
 "nbformat": 4,
 "nbformat_minor": 2
}
