{
 "cells": [
  {
   "cell_type": "code",
   "execution_count": 2,
   "metadata": {},
   "outputs": [],
   "source": [
    "import json\n",
    "from pathlib import Path\n",
    "\n",
    "import hnswlib as hb\n",
    "import numpy as np\n",
    "import pandas as pd\n",
    "import requests\n",
    "import srsly\n",
    "from datasets import (\n",
    "    ClassLabel,\n",
    "    Dataset,\n",
    "    DatasetDict,\n",
    "    Features,\n",
    "    Sequence,\n",
    "    Value,\n",
    "    load_dataset,\n",
    "    load_from_disk,\n",
    ")\n",
    "from sklearn.feature_extraction.text import TfidfVectorizer\n",
    "from sklearn.linear_model import LogisticRegression\n",
    "from sklearn.metrics import classification_report\n",
    "from tqdm.auto import tqdm"
   ]
  },
  {
   "cell_type": "code",
   "execution_count": 8,
   "metadata": {},
   "outputs": [],
   "source": [
    "df = (\n",
    "    load_from_disk(\"/home/pl487/anchoral/data/prepared/amazoncat-13k-agri_bert-tiny\")[\"train\"]\n",
    "    .select_columns([\"uid\", \"text\", \"labels\"])\n",
    "    .to_pandas()\n",
    ")"
   ]
  },
  {
   "cell_type": "code",
   "execution_count": 9,
   "metadata": {},
   "outputs": [
    {
     "data": {
      "text/plain": [
       "labels\n",
       "0    0.999114\n",
       "1    0.000886\n",
       "Name: proportion, dtype: float64"
      ]
     },
     "execution_count": 9,
     "metadata": {},
     "output_type": "execute_result"
    }
   ],
   "source": [
    "df[\"labels\"].value_counts(normalize=True)"
   ]
  },
  {
   "cell_type": "code",
   "execution_count": null,
   "metadata": {},
   "outputs": [],
   "source": []
  },
  {
   "cell_type": "code",
   "execution_count": null,
   "metadata": {},
   "outputs": [],
   "source": []
  },
  {
   "cell_type": "code",
   "execution_count": 64,
   "metadata": {},
   "outputs": [],
   "source": [
    "df = (\n",
    "    load_from_disk(\"/home/pl487/anchoral/data/processed/amazoncat-13k\")[\"test\"]\n",
    "    .select_columns([\"uid\", \"text\", \"target_ind\"])\n",
    "    .to_pandas()\n",
    ")"
   ]
  },
  {
   "cell_type": "code",
   "execution_count": 42,
   "metadata": {},
   "outputs": [],
   "source": [
    "with open(\n",
    "    \"/home/pl487/anchoral/data/processed/amazoncat-13k/categories.txt\", mode=\"r\", encoding=\"latin-1\"\n",
    ") as fl:\n",
    "    cats = fl.read().split(\"\\n\")\n",
    "cats = pd.DataFrame(cats, columns=[\"name\"])"
   ]
  },
  {
   "cell_type": "code",
   "execution_count": 65,
   "metadata": {},
   "outputs": [],
   "source": [
    "dd = df[[\"uid\", \"target_ind\"]].explode(\"target_ind\")"
   ]
  },
  {
   "cell_type": "code",
   "execution_count": 66,
   "metadata": {},
   "outputs": [],
   "source": [
    "dd = dd.groupby(\"target_ind\")[\"uid\"].nunique().to_frame(\"counts\")"
   ]
  },
  {
   "cell_type": "code",
   "execution_count": 67,
   "metadata": {},
   "outputs": [],
   "source": [
    "dd[\"prop\"] = dd[\"counts\"] / dd[\"counts\"].sum()"
   ]
  },
  {
   "cell_type": "code",
   "execution_count": 68,
   "metadata": {},
   "outputs": [],
   "source": [
    "dd = dd.join(cats)"
   ]
  },
  {
   "cell_type": "code",
   "execution_count": 70,
   "metadata": {},
   "outputs": [
    {
     "data": {
      "text/html": [
       "<div>\n",
       "<style scoped>\n",
       "    .dataframe tbody tr th:only-of-type {\n",
       "        vertical-align: middle;\n",
       "    }\n",
       "\n",
       "    .dataframe tbody tr th {\n",
       "        vertical-align: top;\n",
       "    }\n",
       "\n",
       "    .dataframe thead th {\n",
       "        text-align: right;\n",
       "    }\n",
       "</style>\n",
       "<table border=\"1\" class=\"dataframe\">\n",
       "  <thead>\n",
       "    <tr style=\"text-align: right;\">\n",
       "      <th></th>\n",
       "      <th>counts</th>\n",
       "      <th>prop</th>\n",
       "      <th>name</th>\n",
       "    </tr>\n",
       "    <tr>\n",
       "      <th>target_ind</th>\n",
       "      <th></th>\n",
       "      <th></th>\n",
       "      <th></th>\n",
       "    </tr>\n",
       "  </thead>\n",
       "  <tbody>\n",
       "    <tr>\n",
       "      <th>246</th>\n",
       "      <td>285</td>\n",
       "      <td>0.000182</td>\n",
       "      <td>agricultural sciences</td>\n",
       "    </tr>\n",
       "  </tbody>\n",
       "</table>\n",
       "</div>"
      ],
      "text/plain": [
       "            counts      prop                   name\n",
       "target_ind                                         \n",
       "246            285  0.000182  agricultural sciences"
      ]
     },
     "execution_count": 70,
     "metadata": {},
     "output_type": "execute_result"
    }
   ],
   "source": [
    "dd.query(\"target_ind == 246\")"
   ]
  },
  {
   "cell_type": "code",
   "execution_count": 69,
   "metadata": {},
   "outputs": [
    {
     "data": {
      "text/html": [
       "<div>\n",
       "<style scoped>\n",
       "    .dataframe tbody tr th:only-of-type {\n",
       "        vertical-align: middle;\n",
       "    }\n",
       "\n",
       "    .dataframe tbody tr th {\n",
       "        vertical-align: top;\n",
       "    }\n",
       "\n",
       "    .dataframe thead th {\n",
       "        text-align: right;\n",
       "    }\n",
       "</style>\n",
       "<table border=\"1\" class=\"dataframe\">\n",
       "  <thead>\n",
       "    <tr style=\"text-align: right;\">\n",
       "      <th></th>\n",
       "      <th>counts</th>\n",
       "      <th>prop</th>\n",
       "      <th>name</th>\n",
       "    </tr>\n",
       "    <tr>\n",
       "      <th>target_ind</th>\n",
       "      <th></th>\n",
       "      <th></th>\n",
       "      <th></th>\n",
       "    </tr>\n",
       "  </thead>\n",
       "  <tbody>\n",
       "    <tr>\n",
       "      <th>38</th>\n",
       "      <td>1240</td>\n",
       "      <td>0.000792</td>\n",
       "      <td>19th century</td>\n",
       "    </tr>\n",
       "    <tr>\n",
       "      <th>39</th>\n",
       "      <td>1952</td>\n",
       "      <td>0.001247</td>\n",
       "      <td>20th century</td>\n",
       "    </tr>\n",
       "    <tr>\n",
       "      <th>118</th>\n",
       "      <td>1322</td>\n",
       "      <td>0.000844</td>\n",
       "      <td>action &amp; adventure</td>\n",
       "    </tr>\n",
       "    <tr>\n",
       "      <th>119</th>\n",
       "      <td>1680</td>\n",
       "      <td>0.001073</td>\n",
       "      <td>action &amp; toy figures</td>\n",
       "    </tr>\n",
       "    <tr>\n",
       "      <th>442</th>\n",
       "      <td>1620</td>\n",
       "      <td>0.001035</td>\n",
       "      <td>animals</td>\n",
       "    </tr>\n",
       "    <tr>\n",
       "      <th>...</th>\n",
       "      <td>...</td>\n",
       "      <td>...</td>\n",
       "      <td>...</td>\n",
       "    </tr>\n",
       "    <tr>\n",
       "      <th>12993</th>\n",
       "      <td>1017</td>\n",
       "      <td>0.000650</td>\n",
       "      <td>web development &amp; design</td>\n",
       "    </tr>\n",
       "    <tr>\n",
       "      <th>13214</th>\n",
       "      <td>1316</td>\n",
       "      <td>0.000841</td>\n",
       "      <td>women's studies</td>\n",
       "    </tr>\n",
       "    <tr>\n",
       "      <th>13258</th>\n",
       "      <td>1128</td>\n",
       "      <td>0.000721</td>\n",
       "      <td>world literature</td>\n",
       "    </tr>\n",
       "    <tr>\n",
       "      <th>13277</th>\n",
       "      <td>1781</td>\n",
       "      <td>0.001138</td>\n",
       "      <td>wrist watches</td>\n",
       "    </tr>\n",
       "    <tr>\n",
       "      <th>13282</th>\n",
       "      <td>1863</td>\n",
       "      <td>0.001190</td>\n",
       "      <td>writing</td>\n",
       "    </tr>\n",
       "  </tbody>\n",
       "</table>\n",
       "<p>108 rows × 3 columns</p>\n",
       "</div>"
      ],
      "text/plain": [
       "            counts      prop                      name\n",
       "target_ind                                            \n",
       "38            1240  0.000792              19th century\n",
       "39            1952  0.001247              20th century\n",
       "118           1322  0.000844        action & adventure\n",
       "119           1680  0.001073      action & toy figures\n",
       "442           1620  0.001035                   animals\n",
       "...            ...       ...                       ...\n",
       "12993         1017  0.000650  web development & design\n",
       "13214         1316  0.000841           women's studies\n",
       "13258         1128  0.000721          world literature\n",
       "13277         1781  0.001138             wrist watches\n",
       "13282         1863  0.001190                   writing\n",
       "\n",
       "[108 rows x 3 columns]"
      ]
     },
     "execution_count": 69,
     "metadata": {},
     "output_type": "execute_result"
    }
   ],
   "source": [
    "dd.query(\"1000 < counts < 2000\")"
   ]
  },
  {
   "cell_type": "code",
   "execution_count": 49,
   "metadata": {},
   "outputs": [],
   "source": [
    "mask = df[\"target_ind\"].map(lambda ex: 246 in ex)"
   ]
  },
  {
   "cell_type": "code",
   "execution_count": 56,
   "metadata": {},
   "outputs": [],
   "source": [
    "co = df.loc[mask, \"target_ind\"].explode().value_counts().to_frame()"
   ]
  },
  {
   "cell_type": "code",
   "execution_count": 63,
   "metadata": {},
   "outputs": [
    {
     "data": {
      "text/html": [
       "<div>\n",
       "<style scoped>\n",
       "    .dataframe tbody tr th:only-of-type {\n",
       "        vertical-align: middle;\n",
       "    }\n",
       "\n",
       "    .dataframe tbody tr th {\n",
       "        vertical-align: top;\n",
       "    }\n",
       "\n",
       "    .dataframe thead th {\n",
       "        text-align: right;\n",
       "    }\n",
       "</style>\n",
       "<table border=\"1\" class=\"dataframe\">\n",
       "  <thead>\n",
       "    <tr style=\"text-align: right;\">\n",
       "      <th></th>\n",
       "      <th>count</th>\n",
       "      <th>name</th>\n",
       "    </tr>\n",
       "    <tr>\n",
       "      <th>target_ind</th>\n",
       "      <th></th>\n",
       "      <th></th>\n",
       "    </tr>\n",
       "  </thead>\n",
       "  <tbody>\n",
       "    <tr>\n",
       "      <th>246</th>\n",
       "      <td>1051</td>\n",
       "      <td>agricultural sciences</td>\n",
       "    </tr>\n",
       "    <tr>\n",
       "      <th>1471</th>\n",
       "      <td>1032</td>\n",
       "      <td>books</td>\n",
       "    </tr>\n",
       "    <tr>\n",
       "      <th>10368</th>\n",
       "      <td>1032</td>\n",
       "      <td>science &amp; math</td>\n",
       "    </tr>\n",
       "    <tr>\n",
       "      <th>12630</th>\n",
       "      <td>382</td>\n",
       "      <td>used &amp; rental textbooks</td>\n",
       "    </tr>\n",
       "    <tr>\n",
       "      <th>8108</th>\n",
       "      <td>382</td>\n",
       "      <td>new</td>\n",
       "    </tr>\n",
       "    <tr>\n",
       "      <th>439</th>\n",
       "      <td>336</td>\n",
       "      <td>animal husbandry</td>\n",
       "    </tr>\n",
       "    <tr>\n",
       "      <th>1280</th>\n",
       "      <td>314</td>\n",
       "      <td>biological sciences</td>\n",
       "    </tr>\n",
       "    <tr>\n",
       "      <th>3125</th>\n",
       "      <td>296</td>\n",
       "      <td>crafts</td>\n",
       "    </tr>\n",
       "    <tr>\n",
       "      <th>5904</th>\n",
       "      <td>296</td>\n",
       "      <td>hobbies &amp; home</td>\n",
       "    </tr>\n",
       "    <tr>\n",
       "      <th>10369</th>\n",
       "      <td>240</td>\n",
       "      <td>science &amp; mathematics</td>\n",
       "    </tr>\n",
       "    <tr>\n",
       "      <th>4038</th>\n",
       "      <td>223</td>\n",
       "      <td>education &amp; reference</td>\n",
       "    </tr>\n",
       "    <tr>\n",
       "      <th>4880</th>\n",
       "      <td>223</td>\n",
       "      <td>food science</td>\n",
       "    </tr>\n",
       "    <tr>\n",
       "      <th>247</th>\n",
       "      <td>204</td>\n",
       "      <td>agriculture</td>\n",
       "    </tr>\n",
       "    <tr>\n",
       "      <th>5878</th>\n",
       "      <td>167</td>\n",
       "      <td>history</td>\n",
       "    </tr>\n",
       "    <tr>\n",
       "      <th>9202</th>\n",
       "      <td>163</td>\n",
       "      <td>politics &amp; social sciences</td>\n",
       "    </tr>\n",
       "    <tr>\n",
       "      <th>7515</th>\n",
       "      <td>163</td>\n",
       "      <td>medical books</td>\n",
       "    </tr>\n",
       "    <tr>\n",
       "      <th>8040</th>\n",
       "      <td>159</td>\n",
       "      <td>nature &amp; ecology</td>\n",
       "    </tr>\n",
       "    <tr>\n",
       "      <th>9487</th>\n",
       "      <td>154</td>\n",
       "      <td>professional &amp; technical</td>\n",
       "    </tr>\n",
       "    <tr>\n",
       "      <th>1755</th>\n",
       "      <td>146</td>\n",
       "      <td>business &amp; investing</td>\n",
       "    </tr>\n",
       "    <tr>\n",
       "      <th>8884</th>\n",
       "      <td>144</td>\n",
       "      <td>pets &amp; animal care</td>\n",
       "    </tr>\n",
       "    <tr>\n",
       "      <th>2972</th>\n",
       "      <td>138</td>\n",
       "      <td>cookbooks</td>\n",
       "    </tr>\n",
       "    <tr>\n",
       "      <th>4866</th>\n",
       "      <td>138</td>\n",
       "      <td>food &amp; wine</td>\n",
       "    </tr>\n",
       "    <tr>\n",
       "      <th>12753</th>\n",
       "      <td>128</td>\n",
       "      <td>veterinary medicine</td>\n",
       "    </tr>\n",
       "    <tr>\n",
       "      <th>5162</th>\n",
       "      <td>126</td>\n",
       "      <td>gardening &amp; landscape design</td>\n",
       "    </tr>\n",
       "    <tr>\n",
       "      <th>4238</th>\n",
       "      <td>124</td>\n",
       "      <td>engineering</td>\n",
       "    </tr>\n",
       "    <tr>\n",
       "      <th>442</th>\n",
       "      <td>115</td>\n",
       "      <td>animals</td>\n",
       "    </tr>\n",
       "    <tr>\n",
       "      <th>7533</th>\n",
       "      <td>113</td>\n",
       "      <td>medicine &amp; health sciences</td>\n",
       "    </tr>\n",
       "    <tr>\n",
       "      <th>10994</th>\n",
       "      <td>109</td>\n",
       "      <td>social sciences</td>\n",
       "    </tr>\n",
       "    <tr>\n",
       "      <th>1502</th>\n",
       "      <td>100</td>\n",
       "      <td>botany</td>\n",
       "    </tr>\n",
       "    <tr>\n",
       "      <th>1282</th>\n",
       "      <td>94</td>\n",
       "      <td>biology &amp; life sciences</td>\n",
       "    </tr>\n",
       "    <tr>\n",
       "      <th>9857</th>\n",
       "      <td>93</td>\n",
       "      <td>reference</td>\n",
       "    </tr>\n",
       "    <tr>\n",
       "      <th>12583</th>\n",
       "      <td>91</td>\n",
       "      <td>united states</td>\n",
       "    </tr>\n",
       "    <tr>\n",
       "      <th>401</th>\n",
       "      <td>88</td>\n",
       "      <td>americas</td>\n",
       "    </tr>\n",
       "    <tr>\n",
       "      <th>5222</th>\n",
       "      <td>86</td>\n",
       "      <td>general</td>\n",
       "    </tr>\n",
       "    <tr>\n",
       "      <th>11867</th>\n",
       "      <td>79</td>\n",
       "      <td>technology</td>\n",
       "    </tr>\n",
       "    <tr>\n",
       "      <th>6018</th>\n",
       "      <td>78</td>\n",
       "      <td>horses</td>\n",
       "    </tr>\n",
       "    <tr>\n",
       "      <th>3987</th>\n",
       "      <td>77</td>\n",
       "      <td>earth sciences</td>\n",
       "    </tr>\n",
       "    <tr>\n",
       "      <th>5750</th>\n",
       "      <td>74</td>\n",
       "      <td>health</td>\n",
       "    </tr>\n",
       "    <tr>\n",
       "      <th>1281</th>\n",
       "      <td>72</td>\n",
       "      <td>biology</td>\n",
       "    </tr>\n",
       "    <tr>\n",
       "      <th>4698</th>\n",
       "      <td>72</td>\n",
       "      <td>fitness &amp; dieting</td>\n",
       "    </tr>\n",
       "    <tr>\n",
       "      <th>4019</th>\n",
       "      <td>67</td>\n",
       "      <td>economics</td>\n",
       "    </tr>\n",
       "    <tr>\n",
       "      <th>6288</th>\n",
       "      <td>65</td>\n",
       "      <td>industries &amp; professions</td>\n",
       "    </tr>\n",
       "    <tr>\n",
       "      <th>6093</th>\n",
       "      <td>59</td>\n",
       "      <td>humanities</td>\n",
       "    </tr>\n",
       "    <tr>\n",
       "      <th>2470</th>\n",
       "      <td>56</td>\n",
       "      <td>civil</td>\n",
       "    </tr>\n",
       "    <tr>\n",
       "      <th>6021</th>\n",
       "      <td>56</td>\n",
       "      <td>horticulture</td>\n",
       "    </tr>\n",
       "    <tr>\n",
       "      <th>248</th>\n",
       "      <td>55</td>\n",
       "      <td>agronomy</td>\n",
       "    </tr>\n",
       "    <tr>\n",
       "      <th>7532</th>\n",
       "      <td>53</td>\n",
       "      <td>medicine</td>\n",
       "    </tr>\n",
       "    <tr>\n",
       "      <th>4268</th>\n",
       "      <td>53</td>\n",
       "      <td>environmental science</td>\n",
       "    </tr>\n",
       "    <tr>\n",
       "      <th>4011</th>\n",
       "      <td>53</td>\n",
       "      <td>ecology</td>\n",
       "    </tr>\n",
       "    <tr>\n",
       "      <th>11003</th>\n",
       "      <td>52</td>\n",
       "      <td>sociology</td>\n",
       "    </tr>\n",
       "  </tbody>\n",
       "</table>\n",
       "</div>"
      ],
      "text/plain": [
       "            count                          name\n",
       "target_ind                                     \n",
       "246          1051         agricultural sciences\n",
       "1471         1032                         books\n",
       "10368        1032                science & math\n",
       "12630         382       used & rental textbooks\n",
       "8108          382                           new\n",
       "439           336              animal husbandry\n",
       "1280          314           biological sciences\n",
       "3125          296                        crafts\n",
       "5904          296                hobbies & home\n",
       "10369         240         science & mathematics\n",
       "4038          223         education & reference\n",
       "4880          223                  food science\n",
       "247           204                   agriculture\n",
       "5878          167                       history\n",
       "9202          163    politics & social sciences\n",
       "7515          163                 medical books\n",
       "8040          159              nature & ecology\n",
       "9487          154      professional & technical\n",
       "1755          146          business & investing\n",
       "8884          144            pets & animal care\n",
       "2972          138                     cookbooks\n",
       "4866          138                   food & wine\n",
       "12753         128           veterinary medicine\n",
       "5162          126  gardening & landscape design\n",
       "4238          124                   engineering\n",
       "442           115                       animals\n",
       "7533          113    medicine & health sciences\n",
       "10994         109               social sciences\n",
       "1502          100                        botany\n",
       "1282           94       biology & life sciences\n",
       "9857           93                     reference\n",
       "12583          91                 united states\n",
       "401            88                      americas\n",
       "5222           86                       general\n",
       "11867          79                    technology\n",
       "6018           78                        horses\n",
       "3987           77                earth sciences\n",
       "5750           74                        health\n",
       "1281           72                       biology\n",
       "4698           72             fitness & dieting\n",
       "4019           67                     economics\n",
       "6288           65      industries & professions\n",
       "6093           59                    humanities\n",
       "2470           56                         civil\n",
       "6021           56                  horticulture\n",
       "248            55                      agronomy\n",
       "7532           53                      medicine\n",
       "4268           53         environmental science\n",
       "4011           53                       ecology\n",
       "11003          52                     sociology"
      ]
     },
     "execution_count": 63,
     "metadata": {},
     "output_type": "execute_result"
    }
   ],
   "source": [
    "co.join(cats).sort_values(\"count\", ascending=False).head(50)"
   ]
  },
  {
   "cell_type": "code",
   "execution_count": null,
   "metadata": {},
   "outputs": [],
   "source": []
  },
  {
   "cell_type": "code",
   "execution_count": null,
   "metadata": {},
   "outputs": [],
   "source": [
    "index_path = \"/home/pl487/anchoral/data/processed/eurlex-57k/all-MiniLM-L12-v2_cosine.bin\"\n",
    "meta_path = \"/home/pl487/anchoral/data/processed/eurlex-57k/all-MiniLM-L12-v2_cosine.json\""
   ]
  },
  {
   "cell_type": "code",
   "execution_count": null,
   "metadata": {},
   "outputs": [],
   "source": [
    "meta = srsly.read_json(meta_path)\n",
    "index = hb.Index(space=meta[\"metric\"], dim=meta[\"dim\"])\n",
    "index.load_index(str(index_path))"
   ]
  },
  {
   "cell_type": "code",
   "execution_count": null,
   "metadata": {},
   "outputs": [],
   "source": [
    "index.mark_deleted(0)"
   ]
  },
  {
   "cell_type": "code",
   "execution_count": null,
   "metadata": {},
   "outputs": [],
   "source": [
    "np.stack(index.get_items([0])).shape"
   ]
  },
  {
   "cell_type": "code",
   "execution_count": null,
   "metadata": {},
   "outputs": [],
   "source": [
    "sorted(index.get_ids_list())"
   ]
  },
  {
   "cell_type": "code",
   "execution_count": null,
   "metadata": {},
   "outputs": [],
   "source": [
    "ds_dict = load_from_disk(\"/home/pl487/anchoral/data/processed/wiki_toxic\")"
   ]
  },
  {
   "cell_type": "code",
   "execution_count": null,
   "metadata": {},
   "outputs": [],
   "source": [
    "ds_dict[\"train\"].to_pandas()[\"input_ids\"].map(len).describe()"
   ]
  },
  {
   "cell_type": "code",
   "execution_count": null,
   "metadata": {},
   "outputs": [],
   "source": [
    "df = ds_dict[\"train\"].to_pandas()"
   ]
  },
  {
   "cell_type": "code",
   "execution_count": null,
   "metadata": {},
   "outputs": [],
   "source": [
    "df[\"labels\"].value_counts()"
   ]
  },
  {
   "cell_type": "code",
   "execution_count": null,
   "metadata": {},
   "outputs": [],
   "source": []
  },
  {
   "attachments": {},
   "cell_type": "markdown",
   "metadata": {},
   "source": [
    "---\n",
    "Pubmed"
   ]
  },
  {
   "cell_type": "code",
   "execution_count": null,
   "metadata": {},
   "outputs": [],
   "source": [
    "d = load_from_disk(\"/home/pl487/anchoral/data/processed/pubmed-200k-rct\")"
   ]
  },
  {
   "cell_type": "code",
   "execution_count": null,
   "metadata": {},
   "outputs": [],
   "source": [
    "d"
   ]
  },
  {
   "cell_type": "code",
   "execution_count": null,
   "metadata": {},
   "outputs": [],
   "source": [
    "df = d[\"train\"].to_pandas()"
   ]
  },
  {
   "cell_type": "code",
   "execution_count": null,
   "metadata": {},
   "outputs": [],
   "source": [
    "df.loc[df[\"uid\"] == 40384]"
   ]
  },
  {
   "cell_type": "code",
   "execution_count": null,
   "metadata": {},
   "outputs": [],
   "source": [
    "df[\"recitals\"].str.len().describe()"
   ]
  },
  {
   "cell_type": "code",
   "execution_count": null,
   "metadata": {},
   "outputs": [],
   "source": [
    "df[\"text\"].str.len().describe()"
   ]
  },
  {
   "cell_type": "code",
   "execution_count": null,
   "metadata": {},
   "outputs": [],
   "source": []
  },
  {
   "cell_type": "code",
   "execution_count": null,
   "metadata": {},
   "outputs": [],
   "source": [
    "# ds_dict = load_dataset(\"pietrolesci/eurlex_indexeda\", cache_dir=\"ds_cache\")\n",
    "# ds_dict.save_to_disk(\"../data/processed/eurlex\")"
   ]
  },
  {
   "attachments": {},
   "cell_type": "markdown",
   "metadata": {},
   "source": [
    "---\n",
    "Pubmed"
   ]
  },
  {
   "cell_type": "code",
   "execution_count": 10,
   "metadata": {},
   "outputs": [],
   "source": [
    "df = (\n",
    "    load_from_disk(\"/home/pl487/anchoral/data/processed/pubmed-200k-rct/\")[\"train\"]\n",
    "    .select_columns([\"uid\", \"text\", \"labels\"])\n",
    "    .to_pandas()\n",
    ")"
   ]
  },
  {
   "cell_type": "code",
   "execution_count": 12,
   "metadata": {},
   "outputs": [
    {
     "data": {
      "text/plain": [
       "labels\n",
       "4    0.346437\n",
       "2    0.326687\n",
       "1    0.153587\n",
       "0    0.088925\n",
       "3    0.084364\n",
       "Name: proportion, dtype: float64"
      ]
     },
     "execution_count": 12,
     "metadata": {},
     "output_type": "execute_result"
    }
   ],
   "source": [
    "df[\"labels\"].value_counts(normalize=True)"
   ]
  },
  {
   "cell_type": "code",
   "execution_count": null,
   "metadata": {},
   "outputs": [],
   "source": []
  },
  {
   "cell_type": "code",
   "execution_count": null,
   "metadata": {},
   "outputs": [],
   "source": [
    "d = load_from_disk(\"/home/pl487/anchoral/data/prepared/pubmed-200k-rct_bert-tiny\")"
   ]
  },
  {
   "cell_type": "code",
   "execution_count": null,
   "metadata": {},
   "outputs": [],
   "source": [
    "d"
   ]
  },
  {
   "cell_type": "code",
   "execution_count": null,
   "metadata": {},
   "outputs": [],
   "source": []
  },
  {
   "cell_type": "code",
   "execution_count": null,
   "metadata": {},
   "outputs": [],
   "source": [
    "ds_dict = load_from_disk(\"/home/pl487/anchoral/data/processed/amazoncat-13k/\").select_columns(\n",
    "    [\"uid\", \"target_ind\", \"text\"]\n",
    ")"
   ]
  },
  {
   "cell_type": "code",
   "execution_count": null,
   "metadata": {},
   "outputs": [],
   "source": [
    "train_df = ds_dict[\"train\"].to_pandas()\n",
    "test_df = ds_dict[\"test\"].to_pandas()"
   ]
  },
  {
   "cell_type": "code",
   "execution_count": null,
   "metadata": {},
   "outputs": [],
   "source": []
  },
  {
   "cell_type": "code",
   "execution_count": null,
   "metadata": {},
   "outputs": [],
   "source": [
    "a = train_df[\"target_ind\"].explode().value_counts(True).to_frame(\"f\")"
   ]
  },
  {
   "cell_type": "code",
   "execution_count": null,
   "metadata": {},
   "outputs": [],
   "source": [
    "a.loc[(a[\"f\"] > 0.01) & (a[\"f\"] < 0.02)].sort_values(\"f\", ascending=False).join(cats)"
   ]
  },
  {
   "cell_type": "code",
   "execution_count": null,
   "metadata": {},
   "outputs": [],
   "source": [
    "ids = cats.loc[cats[0].str.contains(\"religion\")].index.tolist()\n",
    "cats.loc[cats[0].str.contains(\"religion\")]"
   ]
  },
  {
   "cell_type": "code",
   "execution_count": null,
   "metadata": {},
   "outputs": [],
   "source": [
    "ids"
   ]
  },
  {
   "cell_type": "code",
   "execution_count": null,
   "metadata": {},
   "outputs": [],
   "source": [
    "mask = train_df[\"target_ind\"].map(lambda ex: any(i in ex for i in ids))"
   ]
  },
  {
   "cell_type": "code",
   "execution_count": null,
   "metadata": {},
   "outputs": [],
   "source": [
    "train_df.loc[mask]"
   ]
  },
  {
   "cell_type": "code",
   "execution_count": null,
   "metadata": {},
   "outputs": [],
   "source": [
    "mask.sum() / len(train_df)"
   ]
  },
  {
   "cell_type": "code",
   "execution_count": null,
   "metadata": {},
   "outputs": [],
   "source": [
    "fiction = 8%\n",
    "movies = 7%\n",
    "social science = 4%\n",
    "religion = 2%"
   ]
  },
  {
   "cell_type": "code",
   "execution_count": null,
   "metadata": {},
   "outputs": [],
   "source": [
    "train_df.loc[train_df[\"target_ind\"].map(lambda ex: 7893 in ex), \"text\"].to_dict()"
   ]
  },
  {
   "cell_type": "code",
   "execution_count": null,
   "metadata": {},
   "outputs": [],
   "source": []
  },
  {
   "cell_type": "code",
   "execution_count": null,
   "metadata": {},
   "outputs": [],
   "source": [
    "# df.loc[df[\"target_ind\"].map(lambda ex: 13199 in ex)]\n",
    "df.loc[df[\"target_ind\"].map(lambda ex: 12583 in ex)].iloc[2].to_dict()"
   ]
  },
  {
   "cell_type": "code",
   "execution_count": null,
   "metadata": {},
   "outputs": [],
   "source": [
    "30068 / len(df)"
   ]
  },
  {
   "cell_type": "code",
   "execution_count": null,
   "metadata": {},
   "outputs": [],
   "source": []
  },
  {
   "cell_type": "code",
   "execution_count": null,
   "metadata": {},
   "outputs": [],
   "source": []
  },
  {
   "cell_type": "code",
   "execution_count": null,
   "metadata": {},
   "outputs": [],
   "source": [
    "MODELS = [\"all-mpnet-base-v2\", \"multi-qa-mpnet-base-dot-v1\", \"all-MiniLM-L12-v2\"]"
   ]
  },
  {
   "cell_type": "code",
   "execution_count": null,
   "metadata": {},
   "outputs": [],
   "source": []
  },
  {
   "cell_type": "code",
   "execution_count": null,
   "metadata": {},
   "outputs": [],
   "source": [
    "models = [f\"embedding_{i}\" for i in MODELS]\n",
    "df = load_dataset(\"pietrolesci/eurlex_indexed\")[\"train\"].to_pandas()\n",
    "df = df[[\"uid\"] + models]"
   ]
  },
  {
   "cell_type": "code",
   "execution_count": null,
   "metadata": {},
   "outputs": [],
   "source": [
    "metric: str = \"cosine\"\n",
    "ef_construction: int = 200\n",
    "ef: int = 200\n",
    "M: int = 64\n",
    "num_threads: int = 5\n",
    "\n",
    "path = Path(\"../data/processed/eurlex/hnswlib_indices\")\n",
    "path.mkdir(exist_ok=True, parents=True)\n",
    "\n",
    "for idx, model in enumerate(tqdm(models)):\n",
    "\n",
    "    path.mkdir(exist_ok=True, parents=True)\n",
    "\n",
    "    embeddings = np.stack(df[model].values)\n",
    "\n",
    "    index = hb.Index(space=metric, dim=embeddings.shape[1])\n",
    "    index.set_ef(ef)\n",
    "    index.init_index(\n",
    "        max_elements=embeddings.shape[0],\n",
    "        M=M,\n",
    "        ef_construction=ef_construction,\n",
    "        random_seed=42,\n",
    "    )\n",
    "\n",
    "    index.add_items(embeddings, df[\"uid\"].tolist(), num_threads=num_threads)\n",
    "    index.save_index(str(path / f\"index_{metric}_{MODELS[idx]}.bin\"))\n",
    "\n",
    "    srsly.write_yaml(\n",
    "        path / f\"metadata_{metric}_{MODELS[idx]}.yaml\",\n",
    "        {\n",
    "            \"metric\": metric,\n",
    "            \"ef_construction\": ef_construction,\n",
    "            \"ef\": ef,\n",
    "            \"M\": M,\n",
    "            \"num_threads\": num_threads,\n",
    "        },\n",
    "    )"
   ]
  },
  {
   "cell_type": "code",
   "execution_count": null,
   "metadata": {},
   "outputs": [],
   "source": [
    "data = ds_dict.map(\n",
    "    lambda ex: {\"labels\": [int(\"3191\" in l) for l in ex[\"eurovoc_concepts\"]]},\n",
    "    batched=True,\n",
    ")"
   ]
  },
  {
   "cell_type": "code",
   "execution_count": null,
   "metadata": {},
   "outputs": [],
   "source": [
    "train_df = data[\"train\"].to_pandas()\n",
    "test_df = data[\"test\"].to_pandas()"
   ]
  },
  {
   "cell_type": "code",
   "execution_count": null,
   "metadata": {},
   "outputs": [],
   "source": [
    "train_freq = (\n",
    "    train_df[[\"celex_id\", \"eurovoc_concepts\"]]\n",
    "    .explode(\"eurovoc_concepts\")\n",
    "    .groupby(\"eurovoc_concepts\")[\"celex_id\"]\n",
    "    .nunique()\n",
    "    .to_frame(\"count_train\")\n",
    ")\n",
    "test_freq = (\n",
    "    test_df[[\"celex_id\", \"eurovoc_concepts\"]]\n",
    "    .explode(\"eurovoc_concepts\")\n",
    "    .groupby(\"eurovoc_concepts\")[\"celex_id\"]\n",
    "    .nunique()\n",
    "    .to_frame(\"count_test\")\n",
    ")"
   ]
  },
  {
   "cell_type": "code",
   "execution_count": null,
   "metadata": {},
   "outputs": [],
   "source": [
    "desc = pd.DataFrame(srsly.read_jsonl(\"../data/raw/eurlex-57k/eurovoc_concepts.jsonl\")).set_index(\n",
    "    \"id\"\n",
    ")"
   ]
  },
  {
   "cell_type": "code",
   "execution_count": null,
   "metadata": {},
   "outputs": [],
   "source": [
    "f = train_freq.join(test_freq).dropna()"
   ]
  },
  {
   "cell_type": "code",
   "execution_count": null,
   "metadata": {},
   "outputs": [],
   "source": [
    "f[\"sum\"] = f.sum(1)"
   ]
  },
  {
   "cell_type": "code",
   "execution_count": null,
   "metadata": {},
   "outputs": [],
   "source": [
    "f = f.sort_values(\"sum\", ascending=False)"
   ]
  },
  {
   "cell_type": "code",
   "execution_count": null,
   "metadata": {},
   "outputs": [],
   "source": [
    "f = f.join(desc)"
   ]
  },
  {
   "cell_type": "code",
   "execution_count": null,
   "metadata": {},
   "outputs": [],
   "source": [
    "f.loc[(f[\"sum\"] < 3500) & (f[\"sum\"] > 1000)].sort_values(\n",
    "    [\"count_test\", \"count_train\"], ascending=[False, True]\n",
    ")"
   ]
  },
  {
   "cell_type": "code",
   "execution_count": null,
   "metadata": {},
   "outputs": [],
   "source": [
    "# make `health control` the target label\n",
    "data = ds_dict.map(\n",
    "    lambda ex: {\"labels\": [int(\"192\" in l) for l in ex[\"eurovoc_concepts\"]]},\n",
    "    batched=True,\n",
    ")\n",
    "train_df = data[\"train\"].to_pandas()\n",
    "test_df = data[\"test\"].to_pandas()"
   ]
  },
  {
   "cell_type": "code",
   "execution_count": null,
   "metadata": {},
   "outputs": [],
   "source": [
    "train_df[\"labels\"].value_counts(True), test_df[\"labels\"].value_counts(True)"
   ]
  },
  {
   "cell_type": "code",
   "execution_count": null,
   "metadata": {},
   "outputs": [],
   "source": [
    "tfidf = TfidfVectorizer(ngram_range=(1, 3))\n",
    "log_reg = LogisticRegression()"
   ]
  },
  {
   "cell_type": "code",
   "execution_count": null,
   "metadata": {},
   "outputs": [],
   "source": [
    "train_df[\"document_type\"].value_counts()"
   ]
  },
  {
   "cell_type": "code",
   "execution_count": null,
   "metadata": {},
   "outputs": [],
   "source": [
    "# X = tfidf.fit_transform(train_df[\"text\"].values)\n",
    "X = np.stack(train_df[\"embedding_all-mpnet-base-v2\"].values)\n",
    "y = train_df[\"labels\"].values\n",
    "# y = train_df[\"document_type\"] == \"Directive\"\n",
    "\n",
    "# X_test = tfidf.transform(test_df[\"text\"].values)\n",
    "X_test = np.stack(test_df[\"embedding_all-mpnet-base-v2\"].values)\n",
    "y_test = test_df[\"labels\"].values\n",
    "# y_test = test_df[\"document_type\"] == \"Directive\""
   ]
  },
  {
   "cell_type": "code",
   "execution_count": null,
   "metadata": {},
   "outputs": [],
   "source": [
    "log_reg.fit(X, y)"
   ]
  },
  {
   "cell_type": "code",
   "execution_count": null,
   "metadata": {},
   "outputs": [],
   "source": [
    "print(classification_report(y_test, log_reg.predict(X_test)))"
   ]
  },
  {
   "cell_type": "code",
   "execution_count": null,
   "metadata": {},
   "outputs": [],
   "source": [
    "print(classification_report(y, log_reg.predict(X)))"
   ]
  },
  {
   "cell_type": "code",
   "execution_count": null,
   "metadata": {},
   "outputs": [],
   "source": [
    "ds_dict"
   ]
  },
  {
   "cell_type": "code",
   "execution_count": null,
   "metadata": {},
   "outputs": [],
   "source": [
    "1609 / len(train_df)"
   ]
  },
  {
   "cell_type": "code",
   "execution_count": null,
   "metadata": {},
   "outputs": [],
   "source": [
    "train_df[\"document_type\"].value_counts(True)"
   ]
  },
  {
   "cell_type": "code",
   "execution_count": null,
   "metadata": {},
   "outputs": [],
   "source": []
  },
  {
   "cell_type": "code",
   "execution_count": null,
   "metadata": {},
   "outputs": [],
   "source": [
    "train_df.loc[train_df[\"eurovoc_concepts\"].map(lambda ex: \"2173\" in ex)]"
   ]
  },
  {
   "cell_type": "code",
   "execution_count": null,
   "metadata": {},
   "outputs": [],
   "source": [
    "desc"
   ]
  },
  {
   "cell_type": "code",
   "execution_count": null,
   "metadata": {},
   "outputs": [],
   "source": [
    "# get eurlex from http://nlp.cs.aueb.gr/software_and_datasets/EURLEX57K/ and unzip the folder into eurlex\n",
    "path = Path(\"../eurlex/\")\n",
    "data = {}\n",
    "for split in path.iterdir():\n",
    "    data[split.name] = []\n",
    "    for file in tqdm(list(split.iterdir())):\n",
    "        data[split.name].append(srsly.read_json(file))"
   ]
  },
  {
   "cell_type": "code",
   "execution_count": null,
   "metadata": {},
   "outputs": [],
   "source": []
  },
  {
   "cell_type": "code",
   "execution_count": null,
   "metadata": {},
   "outputs": [],
   "source": []
  },
  {
   "cell_type": "code",
   "execution_count": null,
   "metadata": {},
   "outputs": [],
   "source": [
    "cats = [\n",
    "    \"Wireless_v1_00\",\n",
    "    \"Watches_v1_00\",\n",
    "    \"Video_Games_v1_00\",\n",
    "    \"Video_DVD_v1_00\",\n",
    "    \"Video_v1_00\",\n",
    "    \"Toys_v1_00\",\n",
    "    \"Tools_v1_00\",\n",
    "    \"Sports_v1_00\",\n",
    "    \"Software_v1_00\",\n",
    "    \"Shoes_v1_00\",\n",
    "    \"Pet_Products_v1_00\",\n",
    "    \"Personal_Care_Appliances_v1_00\",\n",
    "    \"PC_v1_00\",\n",
    "    \"Outdoors_v1_00\",\n",
    "    \"Office_Products_v1_00\",\n",
    "    \"Musical_Instruments_v1_00\",\n",
    "    \"Music_v1_00\",\n",
    "    \"Mobile_Electronics_v1_00\",\n",
    "    \"Mobile_Apps_v1_00\",\n",
    "    \"Major_Appliances_v1_00\",\n",
    "    \"Luggage_v1_00\",\n",
    "    \"Lawn_and_Garden_v1_00\",\n",
    "    \"Kitchen_v1_00\",\n",
    "    \"Jewelry_v1_00\",\n",
    "    \"Home_Improvement_v1_00\",\n",
    "    \"Home_Entertainment_v1_00\",\n",
    "    \"Home_v1_00\",\n",
    "    \"Health_Personal_Care_v1_00\",\n",
    "    \"Grocery_v1_00\",\n",
    "    \"Gift_Card_v1_00\",\n",
    "    \"Furniture_v1_00\",\n",
    "    \"Electronics_v1_00\",\n",
    "    \"Digital_Video_Games_v1_00\",\n",
    "    \"Digital_Video_Download_v1_00\",\n",
    "    \"Digital_Software_v1_00\",\n",
    "    \"Digital_Music_Purchase_v1_00\",\n",
    "    \"Digital_Ebook_Purchase_v1_00\",\n",
    "    \"Camera_v1_00\",\n",
    "    \"Beauty_v1_00\",\n",
    "    \"Baby_v1_00\",\n",
    "    \"Automotive_v1_00\",\n",
    "    \"Apparel_v1_00\",\n",
    "    \"Digital_Ebook_Purchase_v1_01\",\n",
    "    \"Books_v1_00\",\n",
    "    \"Books_v1_01\",\n",
    "    \"Books_v1_02\",\n",
    "]"
   ]
  },
  {
   "cell_type": "code",
   "execution_count": null,
   "metadata": {},
   "outputs": [],
   "source": []
  },
  {
   "cell_type": "code",
   "execution_count": null,
   "metadata": {},
   "outputs": [],
   "source": [
    "ds_dict = load_dataset(\"pietrolesci/pubmed-rct-200k_indexed\")\n",
    "ds_dict = ds_dict.select_columns([\"uid\", \"labels\", \"text\", \"embedding_all-mpnet-base-v2\"])\n",
    "\n",
    "train_df = ds_dict[\"train\"].to_pandas()\n",
    "test_df = ds_dict[\"test\"].to_pandas()"
   ]
  },
  {
   "cell_type": "code",
   "execution_count": null,
   "metadata": {},
   "outputs": [],
   "source": [
    "X = np.stack(train_df[\"embedding_all-mpnet-base-v2\"].values)\n",
    "y = train_df[\"labels\"].values == 0\n",
    "\n",
    "X_test = np.stack(test_df[\"embedding_all-mpnet-base-v2\"].values)\n",
    "y_test = test_df[\"labels\"].values == 0"
   ]
  },
  {
   "cell_type": "code",
   "execution_count": null,
   "metadata": {},
   "outputs": [],
   "source": [
    "train_df[\"labels\"].value_counts(True)"
   ]
  },
  {
   "cell_type": "code",
   "execution_count": null,
   "metadata": {},
   "outputs": [],
   "source": [
    "log_reg = LogisticRegression()"
   ]
  },
  {
   "cell_type": "code",
   "execution_count": null,
   "metadata": {},
   "outputs": [],
   "source": [
    "log_reg.fit(X, y)"
   ]
  },
  {
   "cell_type": "code",
   "execution_count": null,
   "metadata": {},
   "outputs": [],
   "source": [
    "print(classification_report(y_test, log_reg.predict(X_test)))"
   ]
  },
  {
   "cell_type": "code",
   "execution_count": null,
   "metadata": {},
   "outputs": [],
   "source": [
    "print(classification_report(y, log_reg.predict(X)))"
   ]
  },
  {
   "cell_type": "code",
   "execution_count": null,
   "metadata": {},
   "outputs": [],
   "source": [
    "len(train_df)"
   ]
  },
  {
   "cell_type": "code",
   "execution_count": null,
   "metadata": {},
   "outputs": [],
   "source": [
    "d = load_dataset(\"pietrolesci/pubmed-rct-200k_indexed\")"
   ]
  },
  {
   "cell_type": "code",
   "execution_count": null,
   "metadata": {},
   "outputs": [],
   "source": [
    "a"
   ]
  }
 ],
 "metadata": {
  "kernelspec": {
   "display_name": "igal",
   "language": "python",
   "name": "python3"
  },
  "language_info": {
   "codemirror_mode": {
    "name": "ipython",
    "version": 3
   },
   "file_extension": ".py",
   "mimetype": "text/x-python",
   "name": "python",
   "nbconvert_exporter": "python",
   "pygments_lexer": "ipython3",
   "version": "3.9.16"
  },
  "orig_nbformat": 4
 },
 "nbformat": 4,
 "nbformat_minor": 2
}
