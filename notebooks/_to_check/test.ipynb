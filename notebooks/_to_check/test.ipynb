{
 "cells": [
  {
   "cell_type": "code",
   "execution_count": 1,
   "metadata": {},
   "outputs": [],
   "source": [
    "%load_ext autoreload\n",
    "%autoreload 2"
   ]
  },
  {
   "cell_type": "code",
   "execution_count": 2,
   "metadata": {},
   "outputs": [],
   "source": [
    "from copy import deepcopy\n",
    "from pathlib import Path\n",
    "\n",
    "import pandas as pd\n",
    "import seaborn as sns\n",
    "import srsly\n",
    "from datasets import load_from_disk\n",
    "from lightning.fabric.loggers import TensorBoardLogger\n",
    "from scipy.special import entr, softmax\n",
    "from transformers import AutoModelForSequenceClassification, AutoTokenizer\n",
    "\n",
    "from src.data import ClassificationActiveDataModule, ClassificationDataModule\n",
    "from src.energizer.utilities import local_seed\n",
    "from src.estimators import (  # UncertaintyBasedStrategyForSequenceClassification,; SEALSRandomStrategyForSequenceClassification,\n",
    "    EstimatorForSequenceClassification,\n",
    "    RandomStrategyForSequenceClassification,\n",
    ")\n",
    "\n",
    "pd.set_option(\"display.max_colwidth\", None)"
   ]
  },
  {
   "cell_type": "code",
   "execution_count": 3,
   "metadata": {},
   "outputs": [],
   "source": [
    "data_path = Path(\"../data/prepared/agnews_bert_tiny/\")"
   ]
  },
  {
   "cell_type": "code",
   "execution_count": 4,
   "metadata": {},
   "outputs": [],
   "source": [
    "metadata = srsly.read_yaml(data_path / \"metadata.yaml\")\n",
    "tokenizer = AutoTokenizer.from_pretrained(metadata[\"name_or_path\"])"
   ]
  },
  {
   "attachments": {},
   "cell_type": "markdown",
   "metadata": {},
   "source": [
    "---\n",
    "### Train"
   ]
  },
  {
   "cell_type": "code",
   "execution_count": 5,
   "metadata": {},
   "outputs": [],
   "source": [
    "dataset_dict = load_from_disk(data_path)\n",
    "train_val = dataset_dict[\"train\"].train_test_split(0.3)\n",
    "dataset_dict[\"train\"] = train_val[\"train\"]\n",
    "dataset_dict[\"validation\"] = train_val[\"test\"]\n",
    "\n",
    "datamodule = ClassificationDataModule.from_dataset_dict(\n",
    "    dataset_dict, tokenizer=tokenizer, batch_size=64, eval_batch_size=256\n",
    ")"
   ]
  },
  {
   "cell_type": "code",
   "execution_count": 6,
   "metadata": {},
   "outputs": [
    {
     "name": "stderr",
     "output_type": "stream",
     "text": [
      "Some weights of the model checkpoint at google/bert_uncased_L-2_H-128_A-2 were not used when initializing BertForSequenceClassification: ['cls.predictions.transform.LayerNorm.weight', 'cls.predictions.bias', 'cls.predictions.decoder.weight', 'cls.predictions.transform.dense.weight', 'cls.seq_relationship.weight', 'cls.seq_relationship.bias', 'cls.predictions.decoder.bias', 'cls.predictions.transform.dense.bias', 'cls.predictions.transform.LayerNorm.bias']\n",
      "- This IS expected if you are initializing BertForSequenceClassification from the checkpoint of a model trained on another task or with another architecture (e.g. initializing a BertForSequenceClassification model from a BertForPreTraining model).\n",
      "- This IS NOT expected if you are initializing BertForSequenceClassification from the checkpoint of a model that you expect to be exactly identical (initializing a BertForSequenceClassification model from a BertForSequenceClassification model).\n",
      "Some weights of BertForSequenceClassification were not initialized from the model checkpoint at google/bert_uncased_L-2_H-128_A-2 and are newly initialized: ['classifier.weight', 'classifier.bias']\n",
      "You should probably TRAIN this model on a down-stream task to be able to use it for predictions and inference.\n"
     ]
    }
   ],
   "source": [
    "model = AutoModelForSequenceClassification.from_pretrained(\n",
    "    metadata[\"name_or_path\"],\n",
    "    id2label=datamodule.id2label,\n",
    "    label2id=datamodule.label2id,\n",
    "    num_labels=len(datamodule.labels),\n",
    ")"
   ]
  },
  {
   "cell_type": "code",
   "execution_count": null,
   "metadata": {},
   "outputs": [],
   "source": [
    "estimator = EstimatorForSequenceClassification(model, accelerator=\"cuda\")"
   ]
  },
  {
   "cell_type": "code",
   "execution_count": null,
   "metadata": {},
   "outputs": [],
   "source": [
    "out = estimator.fit(\n",
    "    train_loader=datamodule.train_loader(),\n",
    "    validation_loader=datamodule.validation_loader(),\n",
    "    limit_train_batches=10,\n",
    "    limit_validation_batches=30,\n",
    "    validation_interval=1,\n",
    ")"
   ]
  },
  {
   "cell_type": "code",
   "execution_count": null,
   "metadata": {},
   "outputs": [],
   "source": [
    "test_out = estimator.test(\n",
    "    datamodule.test_loader(),\n",
    "    limit_batches=11,\n",
    "    # progress_bar=False,\n",
    ")"
   ]
  },
  {
   "attachments": {},
   "cell_type": "markdown",
   "metadata": {},
   "source": [
    "---\n",
    "### Active train"
   ]
  },
  {
   "cell_type": "code",
   "execution_count": 7,
   "metadata": {},
   "outputs": [
    {
     "data": {
      "text/plain": [
       "DatasetDict({\n",
       "    train: Dataset({\n",
       "        features: ['unique_id', 'labels', 'text', 'input_ids', 'token_type_ids', 'attention_mask'],\n",
       "        num_rows: 120000\n",
       "    })\n",
       "    test: Dataset({\n",
       "        features: ['unique_id', 'labels', 'text', 'input_ids', 'token_type_ids', 'attention_mask'],\n",
       "        num_rows: 7600\n",
       "    })\n",
       "})"
      ]
     },
     "execution_count": 7,
     "metadata": {},
     "output_type": "execute_result"
    }
   ],
   "source": [
    "dataset_dict = load_from_disk(data_path)\n",
    "datamodule = ClassificationDataModule.from_dataset_dict(\n",
    "    dataset_dict, tokenizer=tokenizer, batch_size=64, eval_batch_size=256\n",
    ")\n",
    "dataset_dict"
   ]
  },
  {
   "cell_type": "code",
   "execution_count": 8,
   "metadata": {},
   "outputs": [],
   "source": [
    "active_datamodule = ClassificationActiveDataModule.from_dataset_dict(\n",
    "    dataset_dict, tokenizer, seed=42, batch_size=64, eval_batch_size=256\n",
    ")"
   ]
  },
  {
   "cell_type": "code",
   "execution_count": 9,
   "metadata": {},
   "outputs": [
    {
     "name": "stderr",
     "output_type": "stream",
     "text": [
      "Some weights of the model checkpoint at google/bert_uncased_L-2_H-128_A-2 were not used when initializing BertForSequenceClassification: ['cls.predictions.transform.LayerNorm.weight', 'cls.predictions.bias', 'cls.predictions.decoder.weight', 'cls.predictions.transform.dense.weight', 'cls.seq_relationship.weight', 'cls.seq_relationship.bias', 'cls.predictions.decoder.bias', 'cls.predictions.transform.dense.bias', 'cls.predictions.transform.LayerNorm.bias']\n",
      "- This IS expected if you are initializing BertForSequenceClassification from the checkpoint of a model trained on another task or with another architecture (e.g. initializing a BertForSequenceClassification model from a BertForPreTraining model).\n",
      "- This IS NOT expected if you are initializing BertForSequenceClassification from the checkpoint of a model that you expect to be exactly identical (initializing a BertForSequenceClassification model from a BertForSequenceClassification model).\n",
      "Some weights of BertForSequenceClassification were not initialized from the model checkpoint at google/bert_uncased_L-2_H-128_A-2 and are newly initialized: ['classifier.weight', 'classifier.bias']\n",
      "You should probably TRAIN this model on a down-stream task to be able to use it for predictions and inference.\n"
     ]
    }
   ],
   "source": [
    "with local_seed(42):\n",
    "    model = AutoModelForSequenceClassification.from_pretrained(\n",
    "        metadata[\"name_or_path\"],\n",
    "        id2label=datamodule.id2label,\n",
    "        label2id=datamodule.label2id,\n",
    "        num_labels=len(datamodule.labels),\n",
    "    )"
   ]
  },
  {
   "cell_type": "code",
   "execution_count": 10,
   "metadata": {},
   "outputs": [
    {
     "data": {
      "application/vnd.jupyter.widget-view+json": {
       "model_id": "1fab1261e80041bfafd9c678bf5f8695",
       "version_major": 2,
       "version_minor": 0
      },
      "text/plain": [
       "Completed rounds:   0%|          | 0/3 [00:00<?, ?it/s]"
      ]
     },
     "metadata": {},
     "output_type": "display_data"
    },
    {
     "data": {
      "application/vnd.jupyter.widget-view+json": {
       "model_id": "fbb65c5999a04ae995d9980f0b291a06",
       "version_major": 2,
       "version_minor": 0
      },
      "text/plain": [
       "Completed epochs: 0it [00:00, ?it/s]"
      ]
     },
     "metadata": {},
     "output_type": "display_data"
    },
    {
     "data": {
      "application/vnd.jupyter.widget-view+json": {
       "model_id": "edda78cf9dda49d68c5bc8f2669b7599",
       "version_major": 2,
       "version_minor": 0
      },
      "text/plain": [
       "Epoch 0: 0it [00:00, ?it/s]"
      ]
     },
     "metadata": {},
     "output_type": "display_data"
    },
    {
     "data": {
      "application/vnd.jupyter.widget-view+json": {
       "model_id": "4138e324024d4cbb95115499b4b4a4f7",
       "version_major": 2,
       "version_minor": 0
      },
      "text/plain": [
       "Test: 0it [00:00, ?it/s]"
      ]
     },
     "metadata": {},
     "output_type": "display_data"
    },
    {
     "name": "stderr",
     "output_type": "stream",
     "text": [
      "Missing logger folder: logs/lightning_logs\n"
     ]
    },
    {
     "name": "stdout",
     "output_type": "stream",
     "text": [
      "RunningStage.TEST 0\n",
      "END RunningStage.TEST 0 {'train_size': 0, 'validation_size': 0, 'test_size': 7600, 'pool_size': 120000, 'total_labelled_size': 0}\n",
      "RoundTracker(max=3, total=1, current=1, progress_bar=<tqdm.auto.tqdm object at 0x7f7e1bed0070>)\n",
      "RunningStage.TRAIN 1\n",
      "RunningStage.TRAIN 1\n",
      "RunningStage.TRAIN 1\n",
      "RunningStage.TEST 1\n",
      "END RunningStage.TEST 1 {'train_size': 25, 'validation_size': 0, 'test_size': 7600, 'pool_size': 119975, 'total_labelled_size': 25}\n",
      "RunningStage.TRAIN 2\n",
      "RunningStage.TRAIN 2\n",
      "RunningStage.TRAIN 2\n",
      "RunningStage.TEST 2\n",
      "END RunningStage.TEST 2 {'train_size': 50, 'validation_size': 0, 'test_size': 7600, 'pool_size': 119950, 'total_labelled_size': 50}\n"
     ]
    },
    {
     "data": {
      "application/vnd.jupyter.widget-view+json": {
       "model_id": "7bfadf71bd8e4609bef7430ed19807ce",
       "version_major": 2,
       "version_minor": 0
      },
      "text/plain": [
       "Completed rounds:   0%|          | 0/3 [00:00<?, ?it/s]"
      ]
     },
     "metadata": {},
     "output_type": "display_data"
    },
    {
     "data": {
      "application/vnd.jupyter.widget-view+json": {
       "model_id": "5d0c639000f841e2b397be3b7ad69a25",
       "version_major": 2,
       "version_minor": 0
      },
      "text/plain": [
       "Completed epochs: 0it [00:00, ?it/s]"
      ]
     },
     "metadata": {},
     "output_type": "display_data"
    },
    {
     "data": {
      "application/vnd.jupyter.widget-view+json": {
       "model_id": "8adf74666bcc43cb95f9fc2429e0a2f5",
       "version_major": 2,
       "version_minor": 0
      },
      "text/plain": [
       "Epoch 0: 0it [00:00, ?it/s]"
      ]
     },
     "metadata": {},
     "output_type": "display_data"
    },
    {
     "data": {
      "application/vnd.jupyter.widget-view+json": {
       "model_id": "32d0734472ce4a6d969902a715e1db64",
       "version_major": 2,
       "version_minor": 0
      },
      "text/plain": [
       "Test: 0it [00:00, ?it/s]"
      ]
     },
     "metadata": {},
     "output_type": "display_data"
    },
    {
     "name": "stdout",
     "output_type": "stream",
     "text": [
      "RunningStage.TEST 0\n",
      "END RunningStage.TEST 0 {'train_size': 0, 'validation_size': 0, 'test_size': 7600, 'pool_size': 120000, 'total_labelled_size': 0}\n",
      "RoundTracker(max=3, total=1, current=1, progress_bar=<tqdm.auto.tqdm object at 0x7f7e43faf220>)\n",
      "RunningStage.TRAIN 1\n",
      "RunningStage.TRAIN 1\n",
      "RunningStage.TRAIN 1\n",
      "RunningStage.TEST 1\n",
      "END RunningStage.TEST 1 {'train_size': 25, 'validation_size': 0, 'test_size': 7600, 'pool_size': 119975, 'total_labelled_size': 25}\n",
      "RunningStage.TRAIN 2\n",
      "RunningStage.TRAIN 2\n",
      "RunningStage.TRAIN 2\n",
      "RunningStage.TEST 2\n",
      "END RunningStage.TEST 2 {'train_size': 50, 'validation_size': 0, 'test_size': 7600, 'pool_size': 119950, 'total_labelled_size': 50}\n"
     ]
    },
    {
     "data": {
      "application/vnd.jupyter.widget-view+json": {
       "model_id": "cc9ec66f64b84cee9c470cbf6cfb5472",
       "version_major": 2,
       "version_minor": 0
      },
      "text/plain": [
       "Completed rounds:   0%|          | 0/3 [00:00<?, ?it/s]"
      ]
     },
     "metadata": {},
     "output_type": "display_data"
    },
    {
     "data": {
      "application/vnd.jupyter.widget-view+json": {
       "model_id": "7ee30e453b224d92973ef0d83a2a324b",
       "version_major": 2,
       "version_minor": 0
      },
      "text/plain": [
       "Completed epochs: 0it [00:00, ?it/s]"
      ]
     },
     "metadata": {},
     "output_type": "display_data"
    },
    {
     "data": {
      "application/vnd.jupyter.widget-view+json": {
       "model_id": "51474024db704a1a8781ba16b14323e0",
       "version_major": 2,
       "version_minor": 0
      },
      "text/plain": [
       "Epoch 0: 0it [00:00, ?it/s]"
      ]
     },
     "metadata": {},
     "output_type": "display_data"
    },
    {
     "data": {
      "application/vnd.jupyter.widget-view+json": {
       "model_id": "85625f39122b46f4b8a84100db9ccd18",
       "version_major": 2,
       "version_minor": 0
      },
      "text/plain": [
       "Test: 0it [00:00, ?it/s]"
      ]
     },
     "metadata": {},
     "output_type": "display_data"
    },
    {
     "name": "stdout",
     "output_type": "stream",
     "text": [
      "RunningStage.TEST 0\n",
      "END RunningStage.TEST 0 {'train_size': 0, 'validation_size': 0, 'test_size': 7600, 'pool_size': 120000, 'total_labelled_size': 0}\n",
      "RoundTracker(max=3, total=1, current=1, progress_bar=<tqdm.auto.tqdm object at 0x7f7e1bed06a0>)\n",
      "RunningStage.TRAIN 1\n",
      "RunningStage.TRAIN 1\n",
      "RunningStage.TRAIN 1\n",
      "RunningStage.TEST 1\n",
      "END RunningStage.TEST 1 {'train_size': 25, 'validation_size': 0, 'test_size': 7600, 'pool_size': 119975, 'total_labelled_size': 25}\n",
      "RunningStage.TRAIN 2\n",
      "RunningStage.TRAIN 2\n",
      "RunningStage.TRAIN 2\n",
      "RunningStage.TEST 2\n",
      "END RunningStage.TEST 2 {'train_size': 50, 'validation_size': 0, 'test_size': 7600, 'pool_size': 119950, 'total_labelled_size': 50}\n"
     ]
    }
   ],
   "source": [
    "list_dfs = []\n",
    "\n",
    "for _ in range(3):\n",
    "    active_datamodule = ClassificationActiveDataModule.from_dataset_dict(\n",
    "        dataset_dict, tokenizer, seed=42, batch_size=64, eval_batch_size=256\n",
    "    )\n",
    "\n",
    "    active_estimator = RandomStrategyForSequenceClassification(\n",
    "        model=deepcopy(model),\n",
    "        seed=42,\n",
    "        loggers=[TensorBoardLogger(\"logs\")],\n",
    "        deterministic=True,\n",
    "    )\n",
    "\n",
    "    active_estimator.active_fit(\n",
    "        active_datamodule,\n",
    "        max_rounds=2,\n",
    "        # max_budget=200,\n",
    "        # limit_train_batches=20,\n",
    "        # limit_validation_batches=22,\n",
    "        # limit_test_batches=21,\n",
    "        # limit_pool_batches=30,\n",
    "        # validation_perc=0.4,\n",
    "        # validation_interval=1,\n",
    "        # validation_sampling=\"stratified\",\n",
    "        query_size=25,\n",
    "    )\n",
    "\n",
    "    list_dfs.append(active_datamodule.get_labelled_dataset())\n",
    "    # from copy import deepcopy\n",
    "    # tb_logger2 = TensorBoardLogger(\"logs2\")\n",
    "    # active_estimator2 = RandomStrategyForSequenceClassification(\n",
    "    #     model=deepcopy(model), seed=42, loggers=[tb_logger2],\n",
    "    # )"
   ]
  },
  {
   "cell_type": "code",
   "execution_count": null,
   "metadata": {},
   "outputs": [],
   "source": [
    "(\n",
    "    list_dfs[1].equals(list_dfs[2]),\n",
    "    list_dfs[1].equals(list_dfs[0]),\n",
    "    list_dfs[0].equals(list_dfs[2]),\n",
    ")"
   ]
  },
  {
   "cell_type": "code",
   "execution_count": null,
   "metadata": {},
   "outputs": [],
   "source": []
  },
  {
   "cell_type": "code",
   "execution_count": null,
   "metadata": {},
   "outputs": [],
   "source": [
    "active_estimator.active_fit(\n",
    "    active_datamodule,\n",
    "    max_rounds=2,\n",
    "    # max_budget=200,\n",
    "    limit_train_batches=20,\n",
    "    limit_validation_batches=22,\n",
    "    limit_test_batches=21,\n",
    "    limit_pool_batches=30,\n",
    "    validation_perc=0.4,\n",
    "    validation_interval=1,\n",
    "    validation_sampling=\"stratified\",\n",
    "    query_size=25,\n",
    ")"
   ]
  },
  {
   "cell_type": "code",
   "execution_count": null,
   "metadata": {},
   "outputs": [],
   "source": []
  },
  {
   "cell_type": "code",
   "execution_count": null,
   "metadata": {},
   "outputs": [],
   "source": []
  },
  {
   "cell_type": "code",
   "execution_count": null,
   "metadata": {},
   "outputs": [],
   "source": [
    "active_estimator.progress_tracker.budget_tracker"
   ]
  },
  {
   "cell_type": "code",
   "execution_count": null,
   "metadata": {},
   "outputs": [],
   "source": [
    "active_estimator.progress_tracker.round_tracker"
   ]
  },
  {
   "cell_type": "code",
   "execution_count": null,
   "metadata": {},
   "outputs": [],
   "source": [
    "active_datamodule.data_statistics()"
   ]
  },
  {
   "cell_type": "code",
   "execution_count": null,
   "metadata": {},
   "outputs": [],
   "source": [
    "active_estimator2.replay_active_fit(\n",
    "    active_datamodule,\n",
    "    limit_train_batches=20,\n",
    "    limit_validation_batches=22,\n",
    "    limit_test_batches=21,\n",
    "    limit_pool_batches=30,\n",
    ")"
   ]
  },
  {
   "cell_type": "code",
   "execution_count": null,
   "metadata": {},
   "outputs": [],
   "source": [
    "active_estimator.progress_tracker.budget_tracker"
   ]
  },
  {
   "cell_type": "code",
   "execution_count": null,
   "metadata": {},
   "outputs": [],
   "source": [
    "active_datamodule.query_size"
   ]
  },
  {
   "cell_type": "code",
   "execution_count": null,
   "metadata": {},
   "outputs": [],
   "source": [
    "active_datamodule.train_loader(0).dataset"
   ]
  },
  {
   "cell_type": "code",
   "execution_count": null,
   "metadata": {},
   "outputs": [],
   "source": [
    "df = active_datamodule._df"
   ]
  },
  {
   "cell_type": "code",
   "execution_count": null,
   "metadata": {},
   "outputs": [],
   "source": [
    "df.loc[(df[\"labelling_round\"] < 0) & (df[\"is_labelled\"] == True)].shape"
   ]
  },
  {
   "cell_type": "code",
   "execution_count": null,
   "metadata": {},
   "outputs": [],
   "source": [
    "active_datamodule.has_train_data(0 - 1), active_datamodule.train_size(0 - 1)"
   ]
  },
  {
   "cell_type": "code",
   "execution_count": null,
   "metadata": {},
   "outputs": [],
   "source": [
    "df.labelling_round.value_counts()"
   ]
  },
  {
   "cell_type": "code",
   "execution_count": null,
   "metadata": {},
   "outputs": [],
   "source": []
  },
  {
   "cell_type": "code",
   "execution_count": null,
   "metadata": {},
   "outputs": [],
   "source": []
  },
  {
   "cell_type": "code",
   "execution_count": null,
   "metadata": {},
   "outputs": [],
   "source": []
  },
  {
   "cell_type": "code",
   "execution_count": null,
   "metadata": {},
   "outputs": [],
   "source": [
    "active_estimator = UncertaintyBasedStrategyForSequenceClassification(\n",
    "    model=model, score_fn=\"entropy\"\n",
    ")"
   ]
  },
  {
   "cell_type": "code",
   "execution_count": null,
   "metadata": {},
   "outputs": [],
   "source": [
    "active_estimator.active_fit(\n",
    "    active_datamodule,\n",
    "    max_rounds=2,\n",
    "    max_budget=36500,\n",
    "    limit_train_batches=20,\n",
    "    limit_validation_batches=22,\n",
    "    limit_test_batches=21,\n",
    "    limit_pool_batches=30,\n",
    "    # val_perc=0.4,\n",
    "    query_size=25,\n",
    ")"
   ]
  },
  {
   "cell_type": "code",
   "execution_count": null,
   "metadata": {},
   "outputs": [],
   "source": [
    "active_datamodule.data_statistics"
   ]
  },
  {
   "cell_type": "code",
   "execution_count": null,
   "metadata": {},
   "outputs": [],
   "source": []
  },
  {
   "cell_type": "code",
   "execution_count": null,
   "metadata": {},
   "outputs": [],
   "source": []
  },
  {
   "cell_type": "code",
   "execution_count": null,
   "metadata": {},
   "outputs": [],
   "source": [
    "df = (\n",
    "    dataset_dict[\"validation\"]\n",
    "    .to_pandas()\n",
    "    .drop(columns=[\"input_ids\", \"attention_mask\", \"token_type_ids\"])\n",
    "    .assign(labels=lambda df_: df_[\"labels\"].map(datamodule.id2label))\n",
    ")"
   ]
  },
  {
   "cell_type": "code",
   "execution_count": null,
   "metadata": {},
   "outputs": [],
   "source": [
    "df = pd.concat(\n",
    "    [\n",
    "        df,\n",
    "        pd.DataFrame(\n",
    "            data=softmax(validation_out[\"logits\"], axis=-1),\n",
    "            columns=datamodule.id2label.values(),\n",
    "        ),\n",
    "    ],\n",
    "    axis=1,\n",
    ")"
   ]
  },
  {
   "cell_type": "code",
   "execution_count": null,
   "metadata": {},
   "outputs": [],
   "source": [
    "df[\"entropy\"] = entr(df.iloc[:, -4:].values).sum(-1)\n",
    "df[\"pred\"] = df.iloc[:, -4:].values.argmax(-1)\n",
    "df[\"pred\"] = df[\"pred\"].map(datamodule.id2label)"
   ]
  },
  {
   "cell_type": "code",
   "execution_count": null,
   "metadata": {},
   "outputs": [],
   "source": [
    "validation_out[\"metrics\"]"
   ]
  },
  {
   "cell_type": "code",
   "execution_count": null,
   "metadata": {},
   "outputs": [],
   "source": [
    "validation_out[\"unique_id\"]"
   ]
  },
  {
   "cell_type": "code",
   "execution_count": null,
   "metadata": {},
   "outputs": [],
   "source": [
    "df = pd.DataFrame(\n",
    "    data=validation_out[\"logits\"],\n",
    "    columns=list(range(validation_out[\"logits\"].shape[1])),\n",
    ").assign(\n",
    "    pred=lambda df_: df_.values.argmax(-1),\n",
    "    unique_id=validation_out[\"unique_id\"],\n",
    ")"
   ]
  },
  {
   "cell_type": "code",
   "execution_count": null,
   "metadata": {},
   "outputs": [],
   "source": [
    "df = pd.merge(df, dataset_dict[\"validation\"].to_pandas(), on=\"unique_id\", how=\"inner\")"
   ]
  },
  {
   "cell_type": "code",
   "execution_count": null,
   "metadata": {},
   "outputs": [],
   "source": [
    "df = df.iloc[:, :-3]"
   ]
  },
  {
   "cell_type": "code",
   "execution_count": null,
   "metadata": {},
   "outputs": [],
   "source": [
    "df = df.assign(\n",
    "    pred=lambda df_: df_[\"pred\"].map(datamodule.id2label),\n",
    "    labels=lambda df_: df_[\"labels\"].map(datamodule.id2label),\n",
    ")"
   ]
  },
  {
   "cell_type": "code",
   "execution_count": null,
   "metadata": {},
   "outputs": [],
   "source": [
    "(df[\"pred\"] == df[\"labels\"]).mean()"
   ]
  },
  {
   "cell_type": "code",
   "execution_count": null,
   "metadata": {},
   "outputs": [],
   "source": [
    "df[\"entropy\"] = entr(softmax(df.iloc[:, :4], axis=-1)).sum(-1)"
   ]
  },
  {
   "cell_type": "code",
   "execution_count": null,
   "metadata": {},
   "outputs": [],
   "source": [
    "df.sort_values(\"entropy\", ascending=False)"
   ]
  },
  {
   "cell_type": "code",
   "execution_count": null,
   "metadata": {},
   "outputs": [],
   "source": []
  }
 ],
 "metadata": {
  "kernelspec": {
   "display_name": "fila",
   "language": "python",
   "name": "python3"
  },
  "language_info": {
   "codemirror_mode": {
    "name": "ipython",
    "version": 3
   },
   "file_extension": ".py",
   "mimetype": "text/x-python",
   "name": "python",
   "nbconvert_exporter": "python",
   "pygments_lexer": "ipython3",
   "version": "3.9.16"
  },
  "orig_nbformat": 4,
  "vscode": {
   "interpreter": {
    "hash": "18f018a05b60842b447663006bc1b1abdc29591bcb5587a187adcd2609d23576"
   }
  }
 },
 "nbformat": 4,
 "nbformat_minor": 2
}
