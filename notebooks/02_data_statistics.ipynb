{
 "cells": [
  {
   "cell_type": "code",
   "execution_count": 1,
   "metadata": {},
   "outputs": [],
   "source": [
    "from pathlib import Path\n",
    "\n",
    "import pandas as pd\n",
    "from datasets import load_from_disk\n",
    "from tqdm.auto import tqdm"
   ]
  },
  {
   "cell_type": "code",
   "execution_count": 2,
   "metadata": {},
   "outputs": [],
   "source": [
    "data_path = Path(\"../data/prepared/\")"
   ]
  },
  {
   "cell_type": "code",
   "execution_count": 3,
   "metadata": {},
   "outputs": [],
   "source": [
    "def format_integers(v: int) -> str:\n",
    "    return f\"\\\\integer{{{v}}}\"\n",
    "\n",
    "\n",
    "def format_float(v: float) -> str:\n",
    "    return f\"\\\\percentage[2]{{{v}}}\"\n",
    "\n",
    "\n",
    "def format_labels(v: str) -> str:\n",
    "    return \"\" if len(v) < 1 else f\"\\\\code{{{v}}}\""
   ]
  },
  {
   "cell_type": "code",
   "execution_count": 12,
   "metadata": {},
   "outputs": [
    {
     "data": {
      "application/vnd.jupyter.widget-view+json": {
       "model_id": "daa91ad2b87d4846b81219c2e0317d73",
       "version_major": 2,
       "version_minor": 0
      },
      "text/plain": [
       "  0%|          | 0/13 [00:00<?, ?it/s]"
      ]
     },
     "metadata": {},
     "output_type": "display_data"
    }
   ],
   "source": [
    "stats = {}\n",
    "\n",
    "for p in tqdm(list(data_path.iterdir())):\n",
    "    if \"agnews\" not in p.name:\n",
    "        continue\n",
    "\n",
    "    stats[p.name] = {}\n",
    "    ds_dict = load_from_disk(p)\n",
    "\n",
    "    # GET THE INFO\n",
    "    s = {}\n",
    "    for split in ds_dict:\n",
    "        names = ds_dict[split].features[\"labels\"].names\n",
    "        df = pd.DataFrame(ds_dict[split][\"labels\"], columns=[\"labels\"])\n",
    "\n",
    "        df = pd.concat(\n",
    "            [df[\"labels\"].value_counts(normalize=True), df[\"labels\"].value_counts()], axis=1, keys=(\"perc\", \"count\")\n",
    "        )\n",
    "        df[\"labels\"] = [names[i] for i in df.index]\n",
    "\n",
    "        df = df.sort_index(ascending=True)[df.columns.tolist()[::-1]]\n",
    "        df = pd.concat([df, df.sum(0).to_frame().T])\n",
    "        df.iloc[-1, 0] = \"\"\n",
    "        s[split] = df\n",
    "\n",
    "    df = pd.concat(s)\n",
    "    df = (\n",
    "        df.reset_index()\n",
    "        .rename(columns={\"level_0\": \"Split\", \"labels\": \"Label\", \"perc\": \"Proportion\", \"count\": \"Count\"})\n",
    "        .drop(columns=[\"level_1\"])\n",
    "        .assign(\n",
    "            Dataset=p.name,\n",
    "            Split=lambda _df: _df[\"Split\"].str.title(),\n",
    "            Count=lambda _df: _df[\"Count\"].map(format_integers),\n",
    "            Proportion=lambda _df: _df[\"Proportion\"].map(format_float),\n",
    "            Label=lambda _df: _df[\"Label\"].map(format_labels),\n",
    "        )[[\"Dataset\", \"Split\", \"Label\", \"Count\", \"Proportion\"]]\n",
    "    )\n",
    "\n",
    "    stats[p.name] = df"
   ]
  },
  {
   "cell_type": "code",
   "execution_count": 14,
   "metadata": {},
   "outputs": [],
   "source": [
    "stats = {\n",
    "    k: v\n",
    "    for k, v in stats.items()\n",
    "    # if any(i in k for i in [\"amazoncat\", \"wiki\"])\n",
    "    if \"bert-base\" in k\n",
    "}"
   ]
  },
  {
   "cell_type": "code",
   "execution_count": 16,
   "metadata": {},
   "outputs": [],
   "source": [
    "tab = pd.concat([stats[k] for k in sorted(stats.keys())])\n",
    "(\n",
    "    tab.melt(id_vars=[\"Dataset\", \"Label\", \"Split\"])\n",
    "    .set_index([\"Dataset\", \"Label\", \"Split\", \"variable\"])\n",
    "    .unstack(-2)\n",
    "    .unstack(-1)\n",
    "    .to_latex(escape=False, buf=\"../results/tables/data_stats.tex\")\n",
    ")"
   ]
  },
  {
   "cell_type": "code",
   "execution_count": null,
   "metadata": {},
   "outputs": [],
   "source": []
  }
 ],
 "metadata": {
  "kernelspec": {
   "display_name": "igal",
   "language": "python",
   "name": "python3"
  },
  "language_info": {
   "codemirror_mode": {
    "name": "ipython",
    "version": 3
   },
   "file_extension": ".py",
   "mimetype": "text/x-python",
   "name": "python",
   "nbconvert_exporter": "python",
   "pygments_lexer": "ipython3",
   "version": "3.9.12"
  },
  "orig_nbformat": 4
 },
 "nbformat": 4,
 "nbformat_minor": 2
}
