{
 "cells": [
  {
   "cell_type": "code",
   "execution_count": null,
   "metadata": {},
   "outputs": [],
   "source": [
    "import json\n",
    "from pathlib import Path\n",
    "\n",
    "import pandas as pd\n",
    "import requests\n",
    "import srsly\n",
    "from datasets import (\n",
    "    ClassLabel,\n",
    "    Dataset,\n",
    "    DatasetDict,\n",
    "    Features,\n",
    "    Sequence,\n",
    "    Value,\n",
    "    load_dataset,\n",
    "    load_from_disk,\n",
    ")\n",
    "from tqdm.auto import tqdm\n",
    "import hnswlib as hb\n",
    "import numpy as np\n",
    "from sklearn.feature_extraction.text import TfidfVectorizer\n",
    "from sklearn.linear_model import LogisticRegression\n",
    "from sklearn.metrics import classification_report\n"
   ]
  },
  {
   "cell_type": "code",
   "execution_count": null,
   "metadata": {},
   "outputs": [],
   "source": [
    "MODELS = [\"all-mpnet-base-v2\", \"multi-qa-mpnet-base-dot-v1\", \"all-MiniLM-L12-v2\"]\n"
   ]
  },
  {
   "cell_type": "code",
   "execution_count": null,
   "metadata": {},
   "outputs": [],
   "source": [
    "models = [f\"embedding_{i}\" for i in MODELS]\n",
    "df = load_dataset(\"pietrolesci/eurlex_indexed\")[\"train\"].to_pandas()\n",
    "df = df[[\"uid\"] + models]"
   ]
  },
  {
   "cell_type": "code",
   "execution_count": null,
   "metadata": {},
   "outputs": [],
   "source": [
    "metric: str = \"cosine\"\n",
    "ef_construction: int = 200\n",
    "ef: int = 200\n",
    "M: int = 64\n",
    "num_threads: int = 5\n",
    "\n",
    "path = Path(\"../data/processed/eurlex/hnswlib_indices\")\n",
    "path.mkdir(exist_ok=True, parents=True)\n",
    "\n",
    "for idx, model in enumerate(tqdm(models)):\n",
    "    \n",
    "    path.mkdir(exist_ok=True, parents=True)\n",
    "    \n",
    "    embeddings = np.stack(df[model].values)\n",
    "    \n",
    "    index = hb.Index(space=metric, dim=embeddings.shape[1])\n",
    "    index.set_ef(ef)\n",
    "    index.init_index(max_elements=embeddings.shape[0], M=M, ef_construction=ef_construction, random_seed=42)\n",
    "    \n",
    "    index.add_items(embeddings, df[\"uid\"].tolist(), num_threads=num_threads)\n",
    "    index.save_index(str(path / f\"index_{metric}_{MODELS[idx]}.bin\"))\n",
    "    \n",
    "    srsly.write_yaml(\n",
    "        path / f\"metadata_{metric}_{MODELS[idx]}.yaml\", \n",
    "        {\n",
    "            \"metric\": metric,\n",
    "            \"ef_construction\": ef_construction,\n",
    "            \"ef\": ef,\n",
    "            \"M\": M,\n",
    "            \"num_threads\": num_threads,\n",
    "        }\n",
    "    )\n",
    "\n"
   ]
  },
  {
   "cell_type": "code",
   "execution_count": null,
   "metadata": {},
   "outputs": [],
   "source": [
    "ds_dict = load_dataset(\"pietrolesci/eurlex_indexed\")\n",
    "data = ds_dict.map(lambda ex: {\"labels\": [int(\"3191\" in l) for l in ex[\"eurovoc_concepts\"]]}, batched=True)\n"
   ]
  },
  {
   "cell_type": "code",
   "execution_count": null,
   "metadata": {},
   "outputs": [],
   "source": [
    "train_df = data[\"train\"].to_pandas()\n",
    "test_df = data[\"test\"].to_pandas()"
   ]
  },
  {
   "cell_type": "code",
   "execution_count": null,
   "metadata": {},
   "outputs": [],
   "source": [
    "train_freq = (\n",
    "    train_df[[\"celex_id\", \"eurovoc_concepts\"]]\n",
    "    .explode(\"eurovoc_concepts\")\n",
    "    .groupby(\"eurovoc_concepts\")[\"celex_id\"]\n",
    "    .nunique()\n",
    "    .to_frame(\"count_train\")\n",
    ")\n",
    "test_freq = (\n",
    "    test_df[[\"celex_id\", \"eurovoc_concepts\"]]\n",
    "    .explode(\"eurovoc_concepts\")\n",
    "    .groupby(\"eurovoc_concepts\")[\"celex_id\"]\n",
    "    .nunique()\n",
    "    .to_frame(\"count_test\")\n",
    ")"
   ]
  },
  {
   "cell_type": "code",
   "execution_count": null,
   "metadata": {},
   "outputs": [],
   "source": [
    "desc = pd.DataFrame(\n",
    "    srsly.read_jsonl(\"../data/raw/eurlex/eurovoc_concepts.jsonl\")\n",
    ").set_index(\"id\")"
   ]
  },
  {
   "cell_type": "code",
   "execution_count": null,
   "metadata": {},
   "outputs": [],
   "source": [
    "f = train_freq.join(test_freq).dropna()"
   ]
  },
  {
   "cell_type": "code",
   "execution_count": null,
   "metadata": {},
   "outputs": [],
   "source": [
    "f[\"sum\"] = f.sum(1)"
   ]
  },
  {
   "cell_type": "code",
   "execution_count": null,
   "metadata": {},
   "outputs": [],
   "source": [
    "f = f.sort_values(\"sum\", ascending=False)"
   ]
  },
  {
   "cell_type": "code",
   "execution_count": null,
   "metadata": {},
   "outputs": [],
   "source": [
    "f = f.join(desc)"
   ]
  },
  {
   "cell_type": "code",
   "execution_count": null,
   "metadata": {},
   "outputs": [],
   "source": [
    "f.loc[(f[\"sum\"] < 3500) & (f[\"sum\"] > 1000)].sort_values(\n",
    "    [\"count_test\", \"count_train\"], ascending=[False, True]\n",
    ")"
   ]
  },
  {
   "cell_type": "code",
   "execution_count": null,
   "metadata": {},
   "outputs": [],
   "source": [
    "ds_dict = load_dataset(\"pietrolesci/eurlex_indexed\")\n",
    "data = ds_dict.map(lambda ex: {\"labels\": [int(\"192\" in l) for l in ex[\"eurovoc_concepts\"]]}, batched=True)\n",
    "train_df = data[\"train\"].to_pandas()\n",
    "test_df = data[\"test\"].to_pandas()"
   ]
  },
  {
   "cell_type": "code",
   "execution_count": null,
   "metadata": {},
   "outputs": [],
   "source": [
    "train_df[\"labels\"].value_counts(True), test_df[\"labels\"].value_counts(True)"
   ]
  },
  {
   "cell_type": "code",
   "execution_count": null,
   "metadata": {},
   "outputs": [],
   "source": [
    "tfidf = TfidfVectorizer(ngram_range=(1, 3))\n",
    "log_reg = LogisticRegression()"
   ]
  },
  {
   "cell_type": "code",
   "execution_count": null,
   "metadata": {},
   "outputs": [],
   "source": [
    "train_df[\"document_type\"].value_counts()"
   ]
  },
  {
   "cell_type": "code",
   "execution_count": null,
   "metadata": {},
   "outputs": [],
   "source": [
    "# X = tfidf.fit_transform(train_df[\"text\"].values)\n",
    "X = np.stack(train_df[\"embedding_all-mpnet-base-v2\"].values)\n",
    "y = train_df[\"labels\"].values\n",
    "# y = train_df[\"document_type\"] == \"Directive\"\n",
    "\n",
    "# X_test = tfidf.transform(test_df[\"text\"].values)\n",
    "X_test = np.stack(test_df[\"embedding_all-mpnet-base-v2\"].values)\n",
    "y_test = test_df[\"labels\"].values\n",
    "# y_test = test_df[\"document_type\"] == \"Directive\""
   ]
  },
  {
   "cell_type": "code",
   "execution_count": null,
   "metadata": {},
   "outputs": [],
   "source": [
    "log_reg.fit(X, y)"
   ]
  },
  {
   "cell_type": "code",
   "execution_count": null,
   "metadata": {},
   "outputs": [],
   "source": [
    "print(classification_report(y_test, log_reg.predict(X_test)))"
   ]
  },
  {
   "cell_type": "code",
   "execution_count": null,
   "metadata": {},
   "outputs": [],
   "source": [
    "print(classification_report(y, log_reg.predict(X)))"
   ]
  },
  {
   "cell_type": "code",
   "execution_count": null,
   "metadata": {},
   "outputs": [],
   "source": []
  },
  {
   "cell_type": "code",
   "execution_count": null,
   "metadata": {},
   "outputs": [],
   "source": [
    "ds_dict"
   ]
  },
  {
   "cell_type": "code",
   "execution_count": null,
   "metadata": {},
   "outputs": [],
   "source": [
    "1609 / len(train_df)"
   ]
  },
  {
   "cell_type": "code",
   "execution_count": null,
   "metadata": {},
   "outputs": [],
   "source": [
    "train_df[\"document_type\"].value_counts(True)"
   ]
  },
  {
   "cell_type": "code",
   "execution_count": null,
   "metadata": {},
   "outputs": [],
   "source": []
  },
  {
   "cell_type": "code",
   "execution_count": null,
   "metadata": {},
   "outputs": [],
   "source": [
    "train_df.loc[train_df[\"eurovoc_concepts\"].map(lambda ex: \"2173\" in ex)]"
   ]
  },
  {
   "cell_type": "code",
   "execution_count": null,
   "metadata": {},
   "outputs": [],
   "source": [
    "desc"
   ]
  },
  {
   "cell_type": "code",
   "execution_count": null,
   "metadata": {},
   "outputs": [],
   "source": [
    "# get eurlex from http://nlp.cs.aueb.gr/software_and_datasets/EURLEX57K/ and unzip the folder into eurlex\n",
    "path = Path(\"../eurlex/\")\n",
    "data = {}\n",
    "for split in path.iterdir():\n",
    "    data[split.name] = []\n",
    "    for file in tqdm(list(split.iterdir())):\n",
    "        data[split.name].append(srsly.read_json(file))"
   ]
  },
  {
   "cell_type": "code",
   "execution_count": null,
   "metadata": {},
   "outputs": [],
   "source": []
  },
  {
   "cell_type": "code",
   "execution_count": null,
   "metadata": {},
   "outputs": [],
   "source": []
  },
  {
   "cell_type": "code",
   "execution_count": null,
   "metadata": {},
   "outputs": [],
   "source": [
    "cats = [\n",
    "    \"Wireless_v1_00\",\n",
    "    \"Watches_v1_00\",\n",
    "    \"Video_Games_v1_00\",\n",
    "    \"Video_DVD_v1_00\",\n",
    "    \"Video_v1_00\",\n",
    "    \"Toys_v1_00\",\n",
    "    \"Tools_v1_00\",\n",
    "    \"Sports_v1_00\",\n",
    "    \"Software_v1_00\",\n",
    "    \"Shoes_v1_00\",\n",
    "    \"Pet_Products_v1_00\",\n",
    "    \"Personal_Care_Appliances_v1_00\",\n",
    "    \"PC_v1_00\",\n",
    "    \"Outdoors_v1_00\",\n",
    "    \"Office_Products_v1_00\",\n",
    "    \"Musical_Instruments_v1_00\",\n",
    "    \"Music_v1_00\",\n",
    "    \"Mobile_Electronics_v1_00\",\n",
    "    \"Mobile_Apps_v1_00\",\n",
    "    \"Major_Appliances_v1_00\",\n",
    "    \"Luggage_v1_00\",\n",
    "    \"Lawn_and_Garden_v1_00\",\n",
    "    \"Kitchen_v1_00\",\n",
    "    \"Jewelry_v1_00\",\n",
    "    \"Home_Improvement_v1_00\",\n",
    "    \"Home_Entertainment_v1_00\",\n",
    "    \"Home_v1_00\",\n",
    "    \"Health_Personal_Care_v1_00\",\n",
    "    \"Grocery_v1_00\",\n",
    "    \"Gift_Card_v1_00\",\n",
    "    \"Furniture_v1_00\",\n",
    "    \"Electronics_v1_00\",\n",
    "    \"Digital_Video_Games_v1_00\",\n",
    "    \"Digital_Video_Download_v1_00\",\n",
    "    \"Digital_Software_v1_00\",\n",
    "    \"Digital_Music_Purchase_v1_00\",\n",
    "    \"Digital_Ebook_Purchase_v1_00\",\n",
    "    \"Camera_v1_00\",\n",
    "    \"Beauty_v1_00\",\n",
    "    \"Baby_v1_00\",\n",
    "    \"Automotive_v1_00\",\n",
    "    \"Apparel_v1_00\",\n",
    "    \"Digital_Ebook_Purchase_v1_01\",\n",
    "    \"Books_v1_00\",\n",
    "    \"Books_v1_01\",\n",
    "    \"Books_v1_02\",\n",
    "]"
   ]
  },
  {
   "cell_type": "code",
   "execution_count": null,
   "metadata": {},
   "outputs": [],
   "source": []
  },
  {
   "cell_type": "code",
   "execution_count": null,
   "metadata": {},
   "outputs": [],
   "source": [
    "train_df = load_dataset(\"pietrolesci/pubmed-rct-200k_indexed\")[\"train\"].to_pandas()\n",
    "test_df = load_dataset(\"pietrolesci/pubmed-rct-200k_indexed\")[\"test\"].to_pandas()"
   ]
  },
  {
   "cell_type": "code",
   "execution_count": null,
   "metadata": {},
   "outputs": [],
   "source": [
    "X = np.stack(train_df[\"embedding_all-mpnet-base-v2\"].values)\n",
    "y = train_df[\"labels\"].values\n",
    "\n",
    "X_test = np.stack(test_df[\"embedding_all-mpnet-base-v2\"].values)\n",
    "y_test = test_df[\"labels\"].values\n"
   ]
  },
  {
   "cell_type": "code",
   "execution_count": null,
   "metadata": {},
   "outputs": [],
   "source": [
    "df[\"labels\"].value_counts(True)"
   ]
  },
  {
   "cell_type": "code",
   "execution_count": null,
   "metadata": {},
   "outputs": [],
   "source": []
  }
 ],
 "metadata": {
  "kernelspec": {
   "display_name": "igal",
   "language": "python",
   "name": "python3"
  },
  "language_info": {
   "codemirror_mode": {
    "name": "ipython",
    "version": 3
   },
   "file_extension": ".py",
   "mimetype": "text/x-python",
   "name": "python",
   "nbconvert_exporter": "python",
   "pygments_lexer": "ipython3",
   "version": "3.9.16"
  },
  "orig_nbformat": 4
 },
 "nbformat": 4,
 "nbformat_minor": 2
}
