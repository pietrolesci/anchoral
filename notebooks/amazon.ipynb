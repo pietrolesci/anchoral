{
 "cells": [
  {
   "cell_type": "code",
   "execution_count": 1,
   "metadata": {},
   "outputs": [],
   "source": [
    "import json\n",
    "from pathlib import Path\n",
    "\n",
    "import hnswlib as hb\n",
    "import numpy as np\n",
    "import pandas as pd\n",
    "import requests\n",
    "import srsly\n",
    "from datasets import (\n",
    "    ClassLabel,\n",
    "    Dataset,\n",
    "    DatasetDict,\n",
    "    Features,\n",
    "    Sequence,\n",
    "    Value,\n",
    "    load_dataset,\n",
    "    load_from_disk,\n",
    ")\n",
    "from sklearn.feature_extraction.text import TfidfVectorizer\n",
    "from sklearn.linear_model import LogisticRegression\n",
    "from sklearn.metrics import classification_report\n",
    "from tqdm.auto import tqdm"
   ]
  },
  {
   "cell_type": "code",
   "execution_count": null,
   "metadata": {},
   "outputs": [],
   "source": [
    "# ds_dict = load_dataset(\"pietrolesci/eurlex_indexeda\", cache_dir=\"ds_cache\")\n",
    "# ds_dict.save_to_disk(\"../data/processed/eurlex\")"
   ]
  },
  {
   "cell_type": "code",
   "execution_count": 2,
   "metadata": {},
   "outputs": [],
   "source": [
    "ds_dict = load_from_disk(\"/home/pl487/allset/data/processed/pubmed-200k-rct\")"
   ]
  },
  {
   "cell_type": "code",
   "execution_count": 4,
   "metadata": {},
   "outputs": [
    {
     "data": {
      "text/plain": [
       "DatasetDict({\n",
       "    train: Dataset({\n",
       "        features: ['labels', 'text', 'uid', 'embedding_all-mpnet-base-v2', 'embedding_multi-qa-mpnet-base-dot-v1', 'embedding_all-MiniLM-L12-v2'],\n",
       "        num_rows: 2211861\n",
       "    })\n",
       "    validation: Dataset({\n",
       "        features: ['labels', 'text', 'uid', 'embedding_all-mpnet-base-v2', 'embedding_multi-qa-mpnet-base-dot-v1', 'embedding_all-MiniLM-L12-v2'],\n",
       "        num_rows: 28932\n",
       "    })\n",
       "    test: Dataset({\n",
       "        features: ['labels', 'text', 'uid', 'embedding_all-mpnet-base-v2', 'embedding_multi-qa-mpnet-base-dot-v1', 'embedding_all-MiniLM-L12-v2'],\n",
       "        num_rows: 29493\n",
       "    })\n",
       "})"
      ]
     },
     "execution_count": 4,
     "metadata": {},
     "output_type": "execute_result"
    }
   ],
   "source": [
    "ds_dict"
   ]
  },
  {
   "cell_type": "code",
   "execution_count": null,
   "metadata": {},
   "outputs": [],
   "source": []
  },
  {
   "cell_type": "code",
   "execution_count": null,
   "metadata": {},
   "outputs": [],
   "source": [
    "# make `health control` the target label\n",
    "ds_dict = ds_dict.map(\n",
    "    lambda ex: {\"labels\": [int(\"192\" in l) for l in ex[\"eurovoc_concepts\"]]},\n",
    "    batched=True,\n",
    ")"
   ]
  },
  {
   "cell_type": "code",
   "execution_count": null,
   "metadata": {},
   "outputs": [],
   "source": [
    "# tokenize\n",
    "MODELS = {\n",
    "    \"bert-tiny\": \"google/bert_uncased_L-2_H-128_A-2\",\n",
    "}\n",
    "tokenizer = AutoTokenizer.from_pretrained(MODELS[\"bert-tiny\"])\n",
    "ds_dict = ds_dict.map(\n",
    "    lambda ex: tokenizer(ex[\"text\"], return_token_type_ids=False),\n",
    "    batched=True,\n",
    ")"
   ]
  },
  {
   "cell_type": "code",
   "execution_count": null,
   "metadata": {},
   "outputs": [],
   "source": [
    "ds_dict"
   ]
  },
  {
   "cell_type": "code",
   "execution_count": null,
   "metadata": {},
   "outputs": [],
   "source": [
    "# create index\n",
    "embedding = \"all-mpnet-base-v2\"\n",
    "\n",
    "embedding = f\"embedding_{embedding}\"\n",
    "index_df = ds_dict[\"train\"].to_pandas()[[\"uid\", embedding]]\n",
    "\n",
    "metric: str = \"cosine\"\n",
    "ef_construction: int = 200\n",
    "ef: int = 200\n",
    "M: int = 64\n",
    "num_threads: int = 5\n",
    "\n",
    "emb = np.stack(index_df[embedding].values)\n",
    "uid = index_df[\"uid\"].tolist()\n",
    "\n",
    "index = hb.Index(space=metric, dim=emb.shape[1])\n",
    "index.set_ef(ef)\n",
    "index.init_index(\n",
    "    max_elements=emb.shape[0], M=M, ef_construction=ef_construction, random_seed=42\n",
    ")\n",
    "index.add_items(emb, uid, num_threads=num_threads)"
   ]
  },
  {
   "cell_type": "code",
   "execution_count": null,
   "metadata": {},
   "outputs": [],
   "source": [
    "# select columns\n",
    "ds_dict = ds_dict.select_columns(\n",
    "    [\"uid\", \"labels\", \"text\", \"input_ids\", \"attention_mask\"]\n",
    ")"
   ]
  },
  {
   "cell_type": "code",
   "execution_count": null,
   "metadata": {},
   "outputs": [],
   "source": [
    "ds_dict.save_to_disk()\n",
    "index.save_index(str(path / f\"index_{metric}_{MODELS[idx]}.bin\"))\n",
    "\n",
    "srsly.write_yaml(\n",
    "    path / f\"metadata_{metric}_{MODELS[idx]}.yaml\",\n",
    "    {\n",
    "        \"metric\": metric,\n",
    "        \"ef_construction\": ef_construction,\n",
    "        \"ef\": ef,\n",
    "        \"M\": M,\n",
    "        \"num_threads\": num_threads,\n",
    "    },\n",
    ")"
   ]
  },
  {
   "cell_type": "code",
   "execution_count": null,
   "metadata": {},
   "outputs": [],
   "source": []
  },
  {
   "cell_type": "code",
   "execution_count": null,
   "metadata": {},
   "outputs": [],
   "source": [
    "with open(\n",
    "    \"/home/pl487/allset/amazon/AmazonCat-13K.raw/Yf.txt\", encoding=\"latin-1\"\n",
    ") as fl:\n",
    "    cats = fl.readlines()"
   ]
  },
  {
   "cell_type": "code",
   "execution_count": null,
   "metadata": {},
   "outputs": [],
   "source": [
    "cats = pd.DataFrame(cats)"
   ]
  },
  {
   "cell_type": "code",
   "execution_count": null,
   "metadata": {},
   "outputs": [],
   "source": [
    "a.loc[(a[\"f\"] > 0.01) & (a[\"f\"] < 0.03)].sort_values(\"f\", ascending=False).join(cats)"
   ]
  },
  {
   "cell_type": "code",
   "execution_count": null,
   "metadata": {},
   "outputs": [],
   "source": [
    "# df.loc[df[\"target_ind\"].map(lambda ex: 13199 in ex)]\n",
    "df.loc[df[\"target_ind\"].map(lambda ex: 12583 in ex)].iloc[2].to_dict()"
   ]
  },
  {
   "cell_type": "code",
   "execution_count": null,
   "metadata": {},
   "outputs": [],
   "source": [
    "30068 / len(df)"
   ]
  },
  {
   "cell_type": "code",
   "execution_count": null,
   "metadata": {},
   "outputs": [],
   "source": []
  },
  {
   "cell_type": "code",
   "execution_count": null,
   "metadata": {},
   "outputs": [],
   "source": []
  },
  {
   "cell_type": "code",
   "execution_count": null,
   "metadata": {},
   "outputs": [],
   "source": [
    "MODELS = [\"all-mpnet-base-v2\", \"multi-qa-mpnet-base-dot-v1\", \"all-MiniLM-L12-v2\"]"
   ]
  },
  {
   "cell_type": "code",
   "execution_count": null,
   "metadata": {},
   "outputs": [],
   "source": []
  },
  {
   "cell_type": "code",
   "execution_count": null,
   "metadata": {},
   "outputs": [],
   "source": [
    "models = [f\"embedding_{i}\" for i in MODELS]\n",
    "df = load_dataset(\"pietrolesci/eurlex_indexed\")[\"train\"].to_pandas()\n",
    "df = df[[\"uid\"] + models]"
   ]
  },
  {
   "cell_type": "code",
   "execution_count": null,
   "metadata": {},
   "outputs": [],
   "source": [
    "metric: str = \"cosine\"\n",
    "ef_construction: int = 200\n",
    "ef: int = 200\n",
    "M: int = 64\n",
    "num_threads: int = 5\n",
    "\n",
    "path = Path(\"../data/processed/eurlex/hnswlib_indices\")\n",
    "path.mkdir(exist_ok=True, parents=True)\n",
    "\n",
    "for idx, model in enumerate(tqdm(models)):\n",
    "\n",
    "    path.mkdir(exist_ok=True, parents=True)\n",
    "\n",
    "    embeddings = np.stack(df[model].values)\n",
    "\n",
    "    index = hb.Index(space=metric, dim=embeddings.shape[1])\n",
    "    index.set_ef(ef)\n",
    "    index.init_index(\n",
    "        max_elements=embeddings.shape[0],\n",
    "        M=M,\n",
    "        ef_construction=ef_construction,\n",
    "        random_seed=42,\n",
    "    )\n",
    "\n",
    "    index.add_items(embeddings, df[\"uid\"].tolist(), num_threads=num_threads)\n",
    "    index.save_index(str(path / f\"index_{metric}_{MODELS[idx]}.bin\"))\n",
    "\n",
    "    srsly.write_yaml(\n",
    "        path / f\"metadata_{metric}_{MODELS[idx]}.yaml\",\n",
    "        {\n",
    "            \"metric\": metric,\n",
    "            \"ef_construction\": ef_construction,\n",
    "            \"ef\": ef,\n",
    "            \"M\": M,\n",
    "            \"num_threads\": num_threads,\n",
    "        },\n",
    "    )"
   ]
  },
  {
   "cell_type": "code",
   "execution_count": null,
   "metadata": {},
   "outputs": [],
   "source": [
    "data = ds_dict.map(\n",
    "    lambda ex: {\"labels\": [int(\"3191\" in l) for l in ex[\"eurovoc_concepts\"]]},\n",
    "    batched=True,\n",
    ")"
   ]
  },
  {
   "cell_type": "code",
   "execution_count": null,
   "metadata": {},
   "outputs": [],
   "source": [
    "train_df = data[\"train\"].to_pandas()\n",
    "test_df = data[\"test\"].to_pandas()"
   ]
  },
  {
   "cell_type": "code",
   "execution_count": null,
   "metadata": {},
   "outputs": [],
   "source": [
    "train_freq = (\n",
    "    train_df[[\"celex_id\", \"eurovoc_concepts\"]]\n",
    "    .explode(\"eurovoc_concepts\")\n",
    "    .groupby(\"eurovoc_concepts\")[\"celex_id\"]\n",
    "    .nunique()\n",
    "    .to_frame(\"count_train\")\n",
    ")\n",
    "test_freq = (\n",
    "    test_df[[\"celex_id\", \"eurovoc_concepts\"]]\n",
    "    .explode(\"eurovoc_concepts\")\n",
    "    .groupby(\"eurovoc_concepts\")[\"celex_id\"]\n",
    "    .nunique()\n",
    "    .to_frame(\"count_test\")\n",
    ")"
   ]
  },
  {
   "cell_type": "code",
   "execution_count": null,
   "metadata": {},
   "outputs": [],
   "source": [
    "desc = pd.DataFrame(\n",
    "    srsly.read_jsonl(\"../data/raw/eurlex-57k/eurovoc_concepts.jsonl\")\n",
    ").set_index(\"id\")"
   ]
  },
  {
   "cell_type": "code",
   "execution_count": null,
   "metadata": {},
   "outputs": [],
   "source": [
    "f = train_freq.join(test_freq).dropna()"
   ]
  },
  {
   "cell_type": "code",
   "execution_count": null,
   "metadata": {},
   "outputs": [],
   "source": [
    "f[\"sum\"] = f.sum(1)"
   ]
  },
  {
   "cell_type": "code",
   "execution_count": null,
   "metadata": {},
   "outputs": [],
   "source": [
    "f = f.sort_values(\"sum\", ascending=False)"
   ]
  },
  {
   "cell_type": "code",
   "execution_count": null,
   "metadata": {},
   "outputs": [],
   "source": [
    "f = f.join(desc)"
   ]
  },
  {
   "cell_type": "code",
   "execution_count": null,
   "metadata": {},
   "outputs": [],
   "source": [
    "f.loc[(f[\"sum\"] < 3500) & (f[\"sum\"] > 1000)].sort_values(\n",
    "    [\"count_test\", \"count_train\"], ascending=[False, True]\n",
    ")"
   ]
  },
  {
   "cell_type": "code",
   "execution_count": null,
   "metadata": {},
   "outputs": [],
   "source": [
    "# make `health control` the target label\n",
    "data = ds_dict.map(\n",
    "    lambda ex: {\"labels\": [int(\"192\" in l) for l in ex[\"eurovoc_concepts\"]]},\n",
    "    batched=True,\n",
    ")\n",
    "train_df = data[\"train\"].to_pandas()\n",
    "test_df = data[\"test\"].to_pandas()"
   ]
  },
  {
   "cell_type": "code",
   "execution_count": null,
   "metadata": {},
   "outputs": [],
   "source": [
    "train_df[\"labels\"].value_counts(True), test_df[\"labels\"].value_counts(True)"
   ]
  },
  {
   "cell_type": "code",
   "execution_count": null,
   "metadata": {},
   "outputs": [],
   "source": [
    "tfidf = TfidfVectorizer(ngram_range=(1, 3))\n",
    "log_reg = LogisticRegression()"
   ]
  },
  {
   "cell_type": "code",
   "execution_count": null,
   "metadata": {},
   "outputs": [],
   "source": [
    "train_df[\"document_type\"].value_counts()"
   ]
  },
  {
   "cell_type": "code",
   "execution_count": null,
   "metadata": {},
   "outputs": [],
   "source": [
    "# X = tfidf.fit_transform(train_df[\"text\"].values)\n",
    "X = np.stack(train_df[\"embedding_all-mpnet-base-v2\"].values)\n",
    "y = train_df[\"labels\"].values\n",
    "# y = train_df[\"document_type\"] == \"Directive\"\n",
    "\n",
    "# X_test = tfidf.transform(test_df[\"text\"].values)\n",
    "X_test = np.stack(test_df[\"embedding_all-mpnet-base-v2\"].values)\n",
    "y_test = test_df[\"labels\"].values\n",
    "# y_test = test_df[\"document_type\"] == \"Directive\""
   ]
  },
  {
   "cell_type": "code",
   "execution_count": null,
   "metadata": {},
   "outputs": [],
   "source": [
    "log_reg.fit(X, y)"
   ]
  },
  {
   "cell_type": "code",
   "execution_count": null,
   "metadata": {},
   "outputs": [],
   "source": [
    "print(classification_report(y_test, log_reg.predict(X_test)))"
   ]
  },
  {
   "cell_type": "code",
   "execution_count": null,
   "metadata": {},
   "outputs": [],
   "source": [
    "print(classification_report(y, log_reg.predict(X)))"
   ]
  },
  {
   "cell_type": "code",
   "execution_count": null,
   "metadata": {},
   "outputs": [],
   "source": [
    "ds_dict"
   ]
  },
  {
   "cell_type": "code",
   "execution_count": null,
   "metadata": {},
   "outputs": [],
   "source": [
    "1609 / len(train_df)"
   ]
  },
  {
   "cell_type": "code",
   "execution_count": null,
   "metadata": {},
   "outputs": [],
   "source": [
    "train_df[\"document_type\"].value_counts(True)"
   ]
  },
  {
   "cell_type": "code",
   "execution_count": null,
   "metadata": {},
   "outputs": [],
   "source": []
  },
  {
   "cell_type": "code",
   "execution_count": null,
   "metadata": {},
   "outputs": [],
   "source": [
    "train_df.loc[train_df[\"eurovoc_concepts\"].map(lambda ex: \"2173\" in ex)]"
   ]
  },
  {
   "cell_type": "code",
   "execution_count": null,
   "metadata": {},
   "outputs": [],
   "source": [
    "desc"
   ]
  },
  {
   "cell_type": "code",
   "execution_count": null,
   "metadata": {},
   "outputs": [],
   "source": [
    "# get eurlex from http://nlp.cs.aueb.gr/software_and_datasets/EURLEX57K/ and unzip the folder into eurlex\n",
    "path = Path(\"../eurlex/\")\n",
    "data = {}\n",
    "for split in path.iterdir():\n",
    "    data[split.name] = []\n",
    "    for file in tqdm(list(split.iterdir())):\n",
    "        data[split.name].append(srsly.read_json(file))"
   ]
  },
  {
   "cell_type": "code",
   "execution_count": null,
   "metadata": {},
   "outputs": [],
   "source": []
  },
  {
   "cell_type": "code",
   "execution_count": null,
   "metadata": {},
   "outputs": [],
   "source": []
  },
  {
   "cell_type": "code",
   "execution_count": null,
   "metadata": {},
   "outputs": [],
   "source": [
    "cats = [\n",
    "    \"Wireless_v1_00\",\n",
    "    \"Watches_v1_00\",\n",
    "    \"Video_Games_v1_00\",\n",
    "    \"Video_DVD_v1_00\",\n",
    "    \"Video_v1_00\",\n",
    "    \"Toys_v1_00\",\n",
    "    \"Tools_v1_00\",\n",
    "    \"Sports_v1_00\",\n",
    "    \"Software_v1_00\",\n",
    "    \"Shoes_v1_00\",\n",
    "    \"Pet_Products_v1_00\",\n",
    "    \"Personal_Care_Appliances_v1_00\",\n",
    "    \"PC_v1_00\",\n",
    "    \"Outdoors_v1_00\",\n",
    "    \"Office_Products_v1_00\",\n",
    "    \"Musical_Instruments_v1_00\",\n",
    "    \"Music_v1_00\",\n",
    "    \"Mobile_Electronics_v1_00\",\n",
    "    \"Mobile_Apps_v1_00\",\n",
    "    \"Major_Appliances_v1_00\",\n",
    "    \"Luggage_v1_00\",\n",
    "    \"Lawn_and_Garden_v1_00\",\n",
    "    \"Kitchen_v1_00\",\n",
    "    \"Jewelry_v1_00\",\n",
    "    \"Home_Improvement_v1_00\",\n",
    "    \"Home_Entertainment_v1_00\",\n",
    "    \"Home_v1_00\",\n",
    "    \"Health_Personal_Care_v1_00\",\n",
    "    \"Grocery_v1_00\",\n",
    "    \"Gift_Card_v1_00\",\n",
    "    \"Furniture_v1_00\",\n",
    "    \"Electronics_v1_00\",\n",
    "    \"Digital_Video_Games_v1_00\",\n",
    "    \"Digital_Video_Download_v1_00\",\n",
    "    \"Digital_Software_v1_00\",\n",
    "    \"Digital_Music_Purchase_v1_00\",\n",
    "    \"Digital_Ebook_Purchase_v1_00\",\n",
    "    \"Camera_v1_00\",\n",
    "    \"Beauty_v1_00\",\n",
    "    \"Baby_v1_00\",\n",
    "    \"Automotive_v1_00\",\n",
    "    \"Apparel_v1_00\",\n",
    "    \"Digital_Ebook_Purchase_v1_01\",\n",
    "    \"Books_v1_00\",\n",
    "    \"Books_v1_01\",\n",
    "    \"Books_v1_02\",\n",
    "]"
   ]
  },
  {
   "cell_type": "code",
   "execution_count": null,
   "metadata": {},
   "outputs": [],
   "source": []
  },
  {
   "cell_type": "code",
   "execution_count": null,
   "metadata": {},
   "outputs": [],
   "source": [
    "ds_dict = load_dataset(\"pietrolesci/pubmed-rct-200k_indexed\")\n",
    "ds_dict = ds_dict.select_columns(\n",
    "    [\"uid\", \"labels\", \"text\", \"embedding_all-mpnet-base-v2\"]\n",
    ")\n",
    "\n",
    "train_df = ds_dict[\"train\"].to_pandas()\n",
    "test_df = ds_dict[\"test\"].to_pandas()"
   ]
  },
  {
   "cell_type": "code",
   "execution_count": null,
   "metadata": {},
   "outputs": [],
   "source": [
    "X = np.stack(train_df[\"embedding_all-mpnet-base-v2\"].values)\n",
    "y = train_df[\"labels\"].values == 0\n",
    "\n",
    "X_test = np.stack(test_df[\"embedding_all-mpnet-base-v2\"].values)\n",
    "y_test = test_df[\"labels\"].values == 0"
   ]
  },
  {
   "cell_type": "code",
   "execution_count": null,
   "metadata": {},
   "outputs": [],
   "source": [
    "train_df[\"labels\"].value_counts(True)"
   ]
  },
  {
   "cell_type": "code",
   "execution_count": null,
   "metadata": {},
   "outputs": [],
   "source": [
    "log_reg = LogisticRegression()"
   ]
  },
  {
   "cell_type": "code",
   "execution_count": null,
   "metadata": {},
   "outputs": [],
   "source": [
    "log_reg.fit(X, y)"
   ]
  },
  {
   "cell_type": "code",
   "execution_count": null,
   "metadata": {},
   "outputs": [],
   "source": [
    "print(classification_report(y_test, log_reg.predict(X_test)))"
   ]
  },
  {
   "cell_type": "code",
   "execution_count": null,
   "metadata": {},
   "outputs": [],
   "source": [
    "print(classification_report(y, log_reg.predict(X)))"
   ]
  },
  {
   "cell_type": "code",
   "execution_count": null,
   "metadata": {},
   "outputs": [],
   "source": [
    "len(train_df)"
   ]
  },
  {
   "cell_type": "code",
   "execution_count": null,
   "metadata": {},
   "outputs": [],
   "source": [
    "d = load_dataset(\"pietrolesci/pubmed-rct-200k_indexed\")"
   ]
  },
  {
   "cell_type": "code",
   "execution_count": null,
   "metadata": {},
   "outputs": [],
   "source": [
    "a"
   ]
  }
 ],
 "metadata": {
  "kernelspec": {
   "display_name": "igal",
   "language": "python",
   "name": "python3"
  },
  "language_info": {
   "codemirror_mode": {
    "name": "ipython",
    "version": 3
   },
   "file_extension": ".py",
   "mimetype": "text/x-python",
   "name": "python",
   "nbconvert_exporter": "python",
   "pygments_lexer": "ipython3",
   "version": "3.9.16"
  },
  "orig_nbformat": 4
 },
 "nbformat": 4,
 "nbformat_minor": 2
}
