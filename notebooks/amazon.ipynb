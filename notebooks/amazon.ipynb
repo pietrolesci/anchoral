{
 "cells": [
  {
   "cell_type": "code",
   "execution_count": 1,
   "metadata": {},
   "outputs": [],
   "source": [
    "import json\n",
    "from pathlib import Path\n",
    "\n",
    "import hnswlib as hb\n",
    "import numpy as np\n",
    "import pandas as pd\n",
    "import requests\n",
    "import srsly\n",
    "from datasets import (\n",
    "    ClassLabel,\n",
    "    Dataset,\n",
    "    DatasetDict,\n",
    "    Features,\n",
    "    Sequence,\n",
    "    Value,\n",
    "    load_dataset,\n",
    "    load_from_disk,\n",
    ")\n",
    "from sklearn.feature_extraction.text import TfidfVectorizer\n",
    "from sklearn.linear_model import LogisticRegression\n",
    "from sklearn.metrics import classification_report\n",
    "from tqdm.auto import tqdm"
   ]
  },
  {
   "cell_type": "code",
   "execution_count": null,
   "metadata": {},
   "outputs": [],
   "source": [
    "index_path = (\n",
    "    \"/home/pl487/allset/data/processed/eurlex-57k/all-MiniLM-L12-v2_cosine.bin\"\n",
    ")\n",
    "meta_path = (\n",
    "    \"/home/pl487/allset/data/processed/eurlex-57k/all-MiniLM-L12-v2_cosine.json\"\n",
    ")"
   ]
  },
  {
   "cell_type": "code",
   "execution_count": null,
   "metadata": {},
   "outputs": [],
   "source": [
    "meta = srsly.read_json(meta_path)\n",
    "index = hb.Index(space=meta[\"metric\"], dim=meta[\"dim\"])\n",
    "index.load_index(str(index_path))"
   ]
  },
  {
   "cell_type": "code",
   "execution_count": null,
   "metadata": {},
   "outputs": [],
   "source": [
    "index.mark_deleted(0)"
   ]
  },
  {
   "cell_type": "code",
   "execution_count": null,
   "metadata": {},
   "outputs": [],
   "source": [
    "np.stack(index.get_items([0])).shape"
   ]
  },
  {
   "cell_type": "code",
   "execution_count": null,
   "metadata": {},
   "outputs": [],
   "source": [
    "sorted(index.get_ids_list())"
   ]
  },
  {
   "cell_type": "code",
   "execution_count": null,
   "metadata": {},
   "outputs": [],
   "source": [
    "ds_dict = load_from_disk(\"/home/pl487/allset/data/processed/wiki_toxic\")"
   ]
  },
  {
   "cell_type": "code",
   "execution_count": null,
   "metadata": {},
   "outputs": [],
   "source": [
    "ds_dict[\"train\"].to_pandas()[\"input_ids\"].map(len).describe()"
   ]
  },
  {
   "cell_type": "code",
   "execution_count": null,
   "metadata": {},
   "outputs": [],
   "source": [
    "df = ds_dict[\"train\"].to_pandas()"
   ]
  },
  {
   "cell_type": "code",
   "execution_count": null,
   "metadata": {},
   "outputs": [],
   "source": [
    "df[\"labels\"].value_counts()"
   ]
  },
  {
   "cell_type": "code",
   "execution_count": null,
   "metadata": {},
   "outputs": [],
   "source": []
  },
  {
   "cell_type": "markdown",
   "metadata": {},
   "source": [
    "---\n",
    "Pubmed"
   ]
  },
  {
   "cell_type": "code",
   "execution_count": 2,
   "metadata": {},
   "outputs": [],
   "source": [
    "d = load_from_disk(\"/home/pl487/allset/data/processed/pubmed-200k-rct\")"
   ]
  },
  {
   "cell_type": "code",
   "execution_count": 3,
   "metadata": {},
   "outputs": [
    {
     "data": {
      "text/plain": [
       "DatasetDict({\n",
       "    train: Dataset({\n",
       "        features: ['labels', 'text', 'uid', 'embedding_all-mpnet-base-v2', 'embedding_multi-qa-mpnet-base-dot-v1', 'embedding_all-MiniLM-L12-v2'],\n",
       "        num_rows: 2211861\n",
       "    })\n",
       "    validation: Dataset({\n",
       "        features: ['labels', 'text', 'uid', 'embedding_all-mpnet-base-v2', 'embedding_multi-qa-mpnet-base-dot-v1', 'embedding_all-MiniLM-L12-v2'],\n",
       "        num_rows: 28932\n",
       "    })\n",
       "    test: Dataset({\n",
       "        features: ['labels', 'text', 'uid', 'embedding_all-mpnet-base-v2', 'embedding_multi-qa-mpnet-base-dot-v1', 'embedding_all-MiniLM-L12-v2'],\n",
       "        num_rows: 29493\n",
       "    })\n",
       "})"
      ]
     },
     "execution_count": 3,
     "metadata": {},
     "output_type": "execute_result"
    }
   ],
   "source": [
    "d"
   ]
  },
  {
   "cell_type": "code",
   "execution_count": null,
   "metadata": {},
   "outputs": [],
   "source": [
    "df = d[\"train\"].to_pandas()"
   ]
  },
  {
   "cell_type": "code",
   "execution_count": null,
   "metadata": {},
   "outputs": [],
   "source": [
    "df.loc[df[\"uid\"] == 40384]"
   ]
  },
  {
   "cell_type": "code",
   "execution_count": null,
   "metadata": {},
   "outputs": [],
   "source": [
    "df[\"recitals\"].str.len().describe()"
   ]
  },
  {
   "cell_type": "code",
   "execution_count": null,
   "metadata": {},
   "outputs": [],
   "source": [
    "df[\"text\"].str.len().describe()"
   ]
  },
  {
   "cell_type": "code",
   "execution_count": null,
   "metadata": {},
   "outputs": [],
   "source": []
  },
  {
   "cell_type": "code",
   "execution_count": null,
   "metadata": {},
   "outputs": [],
   "source": [
    "# ds_dict = load_dataset(\"pietrolesci/eurlex_indexeda\", cache_dir=\"ds_cache\")\n",
    "# ds_dict.save_to_disk(\"../data/processed/eurlex\")"
   ]
  },
  {
   "cell_type": "markdown",
   "metadata": {},
   "source": [
    "---\n",
    "Amazon"
   ]
  },
  {
   "cell_type": "code",
   "execution_count": 2,
   "metadata": {},
   "outputs": [],
   "source": [
    "d = load_from_disk(\"/home/pl487/allset/data/prepared/pubmed-200k-rct_bert-tiny\")"
   ]
  },
  {
   "cell_type": "code",
   "execution_count": 3,
   "metadata": {},
   "outputs": [
    {
     "data": {
      "text/plain": [
       "DatasetDict({\n",
       "    train: Dataset({\n",
       "        features: ['uid', 'labels', 'text', 'input_ids', 'attention_mask'],\n",
       "        num_rows: 2211861\n",
       "    })\n",
       "    test: Dataset({\n",
       "        features: ['uid', 'labels', 'text', 'input_ids', 'attention_mask'],\n",
       "        num_rows: 29493\n",
       "    })\n",
       "})"
      ]
     },
     "execution_count": 3,
     "metadata": {},
     "output_type": "execute_result"
    }
   ],
   "source": [
    "d"
   ]
  },
  {
   "cell_type": "code",
   "execution_count": null,
   "metadata": {},
   "outputs": [],
   "source": []
  },
  {
   "cell_type": "code",
   "execution_count": 3,
   "metadata": {},
   "outputs": [],
   "source": [
    "ds_dict = load_from_disk(\n",
    "    \"/home/pl487/allset/data/processed/amazoncat-13k/\"\n",
    ").select_columns([\"uid\", \"target_ind\", \"text\"])"
   ]
  },
  {
   "cell_type": "code",
   "execution_count": 4,
   "metadata": {},
   "outputs": [],
   "source": [
    "train_df = ds_dict[\"train\"].to_pandas()\n",
    "test_df = ds_dict[\"test\"].to_pandas()"
   ]
  },
  {
   "cell_type": "code",
   "execution_count": 5,
   "metadata": {},
   "outputs": [],
   "source": [
    "with open(\"/home/pl487/allset/AmazonCat-13K.raw/Yf.txt\", encoding=\"latin-1\") as fl:\n",
    "    cats = fl.read().split(\"\\n\")\n",
    "cats = pd.DataFrame(cats)"
   ]
  },
  {
   "cell_type": "code",
   "execution_count": 6,
   "metadata": {},
   "outputs": [],
   "source": [
    "a = train_df[\"target_ind\"].explode().value_counts(True).to_frame(\"f\")"
   ]
  },
  {
   "cell_type": "code",
   "execution_count": 38,
   "metadata": {},
   "outputs": [
    {
     "data": {
      "text/html": [
       "<div>\n",
       "<style scoped>\n",
       "    .dataframe tbody tr th:only-of-type {\n",
       "        vertical-align: middle;\n",
       "    }\n",
       "\n",
       "    .dataframe tbody tr th {\n",
       "        vertical-align: top;\n",
       "    }\n",
       "\n",
       "    .dataframe thead th {\n",
       "        text-align: right;\n",
       "    }\n",
       "</style>\n",
       "<table border=\"1\" class=\"dataframe\">\n",
       "  <thead>\n",
       "    <tr style=\"text-align: right;\">\n",
       "      <th></th>\n",
       "      <th>f</th>\n",
       "      <th>0</th>\n",
       "    </tr>\n",
       "    <tr>\n",
       "      <th>target_ind</th>\n",
       "      <th></th>\n",
       "      <th></th>\n",
       "    </tr>\n",
       "  </thead>\n",
       "  <tbody>\n",
       "    <tr>\n",
       "      <th>7083</th>\n",
       "      <td>0.016357</td>\n",
       "      <td>literature &amp; fiction</td>\n",
       "    </tr>\n",
       "    <tr>\n",
       "      <th>7891</th>\n",
       "      <td>0.014879</td>\n",
       "      <td>movies</td>\n",
       "    </tr>\n",
       "    <tr>\n",
       "      <th>4038</th>\n",
       "      <td>0.012757</td>\n",
       "      <td>education &amp; reference</td>\n",
       "    </tr>\n",
       "    <tr>\n",
       "      <th>10063</th>\n",
       "      <td>0.012549</td>\n",
       "      <td>rock</td>\n",
       "    </tr>\n",
       "    <tr>\n",
       "      <th>8108</th>\n",
       "      <td>0.011986</td>\n",
       "      <td>new</td>\n",
       "    </tr>\n",
       "    <tr>\n",
       "      <th>12630</th>\n",
       "      <td>0.011986</td>\n",
       "      <td>used &amp; rental textbooks</td>\n",
       "    </tr>\n",
       "  </tbody>\n",
       "</table>\n",
       "</div>"
      ],
      "text/plain": [
       "                   f                        0\n",
       "target_ind                                   \n",
       "7083        0.016357     literature & fiction\n",
       "7891        0.014879                   movies\n",
       "4038        0.012757    education & reference\n",
       "10063       0.012549                     rock\n",
       "8108        0.011986                      new\n",
       "12630       0.011986  used & rental textbooks"
      ]
     },
     "execution_count": 38,
     "metadata": {},
     "output_type": "execute_result"
    }
   ],
   "source": [
    "a.loc[(a[\"f\"] > 0.01) & (a[\"f\"] < 0.02)].sort_values(\"f\", ascending=False).join(cats)"
   ]
  },
  {
   "cell_type": "code",
   "execution_count": 6,
   "metadata": {},
   "outputs": [
    {
     "data": {
      "text/html": [
       "<div>\n",
       "<style scoped>\n",
       "    .dataframe tbody tr th:only-of-type {\n",
       "        vertical-align: middle;\n",
       "    }\n",
       "\n",
       "    .dataframe tbody tr th {\n",
       "        vertical-align: top;\n",
       "    }\n",
       "\n",
       "    .dataframe thead th {\n",
       "        text-align: right;\n",
       "    }\n",
       "</style>\n",
       "<table border=\"1\" class=\"dataframe\">\n",
       "  <thead>\n",
       "    <tr style=\"text-align: right;\">\n",
       "      <th></th>\n",
       "      <th>0</th>\n",
       "    </tr>\n",
       "  </thead>\n",
       "  <tbody>\n",
       "    <tr>\n",
       "      <th>2790</th>\n",
       "      <td>comparative religion</td>\n",
       "    </tr>\n",
       "    <tr>\n",
       "      <th>3241</th>\n",
       "      <td>cultures &amp; religions</td>\n",
       "    </tr>\n",
       "    <tr>\n",
       "      <th>3988</th>\n",
       "      <td>earth-based religions</td>\n",
       "    </tr>\n",
       "    <tr>\n",
       "      <th>5886</th>\n",
       "      <td>history of religion</td>\n",
       "    </tr>\n",
       "    <tr>\n",
       "      <th>8445</th>\n",
       "      <td>other eastern religions</td>\n",
       "    </tr>\n",
       "    <tr>\n",
       "      <th>8446</th>\n",
       "      <td>other eastern religions &amp; sacred texts</td>\n",
       "    </tr>\n",
       "    <tr>\n",
       "      <th>8453</th>\n",
       "      <td>other religions</td>\n",
       "    </tr>\n",
       "    <tr>\n",
       "      <th>9904</th>\n",
       "      <td>religion</td>\n",
       "    </tr>\n",
       "    <tr>\n",
       "      <th>9905</th>\n",
       "      <td>religion &amp; spirituality</td>\n",
       "    </tr>\n",
       "    <tr>\n",
       "      <th>9906</th>\n",
       "      <td>religions</td>\n",
       "    </tr>\n",
       "    <tr>\n",
       "      <th>10371</th>\n",
       "      <td>science &amp; religion</td>\n",
       "    </tr>\n",
       "  </tbody>\n",
       "</table>\n",
       "</div>"
      ],
      "text/plain": [
       "                                            0\n",
       "2790                     comparative religion\n",
       "3241                     cultures & religions\n",
       "3988                    earth-based religions\n",
       "5886                      history of religion\n",
       "8445                  other eastern religions\n",
       "8446   other eastern religions & sacred texts\n",
       "8453                          other religions\n",
       "9904                                 religion\n",
       "9905                  religion & spirituality\n",
       "9906                                religions\n",
       "10371                      science & religion"
      ]
     },
     "execution_count": 6,
     "metadata": {},
     "output_type": "execute_result"
    }
   ],
   "source": [
    "ids = cats.loc[cats[0].str.contains(\"religion\")].index.tolist()\n",
    "cats.loc[cats[0].str.contains(\"religion\")]"
   ]
  },
  {
   "cell_type": "code",
   "execution_count": 7,
   "metadata": {},
   "outputs": [
    {
     "data": {
      "text/plain": [
       "[2790, 3241, 3988, 5886, 8445, 8446, 8453, 9904, 9905, 9906, 10371]"
      ]
     },
     "execution_count": 7,
     "metadata": {},
     "output_type": "execute_result"
    }
   ],
   "source": [
    "ids"
   ]
  },
  {
   "cell_type": "code",
   "execution_count": 71,
   "metadata": {},
   "outputs": [],
   "source": [
    "mask = train_df[\"target_ind\"].map(lambda ex: any(i in ex for i in ids))"
   ]
  },
  {
   "cell_type": "code",
   "execution_count": 72,
   "metadata": {},
   "outputs": [
    {
     "data": {
      "text/html": [
       "<div>\n",
       "<style scoped>\n",
       "    .dataframe tbody tr th:only-of-type {\n",
       "        vertical-align: middle;\n",
       "    }\n",
       "\n",
       "    .dataframe tbody tr th {\n",
       "        vertical-align: top;\n",
       "    }\n",
       "\n",
       "    .dataframe thead th {\n",
       "        text-align: right;\n",
       "    }\n",
       "</style>\n",
       "<table border=\"1\" class=\"dataframe\">\n",
       "  <thead>\n",
       "    <tr style=\"text-align: right;\">\n",
       "      <th></th>\n",
       "      <th>uid</th>\n",
       "      <th>target_ind</th>\n",
       "      <th>text</th>\n",
       "    </tr>\n",
       "  </thead>\n",
       "  <tbody>\n",
       "    <tr>\n",
       "      <th>13</th>\n",
       "      <td>13</td>\n",
       "      <td>[7891, 7892]</td>\n",
       "      <td>Shrek - The Story So Far (Shrek 1 &amp; 2 Full Scr...</td>\n",
       "    </tr>\n",
       "    <tr>\n",
       "      <th>26</th>\n",
       "      <td>26</td>\n",
       "      <td>[7891, 7892]</td>\n",
       "      <td>Mission Impossible [VHS] (1996)\\n\\nA flashy, s...</td>\n",
       "    </tr>\n",
       "    <tr>\n",
       "      <th>76</th>\n",
       "      <td>76</td>\n",
       "      <td>[7891, 7892]</td>\n",
       "      <td>Student of Prague Collection (1913 &amp; 1926 Vers...</td>\n",
       "    </tr>\n",
       "    <tr>\n",
       "      <th>95</th>\n",
       "      <td>95</td>\n",
       "      <td>[7891, 7892]</td>\n",
       "      <td>Patch Adams - Collector's Edition (1998)\\n\\nPa...</td>\n",
       "    </tr>\n",
       "    <tr>\n",
       "      <th>105</th>\n",
       "      <td>105</td>\n",
       "      <td>[7891, 7892]</td>\n",
       "      <td>Stonewall Jackson\\n\\nTells the remarkable life...</td>\n",
       "    </tr>\n",
       "    <tr>\n",
       "      <th>...</th>\n",
       "      <td>...</td>\n",
       "      <td>...</td>\n",
       "      <td>...</td>\n",
       "    </tr>\n",
       "    <tr>\n",
       "      <th>1186208</th>\n",
       "      <td>1186208</td>\n",
       "      <td>[7891, 7892]</td>\n",
       "      <td>Jerry Springer Too Hot for Tv 2 Uncensored\\n\\n...</td>\n",
       "    </tr>\n",
       "    <tr>\n",
       "      <th>1186210</th>\n",
       "      <td>1186210</td>\n",
       "      <td>[7891, 7892]</td>\n",
       "      <td>Riding High (1950)\\n\\nRIDING HIGH tells the st...</td>\n",
       "    </tr>\n",
       "    <tr>\n",
       "      <th>1186219</th>\n",
       "      <td>1186219</td>\n",
       "      <td>[7891, 7892]</td>\n",
       "      <td>Roy Rogers - Grand Canyon Trail\\n\\nNo Descript...</td>\n",
       "    </tr>\n",
       "    <tr>\n",
       "      <th>1186225</th>\n",
       "      <td>1186225</td>\n",
       "      <td>[7891, 7892]</td>\n",
       "      <td>Bardot - Et Dieu... créa la femme/Documentaire...</td>\n",
       "    </tr>\n",
       "    <tr>\n",
       "      <th>1186235</th>\n",
       "      <td>1186235</td>\n",
       "      <td>[7891, 7892]</td>\n",
       "      <td>Equality U\\n\\nDirector Dave O'Brien followed a...</td>\n",
       "    </tr>\n",
       "  </tbody>\n",
       "</table>\n",
       "<p>88967 rows × 3 columns</p>\n",
       "</div>"
      ],
      "text/plain": [
       "             uid    target_ind   \n",
       "13            13  [7891, 7892]  \\\n",
       "26            26  [7891, 7892]   \n",
       "76            76  [7891, 7892]   \n",
       "95            95  [7891, 7892]   \n",
       "105          105  [7891, 7892]   \n",
       "...          ...           ...   \n",
       "1186208  1186208  [7891, 7892]   \n",
       "1186210  1186210  [7891, 7892]   \n",
       "1186219  1186219  [7891, 7892]   \n",
       "1186225  1186225  [7891, 7892]   \n",
       "1186235  1186235  [7891, 7892]   \n",
       "\n",
       "                                                      text  \n",
       "13       Shrek - The Story So Far (Shrek 1 & 2 Full Scr...  \n",
       "26       Mission Impossible [VHS] (1996)\\n\\nA flashy, s...  \n",
       "76       Student of Prague Collection (1913 & 1926 Vers...  \n",
       "95       Patch Adams - Collector's Edition (1998)\\n\\nPa...  \n",
       "105      Stonewall Jackson\\n\\nTells the remarkable life...  \n",
       "...                                                    ...  \n",
       "1186208  Jerry Springer Too Hot for Tv 2 Uncensored\\n\\n...  \n",
       "1186210  Riding High (1950)\\n\\nRIDING HIGH tells the st...  \n",
       "1186219  Roy Rogers - Grand Canyon Trail\\n\\nNo Descript...  \n",
       "1186225  Bardot - Et Dieu... créa la femme/Documentaire...  \n",
       "1186235  Equality U\\n\\nDirector Dave O'Brien followed a...  \n",
       "\n",
       "[88967 rows x 3 columns]"
      ]
     },
     "execution_count": 72,
     "metadata": {},
     "output_type": "execute_result"
    }
   ],
   "source": [
    "train_df.loc[mask]"
   ]
  },
  {
   "cell_type": "code",
   "execution_count": 73,
   "metadata": {},
   "outputs": [
    {
     "data": {
      "text/plain": [
       "0.07499922022459218"
      ]
     },
     "execution_count": 73,
     "metadata": {},
     "output_type": "execute_result"
    }
   ],
   "source": [
    "mask.sum() / len(train_df)"
   ]
  },
  {
   "cell_type": "code",
   "execution_count": null,
   "metadata": {},
   "outputs": [],
   "source": [
    "fiction = 8%\n",
    "movies = 7%\n",
    "social science = 4%\n",
    "religion = 2%"
   ]
  },
  {
   "cell_type": "code",
   "execution_count": null,
   "metadata": {},
   "outputs": [],
   "source": [
    "train_df.loc[train_df[\"target_ind\"].map(lambda ex: 7893 in ex), \"text\"].to_dict()"
   ]
  },
  {
   "cell_type": "code",
   "execution_count": null,
   "metadata": {},
   "outputs": [],
   "source": []
  },
  {
   "cell_type": "code",
   "execution_count": null,
   "metadata": {},
   "outputs": [],
   "source": [
    "# df.loc[df[\"target_ind\"].map(lambda ex: 13199 in ex)]\n",
    "df.loc[df[\"target_ind\"].map(lambda ex: 12583 in ex)].iloc[2].to_dict()"
   ]
  },
  {
   "cell_type": "code",
   "execution_count": null,
   "metadata": {},
   "outputs": [],
   "source": [
    "30068 / len(df)"
   ]
  },
  {
   "cell_type": "code",
   "execution_count": null,
   "metadata": {},
   "outputs": [],
   "source": []
  },
  {
   "cell_type": "code",
   "execution_count": null,
   "metadata": {},
   "outputs": [],
   "source": []
  },
  {
   "cell_type": "code",
   "execution_count": null,
   "metadata": {},
   "outputs": [],
   "source": [
    "MODELS = [\"all-mpnet-base-v2\", \"multi-qa-mpnet-base-dot-v1\", \"all-MiniLM-L12-v2\"]"
   ]
  },
  {
   "cell_type": "code",
   "execution_count": null,
   "metadata": {},
   "outputs": [],
   "source": []
  },
  {
   "cell_type": "code",
   "execution_count": null,
   "metadata": {},
   "outputs": [],
   "source": [
    "models = [f\"embedding_{i}\" for i in MODELS]\n",
    "df = load_dataset(\"pietrolesci/eurlex_indexed\")[\"train\"].to_pandas()\n",
    "df = df[[\"uid\"] + models]"
   ]
  },
  {
   "cell_type": "code",
   "execution_count": null,
   "metadata": {},
   "outputs": [],
   "source": [
    "metric: str = \"cosine\"\n",
    "ef_construction: int = 200\n",
    "ef: int = 200\n",
    "M: int = 64\n",
    "num_threads: int = 5\n",
    "\n",
    "path = Path(\"../data/processed/eurlex/hnswlib_indices\")\n",
    "path.mkdir(exist_ok=True, parents=True)\n",
    "\n",
    "for idx, model in enumerate(tqdm(models)):\n",
    "\n",
    "    path.mkdir(exist_ok=True, parents=True)\n",
    "\n",
    "    embeddings = np.stack(df[model].values)\n",
    "\n",
    "    index = hb.Index(space=metric, dim=embeddings.shape[1])\n",
    "    index.set_ef(ef)\n",
    "    index.init_index(\n",
    "        max_elements=embeddings.shape[0],\n",
    "        M=M,\n",
    "        ef_construction=ef_construction,\n",
    "        random_seed=42,\n",
    "    )\n",
    "\n",
    "    index.add_items(embeddings, df[\"uid\"].tolist(), num_threads=num_threads)\n",
    "    index.save_index(str(path / f\"index_{metric}_{MODELS[idx]}.bin\"))\n",
    "\n",
    "    srsly.write_yaml(\n",
    "        path / f\"metadata_{metric}_{MODELS[idx]}.yaml\",\n",
    "        {\n",
    "            \"metric\": metric,\n",
    "            \"ef_construction\": ef_construction,\n",
    "            \"ef\": ef,\n",
    "            \"M\": M,\n",
    "            \"num_threads\": num_threads,\n",
    "        },\n",
    "    )"
   ]
  },
  {
   "cell_type": "code",
   "execution_count": null,
   "metadata": {},
   "outputs": [],
   "source": [
    "data = ds_dict.map(\n",
    "    lambda ex: {\"labels\": [int(\"3191\" in l) for l in ex[\"eurovoc_concepts\"]]},\n",
    "    batched=True,\n",
    ")"
   ]
  },
  {
   "cell_type": "code",
   "execution_count": null,
   "metadata": {},
   "outputs": [],
   "source": [
    "train_df = data[\"train\"].to_pandas()\n",
    "test_df = data[\"test\"].to_pandas()"
   ]
  },
  {
   "cell_type": "code",
   "execution_count": null,
   "metadata": {},
   "outputs": [],
   "source": [
    "train_freq = (\n",
    "    train_df[[\"celex_id\", \"eurovoc_concepts\"]]\n",
    "    .explode(\"eurovoc_concepts\")\n",
    "    .groupby(\"eurovoc_concepts\")[\"celex_id\"]\n",
    "    .nunique()\n",
    "    .to_frame(\"count_train\")\n",
    ")\n",
    "test_freq = (\n",
    "    test_df[[\"celex_id\", \"eurovoc_concepts\"]]\n",
    "    .explode(\"eurovoc_concepts\")\n",
    "    .groupby(\"eurovoc_concepts\")[\"celex_id\"]\n",
    "    .nunique()\n",
    "    .to_frame(\"count_test\")\n",
    ")"
   ]
  },
  {
   "cell_type": "code",
   "execution_count": null,
   "metadata": {},
   "outputs": [],
   "source": [
    "desc = pd.DataFrame(\n",
    "    srsly.read_jsonl(\"../data/raw/eurlex-57k/eurovoc_concepts.jsonl\")\n",
    ").set_index(\"id\")"
   ]
  },
  {
   "cell_type": "code",
   "execution_count": null,
   "metadata": {},
   "outputs": [],
   "source": [
    "f = train_freq.join(test_freq).dropna()"
   ]
  },
  {
   "cell_type": "code",
   "execution_count": null,
   "metadata": {},
   "outputs": [],
   "source": [
    "f[\"sum\"] = f.sum(1)"
   ]
  },
  {
   "cell_type": "code",
   "execution_count": null,
   "metadata": {},
   "outputs": [],
   "source": [
    "f = f.sort_values(\"sum\", ascending=False)"
   ]
  },
  {
   "cell_type": "code",
   "execution_count": null,
   "metadata": {},
   "outputs": [],
   "source": [
    "f = f.join(desc)"
   ]
  },
  {
   "cell_type": "code",
   "execution_count": null,
   "metadata": {},
   "outputs": [],
   "source": [
    "f.loc[(f[\"sum\"] < 3500) & (f[\"sum\"] > 1000)].sort_values(\n",
    "    [\"count_test\", \"count_train\"], ascending=[False, True]\n",
    ")"
   ]
  },
  {
   "cell_type": "code",
   "execution_count": null,
   "metadata": {},
   "outputs": [],
   "source": [
    "# make `health control` the target label\n",
    "data = ds_dict.map(\n",
    "    lambda ex: {\"labels\": [int(\"192\" in l) for l in ex[\"eurovoc_concepts\"]]},\n",
    "    batched=True,\n",
    ")\n",
    "train_df = data[\"train\"].to_pandas()\n",
    "test_df = data[\"test\"].to_pandas()"
   ]
  },
  {
   "cell_type": "code",
   "execution_count": null,
   "metadata": {},
   "outputs": [],
   "source": [
    "train_df[\"labels\"].value_counts(True), test_df[\"labels\"].value_counts(True)"
   ]
  },
  {
   "cell_type": "code",
   "execution_count": null,
   "metadata": {},
   "outputs": [],
   "source": [
    "tfidf = TfidfVectorizer(ngram_range=(1, 3))\n",
    "log_reg = LogisticRegression()"
   ]
  },
  {
   "cell_type": "code",
   "execution_count": null,
   "metadata": {},
   "outputs": [],
   "source": [
    "train_df[\"document_type\"].value_counts()"
   ]
  },
  {
   "cell_type": "code",
   "execution_count": null,
   "metadata": {},
   "outputs": [],
   "source": [
    "# X = tfidf.fit_transform(train_df[\"text\"].values)\n",
    "X = np.stack(train_df[\"embedding_all-mpnet-base-v2\"].values)\n",
    "y = train_df[\"labels\"].values\n",
    "# y = train_df[\"document_type\"] == \"Directive\"\n",
    "\n",
    "# X_test = tfidf.transform(test_df[\"text\"].values)\n",
    "X_test = np.stack(test_df[\"embedding_all-mpnet-base-v2\"].values)\n",
    "y_test = test_df[\"labels\"].values\n",
    "# y_test = test_df[\"document_type\"] == \"Directive\""
   ]
  },
  {
   "cell_type": "code",
   "execution_count": null,
   "metadata": {},
   "outputs": [],
   "source": [
    "log_reg.fit(X, y)"
   ]
  },
  {
   "cell_type": "code",
   "execution_count": null,
   "metadata": {},
   "outputs": [],
   "source": [
    "print(classification_report(y_test, log_reg.predict(X_test)))"
   ]
  },
  {
   "cell_type": "code",
   "execution_count": null,
   "metadata": {},
   "outputs": [],
   "source": [
    "print(classification_report(y, log_reg.predict(X)))"
   ]
  },
  {
   "cell_type": "code",
   "execution_count": null,
   "metadata": {},
   "outputs": [],
   "source": [
    "ds_dict"
   ]
  },
  {
   "cell_type": "code",
   "execution_count": null,
   "metadata": {},
   "outputs": [],
   "source": [
    "1609 / len(train_df)"
   ]
  },
  {
   "cell_type": "code",
   "execution_count": null,
   "metadata": {},
   "outputs": [],
   "source": [
    "train_df[\"document_type\"].value_counts(True)"
   ]
  },
  {
   "cell_type": "code",
   "execution_count": null,
   "metadata": {},
   "outputs": [],
   "source": []
  },
  {
   "cell_type": "code",
   "execution_count": null,
   "metadata": {},
   "outputs": [],
   "source": [
    "train_df.loc[train_df[\"eurovoc_concepts\"].map(lambda ex: \"2173\" in ex)]"
   ]
  },
  {
   "cell_type": "code",
   "execution_count": null,
   "metadata": {},
   "outputs": [],
   "source": [
    "desc"
   ]
  },
  {
   "cell_type": "code",
   "execution_count": null,
   "metadata": {},
   "outputs": [],
   "source": [
    "# get eurlex from http://nlp.cs.aueb.gr/software_and_datasets/EURLEX57K/ and unzip the folder into eurlex\n",
    "path = Path(\"../eurlex/\")\n",
    "data = {}\n",
    "for split in path.iterdir():\n",
    "    data[split.name] = []\n",
    "    for file in tqdm(list(split.iterdir())):\n",
    "        data[split.name].append(srsly.read_json(file))"
   ]
  },
  {
   "cell_type": "code",
   "execution_count": null,
   "metadata": {},
   "outputs": [],
   "source": []
  },
  {
   "cell_type": "code",
   "execution_count": null,
   "metadata": {},
   "outputs": [],
   "source": []
  },
  {
   "cell_type": "code",
   "execution_count": null,
   "metadata": {},
   "outputs": [],
   "source": [
    "cats = [\n",
    "    \"Wireless_v1_00\",\n",
    "    \"Watches_v1_00\",\n",
    "    \"Video_Games_v1_00\",\n",
    "    \"Video_DVD_v1_00\",\n",
    "    \"Video_v1_00\",\n",
    "    \"Toys_v1_00\",\n",
    "    \"Tools_v1_00\",\n",
    "    \"Sports_v1_00\",\n",
    "    \"Software_v1_00\",\n",
    "    \"Shoes_v1_00\",\n",
    "    \"Pet_Products_v1_00\",\n",
    "    \"Personal_Care_Appliances_v1_00\",\n",
    "    \"PC_v1_00\",\n",
    "    \"Outdoors_v1_00\",\n",
    "    \"Office_Products_v1_00\",\n",
    "    \"Musical_Instruments_v1_00\",\n",
    "    \"Music_v1_00\",\n",
    "    \"Mobile_Electronics_v1_00\",\n",
    "    \"Mobile_Apps_v1_00\",\n",
    "    \"Major_Appliances_v1_00\",\n",
    "    \"Luggage_v1_00\",\n",
    "    \"Lawn_and_Garden_v1_00\",\n",
    "    \"Kitchen_v1_00\",\n",
    "    \"Jewelry_v1_00\",\n",
    "    \"Home_Improvement_v1_00\",\n",
    "    \"Home_Entertainment_v1_00\",\n",
    "    \"Home_v1_00\",\n",
    "    \"Health_Personal_Care_v1_00\",\n",
    "    \"Grocery_v1_00\",\n",
    "    \"Gift_Card_v1_00\",\n",
    "    \"Furniture_v1_00\",\n",
    "    \"Electronics_v1_00\",\n",
    "    \"Digital_Video_Games_v1_00\",\n",
    "    \"Digital_Video_Download_v1_00\",\n",
    "    \"Digital_Software_v1_00\",\n",
    "    \"Digital_Music_Purchase_v1_00\",\n",
    "    \"Digital_Ebook_Purchase_v1_00\",\n",
    "    \"Camera_v1_00\",\n",
    "    \"Beauty_v1_00\",\n",
    "    \"Baby_v1_00\",\n",
    "    \"Automotive_v1_00\",\n",
    "    \"Apparel_v1_00\",\n",
    "    \"Digital_Ebook_Purchase_v1_01\",\n",
    "    \"Books_v1_00\",\n",
    "    \"Books_v1_01\",\n",
    "    \"Books_v1_02\",\n",
    "]"
   ]
  },
  {
   "cell_type": "code",
   "execution_count": null,
   "metadata": {},
   "outputs": [],
   "source": []
  },
  {
   "cell_type": "code",
   "execution_count": null,
   "metadata": {},
   "outputs": [],
   "source": [
    "ds_dict = load_dataset(\"pietrolesci/pubmed-rct-200k_indexed\")\n",
    "ds_dict = ds_dict.select_columns(\n",
    "    [\"uid\", \"labels\", \"text\", \"embedding_all-mpnet-base-v2\"]\n",
    ")\n",
    "\n",
    "train_df = ds_dict[\"train\"].to_pandas()\n",
    "test_df = ds_dict[\"test\"].to_pandas()"
   ]
  },
  {
   "cell_type": "code",
   "execution_count": null,
   "metadata": {},
   "outputs": [],
   "source": [
    "X = np.stack(train_df[\"embedding_all-mpnet-base-v2\"].values)\n",
    "y = train_df[\"labels\"].values == 0\n",
    "\n",
    "X_test = np.stack(test_df[\"embedding_all-mpnet-base-v2\"].values)\n",
    "y_test = test_df[\"labels\"].values == 0"
   ]
  },
  {
   "cell_type": "code",
   "execution_count": null,
   "metadata": {},
   "outputs": [],
   "source": [
    "train_df[\"labels\"].value_counts(True)"
   ]
  },
  {
   "cell_type": "code",
   "execution_count": null,
   "metadata": {},
   "outputs": [],
   "source": [
    "log_reg = LogisticRegression()"
   ]
  },
  {
   "cell_type": "code",
   "execution_count": null,
   "metadata": {},
   "outputs": [],
   "source": [
    "log_reg.fit(X, y)"
   ]
  },
  {
   "cell_type": "code",
   "execution_count": null,
   "metadata": {},
   "outputs": [],
   "source": [
    "print(classification_report(y_test, log_reg.predict(X_test)))"
   ]
  },
  {
   "cell_type": "code",
   "execution_count": null,
   "metadata": {},
   "outputs": [],
   "source": [
    "print(classification_report(y, log_reg.predict(X)))"
   ]
  },
  {
   "cell_type": "code",
   "execution_count": null,
   "metadata": {},
   "outputs": [],
   "source": [
    "len(train_df)"
   ]
  },
  {
   "cell_type": "code",
   "execution_count": null,
   "metadata": {},
   "outputs": [],
   "source": [
    "d = load_dataset(\"pietrolesci/pubmed-rct-200k_indexed\")"
   ]
  },
  {
   "cell_type": "code",
   "execution_count": null,
   "metadata": {},
   "outputs": [],
   "source": [
    "a"
   ]
  }
 ],
 "metadata": {
  "kernelspec": {
   "display_name": "igal",
   "language": "python",
   "name": "python3"
  },
  "language_info": {
   "codemirror_mode": {
    "name": "ipython",
    "version": 3
   },
   "file_extension": ".py",
   "mimetype": "text/x-python",
   "name": "python",
   "nbconvert_exporter": "python",
   "pygments_lexer": "ipython3",
   "version": "3.9.16"
  },
  "orig_nbformat": 4
 },
 "nbformat": 4,
 "nbformat_minor": 2
}
