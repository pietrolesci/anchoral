{
 "cells": [
  {
   "cell_type": "code",
   "execution_count": 1,
   "metadata": {},
   "outputs": [],
   "source": [
    "%load_ext autoreload\n",
    "%autoreload 2"
   ]
  },
  {
   "cell_type": "code",
   "execution_count": 2,
   "metadata": {},
   "outputs": [],
   "source": [
    "import pandas as pd\n",
    "import numpy as np\n",
    "from datasets import load_from_disk\n",
    "from src.data import ClassificationActiveDataModule\n",
    "import srsly\n",
    "from pathlib import Path\n",
    "from transformers import AutoTokenizer, AutoModelForSequenceClassification\n",
    "from src.estimators import SimilaritySearchStrategyForSequenceClassification"
   ]
  },
  {
   "cell_type": "code",
   "execution_count": 3,
   "metadata": {},
   "outputs": [
    {
     "data": {
      "text/plain": [
       "{'train_val_seed': 1994,\n",
       " 'embedding_model': 'all-mpnet-base-v2',\n",
       " 'embedding_dim': 768,\n",
       " 'num_elements': 120000,\n",
       " 'numpy_embeddings_path': '/home/pl487/allset/data/processed/agnews/index.npy',\n",
       " 'hnsw_index_path': '/home/pl487/allset/data/processed/agnews/index.bin',\n",
       " 'name_or_path': 'google/bert_uncased_L-2_H-128_A-2',\n",
       " 'name_or_path_alias': 'bert_tiny'}"
      ]
     },
     "execution_count": 3,
     "metadata": {},
     "output_type": "execute_result"
    }
   ],
   "source": [
    "data_path = Path(\"/home/pl487/allset/data/prepared/agnews_bert_tiny\")\n",
    "dataset_dict = load_from_disk(data_path)\n",
    "meta = srsly.read_yaml(data_path / \"metadata.yaml\")\n",
    "meta"
   ]
  },
  {
   "cell_type": "code",
   "execution_count": 4,
   "metadata": {},
   "outputs": [],
   "source": [
    "tokenizer = AutoTokenizer.from_pretrained(meta[\"name_or_path\"])"
   ]
  },
  {
   "cell_type": "code",
   "execution_count": 5,
   "metadata": {},
   "outputs": [],
   "source": [
    "datamodule = ClassificationActiveDataModule.from_dataset_dict(dataset_dict, tokenizer=tokenizer)"
   ]
  },
  {
   "cell_type": "code",
   "execution_count": 6,
   "metadata": {},
   "outputs": [],
   "source": [
    "datamodule.load_index(meta[\"hnsw_index_path\"], embedding_dim=meta[\"embedding_dim\"])"
   ]
  },
  {
   "cell_type": "code",
   "execution_count": 7,
   "metadata": {},
   "outputs": [
    {
     "name": "stderr",
     "output_type": "stream",
     "text": [
      "Some weights of the model checkpoint at google/bert_uncased_L-2_H-128_A-2 were not used when initializing BertForSequenceClassification: ['cls.seq_relationship.bias', 'cls.predictions.transform.dense.weight', 'cls.predictions.bias', 'cls.predictions.transform.LayerNorm.bias', 'cls.seq_relationship.weight', 'cls.predictions.decoder.weight', 'cls.predictions.transform.dense.bias', 'cls.predictions.decoder.bias', 'cls.predictions.transform.LayerNorm.weight']\n",
      "- This IS expected if you are initializing BertForSequenceClassification from the checkpoint of a model trained on another task or with another architecture (e.g. initializing a BertForSequenceClassification model from a BertForPreTraining model).\n",
      "- This IS NOT expected if you are initializing BertForSequenceClassification from the checkpoint of a model that you expect to be exactly identical (initializing a BertForSequenceClassification model from a BertForSequenceClassification model).\n",
      "Some weights of BertForSequenceClassification were not initialized from the model checkpoint at google/bert_uncased_L-2_H-128_A-2 and are newly initialized: ['classifier.bias', 'classifier.weight']\n",
      "You should probably TRAIN this model on a down-stream task to be able to use it for predictions and inference.\n"
     ]
    }
   ],
   "source": [
    "model = AutoModelForSequenceClassification.from_pretrained(\n",
    "    meta[\"name_or_path\"],\n",
    "    id2label=datamodule.id2label,\n",
    "    label2id=datamodule.label2id,\n",
    "    num_labels=len(datamodule.labels),\n",
    ")\n",
    "active_estimator = SimilaritySearchStrategyForSequenceClassification(model=model, seed=42)"
   ]
  },
  {
   "cell_type": "code",
   "execution_count": 8,
   "metadata": {},
   "outputs": [
    {
     "data": {
      "application/vnd.jupyter.widget-view+json": {
       "model_id": "a332c09b07f9424d85726ea491badb70",
       "version_major": 2,
       "version_minor": 0
      },
      "text/plain": [
       "Completed rounds:   0%|          | 0/3 [00:00<?, ?it/s]"
      ]
     },
     "metadata": {},
     "output_type": "display_data"
    },
    {
     "data": {
      "application/vnd.jupyter.widget-view+json": {
       "model_id": "3fabb73659234108b36153896cb349d4",
       "version_major": 2,
       "version_minor": 0
      },
      "text/plain": [
       "Completed epochs: 0it [00:00, ?it/s]"
      ]
     },
     "metadata": {},
     "output_type": "display_data"
    },
    {
     "data": {
      "application/vnd.jupyter.widget-view+json": {
       "model_id": "2b47f36b1c7648cf928db7d6b065e97d",
       "version_major": 2,
       "version_minor": 0
      },
      "text/plain": [
       "Epoch 0: 0it [00:00, ?it/s]"
      ]
     },
     "metadata": {},
     "output_type": "display_data"
    },
    {
     "data": {
      "application/vnd.jupyter.widget-view+json": {
       "model_id": "101bcf7e0a33415d918f337a7051f392",
       "version_major": 2,
       "version_minor": 0
      },
      "text/plain": [
       "Test: 0it [00:00, ?it/s]"
      ]
     },
     "metadata": {},
     "output_type": "display_data"
    },
    {
     "data": {
      "text/plain": [
       "{'hparams/test_accuracy': 0.6343749761581421,\n",
       " 'hparams/test_f1_macro': 0.5850603580474854,\n",
       " 'hparams/test_f1_micro': 0.6343749761581421,\n",
       " 'hparams/test_precision_macro': 0.6814135909080505,\n",
       " 'hparams/test_precision_micro': 0.6343749761581421,\n",
       " 'hparams/test_recall_macro': 0.5752501487731934,\n",
       " 'hparams/test_recall_micro': 0.6343749761581421,\n",
       " 'hparams/test_accuracy_auc': 1.0828125,\n",
       " 'hparams/test_f1_macro_auc': 1.0067735,\n",
       " 'hparams/test_f1_micro_auc': 1.0828125,\n",
       " 'hparams/test_precision_macro_auc': 1.0375003,\n",
       " 'hparams/test_precision_micro_auc': 1.0828125,\n",
       " 'hparams/test_recall_macro_auc': 1.1186674,\n",
       " 'hparams/test_recall_micro_auc': 1.0828125}"
      ]
     },
     "execution_count": 8,
     "metadata": {},
     "output_type": "execute_result"
    }
   ],
   "source": [
    "active_estimator.active_fit(\n",
    "    max_rounds=2, query_size=100, active_datamodule=datamodule, limit_test_batches=10,\n",
    ")"
   ]
  },
  {
   "cell_type": "code",
   "execution_count": 9,
   "metadata": {},
   "outputs": [
    {
     "data": {
      "text/plain": [
       "BudgetTracker(max=120000, total=200, current=200, progress_bar=None, query_size=100)"
      ]
     },
     "execution_count": 9,
     "metadata": {},
     "output_type": "execute_result"
    }
   ],
   "source": [
    "active_estimator.progress_tracker.budget_tracker"
   ]
  },
  {
   "cell_type": "code",
   "execution_count": 10,
   "metadata": {},
   "outputs": [
    {
     "data": {
      "text/plain": [
       "200"
      ]
     },
     "execution_count": 10,
     "metadata": {},
     "output_type": "execute_result"
    }
   ],
   "source": [
    "datamodule.train_size()"
   ]
  },
  {
   "cell_type": "code",
   "execution_count": 132,
   "metadata": {},
   "outputs": [],
   "source": [
    "loader = datamodule.train_loader()\n",
    "batch = next(iter(loader))\n",
    "_ = batch.pop(\"on_cpu\")\n",
    "batch_size = loader.batch_size"
   ]
  },
  {
   "cell_type": "code",
   "execution_count": 133,
   "metadata": {},
   "outputs": [],
   "source": [
    "import torch"
   ]
  },
  {
   "cell_type": "code",
   "execution_count": 134,
   "metadata": {},
   "outputs": [],
   "source": [
    "loss = model(**batch).loss"
   ]
  },
  {
   "cell_type": "code",
   "execution_count": 135,
   "metadata": {},
   "outputs": [],
   "source": [
    "grads = torch.autograd.grad(loss, list(model.parameters()))"
   ]
  },
  {
   "cell_type": "code",
   "execution_count": 136,
   "metadata": {},
   "outputs": [],
   "source": [
    "def compute_grad(model, input_ids, attn_mask, target):\n",
    "    input_ids = input_ids.unsqueeze(0)  # prepend batch dimension for processing\n",
    "    attn_mask = attn_mask.unsqueeze(0)  # prepend batch dimension for processing\n",
    "    target = target.unsqueeze(0)\n",
    "    loss = model(input_ids=input_ids, attention_mask=attn_mask, labels=target).loss\n",
    "    return torch.autograd.grad(loss, list(model.parameters()))"
   ]
  },
  {
   "cell_type": "code",
   "execution_count": 137,
   "metadata": {},
   "outputs": [],
   "source": [
    "input_ids, attention_mask, target = batch[\"input_ids\"], batch[\"attention_mask\"], batch[\"labels\"]"
   ]
  },
  {
   "cell_type": "code",
   "execution_count": 138,
   "metadata": {},
   "outputs": [],
   "source": [
    "def select(i):\n",
    "    return input_ids[i], attention_mask[i], target[i]"
   ]
  },
  {
   "cell_type": "code",
   "execution_count": 141,
   "metadata": {},
   "outputs": [],
   "source": [
    "norms = np.array([[g.norm(2).item() for g in compute_grad(model, *select(i))] for i in range(batch_size)])"
   ]
  },
  {
   "cell_type": "code",
   "execution_count": 143,
   "metadata": {},
   "outputs": [
    {
     "data": {
      "text/plain": [
       "(32, 41)"
      ]
     },
     "execution_count": 143,
     "metadata": {},
     "output_type": "execute_result"
    }
   ],
   "source": [
    "norms.shape"
   ]
  },
  {
   "cell_type": "code",
   "execution_count": 144,
   "metadata": {},
   "outputs": [],
   "source": [
    "from functorch import make_functional_with_buffers, vmap, grad\n",
    "\n",
    "fmodel, params, buffers = make_functional_with_buffers(model)"
   ]
  },
  {
   "cell_type": "code",
   "execution_count": 145,
   "metadata": {},
   "outputs": [],
   "source": [
    "def compute_loss_stateless_model(fmodel, params, buffers, input_ids, att_mask, label):\n",
    "    input_ids = input_ids.unsqueeze(0)\n",
    "    att_mask = att_mask.unsqueeze(0)\n",
    "    label = label.unsqueeze(0)\n",
    "    \n",
    "    return fmodel(\n",
    "        params, \n",
    "        buffers, \n",
    "        input_ids=input_ids,\n",
    "        attention_mask=att_mask,\n",
    "        labels=label,\n",
    "    ).loss\n"
   ]
  },
  {
   "cell_type": "code",
   "execution_count": 146,
   "metadata": {},
   "outputs": [
    {
     "data": {
      "text/plain": [
       "tensor(0.9802, grad_fn=<NllLossBackward0>)"
      ]
     },
     "execution_count": 146,
     "metadata": {},
     "output_type": "execute_result"
    }
   ],
   "source": [
    "compute_loss_stateless_model(fmodel, params, buffers, *select(0))"
   ]
  },
  {
   "cell_type": "code",
   "execution_count": 159,
   "metadata": {},
   "outputs": [],
   "source": [
    "ft_compute_grad = grad(compute_loss_stateless_model, argnums=1)"
   ]
  },
  {
   "cell_type": "code",
   "execution_count": 231,
   "metadata": {},
   "outputs": [
    {
     "data": {
      "text/plain": [
       "True"
      ]
     },
     "execution_count": 231,
     "metadata": {},
     "output_type": "execute_result"
    }
   ],
   "source": [
    "ft_compute_grad(fmodel, params, buffers, *select(0))[0].requires_grad"
   ]
  },
  {
   "cell_type": "code",
   "execution_count": 215,
   "metadata": {},
   "outputs": [
    {
     "name": "stdout",
     "output_type": "stream",
     "text": [
      "737 ms ± 97.8 ms per loop (mean ± std. dev. of 7 runs, 1 loop each)\n"
     ]
    }
   ],
   "source": [
    "%%timeit\n",
    "fnorms = np.array(\n",
    "    [\n",
    "        [g.norm(2).item() for g in ft_compute_grad(fmodel, params, buffers, *select(i))] \n",
    "        for i in range(batch_size)\n",
    "    ]\n",
    ")"
   ]
  },
  {
   "cell_type": "code",
   "execution_count": 205,
   "metadata": {},
   "outputs": [],
   "source": [
    "def compute_norm(fmodel, params, buffers, input_ids, attention_mask, target):\n",
    "    grads = ft_compute_grad(fmodel, params, buffers, input_ids, attention_mask, target)\n",
    "    return tuple(g.norm() for g in grads)"
   ]
  },
  {
   "cell_type": "code",
   "execution_count": 206,
   "metadata": {},
   "outputs": [],
   "source": [
    "ft_compute_sample_grad = vmap(compute_norm, in_dims=(None, None, None, 0, 0, 0),  randomness=\"same\")"
   ]
  },
  {
   "cell_type": "code",
   "execution_count": 222,
   "metadata": {},
   "outputs": [],
   "source": [
    "fnorms_vmap = torch.stack(ft_compute_sample_grad(fmodel, params, buffers, input_ids, attention_mask, target)).T\n"
   ]
  },
  {
   "cell_type": "code",
   "execution_count": 227,
   "metadata": {},
   "outputs": [
    {
     "data": {
      "text/plain": [
       "tensor([[2.6633, 2.2930, 7.1850,  ..., 0.1084, 8.1522, 0.8480],\n",
       "        [0.3866, 0.3121, 0.9092,  ..., 0.0408, 3.8506, 0.3948],\n",
       "        [0.5067, 0.4632, 2.2373,  ..., 0.0462, 4.0455, 0.4326],\n",
       "        ...,\n",
       "        [0.4729, 0.3754, 1.1339,  ..., 0.0403, 3.6902, 0.3785],\n",
       "        [1.2566, 1.0544, 3.6953,  ..., 0.0599, 4.6749, 0.4826],\n",
       "        [2.7047, 2.5846, 8.7111,  ..., 0.0636, 3.3735, 0.3857]],\n",
       "       grad_fn=<PermuteBackward0>)"
      ]
     },
     "execution_count": 227,
     "metadata": {},
     "output_type": "execute_result"
    }
   ],
   "source": [
    "fnorms_vmap"
   ]
  },
  {
   "cell_type": "code",
   "execution_count": 214,
   "metadata": {},
   "outputs": [
    {
     "data": {
      "text/plain": [
       "array([[2.66334009, 2.29299068, 7.18503428, ..., 0.10841203, 8.15219402,\n",
       "        0.84802312],\n",
       "       [0.38656864, 0.31205383, 0.90919632, ..., 0.04075364, 3.85057497,\n",
       "        0.39479101],\n",
       "       [0.50670964, 0.46319047, 2.23734379, ..., 0.04616484, 4.04549932,\n",
       "        0.43263713],\n",
       "       ...,\n",
       "       [0.47293448, 0.37543818, 1.13386583, ..., 0.04028693, 3.69024682,\n",
       "        0.37846082],\n",
       "       [1.25664675, 1.05440533, 3.695292  , ..., 0.05989493, 4.67485762,\n",
       "        0.4826256 ],\n",
       "       [2.70469236, 2.58462548, 8.71106911, ..., 0.06355889, 3.37346792,\n",
       "        0.38572755]])"
      ]
     },
     "execution_count": 214,
     "metadata": {},
     "output_type": "execute_result"
    }
   ],
   "source": [
    "fnorms"
   ]
  },
  {
   "cell_type": "code",
   "execution_count": null,
   "metadata": {},
   "outputs": [],
   "source": []
  },
  {
   "cell_type": "code",
   "execution_count": 101,
   "metadata": {},
   "outputs": [],
   "source": [
    "# we can double check that the results using functorch grad and vmap match the results of hand processing each one individually:\n",
    "for per_sample_grad, ft_per_sample_grad in zip(per_sample_grads, ft_per_sample_grads):\n",
    "    assert torch.allclose(per_sample_grad, ft_per_sample_grad, atol=3e-3, rtol=1e-5)"
   ]
  },
  {
   "cell_type": "code",
   "execution_count": 105,
   "metadata": {},
   "outputs": [
    {
     "data": {
      "text/plain": [
       "tensor([[ 0.0307,  0.0219, -0.6248,  0.5722],\n",
       "        [ 0.0294,  0.0250,  0.2493, -0.3037],\n",
       "        [ 0.0409,  0.0385, -0.3404,  0.2611],\n",
       "        [ 0.0328,  0.0213,  0.2582, -0.3123],\n",
       "        [ 0.1614, -0.2251,  0.0420,  0.0216],\n",
       "        [ 0.0413,  0.0260, -0.4326,  0.3653],\n",
       "        [-0.8004,  0.0363,  0.2792,  0.4849],\n",
       "        [ 0.1024, -0.2112,  0.0718,  0.0369],\n",
       "        [ 0.1002, -0.1997,  0.0623,  0.0371],\n",
       "        [ 0.0420,  0.0284, -0.4032,  0.3328],\n",
       "        [ 0.0320,  0.0208, -0.7117,  0.6589],\n",
       "        [ 0.0382,  0.0187,  0.2570, -0.3139],\n",
       "        [ 0.1120, -0.1897,  0.0466,  0.0311],\n",
       "        [ 0.0415,  0.0428, -0.3445,  0.2601],\n",
       "        [ 0.0402,  0.0227, -0.4714,  0.4085],\n",
       "        [-0.4027,  0.0814,  0.1441,  0.1772],\n",
       "        [ 0.0413,  0.0460, -0.3370,  0.2497],\n",
       "        [ 0.0307,  0.0227,  0.2523, -0.3057],\n",
       "        [ 0.0563,  0.0316, -0.3872,  0.2992],\n",
       "        [ 0.0290,  0.0246, -0.6338,  0.5801],\n",
       "        [-0.3803,  0.0918,  0.1306,  0.1579],\n",
       "        [ 0.0296,  0.0229,  0.3387, -0.3913],\n",
       "        [ 0.2044, -0.2634,  0.0347,  0.0243],\n",
       "        [ 0.1093, -0.2110,  0.0636,  0.0382],\n",
       "        [ 0.0377,  0.0196, -0.5497,  0.4923],\n",
       "        [ 0.0397,  0.0398, -0.3492,  0.2696],\n",
       "        [ 0.0306,  0.0240,  0.2428, -0.2973],\n",
       "        [ 0.0317,  0.0203,  0.3541, -0.4061],\n",
       "        [ 0.0511,  0.0475, -0.3219,  0.2233],\n",
       "        [ 0.0340,  0.0219,  0.2366, -0.2926],\n",
       "        [ 0.0348,  0.0186,  0.3124, -0.3658],\n",
       "        [ 0.2373, -0.3006,  0.0398,  0.0235]], grad_fn=<ViewBackward0>)"
      ]
     },
     "execution_count": 105,
     "metadata": {},
     "output_type": "execute_result"
    }
   ],
   "source": [
    "ft_per_sample_grad"
   ]
  },
  {
   "cell_type": "code",
   "execution_count": null,
   "metadata": {},
   "outputs": [],
   "source": []
  },
  {
   "cell_type": "code",
   "execution_count": null,
   "metadata": {},
   "outputs": [],
   "source": [
    "import time\n",
    "from pathlib import Path\n",
    "\n",
    "import pandas as pd\n",
    "import srsly\n",
    "from datasets import load_from_disk\n",
    "from torch.utils.data import DataLoader\n",
    "from tqdm.auto import tqdm, trange\n",
    "from transformers import AutoModelForSequenceClassification, AutoTokenizer\n",
    "\n",
    "from src.data.active_datamodule import ActiveClassificationDataModule\n",
    "from src.data.datamodule import ClassificationDataModule\n",
    "from src.enums import SpecialKeys\n",
    "from src.estimator import Estimator\n",
    "from src.huggingface import (\n",
    "    EstimatorForSequenceClassification,\n",
    "    UncertaintyBasedStrategyForSequenceClassification,\n",
    ")"
   ]
  },
  {
   "cell_type": "code",
   "execution_count": null,
   "metadata": {},
   "outputs": [],
   "source": [
    "data_path = Path(\"../data/prepared/ag_news\")\n",
    "dataset_dict = load_from_disk(data_path)\n",
    "metadata = srsly.read_yaml(data_path / \"metadata.yaml\")"
   ]
  },
  {
   "cell_type": "code",
   "execution_count": null,
   "metadata": {},
   "outputs": [],
   "source": [
    "tokenizer = AutoTokenizer.from_pretrained(metadata[\"name_or_path\"])"
   ]
  },
  {
   "cell_type": "code",
   "execution_count": null,
   "metadata": {},
   "outputs": [],
   "source": [
    "datamodule = ClassificationDataModule.from_dataset_dict(\n",
    "    dataset_dict, tokenizer=tokenizer\n",
    ")"
   ]
  },
  {
   "cell_type": "code",
   "execution_count": null,
   "metadata": {},
   "outputs": [],
   "source": [
    "model = AutoModelForSequenceClassification.from_pretrained(\n",
    "    metadata[\"name_or_path\"],\n",
    "    num_labels=len(datamodule.labels),\n",
    "    id2label=datamodule.id2label,\n",
    "    label2id=datamodule.label2id,\n",
    ")"
   ]
  },
  {
   "cell_type": "code",
   "execution_count": null,
   "metadata": {},
   "outputs": [],
   "source": [
    "estimator = EstimatorForSequenceClassification(model)"
   ]
  },
  {
   "cell_type": "code",
   "execution_count": null,
   "metadata": {},
   "outputs": [],
   "source": [
    "out = estimator.fit(\n",
    "    train_loader=datamodule.train_loader(),\n",
    "    validation_loader=datamodule.validation_loader(),\n",
    "    limit_train_batches=10,\n",
    "    limit_validation_batches=10,\n",
    "    max_epochs=1,\n",
    ")"
   ]
  },
  {
   "cell_type": "code",
   "execution_count": null,
   "metadata": {},
   "outputs": [],
   "source": [
    "active_estimator = UncertaintyBasedStrategyForSequenceClassification(\n",
    "    model, score_fn=\"margin_confidence\"\n",
    ")"
   ]
  },
  {
   "cell_type": "code",
   "execution_count": null,
   "metadata": {},
   "outputs": [],
   "source": [
    "out = active_estimator.fit(\n",
    "    train_loader=datamodule.train_loader(),\n",
    "    validation_loader=datamodule.validation_loader(),\n",
    "    limit_train_batches=10,\n",
    "    limit_validation_batches=10,\n",
    ")"
   ]
  },
  {
   "cell_type": "code",
   "execution_count": null,
   "metadata": {},
   "outputs": [],
   "source": [
    "active_datamodule = ActiveClassificationDataModule.from_dataset_dict(\n",
    "    dataset_dict,\n",
    "    tokenizer=tokenizer,\n",
    ")"
   ]
  },
  {
   "cell_type": "code",
   "execution_count": null,
   "metadata": {},
   "outputs": [],
   "source": [
    "active_out = active_estimator.active_fit(\n",
    "    active_datamodule=active_datamodule,\n",
    "    max_rounds=3,\n",
    "    query_size=50,\n",
    "    validation_perc=0.3,\n",
    "    fit_kwargs={\n",
    "        \"max_epochs\": 3,\n",
    "        \"limit_train_batches\": 3,\n",
    "        \"limit_validation_batches\": 3,\n",
    "    },\n",
    "    test_kwargs={\"limit_batches\": 3},\n",
    "    pool_kwargs={\"limit_batches\": 3},\n",
    ")"
   ]
  },
  {
   "cell_type": "code",
   "execution_count": null,
   "metadata": {},
   "outputs": [],
   "source": [
    "active_datamodule.save_labelled_dataset(\"results\")"
   ]
  },
  {
   "cell_type": "code",
   "execution_count": null,
   "metadata": {},
   "outputs": [],
   "source": [
    "df = pd.read_parquet(\"results/labelled_dataset.parquet\")"
   ]
  },
  {
   "cell_type": "code",
   "execution_count": null,
   "metadata": {},
   "outputs": [],
   "source": [
    "df"
   ]
  },
  {
   "cell_type": "code",
   "execution_count": null,
   "metadata": {},
   "outputs": [],
   "source": []
  }
 ],
 "metadata": {
  "kernelspec": {
   "display_name": "allset",
   "language": "python",
   "name": "python3"
  },
  "language_info": {
   "codemirror_mode": {
    "name": "ipython",
    "version": 3
   },
   "file_extension": ".py",
   "mimetype": "text/x-python",
   "name": "python",
   "nbconvert_exporter": "python",
   "pygments_lexer": "ipython3",
   "version": "3.9.16"
  },
  "orig_nbformat": 4,
  "vscode": {
   "interpreter": {
    "hash": "e53e394f14fe34c9aaf890e1aef4b8dd57ac2a780afaa542e758e0a4ed635da0"
   }
  }
 },
 "nbformat": 4,
 "nbformat_minor": 2
}
