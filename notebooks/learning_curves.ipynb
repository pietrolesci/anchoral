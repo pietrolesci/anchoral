{
 "cells": [
  {
   "cell_type": "code",
   "execution_count": null,
   "metadata": {},
   "outputs": [],
   "source": [
    "from pathlib import Path\n",
    "\n",
    "import matplotlib.pyplot as plt\n",
    "import numpy as np\n",
    "import pandas as pd\n",
    "import seaborn as sns\n",
    "import srsly\n",
    "from datasets import load_from_disk\n",
    "from matplotlib import ticker\n",
    "from scipy.special import entr, softmax\n",
    "from sklearn.manifold import TSNE\n",
    "from tqdm.auto import tqdm"
   ]
  },
  {
   "cell_type": "code",
   "execution_count": null,
   "metadata": {},
   "outputs": [],
   "source": [
    "path_to_experiment = Path(\"../outputs/multirun/reinit_effect/patch\")\n",
    "path_to_experiment"
   ]
  },
  {
   "cell_type": "code",
   "execution_count": null,
   "metadata": {},
   "outputs": [],
   "source": [
    "data = []\n",
    "\n",
    "for dataset in path_to_experiment.iterdir():\n",
    "    for strategy in dataset.iterdir():\n",
    "        for reinit in strategy.iterdir():\n",
    "            for run in reinit.iterdir():\n",
    "                data_seed, model_seed = run.name.split(\"_\")\n",
    "                results = pd.DataFrame(\n",
    "                    srsly.read_jsonl(run / \"logs\" / \"test\" / \"epoch_level.jsonl\")\n",
    "                ).assign(\n",
    "                    data_seed=int(data_seed.split(\"=\")[1]),\n",
    "                    model_seed=int(model_seed.split(\"=\")[1]),\n",
    "                    dataset=dataset.name,\n",
    "                    strategy=strategy.name,\n",
    "                    reinit=eval(str(reinit.name).split(\"=\")[-1]),\n",
    "                )\n",
    "                data.append(results)"
   ]
  },
  {
   "cell_type": "code",
   "execution_count": null,
   "metadata": {},
   "outputs": [],
   "source": [
    "df = pd.concat(data)\n",
    "df"
   ]
  },
  {
   "cell_type": "code",
   "execution_count": null,
   "metadata": {},
   "outputs": [],
   "source": [
    "df.groupby([\"strategy\", \"reinit\", \"dataset\"])[[\"data_seed\", \"model_seed\"]].size()"
   ]
  },
  {
   "cell_type": "code",
   "execution_count": null,
   "metadata": {},
   "outputs": [],
   "source": [
    "df_agg = (\n",
    "    df.groupby([\"dataset\", \"strategy\", \"reinit\", \"round\"])[\n",
    "        [\"accuracy\", \"f1_macro\", \"precision_macro\", \"recall_macro\"]\n",
    "    ]\n",
    "    .agg([\"mean\", \"std\", \"min\", \"max\"])\n",
    "    .stack(0)\n",
    "    .reset_index()\n",
    "    .rename(columns={\"level_4\": \"metric\"})\n",
    ")"
   ]
  },
  {
   "cell_type": "code",
   "execution_count": null,
   "metadata": {},
   "outputs": [],
   "source": [
    "plot_data = df_agg.loc[\n",
    "    (df_agg[\"dataset\"] == \"imdb\") & (df_agg[\"metric\"] == \"f1_macro\")\n",
    "].rename(columns={\"reinit\": \"re-initialise\"})\n",
    "plot_data"
   ]
  },
  {
   "cell_type": "code",
   "execution_count": null,
   "metadata": {},
   "outputs": [],
   "source": [
    "sns.diverging_palette(250, 30, l=65, center=\"dark\", n=3)"
   ]
  },
  {
   "cell_type": "code",
   "execution_count": null,
   "metadata": {},
   "outputs": [],
   "source": [
    "def plot(plot_data, dpi, ymin, hline, title, metric):\n",
    "    # colors = sns.color_palette(\"Spectral\", n_colors=len(plot_data[\"strategy\"].unique()))\n",
    "    colors = sns.diverging_palette(\n",
    "        250, 30, l=65, center=\"dark\", n=plot_data[\"strategy\"].nunique()\n",
    "    )\n",
    "\n",
    "    # sns.set_style(\"white\", rc={\"xtick.bottom\" : True, \"ytick.left\" : True})\n",
    "    plt.style.use(\"bmh\")\n",
    "    sns.set_context(\"paper\")\n",
    "\n",
    "    # plot\n",
    "    fig, ax = plt.subplots()\n",
    "    fig.dpi = dpi\n",
    "\n",
    "    sns.lineplot(\n",
    "        data=plot_data,\n",
    "        x=\"round\",\n",
    "        y=\"mean\",\n",
    "        hue=\"strategy\",\n",
    "        style=\"re-initialise\",\n",
    "        palette=colors,\n",
    "        ax=ax,\n",
    "    )\n",
    "\n",
    "    # fill area between min and max for each group\n",
    "    for group1, group1_data in plot_data.groupby(\"strategy\"):\n",
    "        group_color = colors[plot_data[\"strategy\"].unique().tolist().index(group1)]\n",
    "\n",
    "        for _, group2_data in group1_data.groupby(\"re-initialise\"):\n",
    "            group2_data\n",
    "\n",
    "            ax.fill_between(\n",
    "                group2_data[\"round\"],\n",
    "                group2_data[\"min\"],\n",
    "                group2_data[\"max\"],\n",
    "                alpha=0.2,\n",
    "                color=group_color,\n",
    "            )\n",
    "\n",
    "    # add 90% line\n",
    "    ax.hlines(hline, *plt.xlim(), colors=\"red\")\n",
    "\n",
    "    ax.yaxis.set_minor_locator(ticker.MultipleLocator(0.01))\n",
    "    ax.xaxis.set_minor_locator(ticker.MultipleLocator(5))\n",
    "    ax.set_xlim(0, 100)\n",
    "    ax.set_ylim(ymin)\n",
    "\n",
    "    fig.suptitle(title)\n",
    "    ax.set_title(\"(25 instances per round, 10 assigned to validation)\", fontsize=10)\n",
    "    ax.set_ylabel(metric)\n",
    "    ax.set_xlabel(\"Labelling round\")\n",
    "    ax.legend(fontsize=10, bbox_to_anchor=(1, 1))\n",
    "\n",
    "    sns.despine()\n",
    "    plt.show()"
   ]
  },
  {
   "cell_type": "code",
   "execution_count": null,
   "metadata": {},
   "outputs": [],
   "source": [
    "for dataset in (\"agnews\", \"imdb\"):\n",
    "    if dataset == \"imdb\":\n",
    "        continue\n",
    "    for metric in (\"f1_macro\", \"accuracy\"):\n",
    "        plot_data = df_agg.loc[\n",
    "            (df_agg[\"dataset\"] == dataset) & (df_agg[\"metric\"] == metric)\n",
    "        ].rename(columns={\"reinit\": \"re-initialise\"})\n",
    "        plot(\n",
    "            plot_data,\n",
    "            800,\n",
    "            0.5 if dataset == \"imdb\" else 0.75,\n",
    "            0.85 if dataset == \"imdb\" else 0.9,\n",
    "            dataset.upper(),\n",
    "            metric.title().replace(\"_\", \"-\"),\n",
    "        )"
   ]
  }
 ],
 "metadata": {
  "kernelspec": {
   "display_name": "anchoral",
   "language": "python",
   "name": "python3"
  },
  "language_info": {
   "codemirror_mode": {
    "name": "ipython",
    "version": 3
   },
   "file_extension": ".py",
   "mimetype": "text/x-python",
   "name": "python",
   "nbconvert_exporter": "python",
   "pygments_lexer": "ipython3",
   "version": "3.9.16"
  },
  "orig_nbformat": 4,
  "vscode": {
   "interpreter": {
    "hash": "e53e394f14fe34c9aaf890e1aef4b8dd57ac2a780afaa542e758e0a4ed635da0"
   }
  }
 },
 "nbformat": 4,
 "nbformat_minor": 2
}
