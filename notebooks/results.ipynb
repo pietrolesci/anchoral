{
 "cells": [
  {
   "cell_type": "code",
   "execution_count": 1,
   "metadata": {},
   "outputs": [],
   "source": [
    "from pathlib import Path\n",
    "import matplotlib as mpl\n",
    "import matplotlib.pyplot as plt\n",
    "import pandas as pd\n",
    "import seaborn as sns\n",
    "from matplotlib import ticker\n",
    "import polars as pl\n",
    "import matplotlib.font_manager as fm\n",
    "import numpy as np\n",
    "import srsly\n",
    "from itertools import permutations, combinations, product"
   ]
  },
  {
   "cell_type": "code",
   "execution_count": 2,
   "metadata": {},
   "outputs": [],
   "source": [
    "path = Path(\"../outputs/multirun/seeds/\")"
   ]
  },
  {
   "cell_type": "code",
   "execution_count": 3,
   "metadata": {},
   "outputs": [],
   "source": [
    "list_df = []\n",
    "for p in path.rglob(\"*tb_logs.parquet\"):\n",
    "    strategy = p.parents[0].name.split(\"_\")[0]\n",
    "    dataset = p.parents[1].name\n",
    "    \n",
    "    meta = srsly.read_yaml(p.parent / \"hparams.yaml\")\n",
    "    \n",
    "    df = (\n",
    "        pl.scan_parquet(p)\n",
    "        .filter(pl.col(\"tag\") == \"test/f1_class1_vs_budget\")\n",
    "        .with_columns(\n",
    "            strategy=pl.lit(strategy), \n",
    "            dataset=pl.lit(dataset), \n",
    "            path=pl.lit(p.parent.name),\n",
    "            data_seed=meta[\"data\"][\"seed\"],\n",
    "            model_seed=meta[\"model\"][\"seed\"],\n",
    "            seed=pl.lit(f'{meta[\"data\"][\"seed\"]}-{meta[\"model\"][\"seed\"]}')\n",
    "        )\n",
    "    )\n",
    "\n",
    "    list_df.append(df)\n",
    "\n",
    "df = (\n",
    "    pl.concat(list_df)\n",
    "    # .groupby([\"strategy\", \"dataset\", \"step\"])\n",
    "    # .agg(mean=pl.col(\"value\").mean(), std=pl.col(\"value\").std(), n=pl.count(\"value\"))\n",
    "    .collect(streaming=True)\n",
    ")"
   ]
  },
  {
   "cell_type": "code",
   "execution_count": 4,
   "metadata": {},
   "outputs": [
    {
     "data": {
      "text/html": [
       "<div><style>\n",
       ".dataframe > thead > tr > th,\n",
       ".dataframe > tbody > tr > td {\n",
       "  text-align: right;\n",
       "}\n",
       "</style>\n",
       "<small>shape: (4, 2)</small><table border=\"1\" class=\"dataframe\"><thead><tr><th>strategy</th><th>counts</th></tr><tr><td>str</td><td>u32</td></tr></thead><tbody><tr><td>&quot;all&quot;</td><td>3838</td></tr><tr><td>&quot;random&quot;</td><td>4141</td></tr><tr><td>&quot;all-anchorssub…</td><td>2929</td></tr><tr><td>&quot;randomsubset&quot;</td><td>4242</td></tr></tbody></table></div>"
      ],
      "text/plain": [
       "shape: (4, 2)\n",
       "┌───────────────────────┬────────┐\n",
       "│ strategy              ┆ counts │\n",
       "│ ---                   ┆ ---    │\n",
       "│ str                   ┆ u32    │\n",
       "╞═══════════════════════╪════════╡\n",
       "│ all                   ┆ 3838   │\n",
       "│ random                ┆ 4141   │\n",
       "│ all-anchorssubset-min ┆ 2929   │\n",
       "│ randomsubset          ┆ 4242   │\n",
       "└───────────────────────┴────────┘"
      ]
     },
     "execution_count": 4,
     "metadata": {},
     "output_type": "execute_result"
    }
   ],
   "source": [
    "df[\"strategy\"].value_counts()"
   ]
  },
  {
   "cell_type": "code",
   "execution_count": 5,
   "metadata": {},
   "outputs": [
    {
     "data": {
      "text/html": [
       "<div><style>\n",
       ".dataframe > thead > tr > th,\n",
       ".dataframe > tbody > tr > td {\n",
       "  text-align: right;\n",
       "}\n",
       "</style>\n",
       "<small>shape: (20, 3)</small><table border=\"1\" class=\"dataframe\"><thead><tr><th>dataset</th><th>strategy</th><th>count</th></tr><tr><td>str</td><td>str</td><td>u32</td></tr></thead><tbody><tr><td>&quot;agnews&quot;</td><td>&quot;all&quot;</td><td>808</td></tr><tr><td>&quot;agnews&quot;</td><td>&quot;all-anchorssub…</td><td>909</td></tr><tr><td>&quot;agnews&quot;</td><td>&quot;random&quot;</td><td>909</td></tr><tr><td>&quot;agnews&quot;</td><td>&quot;randomsubset&quot;</td><td>909</td></tr><tr><td>&quot;amazon&quot;</td><td>&quot;all&quot;</td><td>1111</td></tr><tr><td>&quot;amazon&quot;</td><td>&quot;all-anchorssub…</td><td>404</td></tr><tr><td>&quot;amazon&quot;</td><td>&quot;random&quot;</td><td>505</td></tr><tr><td>&quot;amazon&quot;</td><td>&quot;randomsubset&quot;</td><td>606</td></tr><tr><td>&quot;eurlex&quot;</td><td>&quot;all&quot;</td><td>202</td></tr><tr><td>&quot;eurlex&quot;</td><td>&quot;all-anchorssub…</td><td>606</td></tr><tr><td>&quot;eurlex&quot;</td><td>&quot;random&quot;</td><td>909</td></tr><tr><td>&quot;eurlex&quot;</td><td>&quot;randomsubset&quot;</td><td>909</td></tr><tr><td>&quot;pubmed&quot;</td><td>&quot;all&quot;</td><td>808</td></tr><tr><td>&quot;pubmed&quot;</td><td>&quot;all-anchorssub…</td><td>808</td></tr><tr><td>&quot;pubmed&quot;</td><td>&quot;random&quot;</td><td>909</td></tr><tr><td>&quot;pubmed&quot;</td><td>&quot;randomsubset&quot;</td><td>909</td></tr><tr><td>&quot;wiki_toxic&quot;</td><td>&quot;all&quot;</td><td>909</td></tr><tr><td>&quot;wiki_toxic&quot;</td><td>&quot;all-anchorssub…</td><td>202</td></tr><tr><td>&quot;wiki_toxic&quot;</td><td>&quot;random&quot;</td><td>909</td></tr><tr><td>&quot;wiki_toxic&quot;</td><td>&quot;randomsubset&quot;</td><td>909</td></tr></tbody></table></div>"
      ],
      "text/plain": [
       "shape: (20, 3)\n",
       "┌────────────┬───────────────────────┬───────┐\n",
       "│ dataset    ┆ strategy              ┆ count │\n",
       "│ ---        ┆ ---                   ┆ ---   │\n",
       "│ str        ┆ str                   ┆ u32   │\n",
       "╞════════════╪═══════════════════════╪═══════╡\n",
       "│ agnews     ┆ all                   ┆ 808   │\n",
       "│ agnews     ┆ all-anchorssubset-min ┆ 909   │\n",
       "│ agnews     ┆ random                ┆ 909   │\n",
       "│ agnews     ┆ randomsubset          ┆ 909   │\n",
       "│ …          ┆ …                     ┆ …     │\n",
       "│ wiki_toxic ┆ all                   ┆ 909   │\n",
       "│ wiki_toxic ┆ all-anchorssubset-min ┆ 202   │\n",
       "│ wiki_toxic ┆ random                ┆ 909   │\n",
       "│ wiki_toxic ┆ randomsubset          ┆ 909   │\n",
       "└────────────┴───────────────────────┴───────┘"
      ]
     },
     "execution_count": 5,
     "metadata": {},
     "output_type": "execute_result"
    }
   ],
   "source": [
    "df.groupby([\"dataset\", \"strategy\"]).count().sort([\"dataset\", \"strategy\"])"
   ]
  },
  {
   "cell_type": "code",
   "execution_count": 9,
   "metadata": {},
   "outputs": [
    {
     "data": {
      "text/html": [
       "<div><style>\n",
       ".dataframe > thead > tr > th,\n",
       ".dataframe > tbody > tr > td {\n",
       "  text-align: right;\n",
       "}\n",
       "</style>\n",
       "<small>shape: (9, 3)</small><table border=\"1\" class=\"dataframe\"><thead><tr><th>dataset</th><th>strategy</th><th>path</th></tr><tr><td>str</td><td>str</td><td>u32</td></tr></thead><tbody><tr><td>&quot;eurlex&quot;</td><td>&quot;all&quot;</td><td>2</td></tr><tr><td>&quot;agnews&quot;</td><td>&quot;all&quot;</td><td>8</td></tr><tr><td>&quot;pubmed&quot;</td><td>&quot;all&quot;</td><td>8</td></tr><tr><td>&quot;pubmed&quot;</td><td>&quot;all-anchorssub…</td><td>8</td></tr><tr><td>&quot;wiki_toxic&quot;</td><td>&quot;all-anchorssub…</td><td>2</td></tr><tr><td>&quot;amazon&quot;</td><td>&quot;all-anchorssub…</td><td>4</td></tr><tr><td>&quot;eurlex&quot;</td><td>&quot;all-anchorssub…</td><td>6</td></tr><tr><td>&quot;amazon&quot;</td><td>&quot;random&quot;</td><td>5</td></tr><tr><td>&quot;amazon&quot;</td><td>&quot;randomsubset&quot;</td><td>6</td></tr></tbody></table></div>"
      ],
      "text/plain": [
       "shape: (9, 3)\n",
       "┌────────────┬───────────────────────┬──────┐\n",
       "│ dataset    ┆ strategy              ┆ path │\n",
       "│ ---        ┆ ---                   ┆ ---  │\n",
       "│ str        ┆ str                   ┆ u32  │\n",
       "╞════════════╪═══════════════════════╪══════╡\n",
       "│ eurlex     ┆ all                   ┆ 2    │\n",
       "│ agnews     ┆ all                   ┆ 8    │\n",
       "│ pubmed     ┆ all                   ┆ 8    │\n",
       "│ pubmed     ┆ all-anchorssubset-min ┆ 8    │\n",
       "│ wiki_toxic ┆ all-anchorssubset-min ┆ 2    │\n",
       "│ amazon     ┆ all-anchorssubset-min ┆ 4    │\n",
       "│ eurlex     ┆ all-anchorssubset-min ┆ 6    │\n",
       "│ amazon     ┆ random                ┆ 5    │\n",
       "│ amazon     ┆ randomsubset          ┆ 6    │\n",
       "└────────────┴───────────────────────┴──────┘"
      ]
     },
     "execution_count": 9,
     "metadata": {},
     "output_type": "execute_result"
    }
   ],
   "source": [
    "df.groupby([\"dataset\", \"strategy\"]).agg(pl.col(\"path\").n_unique()).sort([\"strategy\"]).filter(pl.col(\"path\") < 9)"
   ]
  },
  {
   "attachments": {},
   "cell_type": "markdown",
   "metadata": {},
   "source": [
    "- wiki_toxic random, all\n"
   ]
  },
  {
   "cell_type": "code",
   "execution_count": 15,
   "metadata": {},
   "outputs": [
    {
     "data": {
      "text/plain": [
       "['randomsubset', 'random', 'all-anchorssubset-min', 'all']"
      ]
     },
     "execution_count": 15,
     "metadata": {},
     "output_type": "execute_result"
    }
   ],
   "source": [
    "df[\"strategy\"].unique().to_list()"
   ]
  },
  {
   "cell_type": "code",
   "execution_count": 23,
   "metadata": {},
   "outputs": [
    {
     "data": {
      "text/plain": [
       "{'0-1994', '42-1994', '42-42'}"
      ]
     },
     "execution_count": 23,
     "metadata": {},
     "output_type": "execute_result"
    }
   ],
   "source": [
    "done = set(\n",
    "    df\n",
    "    .filter(\n",
    "        (pl.col(\"dataset\") == \"amazon\")\n",
    "        & (pl.col(\"strategy\") == \"randomsubset\")\n",
    "    )[\"seed\"].unique()\n",
    ")\n",
    "total = set(f\"{i}-{j}\" for i, j in product([42, 0, 1994], [42, 0, 1994]))\n",
    "total.difference(done)"
   ]
  },
  {
   "cell_type": "code",
   "execution_count": null,
   "metadata": {},
   "outputs": [],
   "source": []
  },
  {
   "cell_type": "code",
   "execution_count": null,
   "metadata": {},
   "outputs": [],
   "source": [
    "mapper = {\n",
    "    \"random\": \"Random\",\n",
    "    \"randomsubset\": \"Random Subset\",\n",
    "    \"all\": \"AnchorAL\",\n",
    "    \"all-anchorssubset-min\": \"SEALS\",\n",
    "}\n",
    "df = df.with_columns(pl.col(\"strategy\").map_dict(mapper).alias(\"strategy_name\"))"
   ]
  },
  {
   "cell_type": "code",
   "execution_count": null,
   "metadata": {},
   "outputs": [],
   "source": [
    "mpl.rcParams[\"font.family\"] = \"monospace\"  # \"DejaVu Sans Mono\"\n",
    "plt.rcParams[\"font.size\"] = 14\n",
    "plt.rcParams[\"axes.linewidth\"] = 2\n",
    "plt.style.use(\"bmh\")\n",
    "sns.set_context(\"paper\")\n",
    "\n",
    "# sorted(matplotlib.font_manager.get_font_names())"
   ]
  },
  {
   "cell_type": "code",
   "execution_count": null,
   "metadata": {},
   "outputs": [],
   "source": [
    "plot_data = df.filter(\n",
    "    (pl.col(\"strategy_name\").is_in(mapper.values()))\n",
    "    # & (pl.col(\"strategy\") != \"random\")\n",
    ")    \n",
    "\n",
    "strategies = sorted(plot_data[\"strategy_name\"].unique())\n",
    "\n",
    "# palette = sns.diverging_palette(250, 30, l=65, center=\"dark\", n=plot_data[\"strategy_name\"].n_unique())\n",
    "# palette\n",
    "\n",
    "palette = dict(zip(strategies, sns.color_palette(\"Set1\", n_colors=len(strategies))))\n"
   ]
  },
  {
   "cell_type": "code",
   "execution_count": null,
   "metadata": {},
   "outputs": [],
   "source": [
    "dataset = \"amazon\"\n",
    "\n",
    "fig, ax = plt.subplots()\n",
    "\n",
    "# fig.dpi = dpi\n",
    "\n",
    "sns.lineplot(\n",
    "    x=\"step\",\n",
    "    y=\"value\",\n",
    "    data=plot_data.filter(pl.col(\"dataset\") == dataset),\n",
    "    errorbar=(\"se\", 2),\n",
    "    ax=ax,\n",
    "    hue=\"strategy_name\",\n",
    "    palette=palette,\n",
    ")\n",
    "\n",
    "ax.xaxis.set_minor_locator(ticker.MultipleLocator(100))\n",
    "ax.yaxis.set_minor_locator(ticker.MultipleLocator(0.1))\n",
    "\n",
    "ax.set_xlim(90, 1000)\n",
    "ax.set_ylim(0, 0.8)\n",
    "\n",
    "ax.set_xlabel(\"Budget\")\n",
    "ax.set_ylabel(\"F1 Minority Class\")\n",
    "\n",
    "# fig.suptitle(dataset.title())\n",
    "ax.set_title(dataset.title().replace(\"_\", \"\"), fontsize=12)\n",
    "# ax.set_title(f\"Average over 9 runs\", fontsize=10)\n",
    "\n",
    "# ax.legend(fontsize=10, bbox_to_anchor=(1, 1))\n",
    "ax.legend(fontsize=10)\n",
    "\n",
    "sns.despine()\n",
    "plt.show()"
   ]
  },
  {
   "cell_type": "code",
   "execution_count": null,
   "metadata": {},
   "outputs": [],
   "source": [
    "pdf = plot_data.to_pandas()\n",
    "\n",
    "ymax = 2600 \n",
    "\n",
    "plt.style.use(\"bmh\")\n",
    "sns.set_context(\"paper\")\n",
    "\n",
    "g = sns.FacetGrid(\n",
    "    pdf, \n",
    "    col=\"dataset\",  \n",
    "    col_wrap=3,\n",
    "    sharex=True,\n",
    "    legend_out=True,\n",
    "    # palette=palette,\n",
    "    despine=True,\n",
    "    xlim=(0, ymax), \n",
    "    ylim=(-.001,None),\n",
    "    sharey=False,\n",
    "    # hue_order=strategies,)\n",
    ")\n",
    "\n",
    "g.tight_layout()\n",
    "\n",
    "g.map_dataframe(\n",
    "    sns.lineplot,\n",
    "    x=\"step\",\n",
    "    y=\"value\",\n",
    "    data=pdf,\n",
    "    errorbar=(\"se\", 2),\n",
    "    # ax=ax,\n",
    "    hue=\"strategy_name\",\n",
    "    palette=palette,\n",
    "    # style=\"strategy_name\",\n",
    ")\n",
    "\n",
    "g.axes_dict[\"agnews\"].set_ylim(-.001, 0.7 if ymax == 2600 else 0.6)\n",
    "g.axes_dict[\"pubmed\"].set_ylim(-.001, 0.7)\n",
    "g.axes_dict[\"eurlex\"].set_ylim(-.001, 0.7 if ymax == 2600 else 0.5)\n",
    "g.axes_dict[\"wiki_toxic\"].set_ylim(-.001, 0.8)\n",
    "g.axes_dict[\"amazon\"].set_ylim(-.001, 0.9)\n",
    "\n",
    "g.set_axis_labels(\"\", \"\")\n",
    "g.set_titles(col_template=\"{col_name}\",)\n",
    "\n",
    "g.add_legend(label_order=strategies, bbox_to_anchor=(.82, .25))\n",
    "# g.despine()\n",
    "plt.savefig(fname=\"plots.png\", dpi=1000, transparent=True)\n",
    "plt.show()"
   ]
  },
  {
   "cell_type": "code",
   "execution_count": null,
   "metadata": {},
   "outputs": [],
   "source": []
  },
  {
   "cell_type": "code",
   "execution_count": null,
   "metadata": {},
   "outputs": [],
   "source": []
  },
  {
   "cell_type": "code",
   "execution_count": null,
   "metadata": {},
   "outputs": [],
   "source": [
    "fig, (ax1, ax2) = plt.subplots(2, 1, sharex=True)\n",
    "fig.subplots_adjust(hspace=0.05)  # adjust space between axes\n",
    "\n",
    "# plot the same data on both axes\n",
    "sns.lineplot(\n",
    "    x=\"step\",\n",
    "    y=\"value\",\n",
    "    data=plot_data,\n",
    "    errorbar=(\"se\", 2),\n",
    "    ax=ax1,\n",
    "    hue=\"strategy\",\n",
    "    legend=False,\n",
    ")\n",
    "sns.lineplot(\n",
    "    x=\"step\",\n",
    "    y=\"value\",\n",
    "    data=plot_data,\n",
    "    errorbar=(\"se\", 2),\n",
    "    ax=ax2,\n",
    "    hue=\"strategy\",\n",
    "    legend=False,\n",
    ")\n",
    "\n",
    "# zoom-in / limit the view to different portions of the data\n",
    "ax1.set_ylim(.41, .65)  # outliers only\n",
    "ax2.set_ylim(0, .21)  # most of the data\n",
    "\n",
    "# hide the spines between ax and ax2\n",
    "ax1.spines.bottom.set_visible(False)\n",
    "ax2.spines.top.set_visible(False)\n",
    "ax1.xaxis.tick_top()\n",
    "ax1.tick_params(labeltop=False)  # don't put tick labels at the top\n",
    "ax2.xaxis.tick_bottom()\n",
    "\n",
    "# Now, let's turn towards the cut-out slanted lines.\n",
    "# We create line objects in axes coordinates, in which (0,0), (0,1),\n",
    "# (1,0), and (1,1) are the four corners of the axes.\n",
    "# The slanted lines themselves are markers at those locations, such that the\n",
    "# lines keep their angle and position, independent of the axes size or scale\n",
    "# Finally, we need to disable clipping.\n",
    "\n",
    "d = .5  # proportion of vertical to horizontal extent of the slanted line\n",
    "kwargs = dict(\n",
    "    marker=[(-1, -d), (1, d)], \n",
    "    markersize=12,\n",
    "    linestyle=\"none\", \n",
    "    color='k', \n",
    "    mec='k', \n",
    "    mew=1, \n",
    "    clip_on=False,\n",
    ")\n",
    "ax1.plot([0, 1], [0, 0], transform=ax1.transAxes, **kwargs)\n",
    "ax2.plot([0, 1], [1, 1], transform=ax2.transAxes, **kwargs)\n",
    "\n",
    "\n",
    "plt.show()"
   ]
  },
  {
   "cell_type": "code",
   "execution_count": null,
   "metadata": {},
   "outputs": [],
   "source": [
    "fig = plt.figure(layout=\"constrained\")\n",
    "axes = fig.subplot_mosaic(\"AA;B.\")\n",
    "sns.lineplot(\n",
    "    x=\"step\",\n",
    "    y=\"value\",\n",
    "    data=plot_data,\n",
    "    errorbar=(\"se\", 2),\n",
    "    ax=axes[\"A\"],\n",
    "    hue=\"strategy\",\n",
    "    legend=False,\n",
    ")\n",
    "sns.lineplot(\n",
    "    x=\"step\",\n",
    "    y=\"value\",\n",
    "    data=plot_data,\n",
    "    errorbar=(\"se\", 2),\n",
    "    ax=axes[\"B\"],\n",
    "    hue=\"strategy\",\n",
    "    legend=False,\n",
    ")\n",
    "axes[\"A\"].set_ylim(0, .7)\n",
    "axes[\"B\"].set_ylim(0, .62)\n",
    "axes[\"A\"].set_xlim(200, 2600)\n",
    "axes[\"B\"].set_xlim(200, 800)\n",
    "# axes[\"B\"].legend(fontsize=10, bbox_to_anchor=(0.5, 0.5))\n",
    "plt.show()\n"
   ]
  },
  {
   "cell_type": "code",
   "execution_count": null,
   "metadata": {},
   "outputs": [],
   "source": [
    "dataset = \"pubmed\"\n",
    "plot_data = df.filter(pl.col(\"dataset\") == dataset)\n",
    "\n",
    "fig, ax = plt.figure().subplot_mosaic(\"AA;XB\")\n",
    "# fig.dpi = dpi\n",
    "\n",
    "sns.lineplot(\n",
    "    x=\"step\",\n",
    "    y=\"value\",\n",
    "    data=plot_data,\n",
    "    errorbar=(\"se\", 2),\n",
    "    ax=axes[\"A\"],\n",
    "    hue=\"strategy\",\n",
    ")\n",
    "\n",
    "mpl.transforms.TransformedBbox\n",
    "\n",
    "ax.xaxis.set_minor_locator(ticker.MultipleLocator(100))\n",
    "ax.yaxis.set_minor_locator(ticker.MultipleLocator(0.1))\n",
    "\n",
    "ax.set_xlim(100, 2600)\n",
    "ax.set_ylim(0)\n",
    "\n",
    "ax.set_xlabel(\"Budget\")\n",
    "ax.set_ylabel(\"F1 (Minority Class)\")\n",
    "\n",
    "# fig.suptitle(dataset.title())\n",
    "ax.set_title(dataset.title(), fontsize=12)\n",
    "# ax.set_title(f\"Average over 9 runs\", fontsize=10)\n",
    "\n",
    "ax.legend(fontsize=10, bbox_to_anchor=(1, 1))\n",
    "\n",
    "sns.despine()\n",
    "plt.show()\n",
    "\n"
   ]
  },
  {
   "cell_type": "code",
   "execution_count": null,
   "metadata": {},
   "outputs": [],
   "source": [
    "dataset = \"agnews\"\n",
    "plot_data = df.filter(pl.col(\"dataset\") == dataset)\n",
    "\n",
    "fig, ax = plt.subplots(nrows=2)\n",
    "# fig.dpi = dpi\n",
    "\n",
    "sns.lineplot(\n",
    "    x=\"step\",\n",
    "    y=\"value\",\n",
    "    data=plot_data,\n",
    "    errorbar=(\"se\", 2),\n",
    "    ax=ax,\n",
    "    hue=\"strategy\",\n",
    ")\n",
    "\n",
    "ax.xaxis.set_minor_locator(ticker.MultipleLocator(100))\n",
    "ax.yaxis.set_minor_locator(ticker.MultipleLocator(0.1))\n",
    "\n",
    "ax.set_xlim(100, 2600)\n",
    "ax.set_ylim(0)\n",
    "\n",
    "ax.set_xlabel(\"Budget\")\n",
    "ax.set_ylabel(\"F1 (Minority Class)\")\n",
    "\n",
    "# fig.suptitle(dataset.title())\n",
    "ax.set_title(dataset.title(), fontsize=12)\n",
    "# ax.set_title(f\"Average over 9 runs\", fontsize=10)\n",
    "\n",
    "ax.legend(fontsize=10, bbox_to_anchor=(1, 1))\n",
    "\n",
    "sns.despine()\n",
    "plt.show()\n",
    "\n"
   ]
  },
  {
   "cell_type": "code",
   "execution_count": null,
   "metadata": {},
   "outputs": [],
   "source": []
  },
  {
   "cell_type": "code",
   "execution_count": null,
   "metadata": {},
   "outputs": [],
   "source": []
  },
  {
   "cell_type": "code",
   "execution_count": null,
   "metadata": {},
   "outputs": [],
   "source": []
  },
  {
   "cell_type": "code",
   "execution_count": null,
   "metadata": {},
   "outputs": [],
   "source": []
  },
  {
   "cell_type": "code",
   "execution_count": null,
   "metadata": {},
   "outputs": [],
   "source": []
  }
 ],
 "metadata": {
  "kernelspec": {
   "display_name": "igal",
   "language": "python",
   "name": "python3"
  },
  "language_info": {
   "codemirror_mode": {
    "name": "ipython",
    "version": 3
   },
   "file_extension": ".py",
   "mimetype": "text/x-python",
   "name": "python",
   "nbconvert_exporter": "python",
   "pygments_lexer": "ipython3",
   "version": "3.9.16"
  },
  "orig_nbformat": 4
 },
 "nbformat": 4,
 "nbformat_minor": 2
}
