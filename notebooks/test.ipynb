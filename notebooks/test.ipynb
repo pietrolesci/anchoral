{
 "cells": [
  {
   "cell_type": "code",
   "execution_count": 1,
   "metadata": {},
   "outputs": [],
   "source": [
    "%load_ext autoreload\n",
    "%autoreload 2"
   ]
  },
  {
   "cell_type": "code",
   "execution_count": 2,
   "metadata": {},
   "outputs": [],
   "source": [
    "from pathlib import Path\n",
    "\n",
    "import pandas as pd\n",
    "import seaborn as sns\n",
    "import srsly\n",
    "from datasets import load_from_disk\n",
    "from scipy.special import entr, softmax\n",
    "from transformers import AutoModelForSequenceClassification, AutoTokenizer\n",
    "\n",
    "from src.data import ClassificationActiveDataModule, ClassificationDataModule\n",
    "from src.estimators import (\n",
    "    EstimatorForSequenceClassification,\n",
    "    RandomStrategyForSequenceClassification,\n",
    "    # UncertaintyBasedStrategyForSequenceClassification,\n",
    "    # SEALSRandomStrategyForSequenceClassification,\n",
    ")\n",
    "from src.energizer.utilities import local_seed\n",
    "from lightning.fabric.loggers import TensorBoardLogger\n",
    "from copy import deepcopy\n",
    "\n",
    "pd.set_option(\"display.max_colwidth\", None)"
   ]
  },
  {
   "cell_type": "code",
   "execution_count": 3,
   "metadata": {},
   "outputs": [],
   "source": [
    "data_path = Path(\"../data/prepared/agnews_bert_tiny/\")"
   ]
  },
  {
   "cell_type": "code",
   "execution_count": 4,
   "metadata": {},
   "outputs": [],
   "source": [
    "metadata = srsly.read_yaml(data_path / \"metadata.yaml\")\n",
    "tokenizer = AutoTokenizer.from_pretrained(metadata[\"name_or_path\"])"
   ]
  },
  {
   "attachments": {},
   "cell_type": "markdown",
   "metadata": {},
   "source": [
    "---\n",
    "### Train"
   ]
  },
  {
   "cell_type": "code",
   "execution_count": null,
   "metadata": {},
   "outputs": [],
   "source": [
    "dataset_dict = load_from_disk(data_path)\n",
    "train_val = dataset_dict[\"train\"].train_test_split(0.3)\n",
    "dataset_dict[\"train\"] = train_val[\"train\"]\n",
    "dataset_dict[\"validation\"] = train_val[\"test\"]\n",
    "\n",
    "datamodule = ClassificationDataModule.from_dataset_dict(\n",
    "    dataset_dict, tokenizer=tokenizer, batch_size=64, eval_batch_size=256\n",
    ")"
   ]
  },
  {
   "cell_type": "code",
   "execution_count": null,
   "metadata": {},
   "outputs": [],
   "source": [
    "model = AutoModelForSequenceClassification.from_pretrained(\n",
    "    metadata[\"name_or_path\"],\n",
    "    id2label=datamodule.id2label,\n",
    "    label2id=datamodule.label2id,\n",
    "    num_labels=len(datamodule.labels),\n",
    ")"
   ]
  },
  {
   "cell_type": "code",
   "execution_count": null,
   "metadata": {},
   "outputs": [],
   "source": [
    "estimator = EstimatorForSequenceClassification(model, accelerator=\"cuda\")"
   ]
  },
  {
   "cell_type": "code",
   "execution_count": null,
   "metadata": {},
   "outputs": [],
   "source": [
    "out = estimator.fit(\n",
    "    train_loader=datamodule.train_loader(),\n",
    "    validation_loader=datamodule.validation_loader(),\n",
    "    limit_train_batches=10,\n",
    "    limit_validation_batches=30,\n",
    "    validation_interval=1,\n",
    ")"
   ]
  },
  {
   "cell_type": "code",
   "execution_count": null,
   "metadata": {},
   "outputs": [],
   "source": [
    "test_out = estimator.test(\n",
    "    datamodule.test_loader(),\n",
    "    limit_batches=11,\n",
    "    # progress_bar=False,\n",
    ")"
   ]
  },
  {
   "attachments": {},
   "cell_type": "markdown",
   "metadata": {},
   "source": [
    "---\n",
    "### Active train"
   ]
  },
  {
   "cell_type": "code",
   "execution_count": 5,
   "metadata": {},
   "outputs": [
    {
     "data": {
      "text/plain": [
       "DatasetDict({\n",
       "    train: Dataset({\n",
       "        features: ['unique_id', 'labels', 'text', 'input_ids', 'token_type_ids', 'attention_mask'],\n",
       "        num_rows: 120000\n",
       "    })\n",
       "    test: Dataset({\n",
       "        features: ['unique_id', 'labels', 'text', 'input_ids', 'token_type_ids', 'attention_mask'],\n",
       "        num_rows: 7600\n",
       "    })\n",
       "})"
      ]
     },
     "execution_count": 5,
     "metadata": {},
     "output_type": "execute_result"
    }
   ],
   "source": [
    "dataset_dict = load_from_disk(data_path)\n",
    "datamodule = ClassificationDataModule.from_dataset_dict(\n",
    "    dataset_dict, tokenizer=tokenizer, batch_size=64, eval_batch_size=256\n",
    ")\n",
    "dataset_dict"
   ]
  },
  {
   "cell_type": "code",
   "execution_count": 6,
   "metadata": {},
   "outputs": [
    {
     "name": "stderr",
     "output_type": "stream",
     "text": [
      "Some weights of the model checkpoint at google/bert_uncased_L-2_H-128_A-2 were not used when initializing BertForSequenceClassification: ['cls.predictions.transform.LayerNorm.bias', 'cls.predictions.bias', 'cls.predictions.transform.dense.weight', 'cls.seq_relationship.bias', 'cls.predictions.transform.dense.bias', 'cls.predictions.decoder.bias', 'cls.seq_relationship.weight', 'cls.predictions.decoder.weight', 'cls.predictions.transform.LayerNorm.weight']\n",
      "- This IS expected if you are initializing BertForSequenceClassification from the checkpoint of a model trained on another task or with another architecture (e.g. initializing a BertForSequenceClassification model from a BertForPreTraining model).\n",
      "- This IS NOT expected if you are initializing BertForSequenceClassification from the checkpoint of a model that you expect to be exactly identical (initializing a BertForSequenceClassification model from a BertForSequenceClassification model).\n",
      "Some weights of BertForSequenceClassification were not initialized from the model checkpoint at google/bert_uncased_L-2_H-128_A-2 and are newly initialized: ['classifier.bias', 'classifier.weight']\n",
      "You should probably TRAIN this model on a down-stream task to be able to use it for predictions and inference.\n"
     ]
    }
   ],
   "source": [
    "with local_seed(42):\n",
    "    model = AutoModelForSequenceClassification.from_pretrained(\n",
    "        metadata[\"name_or_path\"],\n",
    "        id2label=datamodule.id2label,\n",
    "        label2id=datamodule.label2id,\n",
    "        num_labels=len(datamodule.labels),\n",
    "    )"
   ]
  },
  {
   "cell_type": "code",
   "execution_count": 7,
   "metadata": {},
   "outputs": [
    {
     "data": {
      "application/vnd.jupyter.widget-view+json": {
       "model_id": "bb110ec4b7164fd0a8cb523dc6a19fb5",
       "version_major": 2,
       "version_minor": 0
      },
      "text/plain": [
       "Completed rounds:   0%|          | 0/2 [00:00<?, ?it/s]"
      ]
     },
     "metadata": {},
     "output_type": "display_data"
    },
    {
     "data": {
      "application/vnd.jupyter.widget-view+json": {
       "model_id": "0b3ac65624574bc7b811c34f7df412ef",
       "version_major": 2,
       "version_minor": 0
      },
      "text/plain": [
       "Completed epochs: 0it [00:00, ?it/s]"
      ]
     },
     "metadata": {},
     "output_type": "display_data"
    },
    {
     "data": {
      "application/vnd.jupyter.widget-view+json": {
       "model_id": "8388a77a387c43eea0fd4b7ee9e28723",
       "version_major": 2,
       "version_minor": 0
      },
      "text/plain": [
       "Epoch 0: 0it [00:00, ?it/s]"
      ]
     },
     "metadata": {},
     "output_type": "display_data"
    },
    {
     "data": {
      "application/vnd.jupyter.widget-view+json": {
       "model_id": "ded798d71af04fd896865c6e146a5d8c",
       "version_major": 2,
       "version_minor": 0
      },
      "text/plain": [
       "Validation: 0it [00:00, ?it/s]"
      ]
     },
     "metadata": {},
     "output_type": "display_data"
    },
    {
     "data": {
      "application/vnd.jupyter.widget-view+json": {
       "model_id": "57d78de5d4ec40dd92a284e456e272bd",
       "version_major": 2,
       "version_minor": 0
      },
      "text/plain": [
       "Test: 0it [00:00, ?it/s]"
      ]
     },
     "metadata": {},
     "output_type": "display_data"
    },
    {
     "data": {
      "application/vnd.jupyter.widget-view+json": {
       "model_id": "5d2caffa8701405ab9add897cc8f871b",
       "version_major": 2,
       "version_minor": 0
      },
      "text/plain": [
       "Completed rounds:   0%|          | 0/2 [00:00<?, ?it/s]"
      ]
     },
     "metadata": {},
     "output_type": "display_data"
    },
    {
     "data": {
      "application/vnd.jupyter.widget-view+json": {
       "model_id": "05540fe1f6334180a6579b57320d5a8e",
       "version_major": 2,
       "version_minor": 0
      },
      "text/plain": [
       "Completed epochs: 0it [00:00, ?it/s]"
      ]
     },
     "metadata": {},
     "output_type": "display_data"
    },
    {
     "data": {
      "application/vnd.jupyter.widget-view+json": {
       "model_id": "fae1b7be914a427597d05565ec3d53d0",
       "version_major": 2,
       "version_minor": 0
      },
      "text/plain": [
       "Epoch 0: 0it [00:00, ?it/s]"
      ]
     },
     "metadata": {},
     "output_type": "display_data"
    },
    {
     "data": {
      "application/vnd.jupyter.widget-view+json": {
       "model_id": "ff5b1f475828415082c6d6f314ea8be3",
       "version_major": 2,
       "version_minor": 0
      },
      "text/plain": [
       "Validation: 0it [00:00, ?it/s]"
      ]
     },
     "metadata": {},
     "output_type": "display_data"
    },
    {
     "data": {
      "application/vnd.jupyter.widget-view+json": {
       "model_id": "e915624c66c04193a94547a539ef4bee",
       "version_major": 2,
       "version_minor": 0
      },
      "text/plain": [
       "Test: 0it [00:00, ?it/s]"
      ]
     },
     "metadata": {},
     "output_type": "display_data"
    },
    {
     "data": {
      "application/vnd.jupyter.widget-view+json": {
       "model_id": "82dbf166480d4cf98680e96dd5ecddd1",
       "version_major": 2,
       "version_minor": 0
      },
      "text/plain": [
       "Completed rounds:   0%|          | 0/2 [00:00<?, ?it/s]"
      ]
     },
     "metadata": {},
     "output_type": "display_data"
    },
    {
     "data": {
      "application/vnd.jupyter.widget-view+json": {
       "model_id": "f0445136bfb840e180056e0760287316",
       "version_major": 2,
       "version_minor": 0
      },
      "text/plain": [
       "Completed epochs: 0it [00:00, ?it/s]"
      ]
     },
     "metadata": {},
     "output_type": "display_data"
    },
    {
     "data": {
      "application/vnd.jupyter.widget-view+json": {
       "model_id": "f086eef9cc914e0da5733be88d48aee2",
       "version_major": 2,
       "version_minor": 0
      },
      "text/plain": [
       "Epoch 0: 0it [00:00, ?it/s]"
      ]
     },
     "metadata": {},
     "output_type": "display_data"
    },
    {
     "data": {
      "application/vnd.jupyter.widget-view+json": {
       "model_id": "9aba42a5affb4cc3b2124afe8d1f0dce",
       "version_major": 2,
       "version_minor": 0
      },
      "text/plain": [
       "Validation: 0it [00:00, ?it/s]"
      ]
     },
     "metadata": {},
     "output_type": "display_data"
    },
    {
     "data": {
      "application/vnd.jupyter.widget-view+json": {
       "model_id": "24b06a15025a43aba49cecf6706e2c57",
       "version_major": 2,
       "version_minor": 0
      },
      "text/plain": [
       "Test: 0it [00:00, ?it/s]"
      ]
     },
     "metadata": {},
     "output_type": "display_data"
    }
   ],
   "source": [
    "list_dfs = []\n",
    "\n",
    "for _ in range(3):\n",
    "    active_datamodule = ClassificationActiveDataModule.from_dataset_dict(\n",
    "        dataset_dict, tokenizer, seed=42, batch_size=64, eval_batch_size=256\n",
    "    )\n",
    "\n",
    "\n",
    "    active_estimator = RandomStrategyForSequenceClassification(\n",
    "        model=deepcopy(model), \n",
    "        seed=42, \n",
    "        loggers=[TensorBoardLogger(\"logs\")],\n",
    "        deterministic=True,\n",
    "    )\n",
    "\n",
    "    active_estimator.active_fit(\n",
    "        active_datamodule,\n",
    "        max_rounds=2,\n",
    "        # max_budget=200,\n",
    "        # limit_train_batches=20,\n",
    "        # limit_validation_batches=22,\n",
    "        # limit_test_batches=21,\n",
    "        # limit_pool_batches=30,\n",
    "        # validation_perc=0.4,\n",
    "        # validation_interval=1,\n",
    "        # validation_sampling=\"stratified\",\n",
    "        query_size=25,\n",
    "    )\n",
    "\n",
    "    list_dfs.append(active_datamodule.get_labelled_dataset())\n",
    "    # from copy import deepcopy\n",
    "    # tb_logger2 = TensorBoardLogger(\"logs2\")\n",
    "    # active_estimator2 = RandomStrategyForSequenceClassification(\n",
    "    #     model=deepcopy(model), seed=42, loggers=[tb_logger2],\n",
    "    # )"
   ]
  },
  {
   "cell_type": "code",
   "execution_count": null,
   "metadata": {},
   "outputs": [],
   "source": [
    "(\n",
    "    list_dfs[1].equals(list_dfs[2]), \n",
    "    list_dfs[1].equals(list_dfs[0]), \n",
    "    list_dfs[0].equals(list_dfs[2]),\n",
    ")"
   ]
  },
  {
   "cell_type": "code",
   "execution_count": null,
   "metadata": {},
   "outputs": [],
   "source": []
  },
  {
   "cell_type": "code",
   "execution_count": null,
   "metadata": {},
   "outputs": [],
   "source": [
    "active_estimator.active_fit(\n",
    "    active_datamodule,\n",
    "    max_rounds=2,\n",
    "    # max_budget=200,\n",
    "    limit_train_batches=20,\n",
    "    limit_validation_batches=22,\n",
    "    limit_test_batches=21,\n",
    "    limit_pool_batches=30,\n",
    "    validation_perc=0.4,\n",
    "    validation_interval=1,\n",
    "    validation_sampling=\"stratified\",\n",
    "    query_size=25,\n",
    ")"
   ]
  },
  {
   "cell_type": "code",
   "execution_count": null,
   "metadata": {},
   "outputs": [],
   "source": []
  },
  {
   "cell_type": "code",
   "execution_count": null,
   "metadata": {},
   "outputs": [],
   "source": []
  },
  {
   "cell_type": "code",
   "execution_count": null,
   "metadata": {},
   "outputs": [],
   "source": [
    "active_estimator.progress_tracker.budget_tracker"
   ]
  },
  {
   "cell_type": "code",
   "execution_count": null,
   "metadata": {},
   "outputs": [],
   "source": [
    "active_estimator.progress_tracker.round_tracker"
   ]
  },
  {
   "cell_type": "code",
   "execution_count": null,
   "metadata": {},
   "outputs": [],
   "source": [
    "active_datamodule.data_statistics()"
   ]
  },
  {
   "cell_type": "code",
   "execution_count": null,
   "metadata": {},
   "outputs": [],
   "source": [
    "active_estimator2.replay_active_fit(\n",
    "    active_datamodule,\n",
    "    limit_train_batches=20,\n",
    "    limit_validation_batches=22,\n",
    "    limit_test_batches=21,\n",
    "    limit_pool_batches=30,\n",
    ")"
   ]
  },
  {
   "cell_type": "code",
   "execution_count": null,
   "metadata": {},
   "outputs": [],
   "source": [
    "active_estimator.progress_tracker.budget_tracker"
   ]
  },
  {
   "cell_type": "code",
   "execution_count": null,
   "metadata": {},
   "outputs": [],
   "source": [
    "active_datamodule.query_size"
   ]
  },
  {
   "cell_type": "code",
   "execution_count": null,
   "metadata": {},
   "outputs": [],
   "source": [
    "active_datamodule.train_loader(0).dataset"
   ]
  },
  {
   "cell_type": "code",
   "execution_count": null,
   "metadata": {},
   "outputs": [],
   "source": [
    "df = active_datamodule._df"
   ]
  },
  {
   "cell_type": "code",
   "execution_count": null,
   "metadata": {},
   "outputs": [],
   "source": [
    "df.loc[(df[\"labelling_round\"] < 0) & (df[\"is_labelled\"] == True)].shape"
   ]
  },
  {
   "cell_type": "code",
   "execution_count": null,
   "metadata": {},
   "outputs": [],
   "source": [
    "active_datamodule.has_train_data(0 - 1), active_datamodule.train_size(0 -1) "
   ]
  },
  {
   "cell_type": "code",
   "execution_count": null,
   "metadata": {},
   "outputs": [],
   "source": [
    "df.labelling_round.value_counts()"
   ]
  },
  {
   "cell_type": "code",
   "execution_count": null,
   "metadata": {},
   "outputs": [],
   "source": []
  },
  {
   "cell_type": "code",
   "execution_count": null,
   "metadata": {},
   "outputs": [],
   "source": []
  },
  {
   "cell_type": "code",
   "execution_count": null,
   "metadata": {},
   "outputs": [],
   "source": []
  },
  {
   "cell_type": "code",
   "execution_count": null,
   "metadata": {},
   "outputs": [],
   "source": [
    "active_estimator = UncertaintyBasedStrategyForSequenceClassification(\n",
    "    model=model, score_fn=\"entropy\"\n",
    ")"
   ]
  },
  {
   "cell_type": "code",
   "execution_count": null,
   "metadata": {},
   "outputs": [],
   "source": [
    "active_estimator.active_fit(\n",
    "    active_datamodule,\n",
    "    max_rounds=2,\n",
    "    max_budget=36500,\n",
    "    limit_train_batches=20,\n",
    "    limit_validation_batches=22,\n",
    "    limit_test_batches=21,\n",
    "    limit_pool_batches=30,\n",
    "    # val_perc=0.4,\n",
    "    query_size=25,\n",
    ")"
   ]
  },
  {
   "cell_type": "code",
   "execution_count": null,
   "metadata": {},
   "outputs": [],
   "source": [
    "active_datamodule.data_statistics"
   ]
  },
  {
   "cell_type": "code",
   "execution_count": null,
   "metadata": {},
   "outputs": [],
   "source": []
  },
  {
   "cell_type": "code",
   "execution_count": null,
   "metadata": {},
   "outputs": [],
   "source": []
  },
  {
   "cell_type": "code",
   "execution_count": null,
   "metadata": {},
   "outputs": [],
   "source": [
    "df = (\n",
    "    dataset_dict[\"validation\"]\n",
    "    .to_pandas()\n",
    "    .drop(columns=[\"input_ids\", \"attention_mask\", \"token_type_ids\"])\n",
    "    .assign(labels=lambda df_: df_[\"labels\"].map(datamodule.id2label))\n",
    ")"
   ]
  },
  {
   "cell_type": "code",
   "execution_count": null,
   "metadata": {},
   "outputs": [],
   "source": [
    "df = pd.concat(\n",
    "    [\n",
    "        df,\n",
    "        pd.DataFrame(\n",
    "            data=softmax(validation_out[\"logits\"], axis=-1),\n",
    "            columns=datamodule.id2label.values(),\n",
    "        ),\n",
    "    ],\n",
    "    axis=1,\n",
    ")"
   ]
  },
  {
   "cell_type": "code",
   "execution_count": null,
   "metadata": {},
   "outputs": [],
   "source": [
    "df[\"entropy\"] = entr(df.iloc[:, -4:].values).sum(-1)\n",
    "df[\"pred\"] = df.iloc[:, -4:].values.argmax(-1)\n",
    "df[\"pred\"] = df[\"pred\"].map(datamodule.id2label)"
   ]
  },
  {
   "cell_type": "code",
   "execution_count": null,
   "metadata": {},
   "outputs": [],
   "source": [
    "validation_out[\"metrics\"]"
   ]
  },
  {
   "cell_type": "code",
   "execution_count": null,
   "metadata": {},
   "outputs": [],
   "source": [
    "validation_out[\"unique_id\"]"
   ]
  },
  {
   "cell_type": "code",
   "execution_count": null,
   "metadata": {},
   "outputs": [],
   "source": [
    "df = pd.DataFrame(\n",
    "    data=validation_out[\"logits\"],\n",
    "    columns=list(range(validation_out[\"logits\"].shape[1])),\n",
    ").assign(\n",
    "    pred=lambda df_: df_.values.argmax(-1),\n",
    "    unique_id=validation_out[\"unique_id\"],\n",
    ")"
   ]
  },
  {
   "cell_type": "code",
   "execution_count": null,
   "metadata": {},
   "outputs": [],
   "source": [
    "df = pd.merge(\n",
    "    df, dataset_dict[\"validation\"].to_pandas(), on=\"unique_id\", how=\"inner\"\n",
    ")"
   ]
  },
  {
   "cell_type": "code",
   "execution_count": null,
   "metadata": {},
   "outputs": [],
   "source": [
    "df = df.iloc[:, :-3]"
   ]
  },
  {
   "cell_type": "code",
   "execution_count": null,
   "metadata": {},
   "outputs": [],
   "source": [
    "df = df.assign(\n",
    "    pred=lambda df_: df_[\"pred\"].map(datamodule.id2label),\n",
    "    labels=lambda df_: df_[\"labels\"].map(datamodule.id2label),\n",
    ")"
   ]
  },
  {
   "cell_type": "code",
   "execution_count": null,
   "metadata": {},
   "outputs": [],
   "source": [
    "(df[\"pred\"] == df[\"labels\"]).mean()"
   ]
  },
  {
   "cell_type": "code",
   "execution_count": null,
   "metadata": {},
   "outputs": [],
   "source": [
    "df[\"entropy\"] = entr(softmax(df.iloc[:, :4], axis=-1)).sum(-1)"
   ]
  },
  {
   "cell_type": "code",
   "execution_count": null,
   "metadata": {},
   "outputs": [],
   "source": [
    "df.sort_values(\"entropy\", ascending=False)"
   ]
  },
  {
   "cell_type": "code",
   "execution_count": null,
   "metadata": {},
   "outputs": [],
   "source": []
  }
 ],
 "metadata": {
  "kernelspec": {
   "display_name": "fila",
   "language": "python",
   "name": "python3"
  },
  "language_info": {
   "codemirror_mode": {
    "name": "ipython",
    "version": 3
   },
   "file_extension": ".py",
   "mimetype": "text/x-python",
   "name": "python",
   "nbconvert_exporter": "python",
   "pygments_lexer": "ipython3",
   "version": "3.9.16"
  },
  "orig_nbformat": 4,
  "vscode": {
   "interpreter": {
    "hash": "18f018a05b60842b447663006bc1b1abdc29591bcb5587a187adcd2609d23576"
   }
  }
 },
 "nbformat": 4,
 "nbformat_minor": 2
}
