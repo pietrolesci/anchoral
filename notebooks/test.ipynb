{
 "cells": [
  {
   "cell_type": "code",
   "execution_count": 1,
   "metadata": {},
   "outputs": [],
   "source": [
    "%load_ext autoreload\n",
    "%autoreload 2"
   ]
  },
  {
   "cell_type": "code",
   "execution_count": 2,
   "metadata": {},
   "outputs": [],
   "source": [
    "from pathlib import Path\n",
    "\n",
    "import pandas as pd\n",
    "import seaborn as sns\n",
    "import srsly\n",
    "from datasets import load_from_disk\n",
    "from scipy.special import entr, softmax\n",
    "from transformers import AutoModelForSequenceClassification, AutoTokenizer\n",
    "\n",
    "from src.data import ClassificationActiveDataModule, ClassificationDataModule\n",
    "from src.estimators import (\n",
    "    EstimatorForSequenceClassification,\n",
    "    RandomStrategyForSequenceClassification,\n",
    "    # UncertaintyBasedStrategyForSequenceClassification,\n",
    "    # SEALSRandomStrategyForSequenceClassification,\n",
    ")\n",
    "\n",
    "pd.set_option(\"display.max_colwidth\", None)"
   ]
  },
  {
   "cell_type": "code",
   "execution_count": 3,
   "metadata": {},
   "outputs": [],
   "source": [
    "data_path = Path(\"../data/prepared/agnews_bert_tiny/\")"
   ]
  },
  {
   "cell_type": "code",
   "execution_count": 4,
   "metadata": {},
   "outputs": [],
   "source": [
    "metadata = srsly.read_yaml(data_path / \"metadata.yaml\")\n",
    "tokenizer = AutoTokenizer.from_pretrained(metadata[\"name_or_path\"])"
   ]
  },
  {
   "attachments": {},
   "cell_type": "markdown",
   "metadata": {},
   "source": [
    "---\n",
    "### Train"
   ]
  },
  {
   "cell_type": "code",
   "execution_count": null,
   "metadata": {},
   "outputs": [],
   "source": [
    "dataset_dict = load_from_disk(data_path)\n",
    "train_val = dataset_dict[\"train\"].train_test_split(0.3)\n",
    "dataset_dict[\"train\"] = train_val[\"train\"]\n",
    "dataset_dict[\"validation\"] = train_val[\"test\"]\n",
    "\n",
    "datamodule = ClassificationDataModule.from_dataset_dict(\n",
    "    dataset_dict, tokenizer=tokenizer, batch_size=64, eval_batch_size=256\n",
    ")"
   ]
  },
  {
   "cell_type": "code",
   "execution_count": null,
   "metadata": {},
   "outputs": [],
   "source": [
    "model = AutoModelForSequenceClassification.from_pretrained(\n",
    "    metadata[\"name_or_path\"],\n",
    "    id2label=datamodule.id2label,\n",
    "    label2id=datamodule.label2id,\n",
    "    num_labels=len(datamodule.labels),\n",
    ")"
   ]
  },
  {
   "cell_type": "code",
   "execution_count": null,
   "metadata": {},
   "outputs": [],
   "source": [
    "estimator = EstimatorForSequenceClassification(model, accelerator=\"cuda\")"
   ]
  },
  {
   "cell_type": "code",
   "execution_count": null,
   "metadata": {},
   "outputs": [],
   "source": [
    "out = estimator.fit(\n",
    "    train_loader=datamodule.train_loader(),\n",
    "    validation_loader=datamodule.validation_loader(),\n",
    "    limit_train_batches=10,\n",
    "    limit_validation_batches=30,\n",
    "    validation_interval=1,\n",
    ")"
   ]
  },
  {
   "cell_type": "code",
   "execution_count": null,
   "metadata": {},
   "outputs": [],
   "source": [
    "test_out = estimator.test(\n",
    "    datamodule.test_loader(),\n",
    "    limit_batches=11,\n",
    "    # progress_bar=False,\n",
    ")"
   ]
  },
  {
   "attachments": {},
   "cell_type": "markdown",
   "metadata": {},
   "source": [
    "---\n",
    "### Active train"
   ]
  },
  {
   "cell_type": "code",
   "execution_count": 5,
   "metadata": {},
   "outputs": [
    {
     "data": {
      "text/plain": [
       "DatasetDict({\n",
       "    train: Dataset({\n",
       "        features: ['unique_id', 'labels', 'text', 'input_ids', 'token_type_ids', 'attention_mask'],\n",
       "        num_rows: 120000\n",
       "    })\n",
       "    test: Dataset({\n",
       "        features: ['unique_id', 'labels', 'text', 'input_ids', 'token_type_ids', 'attention_mask'],\n",
       "        num_rows: 7600\n",
       "    })\n",
       "})"
      ]
     },
     "execution_count": 5,
     "metadata": {},
     "output_type": "execute_result"
    }
   ],
   "source": [
    "dataset_dict = load_from_disk(data_path)\n",
    "datamodule = ClassificationDataModule.from_dataset_dict(\n",
    "    dataset_dict, tokenizer=tokenizer, batch_size=64, eval_batch_size=256\n",
    ")\n",
    "dataset_dict"
   ]
  },
  {
   "cell_type": "code",
   "execution_count": 6,
   "metadata": {},
   "outputs": [],
   "source": [
    "active_datamodule = ClassificationActiveDataModule.from_dataset_dict(\n",
    "    dataset_dict, tokenizer\n",
    ")"
   ]
  },
  {
   "cell_type": "code",
   "execution_count": 7,
   "metadata": {},
   "outputs": [
    {
     "name": "stderr",
     "output_type": "stream",
     "text": [
      "Some weights of the model checkpoint at google/bert_uncased_L-2_H-128_A-2 were not used when initializing BertForSequenceClassification: ['cls.predictions.bias', 'cls.predictions.transform.LayerNorm.bias', 'cls.predictions.decoder.bias', 'cls.predictions.decoder.weight', 'cls.seq_relationship.weight', 'cls.seq_relationship.bias', 'cls.predictions.transform.dense.bias', 'cls.predictions.transform.LayerNorm.weight', 'cls.predictions.transform.dense.weight']\n",
      "- This IS expected if you are initializing BertForSequenceClassification from the checkpoint of a model trained on another task or with another architecture (e.g. initializing a BertForSequenceClassification model from a BertForPreTraining model).\n",
      "- This IS NOT expected if you are initializing BertForSequenceClassification from the checkpoint of a model that you expect to be exactly identical (initializing a BertForSequenceClassification model from a BertForSequenceClassification model).\n",
      "Some weights of BertForSequenceClassification were not initialized from the model checkpoint at google/bert_uncased_L-2_H-128_A-2 and are newly initialized: ['classifier.weight', 'classifier.bias']\n",
      "You should probably TRAIN this model on a down-stream task to be able to use it for predictions and inference.\n"
     ]
    }
   ],
   "source": [
    "model = AutoModelForSequenceClassification.from_pretrained(\n",
    "    metadata[\"name_or_path\"],\n",
    "    id2label=active_datamodule.id2label,\n",
    "    label2id=active_datamodule.label2id,\n",
    "    num_labels=len(active_datamodule.labels),\n",
    ")"
   ]
  },
  {
   "cell_type": "code",
   "execution_count": 8,
   "metadata": {},
   "outputs": [
    {
     "data": {
      "text/plain": [
       "{'train_size': 0,\n",
       " 'validation_size': 0,\n",
       " 'test_size': 7600,\n",
       " 'pool_size': 120000,\n",
       " 'total_labelled_size': 0}"
      ]
     },
     "execution_count": 8,
     "metadata": {},
     "output_type": "execute_result"
    }
   ],
   "source": [
    "active_datamodule.data_statistics"
   ]
  },
  {
   "cell_type": "code",
   "execution_count": 9,
   "metadata": {},
   "outputs": [],
   "source": [
    "# active_datamodule.load_index(\n",
    "#     metadata[\"hnsw_index_path\"],\n",
    "#     embedding_dim=metadata[\"embedding_dim\"],\n",
    "# )\n",
    "# active_datamodule.index"
   ]
  },
  {
   "cell_type": "code",
   "execution_count": 10,
   "metadata": {},
   "outputs": [
    {
     "data": {
      "text/plain": [
       "EpochTracker(max=None, total=0, current=0, progress_bar=None)"
      ]
     },
     "execution_count": 10,
     "metadata": {},
     "output_type": "execute_result"
    }
   ],
   "source": [
    "RandomStrategyForSequenceClassification(model=model, seed=42).progress_tracker.epoch_tracker"
   ]
  },
  {
   "cell_type": "code",
   "execution_count": 11,
   "metadata": {},
   "outputs": [],
   "source": [
    "active_estimator = RandomStrategyForSequenceClassification(model=model, seed=42)"
   ]
  },
  {
   "cell_type": "code",
   "execution_count": 12,
   "metadata": {},
   "outputs": [
    {
     "data": {
      "text/plain": [
       "EpochTracker(max=None, total=0, current=0, progress_bar=None)"
      ]
     },
     "execution_count": 12,
     "metadata": {},
     "output_type": "execute_result"
    }
   ],
   "source": [
    "active_estimator.progress_tracker.epoch_tracker"
   ]
  },
  {
   "cell_type": "code",
   "execution_count": 37,
   "metadata": {},
   "outputs": [
    {
     "data": {
      "application/vnd.jupyter.widget-view+json": {
       "model_id": "7e092fcaec2a40c1a97840d8fbc1637d",
       "version_major": 2,
       "version_minor": 0
      },
      "text/plain": [
       "Completed rounds:   0%|          | 0/2 [00:00<?, ?it/s]"
      ]
     },
     "metadata": {},
     "output_type": "display_data"
    },
    {
     "data": {
      "application/vnd.jupyter.widget-view+json": {
       "model_id": "3069237e3b3047c3851adce141b34a90",
       "version_major": 2,
       "version_minor": 0
      },
      "text/plain": [
       "Completed epochs:   0%|          | 0/3 [00:00<?, ?it/s]"
      ]
     },
     "metadata": {},
     "output_type": "display_data"
    },
    {
     "data": {
      "application/vnd.jupyter.widget-view+json": {
       "model_id": "d5dea186df7841b1855934c55ea2b422",
       "version_major": 2,
       "version_minor": 0
      },
      "text/plain": [
       "Epoch 267:   0%|          | 0/9 [00:00<?, ?it/s]"
      ]
     },
     "metadata": {},
     "output_type": "display_data"
    },
    {
     "data": {
      "application/vnd.jupyter.widget-view+json": {
       "model_id": "45313b71efe14c6894ac6d5726206f43",
       "version_major": 2,
       "version_minor": 0
      },
      "text/plain": [
       "Validation:   0%|          | 0/6 [00:00<?, ?it/s]"
      ]
     },
     "metadata": {},
     "output_type": "display_data"
    },
    {
     "data": {
      "application/vnd.jupyter.widget-view+json": {
       "model_id": "d0527b26ac764b1b99fb79cf6909d874",
       "version_major": 2,
       "version_minor": 0
      },
      "text/plain": [
       "Test:   0%|          | 0/21 [00:00<?, ?it/s]"
      ]
     },
     "metadata": {},
     "output_type": "display_data"
    },
    {
     "data": {
      "text/plain": [
       "{'hparams/test_accuracy': 0.711309552192688,\n",
       " 'hparams/test_f1_macro': 0.7048815488815308,\n",
       " 'hparams/test_f1_micro': 0.711309552192688,\n",
       " 'hparams/test_precision_macro': 0.700232207775116,\n",
       " 'hparams/test_precision_micro': 0.711309552192688,\n",
       " 'hparams/test_recall_macro': 0.7161346673965454,\n",
       " 'hparams/test_recall_micro': 0.711309552192688,\n",
       " 'hparams/test_accuracy_auc': 0.7209822,\n",
       " 'hparams/test_f1_macro_auc': 0.7048067,\n",
       " 'hparams/test_f1_micro_auc': 0.7209822,\n",
       " 'hparams/test_precision_macro_auc': 0.71064305,\n",
       " 'hparams/test_precision_micro_auc': 0.7209822,\n",
       " 'hparams/test_recall_macro_auc': 0.71472865,\n",
       " 'hparams/test_recall_micro_auc': 0.7209822}"
      ]
     },
     "execution_count": 37,
     "metadata": {},
     "output_type": "execute_result"
    }
   ],
   "source": [
    "active_estimator.active_fit(\n",
    "    active_datamodule,\n",
    "    max_rounds=2,\n",
    "    # max_budget=200,\n",
    "    limit_train_batches=20,\n",
    "    limit_validation_batches=22,\n",
    "    limit_test_batches=21,\n",
    "    limit_pool_batches=30,\n",
    "    validation_perc=0.4,\n",
    "    validation_interval=1,\n",
    "    query_size=25,\n",
    ")"
   ]
  },
  {
   "cell_type": "code",
   "execution_count": 26,
   "metadata": {},
   "outputs": [
    {
     "data": {
      "text/plain": [
       "BudgetTracker(max=119850, total=200, current=200, progress_bar=None, query_size=25)"
      ]
     },
     "execution_count": 26,
     "metadata": {},
     "output_type": "execute_result"
    }
   ],
   "source": [
    "active_estimator.progress_tracker.budget_tracker"
   ]
  },
  {
   "cell_type": "code",
   "execution_count": 24,
   "metadata": {},
   "outputs": [
    {
     "data": {
      "text/plain": [
       "{'train_size': 90,\n",
       " 'validation_size': 60,\n",
       " 'test_size': 7600,\n",
       " 'pool_size': 119850,\n",
       " 'total_labelled_size': 150}"
      ]
     },
     "execution_count": 24,
     "metadata": {},
     "output_type": "execute_result"
    }
   ],
   "source": [
    "active_datamodule.data_statistics"
   ]
  },
  {
   "cell_type": "code",
   "execution_count": null,
   "metadata": {},
   "outputs": [],
   "source": [
    "active_estimator = UncertaintyBasedStrategyForSequenceClassification(\n",
    "    model=model, score_fn=\"entropy\"\n",
    ")"
   ]
  },
  {
   "cell_type": "code",
   "execution_count": null,
   "metadata": {},
   "outputs": [],
   "source": [
    "active_estimator.active_fit(\n",
    "    active_datamodule,\n",
    "    max_rounds=2,\n",
    "    max_budget=36500,\n",
    "    limit_train_batches=20,\n",
    "    limit_validation_batches=22,\n",
    "    limit_test_batches=21,\n",
    "    limit_pool_batches=30,\n",
    "    # val_perc=0.4,\n",
    "    query_size=25,\n",
    ")"
   ]
  },
  {
   "cell_type": "code",
   "execution_count": null,
   "metadata": {},
   "outputs": [],
   "source": [
    "active_datamodule.data_statistics"
   ]
  },
  {
   "cell_type": "code",
   "execution_count": null,
   "metadata": {},
   "outputs": [],
   "source": []
  },
  {
   "cell_type": "code",
   "execution_count": null,
   "metadata": {},
   "outputs": [],
   "source": []
  },
  {
   "cell_type": "code",
   "execution_count": null,
   "metadata": {},
   "outputs": [],
   "source": [
    "df = (\n",
    "    dataset_dict[\"validation\"]\n",
    "    .to_pandas()\n",
    "    .drop(columns=[\"input_ids\", \"attention_mask\", \"token_type_ids\"])\n",
    "    .assign(labels=lambda df_: df_[\"labels\"].map(datamodule.id2label))\n",
    ")"
   ]
  },
  {
   "cell_type": "code",
   "execution_count": null,
   "metadata": {},
   "outputs": [],
   "source": [
    "df = pd.concat(\n",
    "    [\n",
    "        df,\n",
    "        pd.DataFrame(\n",
    "            data=softmax(validation_out[\"logits\"], axis=-1),\n",
    "            columns=datamodule.id2label.values(),\n",
    "        ),\n",
    "    ],\n",
    "    axis=1,\n",
    ")"
   ]
  },
  {
   "cell_type": "code",
   "execution_count": null,
   "metadata": {},
   "outputs": [],
   "source": [
    "df[\"entropy\"] = entr(df.iloc[:, -4:].values).sum(-1)\n",
    "df[\"pred\"] = df.iloc[:, -4:].values.argmax(-1)\n",
    "df[\"pred\"] = df[\"pred\"].map(datamodule.id2label)"
   ]
  },
  {
   "cell_type": "code",
   "execution_count": null,
   "metadata": {},
   "outputs": [],
   "source": [
    "validation_out[\"metrics\"]"
   ]
  },
  {
   "cell_type": "code",
   "execution_count": null,
   "metadata": {},
   "outputs": [],
   "source": [
    "validation_out[\"unique_id\"]"
   ]
  },
  {
   "cell_type": "code",
   "execution_count": null,
   "metadata": {},
   "outputs": [],
   "source": [
    "df = pd.DataFrame(\n",
    "    data=validation_out[\"logits\"],\n",
    "    columns=list(range(validation_out[\"logits\"].shape[1])),\n",
    ").assign(\n",
    "    pred=lambda df_: df_.values.argmax(-1),\n",
    "    unique_id=validation_out[\"unique_id\"],\n",
    ")"
   ]
  },
  {
   "cell_type": "code",
   "execution_count": null,
   "metadata": {},
   "outputs": [],
   "source": [
    "df = pd.merge(\n",
    "    df, dataset_dict[\"validation\"].to_pandas(), on=\"unique_id\", how=\"inner\"\n",
    ")"
   ]
  },
  {
   "cell_type": "code",
   "execution_count": null,
   "metadata": {},
   "outputs": [],
   "source": [
    "df = df.iloc[:, :-3]"
   ]
  },
  {
   "cell_type": "code",
   "execution_count": null,
   "metadata": {},
   "outputs": [],
   "source": [
    "df = df.assign(\n",
    "    pred=lambda df_: df_[\"pred\"].map(datamodule.id2label),\n",
    "    labels=lambda df_: df_[\"labels\"].map(datamodule.id2label),\n",
    ")"
   ]
  },
  {
   "cell_type": "code",
   "execution_count": null,
   "metadata": {},
   "outputs": [],
   "source": [
    "(df[\"pred\"] == df[\"labels\"]).mean()"
   ]
  },
  {
   "cell_type": "code",
   "execution_count": null,
   "metadata": {},
   "outputs": [],
   "source": [
    "df[\"entropy\"] = entr(softmax(df.iloc[:, :4], axis=-1)).sum(-1)"
   ]
  },
  {
   "cell_type": "code",
   "execution_count": null,
   "metadata": {},
   "outputs": [],
   "source": [
    "df.sort_values(\"entropy\", ascending=False)"
   ]
  },
  {
   "cell_type": "code",
   "execution_count": null,
   "metadata": {},
   "outputs": [],
   "source": []
  }
 ],
 "metadata": {
  "kernelspec": {
   "display_name": "fila",
   "language": "python",
   "name": "python3"
  },
  "language_info": {
   "codemirror_mode": {
    "name": "ipython",
    "version": 3
   },
   "file_extension": ".py",
   "mimetype": "text/x-python",
   "name": "python",
   "nbconvert_exporter": "python",
   "pygments_lexer": "ipython3",
   "version": "3.9.16"
  },
  "orig_nbformat": 4,
  "vscode": {
   "interpreter": {
    "hash": "18f018a05b60842b447663006bc1b1abdc29591bcb5587a187adcd2609d23576"
   }
  }
 },
 "nbformat": 4,
 "nbformat_minor": 2
}
